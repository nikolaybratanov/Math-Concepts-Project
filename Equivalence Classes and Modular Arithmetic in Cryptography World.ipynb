{
 "cells": [
  {
   "cell_type": "code",
   "execution_count": 1,
   "id": "6a30df93-adda-46d1-8ece-5945be6ac1c3",
   "metadata": {},
   "outputs": [],
   "source": [
    "%matplotlib inline"
   ]
  },
  {
   "cell_type": "code",
   "execution_count": 2,
   "id": "04ad4f66-dd79-42ab-8065-b7a2e04c2361",
   "metadata": {},
   "outputs": [],
   "source": [
    "import numpy as np\n",
    "import matplotlib.pyplot as plt\n",
    "import time\n",
    "import random\n",
    "from IPython.display import Image\n",
    "import math\n",
    "import rsa"
   ]
  },
  {
   "cell_type": "markdown",
   "id": "bc8da82b-321c-4b1e-ae81-e3259078a6e5",
   "metadata": {},
   "source": [
    " # <center>Equivalence Classes and Modular Arithmetic in the Cryptography World</center>\n",
    "## <center> How does it work and is it secure?</center>"
   ]
  },
  {
   "cell_type": "markdown",
   "id": "9a18b187-4d8a-429f-afc3-b5b6a26465fa",
   "metadata": {},
   "source": [
    "#### **Content**<br>\n",
    "\n",
    "I. Equivalence Classes<br>\n",
    "1. What are equivalence classes<br>\n",
    "2. What properties do the equivalence classes have?<br>\n",
    "2.1 Reflexivity<br>\n",
    "2.1.1 Reflexivity with a function for a specified number a<br>\n",
    "2.1.2 Reflexivity without a function for a random number a<br>\n",
    "2.2 Symmetry<br>\n",
    "2.2.1 Symmetry with a function for a specified number a<br>\n",
    "2.2.2 Symmetry without a function for a random number a<br>\n",
    "2.3 Transitivity<br>\n",
    "2.3.1 Transitivity with a function for a specified number a<br>\n",
    "2.3.2 Transitivity without a function for a random number a<br>\n",
    "\n",
    "II. Modular Arithmetic<br>\n",
    "1. Properties of modular arithmetic<br>\n",
    "1.1 Congruence<br>\n",
    "1.2 Addition<br>\n",
    "1.2.1. Addition property #1<br>\n",
    "1.2.2 Addition property #2<br>\n",
    "1.2.3 Addition property #3<br>\n",
    "1.2.3 Addition property #3<br>\n",
    "1.3 Multiplication<br>\n",
    "1.3.1 Multiplication property #1<br>\n",
    "1.3.2 Multiplication property #2<br>\n",
    "1.3.3 Multiplication property #3<br>\n",
    "1.4 Exponentiation<br>\n",
    "1.4.1 Exponentiation property #1<br>\n",
    "2. Usecase in cryptography<br>\n",
    "2.1. Caesar Cipher<br>\n",
    "2.2. RSA algorithm<br>\n",
    "2.3. Diffie-Hellman algorithm<br>\n",
    "3. RSA Algorithm<br>\n",
    "3.1 RSA Algorithm - Step by Step Recreation<br>\n",
    "3.2 Hack the RSA Algorithm<br>\n",
    "3.2.1 Step by step recreation (eavesdropping side)<br>\n",
    "3.2.2 Function recreation<br>\n",
    "3.2.3 Testing<br>\n",
    "3.2.4 Function optimization<br>\n",
    "3.2.5 Testing 2.0 and Result Visualization<br>\n",
    "4. Dilfie Hellman Method<br>\n",
    "4.1 Diffie Hellman Method - Step by Step Recreation<br>\n",
    "4.2 Hack the Diffie Hellman Method<br>\n",
    "4.2.1 Step by step recreation (eavesdropping side)<br>\n",
    "4.2.2 Function recreation<br>\n",
    "4.2.3 Testing<br>\n",
    "4.2.4 Function optimization<br>\n",
    "4.2.5 Testing 2.0<br>\n",
    "4.2.6 Result Visualization<br>\n",
    "5. Comparison and Conclusion<br>\n",
    "6. Bonus: Case study<br>\n",
    "6.1 Caesar Cipher<br>\n",
    "6.2 RSA Algorithm"
   ]
  },
  {
   "cell_type": "markdown",
   "id": "d8b45d79-34c0-4206-83f3-5861b9c2f2f6",
   "metadata": {},
   "source": [
    "#### **Introduction:**\n",
    "\n",
    "Mathematics is a fundamental part of our lives and vital for the moden world including science, technology and engineering, all of which see a rapid development in the last 2 decades. Especially the technology which changed the completely the way we shop, read, eat, sleep, party and even the way we spend our time every day. Well nothing of this would be possible if we did not have the important role of Mathematics as a base. The developers managed to develop modern websites, so that we can shop and pay online. Furthermore, the access to an information has never been easier. We can find in couple of minutes the answer in Google, Youtube or somewhere else in the internet. Well, this booming development of the technology had also some risks with it. With the increase of the internet usage, we had to share our private information, which of course must be good protected.<br>\n",
    "\n",
    "In this project I will research and show how some Math concepts are the base of the modern cybersecurity. First I will take a look into the equivalence classes theory which is the base of the modular arithmetic, which will be our second topic. After we get enough knowledge and theory for these 2 concepts, I will introduce 3 cryptographic algorithms that are based on the modular arithmetic and will explain all of them, after which I will try to hack them so that I can prove how secure are they.<br>\n",
    "\n",
    "In the end, I will check a case study so that we can use some of the introduced algorithms in the praxis.\n"
   ]
  },
  {
   "cell_type": "markdown",
   "id": "2bda2daa-2042-4309-b861-77f681a2f3f4",
   "metadata": {},
   "source": [
    "## I. Equivalence Classes"
   ]
  },
  {
   "cell_type": "markdown",
   "id": "173e4dcd-55be-41df-b7d6-e908a72bcbef",
   "metadata": {},
   "source": [
    "#### 1. What are equivalence classes?"
   ]
  },
  {
   "cell_type": "markdown",
   "id": "b88d19fe-8d4d-4953-9e65-b7c687007a34",
   "metadata": {},
   "source": [
    "**General definition:**<br>\n",
    "Well, let's start with the definitian of what is an equivalence class. According to [Wikipedia](https://en.wikipedia.org/wiki/Equivalence_class): *\"In mathematics, when the elements of some set S have a notion of equivalence (formalized as an equivalence relation), then one may naturally split the set S into equivalence classes. These equivalence classes are constructed so that elements a and b belong to the same equivalence class if, and only if, they are equivalent.\"*<br>\n",
    "$$\\{ x \\in S: x\\sim a \\}$$\n",
    "\n",
    "**Revised definition for the purpose of this project:**<br>\n",
    "For the purpose of this project, I will revise the general definition and will simplify it to: *\"A subset of integers all of which have the same remainder when divided by n.\"*<br>\n",
    "\n",
    "Now let's see some examples:"
   ]
  },
  {
   "cell_type": "code",
   "execution_count": 3,
   "id": "f88148c8-7fec-4b99-b2a0-1b2b16aa5cfa",
   "metadata": {},
   "outputs": [],
   "source": [
    "# 1. I will create a function for generating a random integer list:\n",
    "\n",
    "def random_integer_list(n, x_min, x_max):\n",
    "    random_list = []\n",
    "    for i in range (0,n):\n",
    "        n = random.randint(x_min,x_max)\n",
    "        random_list.append(n)\n",
    "    return random_list"
   ]
  },
  {
   "cell_type": "code",
   "execution_count": 4,
   "id": "4f8b076e-bbfc-4e42-aa5d-f5c916f57a63",
   "metadata": {},
   "outputs": [
    {
     "data": {
      "text/plain": [
       "[217, 167, 424, 34, 961, 59, 304, 726, 67, 496, 857, 23, 453, 14, 730]"
      ]
     },
     "execution_count": 4,
     "metadata": {},
     "output_type": "execute_result"
    }
   ],
   "source": [
    "# 2. Testing the function:\n",
    "\n",
    "random_numbers = random_integer_list(15, 0, 1000)\n",
    "random_numbers"
   ]
  },
  {
   "cell_type": "code",
   "execution_count": 5,
   "id": "9dfe2fde-0990-4cb3-94a3-514635ec5944",
   "metadata": {},
   "outputs": [],
   "source": [
    "# 3. Now I want to create a function which will sort the numbers to the specified equivalence classes (equivalence class 1 should have all the integers that have remainder 1 when divided by the modulo):\n",
    "\n",
    "def sorting_to_equivalence_classes (modulo, numbers, equivalence_class):\n",
    "    equivalence_class_list = []\n",
    "    for i in numbers:\n",
    "        if i%modulo == equivalence_class:\n",
    "            equivalence_class_list.append(i)\n",
    "        else:\n",
    "            pass   \n",
    "    return equivalence_class_list"
   ]
  },
  {
   "cell_type": "code",
   "execution_count": 6,
   "id": "02bb3e72-fbfd-4131-bb48-c5f13d90026c",
   "metadata": {},
   "outputs": [
    {
     "name": "stdout",
     "output_type": "stream",
     "text": [
      "[424, 34, 304, 726, 496, 14, 730]\n",
      "[217, 167, 67, 857]\n",
      "[]\n",
      "[453]\n",
      "[]\n"
     ]
    }
   ],
   "source": [
    "# 4. Now let's test this function also:\n",
    "\n",
    "print(sorting_to_equivalence_classes(2, random_numbers, 0))\n",
    "print(sorting_to_equivalence_classes(5, random_numbers, 2))\n",
    "print(sorting_to_equivalence_classes(7, random_numbers, 1))\n",
    "print(sorting_to_equivalence_classes(9, random_numbers, 3))\n",
    "print(sorting_to_equivalence_classes(2, random_numbers, 2)) #Negative test"
   ]
  },
  {
   "cell_type": "markdown",
   "id": "7e1dce5a-0473-4dcc-95de-5f3b694d5736",
   "metadata": {},
   "source": [
    "Well, it looks that the two functions work well. Now I want to go deeper and check what properties do the equivalence classes have and how do they work."
   ]
  },
  {
   "cell_type": "markdown",
   "id": "07995b1c-a70f-4b5d-93ce-c7d7719fa5b7",
   "metadata": {},
   "source": [
    "#### 2. What Properties do the equivalence classes have?"
   ]
  },
  {
   "cell_type": "markdown",
   "id": "73d7d63a-cd61-4a4f-89d0-66efb512fee6",
   "metadata": {},
   "source": [
    "According to the theory, the equivalence classes have 3 important properties:\n",
    "- **reflexivity**: Any a in X must always be equivalent to itself:\n",
    "$$ a \\sim a \\vert \\forall  a\\in X$$\n",
    "- **symmetry**: Suppose a, b are in X. Then, if a is equivalent to b, b will also be equivalent to a. \n",
    "$$ a \\sim b  \\Rightarrow  b\\sim a \\vert \\forall a,b \\in X$$\n",
    "- **transitivity**: Suppose a, b, and c be elements of X. Then, if a is equivalent to b, and b is equivalent to c, a will also be equivalent to c. \n",
    "$$ a \\sim b \\land b \\sim c \\Rightarrow  c\\sim a \\vert \\forall a,b,c \\in X$$\n",
    "\n",
    "Source: [StatisticsHowTo](https://www.statisticshowto.com/equivalence-class/#:~:text=An%20equivalence%20class%20is%20the,%2C%20they're%20called%20equivalent.)"
   ]
  },
  {
   "cell_type": "markdown",
   "id": "e6a1bd55-1abd-4edc-b2e9-7db8f70e16f7",
   "metadata": {},
   "source": [
    "After we defined the properties of the equivalent classes, I would want to prove them with real examples. I want to do the proof in 2 ways. The first one would be to create a function which accepts parameters and returns whether 2 numbers are e.g symmetric. Second, I would like to write a code that checks the propoerties for random generated numbers. I will follow this struture for all three properties, so lets see."
   ]
  },
  {
   "cell_type": "markdown",
   "id": "5ffcd000-f548-4854-aaa0-abea0fbd4def",
   "metadata": {},
   "source": [
    "##### 2.1 Reflexivity"
   ]
  },
  {
   "cell_type": "code",
   "execution_count": 7,
   "id": "c3b0ce2f-2a01-4137-a1fe-3b874b01c283",
   "metadata": {},
   "outputs": [],
   "source": [
    "# Function for generating a random number:\n",
    "def random_number(x_min,x_max):\n",
    "    a = random.randint(x_min,x_max)\n",
    "    return a"
   ]
  },
  {
   "cell_type": "markdown",
   "id": "bf018926-ad35-4f1a-b6c4-1ad614abd474",
   "metadata": {},
   "source": [
    "##### 2.1.1 Reflexivity with a function for a specified number a:"
   ]
  },
  {
   "cell_type": "code",
   "execution_count": 8,
   "id": "3e839ae4-3b48-479f-9d12-999f08c4b40a",
   "metadata": {},
   "outputs": [],
   "source": [
    "def is_reflexiv (modulo, a):\n",
    "    \n",
    "    equivalence_class = a%modulo\n",
    "    \n",
    "    if equivalence_class == a%modulo:\n",
    "        print(f\"Yes, a (in this example = {a}) is reflexiv.\")\n",
    "    else:\n",
    "        print(f\"No, a (in this example = {a}) is not reflexiv.\")"
   ]
  },
  {
   "cell_type": "code",
   "execution_count": 9,
   "id": "678d6b97-5575-485f-9bf1-1e3d72227534",
   "metadata": {},
   "outputs": [
    {
     "name": "stdout",
     "output_type": "stream",
     "text": [
      "Yes, a (in this example = 8) is reflexiv.\n"
     ]
    }
   ],
   "source": [
    "is_reflexiv(3, 8)"
   ]
  },
  {
   "cell_type": "markdown",
   "id": "80010bc5-fa73-4bc5-ba4b-fb67425c01e5",
   "metadata": {},
   "source": [
    "##### 2.1.2 Reflexivity without a function for a random number a:"
   ]
  },
  {
   "cell_type": "code",
   "execution_count": 10,
   "id": "6b26d50c-32d7-4ab5-9ece-2c3113a5606b",
   "metadata": {},
   "outputs": [
    {
     "name": "stdout",
     "output_type": "stream",
     "text": [
      "The random number is 855\n"
     ]
    },
    {
     "name": "stdin",
     "output_type": "stream",
     "text": [
      "Please enter a desired modulo: 3\n"
     ]
    },
    {
     "name": "stdout",
     "output_type": "stream",
     "text": [
      "The equivalence class of 855 with modulo 3 is 0\n"
     ]
    }
   ],
   "source": [
    "# First, I will get a random integer (in the range of 0-1000) and check his equivalence class with a specified modulo.\n",
    "\n",
    "a_reflexivity = random_number(0, 1000)\n",
    "print(f\"The random number is {a_reflexivity}\")\n",
    "modulo_reflexivity = int(input(\"Please enter a desired modulo:\"))\n",
    "\n",
    "equivalence_class_reflexivity = a_reflexivity%modulo_reflexivity\n",
    "print(f\"The equivalence class of {a_reflexivity} with modulo {modulo_reflexivity} is {equivalence_class_reflexivity}\")\n"
   ]
  },
  {
   "cell_type": "code",
   "execution_count": 11,
   "id": "da369b5f-4a09-4c04-a2d3-570c8976a1ed",
   "metadata": {},
   "outputs": [
    {
     "name": "stdout",
     "output_type": "stream",
     "text": [
      "Yes, a (in this example = 855) is reflexiv.\n"
     ]
    }
   ],
   "source": [
    "# Now I want to check that a is equivalent to itself. It should be the sam equivalence class:\n",
    "\n",
    "equivalence_class_rexlexivity_check = a_reflexivity%modulo_reflexivity\n",
    "\n",
    "if equivalence_class_rexlexivity_check == equivalence_class_reflexivity:\n",
    "    print(f\"Yes, a (in this example = {a_reflexivity}) is reflexiv.\")\n",
    "else:\n",
    "    print(f\"No, a (in this example = {a_reflexivity}) is not reflexiv.\")"
   ]
  },
  {
   "cell_type": "markdown",
   "id": "dd033212-1a86-4431-8bd6-30e15d7fff10",
   "metadata": {},
   "source": [
    "Well, it looks a little bit strange, but it has been proved that a is equivalent to itself and belongs to the same equivalence class."
   ]
  },
  {
   "cell_type": "markdown",
   "id": "38c486d8-0888-4863-a7cd-04a646fe5ad8",
   "metadata": {},
   "source": [
    "##### 2.2 Symmetry"
   ]
  },
  {
   "cell_type": "markdown",
   "id": "7358c2f3-b8cd-49ae-9a90-d9acced7db26",
   "metadata": {},
   "source": [
    "##### 2.2.1 Symmetry with a function for a specified number a:"
   ]
  },
  {
   "cell_type": "code",
   "execution_count": 12,
   "id": "8aa63770-00f5-46e5-a030-48f8ac470cb2",
   "metadata": {},
   "outputs": [],
   "source": [
    "def is_symmetric(x_min, x_max, modulo, a, b):\n",
    "    equivalence_class_a = a%modulo\n",
    "    equivalence_class_b = b%modulo\n",
    "    equivalence_class_b_check = b%modulo\n",
    "    equivalence_class_a_check = a%modulo\n",
    "    \n",
    "    if equivalence_class_a == equivalence_class_b and equivalence_class_b_check == equivalence_class_a_check:\n",
    "        print(f\"Yes, a ({a}) is equivalent to b ({b}), because they belong to the same equivalence class ({equivalence_class_b_check}) with modulo ({modulo}). This means that a and b are symmetric.\")\n",
    "    else:\n",
    "        print(f\"No, a ({a}) and b ({b}) are not equivalent, because they do not belong to the same equivalence class with modulo ({modulo}).\")\n"
   ]
  },
  {
   "cell_type": "markdown",
   "id": "e316756c-5880-4f8b-9605-bfab758dffb6",
   "metadata": {},
   "source": [
    "Ok, now lets check whether our function works with 2 examples. I will give the first example parameters, which should return a positive result and then I will test in the second example with parameters that should return a negative result:"
   ]
  },
  {
   "cell_type": "code",
   "execution_count": 13,
   "id": "570300f1-4c13-42e3-a4aa-638183659d26",
   "metadata": {},
   "outputs": [
    {
     "name": "stdout",
     "output_type": "stream",
     "text": [
      "Yes, a (8) is equivalent to b (11), because they belong to the same equivalence class (2) with modulo (3). This means that a and b are symmetric.\n",
      "No, a (8) and b (12) are not equivalent, because they do not belong to the same equivalence class with modulo (3).\n"
     ]
    }
   ],
   "source": [
    "is_symmetric(0, 1000, 3, 8, 11)\n",
    "is_symmetric(0, 1000, 3, 8, 12)"
   ]
  },
  {
   "cell_type": "markdown",
   "id": "6791e397-839d-4d00-a988-4260ecb7d379",
   "metadata": {},
   "source": [
    "Ok, looks good. Now I will try to do this for a random number:"
   ]
  },
  {
   "cell_type": "code",
   "execution_count": 14,
   "id": "d23de76f-5516-4bb5-a0e3-714d60ad8ef6",
   "metadata": {},
   "outputs": [
    {
     "name": "stdout",
     "output_type": "stream",
     "text": [
      "The random number a is 204 and the random number b is 715\n"
     ]
    },
    {
     "name": "stdin",
     "output_type": "stream",
     "text": [
      "Please enter a desired modulo: 11\n"
     ]
    },
    {
     "name": "stdout",
     "output_type": "stream",
     "text": [
      "The equivalence class of 204 with modulo 11 is 6\n",
      "The equivalence class of 715 with modulo 11 is 0\n",
      "No, a (204) and b (715) are not equivalent, because they do not belong to the same equivalence class with modulo (11). Try again\n",
      "No, a (204) and b (715) are not equivalent, because they do not belong to the same equivalence class with modulo (11).\n",
      "The random number a is 693 and the random number b is 774\n"
     ]
    },
    {
     "name": "stdin",
     "output_type": "stream",
     "text": [
      "Please enter a desired modulo: 11\n"
     ]
    },
    {
     "name": "stdout",
     "output_type": "stream",
     "text": [
      "The equivalence class of 693 with modulo 11 is 0\n",
      "The equivalence class of 774 with modulo 11 is 4\n",
      "No, a (693) and b (774) are not equivalent, because they do not belong to the same equivalence class with modulo (11). Try again\n",
      "No, a (693) and b (774) are not equivalent, because they do not belong to the same equivalence class with modulo (11).\n",
      "The random number a is 894 and the random number b is 507\n"
     ]
    },
    {
     "name": "stdin",
     "output_type": "stream",
     "text": [
      "Please enter a desired modulo: 7\n"
     ]
    },
    {
     "name": "stdout",
     "output_type": "stream",
     "text": [
      "The equivalence class of 894 with modulo 7 is 5\n",
      "The equivalence class of 507 with modulo 7 is 3\n",
      "No, a (894) and b (507) are not equivalent, because they do not belong to the same equivalence class with modulo (7). Try again\n",
      "No, a (894) and b (507) are not equivalent, because they do not belong to the same equivalence class with modulo (7).\n",
      "The random number a is 668 and the random number b is 303\n"
     ]
    },
    {
     "name": "stdin",
     "output_type": "stream",
     "text": [
      "Please enter a desired modulo: 7\n"
     ]
    },
    {
     "name": "stdout",
     "output_type": "stream",
     "text": [
      "The equivalence class of 668 with modulo 7 is 3\n",
      "The equivalence class of 303 with modulo 7 is 2\n",
      "No, a (668) and b (303) are not equivalent, because they do not belong to the same equivalence class with modulo (7). Try again\n",
      "No, a (668) and b (303) are not equivalent, because they do not belong to the same equivalence class with modulo (7).\n",
      "The random number a is 292 and the random number b is 221\n"
     ]
    },
    {
     "name": "stdin",
     "output_type": "stream",
     "text": [
      "Please enter a desired modulo: 7\n"
     ]
    },
    {
     "name": "stdout",
     "output_type": "stream",
     "text": [
      "The equivalence class of 292 with modulo 7 is 5\n",
      "The equivalence class of 221 with modulo 7 is 4\n",
      "No, a (292) and b (221) are not equivalent, because they do not belong to the same equivalence class with modulo (7). Try again\n",
      "No, a (292) and b (221) are not equivalent, because they do not belong to the same equivalence class with modulo (7).\n",
      "The random number a is 884 and the random number b is 127\n"
     ]
    },
    {
     "name": "stdin",
     "output_type": "stream",
     "text": [
      "Please enter a desired modulo: 7\n"
     ]
    },
    {
     "name": "stdout",
     "output_type": "stream",
     "text": [
      "The equivalence class of 884 with modulo 7 is 2\n",
      "The equivalence class of 127 with modulo 7 is 1\n",
      "No, a (884) and b (127) are not equivalent, because they do not belong to the same equivalence class with modulo (7). Try again\n",
      "No, a (884) and b (127) are not equivalent, because they do not belong to the same equivalence class with modulo (7).\n",
      "The random number a is 599 and the random number b is 185\n"
     ]
    },
    {
     "name": "stdin",
     "output_type": "stream",
     "text": [
      "Please enter a desired modulo: 7\n"
     ]
    },
    {
     "name": "stdout",
     "output_type": "stream",
     "text": [
      "The equivalence class of 599 with modulo 7 is 4\n",
      "The equivalence class of 185 with modulo 7 is 3\n",
      "No, a (599) and b (185) are not equivalent, because they do not belong to the same equivalence class with modulo (7). Try again\n",
      "No, a (599) and b (185) are not equivalent, because they do not belong to the same equivalence class with modulo (7).\n",
      "The random number a is 654 and the random number b is 87\n"
     ]
    },
    {
     "name": "stdin",
     "output_type": "stream",
     "text": [
      "Please enter a desired modulo: 7\n"
     ]
    },
    {
     "name": "stdout",
     "output_type": "stream",
     "text": [
      "The equivalence class of 654 with modulo 7 is 3\n",
      "The equivalence class of 87 with modulo 7 is 3\n",
      "Yes, a (654) is equivalent to b (87), because they belong to the same equivalence class (3) with modulo (7).\n",
      "Yes, b (87) is also equivalent to a (654), because they belong to the same equivalence class (3) with modulo (7). This means that a and b are symmetric.\n"
     ]
    }
   ],
   "source": [
    "### First I will set different random classes so that I can enter the while-loop\n",
    "equivalence_class_a_symmetry = -1\n",
    "equivalence_class_b_symmetry = 0\n",
    "\n",
    "# The while loop will search for 2 random numbers that are equivalent with a specified modulo.\n",
    "\n",
    "while equivalence_class_a_symmetry != equivalence_class_b_symmetry:\n",
    "    a_symmetry = random_number(0, 1000)\n",
    "    b_symmetry = random_number(0,1000)\n",
    "    print(f\"The random number a is {a_symmetry} and the random number b is {b_symmetry}\")\n",
    "    modulo_symmetry = int(input(\"Please enter a desired modulo:\"))\n",
    "\n",
    "    equivalence_class_a_symmetry = a_symmetry%modulo_symmetry\n",
    "    equivalence_class_b_symmetry = b_symmetry%modulo_symmetry\n",
    "    print(f\"The equivalence class of {a_symmetry} with modulo {modulo_symmetry} is {equivalence_class_a_symmetry}\")\n",
    "    print(f\"The equivalence class of {b_symmetry} with modulo {modulo_symmetry} is {equivalence_class_b_symmetry}\")\n",
    "    \n",
    "# If we find two random numbers that are in the same equivalence class they are equivalent each other.\n",
    "\n",
    "    if equivalence_class_a_symmetry == equivalence_class_b_symmetry:\n",
    "        print(f\"Yes, a ({a_symmetry}) is equivalent to b ({b_symmetry}), because they belong to the same equivalence class ({equivalence_class_a_symmetry}) with modulo ({modulo_symmetry}).\")\n",
    "    else:\n",
    "        print(f\"No, a ({a_symmetry}) and b ({b_symmetry}) are not equivalent, because they do not belong to the same equivalence class with modulo ({modulo_symmetry}). Try again\")\n",
    "    \n",
    "# Now lets check whether b is equivalent to a:\n",
    "    equivalence_class_b_symmetry_check = b_symmetry%modulo_symmetry\n",
    "    equivalence_class_a_symmetry_check = a_symmetry%modulo_symmetry\n",
    "    \n",
    "    if equivalence_class_b_symmetry_check == equivalence_class_a_symmetry_check:\n",
    "        print(f\"Yes, b ({b_symmetry}) is also equivalent to a ({a_symmetry}), because they belong to the same equivalence class ({equivalence_class_b_symmetry_check}) with modulo ({modulo_symmetry}). This means that a and b are symmetric.\")\n",
    "    else:\n",
    "        print(f\"No, a ({a_symmetry}) and b ({b_symmetry}) are not equivalent, because they do not belong to the same equivalence class with modulo ({modulo_symmetry}).\")\n"
   ]
  },
  {
   "cell_type": "markdown",
   "id": "6a722b43-4628-4abb-940e-485fcee19e95",
   "metadata": {},
   "source": [
    "Well, this one looks also good. I tested multiple times mostly with modulo of 3. Some of the text printed can be hidden, but I will leave it like this for now so that it is clear what numbers we get and what exactly happens."
   ]
  },
  {
   "cell_type": "markdown",
   "id": "d5d088b6-606e-4b98-a18f-6a5e7cb2de9c",
   "metadata": {},
   "source": [
    "##### 2.3 Transitivity"
   ]
  },
  {
   "cell_type": "markdown",
   "id": "235c97ac-95ee-4bac-86ee-f255a57f4f3c",
   "metadata": {},
   "source": [
    "##### 2.3.1 Transitivity with a function for specified numbers a, b, c:"
   ]
  },
  {
   "cell_type": "code",
   "execution_count": 15,
   "id": "d0e6810a-5cea-41b5-8342-b4612bbc059c",
   "metadata": {},
   "outputs": [],
   "source": [
    "def is_transitiv(x_min, x_max, modulo, a, b, c):\n",
    "    equivalence_class_a = a%modulo\n",
    "    equivalence_class_b = b%modulo\n",
    "    equivalence_class_c = c%modulo\n",
    "    \n",
    "    equivalence_class_a_check = a%modulo\n",
    "    equivalence_class_b_check = b%modulo\n",
    "    equivalence_class_c_check = c%modulo\n",
    "\n",
    "    if equivalence_class_a == equivalence_class_b and equivalence_class_b_check == equivalence_class_a_check:\n",
    "        print(f\"Yes, a ({a}) is equivalent to b ({b}), because they belong to the same equivalence class ({equivalence_class_a}) with modulo ({modulo}).\")\n",
    "        if equivalence_class_b == equivalence_class_c and equivalence_class_c_check == equivalence_class_b_check:\n",
    "            print(f\"Yes, b ({b}) is equivalent to c ({c}), because they belong to the same equivalence class ({equivalence_class_b}) with modulo ({modulo}).\")\n",
    "            if equivalence_class_a == equivalence_class_c and equivalence_class_c_check == equivalence_class_a_check:\n",
    "                print(f\"Yes, a ({a}) is equivalent to c ({c}), because they belong to the same equivalence class ({equivalence_class_a}) with modulo ({modulo}). Thus a ({a}), b ({b}) and c ({c}) are all equivalent.\")\n",
    "        else:\n",
    "            print(f\"No, b ({b}) and c ({c}) are not equivalent, because they do not belong to the same equivalence class with modulo ({modulo}). Thus a ({a}), b ({b}) and c ({c}) are not all equivalent.\")\n",
    "    else:\n",
    "        print(f\"No, a ({a}) and b ({b}) are not equivalent, because they do not belong to the same equivalence class with modulo ({modulo}). Thus a ({a}), b ({b}) and c ({c}) are not all equivalent.\")\n"
   ]
  },
  {
   "cell_type": "markdown",
   "id": "f8afc1a7-f213-49b1-b996-3cde68a9bcbf",
   "metadata": {},
   "source": [
    "Well, our function is ready. Now lets test it. I would meka in total 4 tests:\n",
    "- Test #1 will be the positive one, so it will print in total 3 rows.\n",
    "- Test #2 will be a negative one for the parameter a.\n",
    "- Test #3 will be a negative one for the parameter b.\n",
    "- Test #4 will be a negative one for the parameter c."
   ]
  },
  {
   "cell_type": "code",
   "execution_count": 16,
   "id": "9406bbcd-6618-4d41-8c4c-b930c7da68a3",
   "metadata": {},
   "outputs": [
    {
     "name": "stdout",
     "output_type": "stream",
     "text": [
      "Yes, a (5) is equivalent to b (8), because they belong to the same equivalence class (2) with modulo (3).\n",
      "Yes, b (8) is equivalent to c (11), because they belong to the same equivalence class (2) with modulo (3).\n",
      "Yes, a (5) is equivalent to c (11), because they belong to the same equivalence class (2) with modulo (3). Thus a (5), b (8) and c (11) are all equivalent.\n",
      "No, a (6) and b (8) are not equivalent, because they do not belong to the same equivalence class with modulo (3). Thus a (6), b (8) and c (11) are not all equivalent.\n",
      "No, a (5) and b (9) are not equivalent, because they do not belong to the same equivalence class with modulo (3). Thus a (5), b (9) and c (11) are not all equivalent.\n",
      "No, a (5) and b (9) are not equivalent, because they do not belong to the same equivalence class with modulo (3). Thus a (5), b (9) and c (12) are not all equivalent.\n"
     ]
    }
   ],
   "source": [
    "is_transitiv(0, 1000, 3, 5, 8, 11)\n",
    "is_transitiv(0, 1000, 3, 6, 8, 11)\n",
    "is_transitiv(0, 1000, 3, 5, 9, 11)\n",
    "is_transitiv(0, 1000, 3, 5, 9, 12)"
   ]
  },
  {
   "cell_type": "markdown",
   "id": "bee4be7e-e0a7-442b-8ffa-89fc81f5c862",
   "metadata": {},
   "source": [
    "The tests were here also successful. The first one returned 3 rows and showed us that the a,b and c are equivalent each other. The other test were negative and each one returned a negative answer."
   ]
  },
  {
   "cell_type": "markdown",
   "id": "9edfcc9d-8642-4d02-833b-28254142cd5c",
   "metadata": {},
   "source": [
    "##### 2.3.2 Transitivity without a function for random numbers a, b, c:"
   ]
  },
  {
   "cell_type": "code",
   "execution_count": 17,
   "id": "2ab42b5f-e197-488b-a8d0-a4aaf082254b",
   "metadata": {},
   "outputs": [
    {
     "name": "stdout",
     "output_type": "stream",
     "text": [
      "The random number a is 159. The random number b is 516 and the random number c is 231\n"
     ]
    },
    {
     "name": "stdin",
     "output_type": "stream",
     "text": [
      "Please enter a desired modulo: 11\n"
     ]
    },
    {
     "name": "stdout",
     "output_type": "stream",
     "text": [
      "The equivalence class of 159 with modulo 11 is 5\n",
      "The equivalence class of 516 with modulo 11 is 10\n",
      "The equivalence class of 231 with modulo 11 is 0\n",
      "No, a (159) and b (516) are not equivalent, because they do not belong to the same equivalence class with modulo (11). Thus a (159), b (516) and c (231) are not all equivalent.\n",
      "The random number a is 331. The random number b is 992 and the random number c is 994\n"
     ]
    },
    {
     "name": "stdin",
     "output_type": "stream",
     "text": [
      "Please enter a desired modulo: 7\n"
     ]
    },
    {
     "name": "stdout",
     "output_type": "stream",
     "text": [
      "The equivalence class of 331 with modulo 7 is 2\n",
      "The equivalence class of 992 with modulo 7 is 5\n",
      "The equivalence class of 994 with modulo 7 is 0\n",
      "No, a (331) and b (992) are not equivalent, because they do not belong to the same equivalence class with modulo (7). Thus a (331), b (992) and c (994) are not all equivalent.\n",
      "The random number a is 555. The random number b is 140 and the random number c is 739\n"
     ]
    },
    {
     "name": "stdin",
     "output_type": "stream",
     "text": [
      "Please enter a desired modulo: 7\n"
     ]
    },
    {
     "name": "stdout",
     "output_type": "stream",
     "text": [
      "The equivalence class of 555 with modulo 7 is 2\n",
      "The equivalence class of 140 with modulo 7 is 0\n",
      "The equivalence class of 739 with modulo 7 is 4\n",
      "No, a (555) and b (140) are not equivalent, because they do not belong to the same equivalence class with modulo (7). Thus a (555), b (140) and c (739) are not all equivalent.\n",
      "The random number a is 881. The random number b is 935 and the random number c is 537\n"
     ]
    },
    {
     "name": "stdin",
     "output_type": "stream",
     "text": [
      "Please enter a desired modulo: 7\n"
     ]
    },
    {
     "name": "stdout",
     "output_type": "stream",
     "text": [
      "The equivalence class of 881 with modulo 7 is 6\n",
      "The equivalence class of 935 with modulo 7 is 4\n",
      "The equivalence class of 537 with modulo 7 is 5\n",
      "No, a (881) and b (935) are not equivalent, because they do not belong to the same equivalence class with modulo (7). Thus a (881), b (935) and c (537) are not all equivalent.\n",
      "The random number a is 383. The random number b is 620 and the random number c is 108\n"
     ]
    },
    {
     "name": "stdin",
     "output_type": "stream",
     "text": [
      "Please enter a desired modulo: 7\n"
     ]
    },
    {
     "name": "stdout",
     "output_type": "stream",
     "text": [
      "The equivalence class of 383 with modulo 7 is 5\n",
      "The equivalence class of 620 with modulo 7 is 4\n",
      "The equivalence class of 108 with modulo 7 is 3\n",
      "No, a (383) and b (620) are not equivalent, because they do not belong to the same equivalence class with modulo (7). Thus a (383), b (620) and c (108) are not all equivalent.\n",
      "The random number a is 882. The random number b is 932 and the random number c is 173\n"
     ]
    },
    {
     "name": "stdin",
     "output_type": "stream",
     "text": [
      "Please enter a desired modulo: 7\n"
     ]
    },
    {
     "name": "stdout",
     "output_type": "stream",
     "text": [
      "The equivalence class of 882 with modulo 7 is 0\n",
      "The equivalence class of 932 with modulo 7 is 1\n",
      "The equivalence class of 173 with modulo 7 is 5\n",
      "No, a (882) and b (932) are not equivalent, because they do not belong to the same equivalence class with modulo (7). Thus a (882), b (932) and c (173) are not all equivalent.\n",
      "The random number a is 701. The random number b is 455 and the random number c is 91\n"
     ]
    },
    {
     "name": "stdin",
     "output_type": "stream",
     "text": [
      "Please enter a desired modulo: 3\n"
     ]
    },
    {
     "name": "stdout",
     "output_type": "stream",
     "text": [
      "The equivalence class of 701 with modulo 3 is 2\n",
      "The equivalence class of 455 with modulo 3 is 2\n",
      "The equivalence class of 91 with modulo 3 is 1\n",
      "Yes, a (701) is equivalent to b (455), because they belong to the same equivalence class (2) with modulo (3).\n",
      "No, b (455) and c (91) are not equivalent, because they do not belong to the same equivalence class with modulo (3). Thus a (701), b (455) and c (91) are not all equivalent.\n",
      "The random number a is 13. The random number b is 954 and the random number c is 296\n"
     ]
    },
    {
     "name": "stdin",
     "output_type": "stream",
     "text": [
      "Please enter a desired modulo: 3\n"
     ]
    },
    {
     "name": "stdout",
     "output_type": "stream",
     "text": [
      "The equivalence class of 13 with modulo 3 is 1\n",
      "The equivalence class of 954 with modulo 3 is 0\n",
      "The equivalence class of 296 with modulo 3 is 2\n",
      "No, a (13) and b (954) are not equivalent, because they do not belong to the same equivalence class with modulo (3). Thus a (13), b (954) and c (296) are not all equivalent.\n",
      "The random number a is 835. The random number b is 203 and the random number c is 518\n"
     ]
    },
    {
     "name": "stdin",
     "output_type": "stream",
     "text": [
      "Please enter a desired modulo: 3\n"
     ]
    },
    {
     "name": "stdout",
     "output_type": "stream",
     "text": [
      "The equivalence class of 835 with modulo 3 is 1\n",
      "The equivalence class of 203 with modulo 3 is 2\n",
      "The equivalence class of 518 with modulo 3 is 2\n",
      "No, a (835) and b (203) are not equivalent, because they do not belong to the same equivalence class with modulo (3). Thus a (835), b (203) and c (518) are not all equivalent.\n",
      "The random number a is 621. The random number b is 842 and the random number c is 201\n"
     ]
    },
    {
     "name": "stdin",
     "output_type": "stream",
     "text": [
      "Please enter a desired modulo: 3\n"
     ]
    },
    {
     "name": "stdout",
     "output_type": "stream",
     "text": [
      "The equivalence class of 621 with modulo 3 is 0\n",
      "The equivalence class of 842 with modulo 3 is 2\n",
      "The equivalence class of 201 with modulo 3 is 0\n",
      "No, a (621) and b (842) are not equivalent, because they do not belong to the same equivalence class with modulo (3). Thus a (621), b (842) and c (201) are not all equivalent.\n",
      "The random number a is 956. The random number b is 807 and the random number c is 184\n"
     ]
    },
    {
     "name": "stdin",
     "output_type": "stream",
     "text": [
      "Please enter a desired modulo: 3\n"
     ]
    },
    {
     "name": "stdout",
     "output_type": "stream",
     "text": [
      "The equivalence class of 956 with modulo 3 is 2\n",
      "The equivalence class of 807 with modulo 3 is 0\n",
      "The equivalence class of 184 with modulo 3 is 1\n",
      "No, a (956) and b (807) are not equivalent, because they do not belong to the same equivalence class with modulo (3). Thus a (956), b (807) and c (184) are not all equivalent.\n",
      "The random number a is 685. The random number b is 7 and the random number c is 12\n"
     ]
    },
    {
     "name": "stdin",
     "output_type": "stream",
     "text": [
      "Please enter a desired modulo: 3\n"
     ]
    },
    {
     "name": "stdout",
     "output_type": "stream",
     "text": [
      "The equivalence class of 685 with modulo 3 is 1\n",
      "The equivalence class of 7 with modulo 3 is 1\n",
      "The equivalence class of 12 with modulo 3 is 0\n",
      "Yes, a (685) is equivalent to b (7), because they belong to the same equivalence class (1) with modulo (3).\n",
      "No, b (7) and c (12) are not equivalent, because they do not belong to the same equivalence class with modulo (3). Thus a (685), b (7) and c (12) are not all equivalent.\n",
      "The random number a is 728. The random number b is 451 and the random number c is 883\n"
     ]
    },
    {
     "name": "stdin",
     "output_type": "stream",
     "text": [
      "Please enter a desired modulo: 3\n"
     ]
    },
    {
     "name": "stdout",
     "output_type": "stream",
     "text": [
      "The equivalence class of 728 with modulo 3 is 2\n",
      "The equivalence class of 451 with modulo 3 is 1\n",
      "The equivalence class of 883 with modulo 3 is 1\n",
      "No, a (728) and b (451) are not equivalent, because they do not belong to the same equivalence class with modulo (3). Thus a (728), b (451) and c (883) are not all equivalent.\n",
      "The random number a is 788. The random number b is 117 and the random number c is 451\n"
     ]
    },
    {
     "name": "stdin",
     "output_type": "stream",
     "text": [
      "Please enter a desired modulo: 3\n"
     ]
    },
    {
     "name": "stdout",
     "output_type": "stream",
     "text": [
      "The equivalence class of 788 with modulo 3 is 2\n",
      "The equivalence class of 117 with modulo 3 is 0\n",
      "The equivalence class of 451 with modulo 3 is 1\n",
      "No, a (788) and b (117) are not equivalent, because they do not belong to the same equivalence class with modulo (3). Thus a (788), b (117) and c (451) are not all equivalent.\n",
      "The random number a is 560. The random number b is 302 and the random number c is 69\n"
     ]
    },
    {
     "name": "stdin",
     "output_type": "stream",
     "text": [
      "Please enter a desired modulo: 3\n"
     ]
    },
    {
     "name": "stdout",
     "output_type": "stream",
     "text": [
      "The equivalence class of 560 with modulo 3 is 2\n",
      "The equivalence class of 302 with modulo 3 is 2\n",
      "The equivalence class of 69 with modulo 3 is 0\n",
      "Yes, a (560) is equivalent to b (302), because they belong to the same equivalence class (2) with modulo (3).\n",
      "No, b (302) and c (69) are not equivalent, because they do not belong to the same equivalence class with modulo (3). Thus a (560), b (302) and c (69) are not all equivalent.\n",
      "The random number a is 733. The random number b is 959 and the random number c is 440\n"
     ]
    },
    {
     "name": "stdin",
     "output_type": "stream",
     "text": [
      "Please enter a desired modulo: 3\n"
     ]
    },
    {
     "name": "stdout",
     "output_type": "stream",
     "text": [
      "The equivalence class of 733 with modulo 3 is 1\n",
      "The equivalence class of 959 with modulo 3 is 2\n",
      "The equivalence class of 440 with modulo 3 is 2\n",
      "No, a (733) and b (959) are not equivalent, because they do not belong to the same equivalence class with modulo (3). Thus a (733), b (959) and c (440) are not all equivalent.\n",
      "The random number a is 866. The random number b is 998 and the random number c is 906\n"
     ]
    },
    {
     "name": "stdin",
     "output_type": "stream",
     "text": [
      "Please enter a desired modulo: 3\n"
     ]
    },
    {
     "name": "stdout",
     "output_type": "stream",
     "text": [
      "The equivalence class of 866 with modulo 3 is 2\n",
      "The equivalence class of 998 with modulo 3 is 2\n",
      "The equivalence class of 906 with modulo 3 is 0\n",
      "Yes, a (866) is equivalent to b (998), because they belong to the same equivalence class (2) with modulo (3).\n",
      "No, b (998) and c (906) are not equivalent, because they do not belong to the same equivalence class with modulo (3). Thus a (866), b (998) and c (906) are not all equivalent.\n",
      "The random number a is 643. The random number b is 500 and the random number c is 903\n"
     ]
    },
    {
     "name": "stdin",
     "output_type": "stream",
     "text": [
      "Please enter a desired modulo: 3\n"
     ]
    },
    {
     "name": "stdout",
     "output_type": "stream",
     "text": [
      "The equivalence class of 643 with modulo 3 is 1\n",
      "The equivalence class of 500 with modulo 3 is 2\n",
      "The equivalence class of 903 with modulo 3 is 0\n",
      "No, a (643) and b (500) are not equivalent, because they do not belong to the same equivalence class with modulo (3). Thus a (643), b (500) and c (903) are not all equivalent.\n",
      "The random number a is 126. The random number b is 425 and the random number c is 332\n"
     ]
    },
    {
     "name": "stdin",
     "output_type": "stream",
     "text": [
      "Please enter a desired modulo: 3\n"
     ]
    },
    {
     "name": "stdout",
     "output_type": "stream",
     "text": [
      "The equivalence class of 126 with modulo 3 is 0\n",
      "The equivalence class of 425 with modulo 3 is 2\n",
      "The equivalence class of 332 with modulo 3 is 2\n",
      "No, a (126) and b (425) are not equivalent, because they do not belong to the same equivalence class with modulo (3). Thus a (126), b (425) and c (332) are not all equivalent.\n",
      "The random number a is 8. The random number b is 588 and the random number c is 720\n"
     ]
    },
    {
     "name": "stdin",
     "output_type": "stream",
     "text": [
      "Please enter a desired modulo: 3\n"
     ]
    },
    {
     "name": "stdout",
     "output_type": "stream",
     "text": [
      "The equivalence class of 8 with modulo 3 is 2\n",
      "The equivalence class of 588 with modulo 3 is 0\n",
      "The equivalence class of 720 with modulo 3 is 0\n",
      "No, a (8) and b (588) are not equivalent, because they do not belong to the same equivalence class with modulo (3). Thus a (8), b (588) and c (720) are not all equivalent.\n",
      "The random number a is 242. The random number b is 574 and the random number c is 75\n"
     ]
    },
    {
     "name": "stdin",
     "output_type": "stream",
     "text": [
      "Please enter a desired modulo: 3\n"
     ]
    },
    {
     "name": "stdout",
     "output_type": "stream",
     "text": [
      "The equivalence class of 242 with modulo 3 is 2\n",
      "The equivalence class of 574 with modulo 3 is 1\n",
      "The equivalence class of 75 with modulo 3 is 0\n",
      "No, a (242) and b (574) are not equivalent, because they do not belong to the same equivalence class with modulo (3). Thus a (242), b (574) and c (75) are not all equivalent.\n",
      "The random number a is 594. The random number b is 909 and the random number c is 47\n"
     ]
    },
    {
     "name": "stdin",
     "output_type": "stream",
     "text": [
      "Please enter a desired modulo: 3\n"
     ]
    },
    {
     "name": "stdout",
     "output_type": "stream",
     "text": [
      "The equivalence class of 594 with modulo 3 is 0\n",
      "The equivalence class of 909 with modulo 3 is 0\n",
      "The equivalence class of 47 with modulo 3 is 2\n",
      "Yes, a (594) is equivalent to b (909), because they belong to the same equivalence class (0) with modulo (3).\n",
      "No, b (909) and c (47) are not equivalent, because they do not belong to the same equivalence class with modulo (3). Thus a (594), b (909) and c (47) are not all equivalent.\n",
      "The random number a is 960. The random number b is 888 and the random number c is 386\n"
     ]
    },
    {
     "name": "stdin",
     "output_type": "stream",
     "text": [
      "Please enter a desired modulo: 3\n"
     ]
    },
    {
     "name": "stdout",
     "output_type": "stream",
     "text": [
      "The equivalence class of 960 with modulo 3 is 0\n",
      "The equivalence class of 888 with modulo 3 is 0\n",
      "The equivalence class of 386 with modulo 3 is 2\n",
      "Yes, a (960) is equivalent to b (888), because they belong to the same equivalence class (0) with modulo (3).\n",
      "No, b (888) and c (386) are not equivalent, because they do not belong to the same equivalence class with modulo (3). Thus a (960), b (888) and c (386) are not all equivalent.\n",
      "The random number a is 67. The random number b is 992 and the random number c is 718\n"
     ]
    },
    {
     "name": "stdin",
     "output_type": "stream",
     "text": [
      "Please enter a desired modulo: 3\n"
     ]
    },
    {
     "name": "stdout",
     "output_type": "stream",
     "text": [
      "The equivalence class of 67 with modulo 3 is 1\n",
      "The equivalence class of 992 with modulo 3 is 2\n",
      "The equivalence class of 718 with modulo 3 is 1\n",
      "No, a (67) and b (992) are not equivalent, because they do not belong to the same equivalence class with modulo (3). Thus a (67), b (992) and c (718) are not all equivalent.\n",
      "The random number a is 19. The random number b is 221 and the random number c is 886\n"
     ]
    },
    {
     "name": "stdin",
     "output_type": "stream",
     "text": [
      "Please enter a desired modulo: 3\n"
     ]
    },
    {
     "name": "stdout",
     "output_type": "stream",
     "text": [
      "The equivalence class of 19 with modulo 3 is 1\n",
      "The equivalence class of 221 with modulo 3 is 2\n",
      "The equivalence class of 886 with modulo 3 is 1\n",
      "No, a (19) and b (221) are not equivalent, because they do not belong to the same equivalence class with modulo (3). Thus a (19), b (221) and c (886) are not all equivalent.\n",
      "The random number a is 132. The random number b is 845 and the random number c is 890\n"
     ]
    },
    {
     "name": "stdin",
     "output_type": "stream",
     "text": [
      "Please enter a desired modulo: 3\n"
     ]
    },
    {
     "name": "stdout",
     "output_type": "stream",
     "text": [
      "The equivalence class of 132 with modulo 3 is 0\n",
      "The equivalence class of 845 with modulo 3 is 2\n",
      "The equivalence class of 890 with modulo 3 is 2\n",
      "No, a (132) and b (845) are not equivalent, because they do not belong to the same equivalence class with modulo (3). Thus a (132), b (845) and c (890) are not all equivalent.\n",
      "The random number a is 159. The random number b is 206 and the random number c is 633\n"
     ]
    },
    {
     "name": "stdin",
     "output_type": "stream",
     "text": [
      "Please enter a desired modulo: 3\n"
     ]
    },
    {
     "name": "stdout",
     "output_type": "stream",
     "text": [
      "The equivalence class of 159 with modulo 3 is 0\n",
      "The equivalence class of 206 with modulo 3 is 2\n",
      "The equivalence class of 633 with modulo 3 is 0\n",
      "No, a (159) and b (206) are not equivalent, because they do not belong to the same equivalence class with modulo (3). Thus a (159), b (206) and c (633) are not all equivalent.\n",
      "The random number a is 622. The random number b is 183 and the random number c is 704\n"
     ]
    },
    {
     "name": "stdin",
     "output_type": "stream",
     "text": [
      "Please enter a desired modulo: 3\n"
     ]
    },
    {
     "name": "stdout",
     "output_type": "stream",
     "text": [
      "The equivalence class of 622 with modulo 3 is 1\n",
      "The equivalence class of 183 with modulo 3 is 0\n",
      "The equivalence class of 704 with modulo 3 is 2\n",
      "No, a (622) and b (183) are not equivalent, because they do not belong to the same equivalence class with modulo (3). Thus a (622), b (183) and c (704) are not all equivalent.\n",
      "The random number a is 64. The random number b is 41 and the random number c is 382\n"
     ]
    },
    {
     "name": "stdin",
     "output_type": "stream",
     "text": [
      "Please enter a desired modulo: 3\n"
     ]
    },
    {
     "name": "stdout",
     "output_type": "stream",
     "text": [
      "The equivalence class of 64 with modulo 3 is 1\n",
      "The equivalence class of 41 with modulo 3 is 2\n",
      "The equivalence class of 382 with modulo 3 is 1\n",
      "No, a (64) and b (41) are not equivalent, because they do not belong to the same equivalence class with modulo (3). Thus a (64), b (41) and c (382) are not all equivalent.\n",
      "The random number a is 659. The random number b is 392 and the random number c is 226\n"
     ]
    },
    {
     "name": "stdin",
     "output_type": "stream",
     "text": [
      "Please enter a desired modulo: 3\n"
     ]
    },
    {
     "name": "stdout",
     "output_type": "stream",
     "text": [
      "The equivalence class of 659 with modulo 3 is 2\n",
      "The equivalence class of 392 with modulo 3 is 2\n",
      "The equivalence class of 226 with modulo 3 is 1\n",
      "Yes, a (659) is equivalent to b (392), because they belong to the same equivalence class (2) with modulo (3).\n",
      "No, b (392) and c (226) are not equivalent, because they do not belong to the same equivalence class with modulo (3). Thus a (659), b (392) and c (226) are not all equivalent.\n",
      "The random number a is 950. The random number b is 750 and the random number c is 991\n"
     ]
    },
    {
     "name": "stdin",
     "output_type": "stream",
     "text": [
      "Please enter a desired modulo: 3\n"
     ]
    },
    {
     "name": "stdout",
     "output_type": "stream",
     "text": [
      "The equivalence class of 950 with modulo 3 is 2\n",
      "The equivalence class of 750 with modulo 3 is 0\n",
      "The equivalence class of 991 with modulo 3 is 1\n",
      "No, a (950) and b (750) are not equivalent, because they do not belong to the same equivalence class with modulo (3). Thus a (950), b (750) and c (991) are not all equivalent.\n",
      "The random number a is 868. The random number b is 302 and the random number c is 880\n"
     ]
    },
    {
     "name": "stdin",
     "output_type": "stream",
     "text": [
      "Please enter a desired modulo: 3\n"
     ]
    },
    {
     "name": "stdout",
     "output_type": "stream",
     "text": [
      "The equivalence class of 868 with modulo 3 is 1\n",
      "The equivalence class of 302 with modulo 3 is 2\n",
      "The equivalence class of 880 with modulo 3 is 1\n",
      "No, a (868) and b (302) are not equivalent, because they do not belong to the same equivalence class with modulo (3). Thus a (868), b (302) and c (880) are not all equivalent.\n",
      "The random number a is 205. The random number b is 157 and the random number c is 519\n"
     ]
    },
    {
     "name": "stdin",
     "output_type": "stream",
     "text": [
      "Please enter a desired modulo: 3\n"
     ]
    },
    {
     "name": "stdout",
     "output_type": "stream",
     "text": [
      "The equivalence class of 205 with modulo 3 is 1\n",
      "The equivalence class of 157 with modulo 3 is 1\n",
      "The equivalence class of 519 with modulo 3 is 0\n",
      "Yes, a (205) is equivalent to b (157), because they belong to the same equivalence class (1) with modulo (3).\n",
      "No, b (157) and c (519) are not equivalent, because they do not belong to the same equivalence class with modulo (3). Thus a (205), b (157) and c (519) are not all equivalent.\n",
      "The random number a is 644. The random number b is 826 and the random number c is 633\n"
     ]
    },
    {
     "name": "stdin",
     "output_type": "stream",
     "text": [
      "Please enter a desired modulo: 3\n"
     ]
    },
    {
     "name": "stdout",
     "output_type": "stream",
     "text": [
      "The equivalence class of 644 with modulo 3 is 2\n",
      "The equivalence class of 826 with modulo 3 is 1\n",
      "The equivalence class of 633 with modulo 3 is 0\n",
      "No, a (644) and b (826) are not equivalent, because they do not belong to the same equivalence class with modulo (3). Thus a (644), b (826) and c (633) are not all equivalent.\n",
      "The random number a is 74. The random number b is 312 and the random number c is 540\n"
     ]
    },
    {
     "name": "stdin",
     "output_type": "stream",
     "text": [
      "Please enter a desired modulo: 3\n"
     ]
    },
    {
     "name": "stdout",
     "output_type": "stream",
     "text": [
      "The equivalence class of 74 with modulo 3 is 2\n",
      "The equivalence class of 312 with modulo 3 is 0\n",
      "The equivalence class of 540 with modulo 3 is 0\n",
      "No, a (74) and b (312) are not equivalent, because they do not belong to the same equivalence class with modulo (3). Thus a (74), b (312) and c (540) are not all equivalent.\n",
      "The random number a is 754. The random number b is 968 and the random number c is 587\n"
     ]
    },
    {
     "name": "stdin",
     "output_type": "stream",
     "text": [
      "Please enter a desired modulo: 3\n"
     ]
    },
    {
     "name": "stdout",
     "output_type": "stream",
     "text": [
      "The equivalence class of 754 with modulo 3 is 1\n",
      "The equivalence class of 968 with modulo 3 is 2\n",
      "The equivalence class of 587 with modulo 3 is 2\n",
      "No, a (754) and b (968) are not equivalent, because they do not belong to the same equivalence class with modulo (3). Thus a (754), b (968) and c (587) are not all equivalent.\n",
      "The random number a is 134. The random number b is 300 and the random number c is 405\n"
     ]
    },
    {
     "name": "stdin",
     "output_type": "stream",
     "text": [
      "Please enter a desired modulo: 3\n"
     ]
    },
    {
     "name": "stdout",
     "output_type": "stream",
     "text": [
      "The equivalence class of 134 with modulo 3 is 2\n",
      "The equivalence class of 300 with modulo 3 is 0\n",
      "The equivalence class of 405 with modulo 3 is 0\n",
      "No, a (134) and b (300) are not equivalent, because they do not belong to the same equivalence class with modulo (3). Thus a (134), b (300) and c (405) are not all equivalent.\n",
      "The random number a is 306. The random number b is 616 and the random number c is 838\n"
     ]
    },
    {
     "name": "stdin",
     "output_type": "stream",
     "text": [
      "Please enter a desired modulo: 3\n"
     ]
    },
    {
     "name": "stdout",
     "output_type": "stream",
     "text": [
      "The equivalence class of 306 with modulo 3 is 0\n",
      "The equivalence class of 616 with modulo 3 is 1\n",
      "The equivalence class of 838 with modulo 3 is 1\n",
      "No, a (306) and b (616) are not equivalent, because they do not belong to the same equivalence class with modulo (3). Thus a (306), b (616) and c (838) are not all equivalent.\n",
      "The random number a is 865. The random number b is 600 and the random number c is 1000\n"
     ]
    },
    {
     "name": "stdin",
     "output_type": "stream",
     "text": [
      "Please enter a desired modulo: 3\n"
     ]
    },
    {
     "name": "stdout",
     "output_type": "stream",
     "text": [
      "The equivalence class of 865 with modulo 3 is 1\n",
      "The equivalence class of 600 with modulo 3 is 0\n",
      "The equivalence class of 1000 with modulo 3 is 1\n",
      "No, a (865) and b (600) are not equivalent, because they do not belong to the same equivalence class with modulo (3). Thus a (865), b (600) and c (1000) are not all equivalent.\n",
      "The random number a is 835. The random number b is 744 and the random number c is 683\n"
     ]
    },
    {
     "name": "stdin",
     "output_type": "stream",
     "text": [
      "Please enter a desired modulo: 3\n"
     ]
    },
    {
     "name": "stdout",
     "output_type": "stream",
     "text": [
      "The equivalence class of 835 with modulo 3 is 1\n",
      "The equivalence class of 744 with modulo 3 is 0\n",
      "The equivalence class of 683 with modulo 3 is 2\n",
      "No, a (835) and b (744) are not equivalent, because they do not belong to the same equivalence class with modulo (3). Thus a (835), b (744) and c (683) are not all equivalent.\n",
      "The random number a is 233. The random number b is 579 and the random number c is 599\n"
     ]
    },
    {
     "name": "stdin",
     "output_type": "stream",
     "text": [
      "Please enter a desired modulo: 3\n"
     ]
    },
    {
     "name": "stdout",
     "output_type": "stream",
     "text": [
      "The equivalence class of 233 with modulo 3 is 2\n",
      "The equivalence class of 579 with modulo 3 is 0\n",
      "The equivalence class of 599 with modulo 3 is 2\n",
      "No, a (233) and b (579) are not equivalent, because they do not belong to the same equivalence class with modulo (3). Thus a (233), b (579) and c (599) are not all equivalent.\n",
      "The random number a is 813. The random number b is 699 and the random number c is 777\n"
     ]
    },
    {
     "name": "stdin",
     "output_type": "stream",
     "text": [
      "Please enter a desired modulo: 3\n"
     ]
    },
    {
     "name": "stdout",
     "output_type": "stream",
     "text": [
      "The equivalence class of 813 with modulo 3 is 0\n",
      "The equivalence class of 699 with modulo 3 is 0\n",
      "The equivalence class of 777 with modulo 3 is 0\n",
      "Yes, a (813) is equivalent to b (699), because they belong to the same equivalence class (0) with modulo (3).\n",
      "Yes, b (699) is equivalent to c (777), because they belong to the same equivalence class (0) with modulo (3).\n",
      "Yes, a (813) is equivalent to c (777), because they belong to the same equivalence class (0) with modulo (3). Thus a (813), b (699) and c (777) are all equivalent.\n"
     ]
    }
   ],
   "source": [
    "# 3.1 First I will set different random classes so that I can enter the while-loop\n",
    "equivalence_class_a_transitivity = -2\n",
    "equivalence_class_b_transitivity = -1\n",
    "equivalence_class_c_transitivity = 0\n",
    "\n",
    "# 3.2 The while loop will search for 2 random numbers that are equivalent with a specified modulo.\n",
    "\n",
    "while not equivalence_class_a_transitivity == equivalence_class_b_transitivity == equivalence_class_c_transitivity:\n",
    "    a_transitivity = random_number(0, 1000)\n",
    "    b_transitivity = random_number(0,1000)\n",
    "    c_transitivity = random_number(0,1000)\n",
    "    print(f\"The random number a is {a_transitivity}. The random number b is {b_transitivity} and the random number c is {c_transitivity}\")\n",
    "    modulo_transitivity = int(input(\"Please enter a desired modulo:\"))\n",
    "\n",
    "    equivalence_class_a_transitivity = a_transitivity%modulo_transitivity\n",
    "    equivalence_class_b_transitivity = b_transitivity%modulo_transitivity\n",
    "    equivalence_class_c_transitivity = c_transitivity%modulo_transitivity\n",
    "    print(f\"The equivalence class of {a_transitivity} with modulo {modulo_transitivity} is {equivalence_class_a_transitivity}\")\n",
    "    print(f\"The equivalence class of {b_transitivity} with modulo {modulo_transitivity} is {equivalence_class_b_transitivity}\")\n",
    "    print(f\"The equivalence class of {c_transitivity} with modulo {modulo_transitivity} is {equivalence_class_c_transitivity}\")\n",
    "\n",
    "    if equivalence_class_a_transitivity == equivalence_class_b_transitivity:\n",
    "        print(f\"Yes, a ({a_transitivity}) is equivalent to b ({b_transitivity}), because they belong to the same equivalence class ({equivalence_class_a_transitivity}) with modulo ({modulo_transitivity}).\")\n",
    "        if equivalence_class_b_transitivity == equivalence_class_c_transitivity:\n",
    "            print(f\"Yes, b ({b_transitivity}) is equivalent to c ({c_transitivity}), because they belong to the same equivalence class ({equivalence_class_b_transitivity}) with modulo ({modulo_transitivity}).\")\n",
    "            if equivalence_class_a_transitivity == equivalence_class_c_transitivity:\n",
    "                print(f\"Yes, a ({a_transitivity}) is equivalent to c ({c_transitivity}), because they belong to the same equivalence class ({equivalence_class_a_transitivity}) with modulo ({modulo_transitivity}). Thus a ({a_transitivity}), b ({b_transitivity}) and c ({c_transitivity}) are all equivalent.\")\n",
    "        else:\n",
    "            print(f\"No, b ({b_transitivity}) and c ({c_transitivity}) are not equivalent, because they do not belong to the same equivalence class with modulo ({modulo_transitivity}). Thus a ({a_transitivity}), b ({b_transitivity}) and c ({c_transitivity}) are not all equivalent.\")\n",
    "    else:\n",
    "        print(f\"No, a ({a_transitivity}) and b ({b_transitivity}) are not equivalent, because they do not belong to the same equivalence class with modulo ({modulo_transitivity}). Thus a ({a_transitivity}), b ({b_transitivity}) and c ({c_transitivity}) are not all equivalent.\")\n"
   ]
  },
  {
   "cell_type": "markdown",
   "id": "5dd2e3ec-862e-4d5e-965c-71f598f25d7a",
   "metadata": {},
   "source": [
    "Well, it looks well, we had couple of negative tests and in the end one positive test. Now when I defined the properties of the equivalence classes, I would like to experiment a little bit and see how the numbers are classified in the equivalence classes."
   ]
  },
  {
   "cell_type": "code",
   "execution_count": 18,
   "id": "43ba2cba-1d88-4981-8f01-f25f3afe05a0",
   "metadata": {},
   "outputs": [],
   "source": [
    "def equivalence_class_classification(modulo, interval):\n",
    "    list = []\n",
    "    for i in range (interval):\n",
    "        a = i%modulo\n",
    "        list.append(a)\n",
    "    return list"
   ]
  },
  {
   "cell_type": "code",
   "execution_count": 19,
   "id": "6c53e0c0-e73c-49f1-9e52-8af0c1bc45c2",
   "metadata": {},
   "outputs": [
    {
     "name": "stdout",
     "output_type": "stream",
     "text": [
      "Modulo: 1: [0, 0, 0, 0, 0, 0, 0, 0, 0, 0, 0, 0, 0, 0, 0, 0, 0, 0, 0, 0, 0, 0, 0, 0, 0, 0, 0, 0, 0, 0, 0, 0, 0, 0, 0, 0, 0, 0, 0, 0, 0, 0, 0, 0, 0, 0, 0, 0, 0, 0]\n",
      "Modulo: 2: [0, 1, 0, 1, 0, 1, 0, 1, 0, 1, 0, 1, 0, 1, 0, 1, 0, 1, 0, 1, 0, 1, 0, 1, 0, 1, 0, 1, 0, 1, 0, 1, 0, 1, 0, 1, 0, 1, 0, 1, 0, 1, 0, 1, 0, 1, 0, 1, 0, 1]\n",
      "Modulo: 3: [0, 1, 2, 0, 1, 2, 0, 1, 2, 0, 1, 2, 0, 1, 2, 0, 1, 2, 0, 1, 2, 0, 1, 2, 0, 1, 2, 0, 1, 2, 0, 1, 2, 0, 1, 2, 0, 1, 2, 0, 1, 2, 0, 1, 2, 0, 1, 2, 0, 1]\n",
      "Modulo: 4: [0, 1, 2, 3, 0, 1, 2, 3, 0, 1, 2, 3, 0, 1, 2, 3, 0, 1, 2, 3, 0, 1, 2, 3, 0, 1, 2, 3, 0, 1, 2, 3, 0, 1, 2, 3, 0, 1, 2, 3, 0, 1, 2, 3, 0, 1, 2, 3, 0, 1]\n",
      "Modulo: 5: [0, 1, 2, 3, 4, 0, 1, 2, 3, 4, 0, 1, 2, 3, 4, 0, 1, 2, 3, 4, 0, 1, 2, 3, 4, 0, 1, 2, 3, 4, 0, 1, 2, 3, 4, 0, 1, 2, 3, 4, 0, 1, 2, 3, 4, 0, 1, 2, 3, 4]\n",
      "Modulo: 6: [0, 1, 2, 3, 4, 5, 0, 1, 2, 3, 4, 5, 0, 1, 2, 3, 4, 5, 0, 1, 2, 3, 4, 5, 0, 1, 2, 3, 4, 5, 0, 1, 2, 3, 4, 5, 0, 1, 2, 3, 4, 5, 0, 1, 2, 3, 4, 5, 0, 1]\n",
      "Modulo: 7: [0, 1, 2, 3, 4, 5, 6, 0, 1, 2, 3, 4, 5, 6, 0, 1, 2, 3, 4, 5, 6, 0, 1, 2, 3, 4, 5, 6, 0, 1, 2, 3, 4, 5, 6, 0, 1, 2, 3, 4, 5, 6, 0, 1, 2, 3, 4, 5, 6, 0]\n",
      "Modulo: 8: [0, 1, 2, 3, 4, 5, 6, 7, 0, 1, 2, 3, 4, 5, 6, 7, 0, 1, 2, 3, 4, 5, 6, 7, 0, 1, 2, 3, 4, 5, 6, 7, 0, 1, 2, 3, 4, 5, 6, 7, 0, 1, 2, 3, 4, 5, 6, 7, 0, 1]\n",
      "Modulo: 9: [0, 1, 2, 3, 4, 5, 6, 7, 8, 0, 1, 2, 3, 4, 5, 6, 7, 8, 0, 1, 2, 3, 4, 5, 6, 7, 8, 0, 1, 2, 3, 4, 5, 6, 7, 8, 0, 1, 2, 3, 4, 5, 6, 7, 8, 0, 1, 2, 3, 4]\n",
      "Modulo: 10: [0, 1, 2, 3, 4, 5, 6, 7, 8, 9, 0, 1, 2, 3, 4, 5, 6, 7, 8, 9, 0, 1, 2, 3, 4, 5, 6, 7, 8, 9, 0, 1, 2, 3, 4, 5, 6, 7, 8, 9, 0, 1, 2, 3, 4, 5, 6, 7, 8, 9]\n",
      "Modulo: 11: [0, 1, 2, 3, 4, 5, 6, 7, 8, 9, 10, 0, 1, 2, 3, 4, 5, 6, 7, 8, 9, 10, 0, 1, 2, 3, 4, 5, 6, 7, 8, 9, 10, 0, 1, 2, 3, 4, 5, 6, 7, 8, 9, 10, 0, 1, 2, 3, 4, 5]\n",
      "Modulo: 12: [0, 1, 2, 3, 4, 5, 6, 7, 8, 9, 10, 11, 0, 1, 2, 3, 4, 5, 6, 7, 8, 9, 10, 11, 0, 1, 2, 3, 4, 5, 6, 7, 8, 9, 10, 11, 0, 1, 2, 3, 4, 5, 6, 7, 8, 9, 10, 11, 0, 1]\n",
      "Modulo: 13: [0, 1, 2, 3, 4, 5, 6, 7, 8, 9, 10, 11, 12, 0, 1, 2, 3, 4, 5, 6, 7, 8, 9, 10, 11, 12, 0, 1, 2, 3, 4, 5, 6, 7, 8, 9, 10, 11, 12, 0, 1, 2, 3, 4, 5, 6, 7, 8, 9, 10]\n",
      "Modulo: 14: [0, 1, 2, 3, 4, 5, 6, 7, 8, 9, 10, 11, 12, 13, 0, 1, 2, 3, 4, 5, 6, 7, 8, 9, 10, 11, 12, 13, 0, 1, 2, 3, 4, 5, 6, 7, 8, 9, 10, 11, 12, 13, 0, 1, 2, 3, 4, 5, 6, 7]\n",
      "Modulo: 15: [0, 1, 2, 3, 4, 5, 6, 7, 8, 9, 10, 11, 12, 13, 14, 0, 1, 2, 3, 4, 5, 6, 7, 8, 9, 10, 11, 12, 13, 14, 0, 1, 2, 3, 4, 5, 6, 7, 8, 9, 10, 11, 12, 13, 14, 0, 1, 2, 3, 4]\n",
      "Modulo: 16: [0, 1, 2, 3, 4, 5, 6, 7, 8, 9, 10, 11, 12, 13, 14, 15, 0, 1, 2, 3, 4, 5, 6, 7, 8, 9, 10, 11, 12, 13, 14, 15, 0, 1, 2, 3, 4, 5, 6, 7, 8, 9, 10, 11, 12, 13, 14, 15, 0, 1]\n",
      "Modulo: 17: [0, 1, 2, 3, 4, 5, 6, 7, 8, 9, 10, 11, 12, 13, 14, 15, 16, 0, 1, 2, 3, 4, 5, 6, 7, 8, 9, 10, 11, 12, 13, 14, 15, 16, 0, 1, 2, 3, 4, 5, 6, 7, 8, 9, 10, 11, 12, 13, 14, 15]\n",
      "Modulo: 18: [0, 1, 2, 3, 4, 5, 6, 7, 8, 9, 10, 11, 12, 13, 14, 15, 16, 17, 0, 1, 2, 3, 4, 5, 6, 7, 8, 9, 10, 11, 12, 13, 14, 15, 16, 17, 0, 1, 2, 3, 4, 5, 6, 7, 8, 9, 10, 11, 12, 13]\n",
      "Modulo: 19: [0, 1, 2, 3, 4, 5, 6, 7, 8, 9, 10, 11, 12, 13, 14, 15, 16, 17, 18, 0, 1, 2, 3, 4, 5, 6, 7, 8, 9, 10, 11, 12, 13, 14, 15, 16, 17, 18, 0, 1, 2, 3, 4, 5, 6, 7, 8, 9, 10, 11]\n",
      "Modulo: 20: [0, 1, 2, 3, 4, 5, 6, 7, 8, 9, 10, 11, 12, 13, 14, 15, 16, 17, 18, 19, 0, 1, 2, 3, 4, 5, 6, 7, 8, 9, 10, 11, 12, 13, 14, 15, 16, 17, 18, 19, 0, 1, 2, 3, 4, 5, 6, 7, 8, 9]\n"
     ]
    }
   ],
   "source": [
    "for i in range (1,21):\n",
    "    modulo = equivalence_class_classification(i, 50)\n",
    "    print(f\"Modulo: {i}: {modulo}\")"
   ]
  },
  {
   "cell_type": "code",
   "execution_count": 20,
   "id": "5824d196-28f4-4134-9460-8b4a7f58c13a",
   "metadata": {},
   "outputs": [
    {
     "data": {
      "image/png": "[encoded data removed]",
      "text/plain": [
       "<Figure size 640x480 with 1 Axes>"
      ]
     },
     "metadata": {},
     "output_type": "display_data"
    }
   ],
   "source": [
    "plt.plot(modulo)\n",
    "plt.xlabel(\"Number\")\n",
    "plt.ylabel(\"Modulo\")\n",
    "plt.title(\"Visualization of the repetitive behavior of the modular arithmetic\")\n",
    "plt.show()"
   ]
  },
  {
   "cell_type": "markdown",
   "id": "3e219bcf-04ff-459f-bd92-5e8e933dc74d",
   "metadata": {},
   "source": [
    "Now lets see how it will look like if we take the i as an exponent and our base it a prime number:"
   ]
  },
  {
   "cell_type": "code",
   "execution_count": 21,
   "id": "eff042fd-0b73-4702-9a9b-75f4da9d1f6e",
   "metadata": {},
   "outputs": [],
   "source": [
    "list_i = []\n",
    "list_n = []\n",
    "for i in range(1, 50):\n",
    "    list_i.append(i)\n",
    "    n = 3*i%11\n",
    "    list_n.append(n)"
   ]
  },
  {
   "cell_type": "code",
   "execution_count": 22,
   "id": "8a3801b9-ddd0-4432-88f6-4ac6dcd07564",
   "metadata": {},
   "outputs": [
    {
     "data": {
      "image/png": "[encoded data removed]",
      "text/plain": [
       "<Figure size 640x480 with 1 Axes>"
      ]
     },
     "metadata": {},
     "output_type": "display_data"
    }
   ],
   "source": [
    "plt.plot(list_i,list_n)\n",
    "plt.xlabel(\"Number\")\n",
    "plt.ylabel(\"Modulo\")\n",
    "plt.title(\"Visualization of the repetitive behavior of the modular arithmetic\")\n",
    "plt.show()"
   ]
  },
  {
   "cell_type": "markdown",
   "id": "b61fcead-a6c8-4851-bd86-2c66e54f53ed",
   "metadata": {},
   "source": [
    "Interesting, we see that it is also repetitive, but the numbers are somehow randomly distributed. This is namely the base for the modular arithmetic and some cryptographic algorithms. So lets dive in and see how exactly does it work."
   ]
  },
  {
   "cell_type": "markdown",
   "id": "848b0439-9a3e-47b8-9e8d-0720078ae25c",
   "metadata": {},
   "source": [
    "## II. Modular Arithmetic"
   ]
  },
  {
   "cell_type": "markdown",
   "id": "41f3cdb9-26dd-42b3-b5fe-136dad9d45dc",
   "metadata": {},
   "source": [
    "#### 1. Properties of modular arithmetic"
   ]
  },
  {
   "cell_type": "markdown",
   "id": "2de64e66-bbe6-435b-b80f-3349415a3f1d",
   "metadata": {},
   "source": [
    "Of course, we should start with some theory and see what properties do we have in the modular arithmetic. There are a lot of different properties, but I will check only some of them which will be needed for the purpose in this project."
   ]
  },
  {
   "cell_type": "markdown",
   "id": "b04936f9-8396-403f-92c4-9dddb52cd37b",
   "metadata": {},
   "source": [
    "##### 1.1 Congruence"
   ]
  },
  {
   "cell_type": "code",
   "execution_count": 23,
   "id": "f8833dc1-b29a-42d3-87cb-4b232e56593e",
   "metadata": {},
   "outputs": [],
   "source": [
    "def is_congruent(a, b, modulo):\n",
    "    remainder_a = a%modulo\n",
    "    remainder_b = b%modulo\n",
    "    if remainder_a == remainder_b:\n",
    "        print(f\"Yes, a ({a}) and b ({b}) are congruent, because they have the same remainder ({remainder_a}) when divided by {modulo}.\")\n",
    "    else:\n",
    "        print(f\"No, a ({a}) and b ({b}) are not congruent, because they do not have the same remainder when divided by {modulo}.\")"
   ]
  },
  {
   "cell_type": "code",
   "execution_count": 24,
   "id": "d6fd73c1-130c-48ff-bafe-1b0cfba38531",
   "metadata": {},
   "outputs": [
    {
     "name": "stdout",
     "output_type": "stream",
     "text": [
      "Yes, a (4) and b (7) are congruent, because they have the same remainder (1) when divided by 3.\n",
      "No, a (4) and b (8) are not congruent, because they do not have the same remainder when divided by 3.\n",
      "Yes, a (-1) and b (-4) are congruent, because they have the same remainder (2) when divided by 3.\n",
      "No, a (-1) and b (-5) are not congruent, because they do not have the same remainder when divided by 3.\n"
     ]
    }
   ],
   "source": [
    "is_congruent(4,7,3) #positive test with positive numbers\n",
    "is_congruent(4,8,3) #negative test with positive numbers\n",
    "is_congruent(-1, -4, 3) #positive test with negative numbers\n",
    "is_congruent(-1, -5, 3) #negative test with negative numbers"
   ]
  },
  {
   "cell_type": "markdown",
   "id": "fb9fe6cb-41cb-47da-a4ca-8162fc686912",
   "metadata": {},
   "source": [
    "##### 1.2 Addition"
   ]
  },
  {
   "cell_type": "markdown",
   "id": "6bc75d02-c757-4f46-8935-db37ba386452",
   "metadata": {},
   "source": [
    "1.2.1. Addition property #1: <br>\n",
    "$$ a + b = c \\Rightarrow a ( \\,mod N) \\, + b ( \\,mod N) \\, \\equiv c ( \\,mod N) \\, \\vert a, b, c, N \\in \\mathbb{Z}$$"
   ]
  },
  {
   "cell_type": "code",
   "execution_count": 25,
   "id": "1dc3addf-eca6-42a8-8f2f-a1f80b8ab740",
   "metadata": {},
   "outputs": [],
   "source": [
    "def addition_property_1(x_min, x_max, modulo):\n",
    "    a = random_number(x_min, x_max)\n",
    "    b = random_number(x_min, x_max)\n",
    "    c = a+b\n",
    "    \n",
    "    if (a + b)%modulo == c%modulo:\n",
    "        print(f\"Yes, if a ({a}) + b ({b}) = c ({c}) then a(mod N) + b(mod N) is congruent to c(mod N).\")\n",
    "    else:\n",
    "        print(f\"No, the rule is not correct.\")"
   ]
  },
  {
   "cell_type": "code",
   "execution_count": 26,
   "id": "4edeec9f-105b-4fd5-b2d5-90e5362631d4",
   "metadata": {},
   "outputs": [
    {
     "name": "stdout",
     "output_type": "stream",
     "text": [
      "Yes, if a (575) + b (554) = c (1129) then a(mod N) + b(mod N) is congruent to c(mod N).\n"
     ]
    }
   ],
   "source": [
    "addition_property_1(0, 1000, 3)"
   ]
  },
  {
   "cell_type": "markdown",
   "id": "3e13ed00-8d7d-4b74-a08c-ee066657b600",
   "metadata": {},
   "source": [
    "1.2.2 Addition property #2: \n",
    "$$ a \\equiv b ( \\,mod N) \\, \\Rightarrow a + k \\equiv b + k ( \\,mod N) \\, \\vert a, b, k, N \\in \\mathbb{Z}$$"
   ]
  },
  {
   "cell_type": "code",
   "execution_count": 27,
   "id": "50ba86c7-5013-4c72-a541-593b3e0ac645",
   "metadata": {},
   "outputs": [],
   "source": [
    "def addition_property_2 (x_min, x_max, modulo):\n",
    "    a = 0 #setting some value for a so that I can enter the while loop and search for a random number a.\n",
    "    b = 1 #setting some value for b so that I can enter the while loop and search for a random number b.\n",
    "    k = random_number(x_min, x_max)\n",
    "    while a%modulo != b%modulo:\n",
    "        a = random_number(x_min, x_max)\n",
    "        b = random_number(x_min, x_max)\n",
    "        if a%modulo == b%modulo:\n",
    "            if (a+k)%modulo == (b+k)%modulo:\n",
    "                print(f\"Yes, if a ({a}) mod N ({modulo}) and b ({b}) mod N ({modulo}) are congruent, then a+k(mod N) is congruent to b+k(mod N).\")\n",
    "            else:\n",
    "                print(f\"The random numbers a ({a}) and b ({b}) are not congruent.\")"
   ]
  },
  {
   "cell_type": "code",
   "execution_count": 28,
   "id": "2fdb3727-b6f1-4e91-bbf8-144786bfb28d",
   "metadata": {},
   "outputs": [
    {
     "name": "stdout",
     "output_type": "stream",
     "text": [
      "Yes, if a (840) mod N (3) and b (585) mod N (3) are congruent, then a+k(mod N) is congruent to b+k(mod N).\n"
     ]
    }
   ],
   "source": [
    "addition_property_2(0, 1000, 3)"
   ]
  },
  {
   "cell_type": "markdown",
   "id": "25011e50-455c-477a-ad6c-743eb7f44d97",
   "metadata": {},
   "source": [
    "1.2.3 Addition property #3:\n",
    "$$ a \\equiv b ( \\,mod N) \\land  c \\equiv d ( \\,mod N) \\, \\Rightarrow a + c \\equiv b + d ( \\,mod N) \\, \\vert a, b, c, d, N \\in \\mathbb{Z}$$"
   ]
  },
  {
   "cell_type": "code",
   "execution_count": 29,
   "id": "1952276f-e213-4068-a672-dd0eecdfab2a",
   "metadata": {},
   "outputs": [],
   "source": [
    "def addition_property_3 (x_min, x_max, modulo):\n",
    "    a = 0 #setting some value for a so that I can enter the while loop and search for a random number a.\n",
    "    b = 1 #setting some value for b so that I can enter the while loop and search for a random number b.\n",
    "    c = 1 #setting some value for c so that I can enter the while loop and search for a random number c.\n",
    "    d = 1 #setting some value for d so that I can enter the while loop and search for a random number d.\n",
    "    i = 0\n",
    "    \n",
    "    while i == 0:\n",
    "        a = random_number(x_min, x_max)\n",
    "        b = random_number(x_min, x_max)\n",
    "        c = random_number(x_min, x_max)\n",
    "        d = random_number(x_min, x_max)\n",
    "  \n",
    "        if a%modulo == b%modulo and c%modulo == d%modulo:\n",
    "            if (a+c)%modulo == (b+d)%modulo:\n",
    "                print(f\"Yes, if a ({a}) and b ({b}) are congruent with modulo ({modulo}) and  c ({c}) and d ({d}) are congruent with modulo ({modulo}), then a + c (mod N) is congruent with b + d (mod N)\")\n",
    "                i +=1\n",
    "            else:\n",
    "                print(f\"No, addition property #3 is not proven yet.\")  \n",
    "                i+=1\n",
    "        else:\n",
    "            pass\n",
    "       "
   ]
  },
  {
   "cell_type": "code",
   "execution_count": 30,
   "id": "876065bf-5be7-4296-9194-1d80019837a2",
   "metadata": {},
   "outputs": [
    {
     "name": "stdout",
     "output_type": "stream",
     "text": [
      "Yes, if a (740) and b (176) are congruent with modulo (3) and  c (363) and d (75) are congruent with modulo (3), then a + c (mod N) is congruent with b + d (mod N)\n"
     ]
    }
   ],
   "source": [
    "addition_property_3(0, 1000, 3)"
   ]
  },
  {
   "cell_type": "markdown",
   "id": "a0777934-93d7-4123-88a5-4051c8cb000c",
   "metadata": {},
   "source": [
    "1.2.4 Addition property #4:\n",
    "$$ a \\equiv b ( \\,mod N) \\Rightarrow -a \\equiv -b ( \\,mod N) \\, \\vert a, b, N \\in \\mathbb{Z}$$"
   ]
  },
  {
   "cell_type": "code",
   "execution_count": 31,
   "id": "bbf84538-0f0b-4d78-8b8c-cd58173db138",
   "metadata": {},
   "outputs": [],
   "source": [
    "def addition_property_4 (x_min, x_max, modulo):\n",
    "    a = 0 #setting some value for a so that I can enter the while loop and search for a random number a.\n",
    "    b = 1 #setting some value for b so that I can enter the while loop and search for a random number b.\n",
    "    i = 0\n",
    "    while i == 0:\n",
    "        a = random_number(x_min, x_max)\n",
    "        b = random_number(x_min, x_max)\n",
    "        if a%modulo == b%modulo:\n",
    "            if -abs(a)%modulo == -abs(b)%modulo:\n",
    "                print(f\"Yes, if a ({a}) and b ({b}) are congruent with modulo ({modulo}), then their negative values are also congruent with this modulo.\")\n",
    "                i+=1\n",
    "            else:\n",
    "                print(f\"No, addition property #4 is not proven yet.\")\n",
    "                i+=1\n",
    "        else:\n",
    "            pass"
   ]
  },
  {
   "cell_type": "code",
   "execution_count": 32,
   "id": "988f1b68-6914-4f18-99c6-fb00b22009d2",
   "metadata": {},
   "outputs": [
    {
     "name": "stdout",
     "output_type": "stream",
     "text": [
      "Yes, if a (392) and b (686) are congruent with modulo (3), then their negative values are also congruent with this modulo.\n"
     ]
    }
   ],
   "source": [
    "addition_property_4(0, 1000, 3)"
   ]
  },
  {
   "cell_type": "markdown",
   "id": "3b8ce72c-c6d1-48a4-a548-f5d5d8596545",
   "metadata": {},
   "source": [
    "Well, the 4 addition properties in the modular arithmetic has been proven with a function with random numbers and now we can use them in the project. But before I see what usecase do they have, I would like to prove couple of more properties so that I can use them after that as well."
   ]
  },
  {
   "cell_type": "markdown",
   "id": "e20bf560-ce41-42ba-97ec-6481ab466d77",
   "metadata": {},
   "source": [
    "##### 1.3 Multiplication"
   ]
  },
  {
   "cell_type": "markdown",
   "id": "77173f4f-6546-45d1-9053-cbd92ee9e2ea",
   "metadata": {},
   "source": [
    "1.3.1 Multiplication property #1:\n",
    "$$ a \\times b = c \\Rightarrow a ( \\,mod N) \\, \\times b ( \\,mod N) \\,  \\equiv c ( \\,mod N) \\, \\vert a, b, c, N \\in \\mathbb{Z}$$"
   ]
  },
  {
   "cell_type": "code",
   "execution_count": 33,
   "id": "75d326ae-abf0-4ffa-aa8b-782013ed06fd",
   "metadata": {},
   "outputs": [],
   "source": [
    "def multiplication_property_1 (x_min, x_max, modulo):\n",
    "    a = random_number(x_min, x_max)\n",
    "    b = random_number(x_min, x_max)\n",
    "    c = a*b\n",
    "    if (a%modulo)*(b%modulo) == c%modulo:\n",
    "        print(f\"Yes, if a ({a}) * b ({b}) = c ({c}) then a(mod N) * b(mod N) is congruent to c(mod N).\")\n",
    "    else:\n",
    "        print(f\"No, the rule is not correct.\")"
   ]
  },
  {
   "cell_type": "code",
   "execution_count": 34,
   "id": "4ae62b7f-50f2-42f6-99cf-2987d70401ac",
   "metadata": {},
   "outputs": [
    {
     "name": "stdout",
     "output_type": "stream",
     "text": [
      "Yes, if a (605) * b (447) = c (270435) then a(mod N) * b(mod N) is congruent to c(mod N).\n"
     ]
    }
   ],
   "source": [
    "multiplication_property_1(0, 1000, 3)"
   ]
  },
  {
   "cell_type": "markdown",
   "id": "577ae09c-948c-4609-8a5f-dfb5e745c19c",
   "metadata": {},
   "source": [
    "1.3.2 Multiplication property #2:\n",
    "$$ a \\equiv b ( \\,mod N) \\, \\Rightarrow k \\times a \\equiv k \\times b ( \\,mod N) \\, \\vert a, b, k, N \\in \\mathbb{Z}$$"
   ]
  },
  {
   "cell_type": "code",
   "execution_count": 35,
   "id": "ea427b60-f100-46c8-b636-f5a0afcfa3dc",
   "metadata": {},
   "outputs": [],
   "source": [
    "def mutiplication_property_2 (x_min, x_max, modulo):\n",
    "    a = 0 #setting some value for a so that I can enter the while loop and search for a random number a.\n",
    "    b = 1 #setting some value for b so that I can enter the while loop and search for a random number b.\n",
    "    k = random_number(x_min, x_max)\n",
    "    while a%modulo != b%modulo:\n",
    "        a = random_number(x_min, x_max)\n",
    "        b = random_number(x_min, x_max)\n",
    "        if a%modulo == b%modulo:\n",
    "            if (a*k)%modulo == (b*k)%modulo:\n",
    "                print(f\"Yes, if a ({a}) mod N ({modulo}) and b ({b}) mod N ({modulo}) are congruent, then a*k(mod N) is congruent to b*k(mod N).\")\n",
    "            else:\n",
    "                print(f\"The random numbers a ({a}) and b ({b}) are not congruent.\")"
   ]
  },
  {
   "cell_type": "code",
   "execution_count": 36,
   "id": "75aa9104-3900-4fe4-8748-12accc76ec74",
   "metadata": {},
   "outputs": [
    {
     "name": "stdout",
     "output_type": "stream",
     "text": [
      "Yes, if a (137) mod N (3) and b (386) mod N (3) are congruent, then a*k(mod N) is congruent to b*k(mod N).\n"
     ]
    }
   ],
   "source": [
    "mutiplication_property_2(0,1000,3)"
   ]
  },
  {
   "cell_type": "markdown",
   "id": "67b68a19-a19d-4777-869c-a7a9dca6caa1",
   "metadata": {},
   "source": [
    "1.3.3 Multiplication property #3:\n",
    "$$ a \\equiv b ( \\,mod N) \\, \\land c \\equiv d ( \\,mod N) \\, \\Rightarrow a \\times c \\equiv b \\times d ( \\,mod N) \\, \\vert a, b, c, d, N \\in \\mathbb{Z}$$"
   ]
  },
  {
   "cell_type": "code",
   "execution_count": 37,
   "id": "2d9f9382-6193-4317-b16b-0f314488ed5c",
   "metadata": {},
   "outputs": [],
   "source": [
    "def multiplication_property_3 (x_min, x_max, modulo):\n",
    "    a = 0 #setting some value for a so that I can enter the while loop and search for a random number a.\n",
    "    b = 1 #setting some value for b so that I can enter the while loop and search for a random number b.\n",
    "    c = 1 #setting some value for c so that I can enter the while loop and search for a random number c.\n",
    "    d = 1 #setting some value for d so that I can enter the while loop and search for a random number d.\n",
    "    i = 0\n",
    "    \n",
    "    while i == 0:\n",
    "        a = random_number(x_min, x_max)\n",
    "        b = random_number(x_min, x_max)\n",
    "        c = random_number(x_min, x_max)\n",
    "        d = random_number(x_min, x_max)\n",
    "  \n",
    "        if a%modulo == b%modulo and c%modulo == d%modulo:\n",
    "            if (a*c)%modulo == (b*d)%modulo:\n",
    "                print(f\"Yes, if a ({a}) and b ({b}) are congruent with modulo ({modulo}) and  c ({c}) and d ({d}) are congruent with modulo ({modulo}), then a * c (mod N) is congruent with b * d (mod N)\")\n",
    "                i +=1\n",
    "            else:\n",
    "                print(f\"No, addition property #3 is not proven yet.\")  \n",
    "                i+=1\n",
    "        else:\n",
    "            pass\n",
    "       "
   ]
  },
  {
   "cell_type": "code",
   "execution_count": 38,
   "id": "c6dc40f9-90f8-4758-a7a0-1fd47ec8305b",
   "metadata": {},
   "outputs": [
    {
     "name": "stdout",
     "output_type": "stream",
     "text": [
      "Yes, if a (855) and b (306) are congruent with modulo (3) and  c (779) and d (623) are congruent with modulo (3), then a * c (mod N) is congruent with b * d (mod N)\n"
     ]
    }
   ],
   "source": [
    "multiplication_property_3(0,1000,3)"
   ]
  },
  {
   "cell_type": "markdown",
   "id": "0de76968-f9f9-464e-92e6-c8ec3f693e7b",
   "metadata": {},
   "source": [
    "##### 1.4 Exponentiation"
   ]
  },
  {
   "cell_type": "markdown",
   "id": "664a743e-8097-490f-95be-d05335eff891",
   "metadata": {},
   "source": [
    "1.4.1 Exponentiation property #1:\n",
    "$$ a \\equiv b ( \\,mod N) \\, \\Rightarrow a^k \\equiv b^k ( \\,mod N) \\, \\vert a, b, k, N \\in \\mathbb{Z}$$"
   ]
  },
  {
   "cell_type": "code",
   "execution_count": 39,
   "id": "e014719b-e835-46a8-b84d-cefc09d7ada4",
   "metadata": {},
   "outputs": [],
   "source": [
    "def exponentiation_property_1 (x_min, x_max, modulo):\n",
    "    a = 0 #setting some value for a so that I can enter the while loop and search for a random number a.\n",
    "    b = 1 #setting some value for b so that I can enter the while loop and search for a random number b.\n",
    "    k = random_number(x_min, x_max)\n",
    "    while a%modulo != b%modulo:\n",
    "        a = random_number(x_min, x_max)\n",
    "        b = random_number(x_min, x_max)\n",
    "        if a%modulo == b%modulo:\n",
    "            if (a**k)%modulo == (b**k)%modulo:\n",
    "                print(f\"Yes, if a ({a}) mod N ({modulo}) and b ({b}) mod N ({modulo}) are congruent, then a**k(mod N) is congruent to b**k(mod N).\")\n",
    "            else:\n",
    "                print(f\"The random numbers a ({a}) and b ({b}) are not congruent.\")"
   ]
  },
  {
   "cell_type": "code",
   "execution_count": 40,
   "id": "80c586ff-174d-4e5a-9d02-acecda0a9071",
   "metadata": {},
   "outputs": [
    {
     "name": "stdout",
     "output_type": "stream",
     "text": [
      "Yes, if a (640) mod N (3) and b (751) mod N (3) are congruent, then a**k(mod N) is congruent to b**k(mod N).\n"
     ]
    }
   ],
   "source": [
    "exponentiation_property_1(0,1000,3)"
   ]
  },
  {
   "cell_type": "markdown",
   "id": "01343e8f-4230-498d-8b09-5d4b3ad7c4f2",
   "metadata": {},
   "source": [
    "Ok, now we proved a lot of properties valid for the equivalence classes and the modular arithmetic, but why is that so important? What are the usecases of the equivalence classes and modular arithmetic in cryptography?"
   ]
  },
  {
   "cell_type": "markdown",
   "id": "054ee65e-7817-4487-8a84-ed43a0fa9478",
   "metadata": {},
   "source": [
    "#### 2. Usecase in cryptography"
   ]
  },
  {
   "cell_type": "markdown",
   "id": "f0034ec3-89b9-4ae4-9f14-5c4d579f95fe",
   "metadata": {},
   "source": [
    "Modular arithmetic is used in a lot of cryptographic methods. Some examples are:\n",
    "\n",
    "##### 2.1. **Caesar Cipher**:\n",
    "The encryption is based on shifting each letter in the message with an integer number k. For example if we want to use this encryption method to encrypt the message \"Softuni\" we can take a random number (lets say 3) and shift each letter in the word \"Softuni\" with 3 positions. So we get the following: S -> V, o -> r, f -> i etc and in the end we get the word \"Vriwxql\" which is the encryption of the word \"Softuni\" when each letter is shifted with 3 positions. The usage of the Caesar Cipher dates back to arount 100 BC and was used from Julius Caesar for sending secret messages to his generals. This method uses the modular arithmetic, because the lettes in each alphabet are finite and the last k letters in the message would not be replaceble. For example if we want to shift the letter \"z\" with 3 positions we go out of the alphabet, so we need to start again from the begining in order to make the cipher work.\n",
    "[This photo](https://www.google.com/url?sa=i&url=https%3A%2F%2Fwww.math.uci.edu%2F~mathcircle%2Fmaterials%2FModular_Arithmetic_and_Cryptography_Jan22_2015.pdf&psig=AOvVaw3yYytzMWH3usoVau4k2L9M&ust=1683010206076000&source=images&cd=vfe&ved=0CBEQjRxqFwoTCIjE2d7D0_4CFQAAAAAdAAAAABAF) illustrates it very well how the cipher works.\n",
    "\n",
    "<center><img src = \"Caesar_Cipher.png\" style = \"width: 400px; height: 400px\"/><center>\n"
   ]
  },
  {
   "cell_type": "markdown",
   "id": "9225d6d2-d07e-4ca8-9697-65ff53a253a8",
   "metadata": {},
   "source": [
    "##### 2.2. **RSA algorithm**:\n",
    "It is used for message encryption and operates with two different keys - one public and one private key. This algorithm uses separate keys for encryption and decryption and thus it is called assymmetric-key algorithm. The encryption can be performed by anyone, but only authorized users are allowed to perform the decryption. It is considered as a safe algorithm, although it has its limitations. \n",
    "[The first photo](https://www.google.com/url?sa=i&url=https%3A%2F%2Fwww.javatpoint.com%2Frsa-encryption-algorithm&psig=AOvVaw1dv3uIqnPOETKJ5cPb5VIT&ust=1684133897348000&source=images&cd=vfe&ved=0CBEQjRxqFwoTCPDV3eed9P4CFQAAAAAdAAAAABAi) below illustrates it very well how the cipher works at all and the [second photo](https://www.google.com/url?sa=i&url=https%3A%2F%2Fwww.javatpoint.com%2Frsa-encryption-algorithm&psig=AOvVaw1dv3uIqnPOETKJ5cPb5VIT&ust=1684133897348000&source=images&cd=vfe&ved=0CBEQjRxqFwoTCPDV3eed9P4CFQAAAAAdAAAAABAZ) illustrates the role of moular arithmetic.\n",
    "\n",
    "<center><img src = \"RSA 2.png\" ></center>\n",
    "\n",
    "- The data to be sent is encrypted by sender A using the **public key of the intended receiver**.\n",
    "\n",
    "- B **decrypts** the received ciphertext using its **private key**, which is known only to B. B replies to A **encrypting** its message using **A's public key**.\n",
    "\n",
    "- A **decrypts** the received ciphertext using its **private key**, which is known only to him.\n",
    "    \n",
    "    \n",
    "<center><img src = \"RSA.png\" ></center>"
   ]
  },
  {
   "cell_type": "markdown",
   "id": "21fb9fe4-5ddc-40d4-a027-efaaf5e0ec79",
   "metadata": {},
   "source": [
    "- Select two large prime numbers - **p** and **q**.\n",
    "$$ p, q \\in \\mathbb{P} $$\n",
    "\n",
    "- Multiply these numbers to find **n = p x q**, where **n** is called the modulus for encryption and decryption.\n",
    "\n",
    "$$ n = p \\times q $$\n",
    "\n",
    "- Choose a number **e** less than **n**, such that **n** is relatively prime to **(p - 1) x (q -1)**. It means that **e** and **(p - 1) x (q - 1)** have no common factor except 1. Choose **e** such that 1<e<φ(n), e is prime to φ (n).<br>\n",
    "\n",
    "$$\\gcd{e,d(n)} = 1 \\mid 1<e<\\varphi(n) \\land e, \\varphi(n) \\in \\mathbb{P}$$\n",
    "\n",
    "- If **n = p x q**, then the public key is **<e, n>**. A plaintext message **m** is encrypted using public key **<e, n>**. To find ciphertext from the plain text following formula is used to get ciphertext **C**. Here, **m** must be less than **n**. A larger message (>n) is treated as a concatenation of messages, each of which is encrypted separately.<br>\n",
    "\n",
    "$$C = m^e\\pmod {n} \\mid m<n$$\n",
    "\n",
    "- To determine the private key, we use the following formula to calculate the d such that:<br>\n",
    "\n",
    "$$D_e\\pmod {(p-1)\\times(q-1)} = 1 \\qquad or \\qquad D_e\\pmod {\\varphi(n)} = 1$$\n",
    "\n",
    "\n",
    "\n",
    "- The private key is **<d, n>**. A ciphertext message **c** is decrypted using private key **<d, n>**. To calculate plain text **m** from the ciphertext c following formula is used to get plain text m.<br>\n",
    "\n",
    "$$m = c^d \\pmod{n}$$"
   ]
  },
  {
   "cell_type": "markdown",
   "id": "bf1227fa-28c1-45f7-9774-5d4ebf8349b8",
   "metadata": {},
   "source": [
    "This is how it looks like in a real exaple:\n",
    "\n",
    "<center><img src = \"RSA 3.png\" ></center>\n",
    "\n",
    "Source:<br>\n",
    "https://www.javatpoint.com/rsa-encryption-algorithm<br>\n",
    "https://www.encryptionconsulting.com/diffie-hellman-key-exchange-vs-rsa/<br>"
   ]
  },
  {
   "cell_type": "markdown",
   "id": "38058578-7852-4740-9426-04bd16937332",
   "metadata": {},
   "source": [
    "##### 2.3. **Diffie-Hellman algorithm**:\n",
    "It is used for key exchange e.g establishing a shared secret key between two parties over an insecure communication channel. This algorithm uses the same keys for encryption and decryption and thus it is called symmetric-key algorithm. The encryption and decryption can be performed only by authorized people (only people who have access to the keys).\n",
    "[The first photo](https://www.google.com/url?sa=i&url=https%3A%2F%2Fen.wikipedia.org%2Fwiki%2FDiffie%25E2%2580%2593Hellman_key_exchange&psig=AOvVaw1SnVybRBDkLqLdRcNyS81E&ust=1684136627408000&source=images&cd=vfe&ved=0CBEQjRxqFwoTCJj1y_2n9P4CFQAAAAAdAAAAABAt) below illustrates it very well how the algorithm works at all and the [second photo](https://www.google.com/url?sa=i&url=https%3A%2F%2Fblog.noser.com%2Fasymmetric-cryptography-diffie-hellman-key-exchange%2F&psig=AOvVaw1SnVybRBDkLqLdRcNyS81E&ust=1684136627408000&source=images&cd=vfe&ved=0CBEQjRxqFwoTCJj1y_2n9P4CFQAAAAAdAAAAABAE) illustrates the role of moular arithmetic.\n",
    "\n",
    "<center><img src = \"DH 2.png\" width=\"500\" height=\"600\" ></center>\n",
    "\n",
    "- Bob picks two prime numbers, **g** and **p** and tells them to Alice. These numbers are public.\n",
    "$$ g, p \\in \\mathbb{P}$$\n",
    "\n",
    "- Alice then picks a secret number - **a** (private key), and then it computes **ga mod p** and sends the result ( **A** ) - back to Bob. *Keep in mind that the secret number is not sent to anyone, only the result is.*\n",
    "\n",
    "$$A = g^a \\pmod{p}$$\n",
    "\n",
    "- Then Bob does the same. He selects a secret number **b** (private key) and calculates **gb mod p** and sends the result **B** to Alice.\n",
    "\n",
    "$$B = g^b \\pmod{p}$$\n",
    "\n",
    "- Alice takes the received number **B** and calculates **Ba mod p**.\n",
    "\n",
    "$$S = B^a \\pmod{p}$$\n",
    "\n",
    "- Bob takes the received number **A** and calculates **Ab mod p**.\n",
    "\n",
    "$$S = A^b \\pmod{p}$$\n",
    "\n",
    "- Both of them get the same result **S**.\n",
    "    \n",
    "    \n",
    "<center><img src = \"DH.png\" width=\"500\" height=\"600\"></center>"
   ]
  },
  {
   "cell_type": "markdown",
   "id": "cfe200e7-b8eb-4e92-9131-3fcfd1c692f9",
   "metadata": {},
   "source": [
    "Another popular illustration way of this complex cryptography algorithm is using the color explanation:\n",
    "\n",
    "<center><img src = \"DH 3.png\" ></center>\n",
    "\n",
    "Sources:<br>\n",
    "https://blog.noser.com/asymmetric-cryptography-diffie-hellman-key-exchange/<br>\n",
    "https://en.wikipedia.org/wiki/Diffie%E2%80%93Hellman_key_exchange<br>\n",
    "https://www.educba.com/diffie-hellman-key-exchange-algorithm/<br>"
   ]
  },
  {
   "cell_type": "markdown",
   "id": "899f515e-e098-45a5-b951-919776f3e810",
   "metadata": {},
   "source": [
    "#### 3. RSA Algorithm"
   ]
  },
  {
   "cell_type": "markdown",
   "id": "1c69783d-1616-477f-bf8b-31b2460fe4d3",
   "metadata": {},
   "source": [
    "##### 3.1. **RSA Algorithm - Step by Step Recreation**"
   ]
  },
  {
   "cell_type": "code",
   "execution_count": 41,
   "id": "7f775433-d8b0-4fca-ad93-e24c53478003",
   "metadata": {},
   "outputs": [
    {
     "name": "stdin",
     "output_type": "stream",
     "text": [
      "Please enter a desired number for p: 7\n"
     ]
    },
    {
     "name": "stdout",
     "output_type": "stream",
     "text": [
      "Yes, p 7 is prime.\n"
     ]
    }
   ],
   "source": [
    "# 1.Generating the p (the first prime number):\n",
    "\n",
    "flag = False\n",
    "p = int(input(\"Please enter a desired number for p:\"))\n",
    "\n",
    "while p<=1:\n",
    "    print(\"Please check your input number for p. It is <= 1 and thus can not be prime.\")\n",
    "    p = int(input(\"Please enter a desired number for p:\"))\n",
    "    \n",
    "if p>1:\n",
    "    for i in range (2, p):\n",
    "        while flag == False:\n",
    "            if (p%i) == 0:\n",
    "                p = int(input(\"Your input for p is not a prime number. Please enter another number for p:\"))\n",
    "            else:\n",
    "                print(f\"Yes, p {p} is prime.\")\n",
    "                flag = True\n",
    "                break\n"
   ]
  },
  {
   "cell_type": "code",
   "execution_count": 42,
   "id": "d2a4145a-2a2e-4e42-b22c-2bca2842ba61",
   "metadata": {},
   "outputs": [
    {
     "name": "stdin",
     "output_type": "stream",
     "text": [
      "Please enter a desired number for q: 3\n"
     ]
    },
    {
     "name": "stdout",
     "output_type": "stream",
     "text": [
      "Yes, q 3 is prime.\n"
     ]
    }
   ],
   "source": [
    "# 2.Generating the q (the second prime number):\n",
    "\n",
    "flag = False\n",
    "q = int(input(\"Please enter a desired number for q:\"))\n",
    "\n",
    "while q<=1:\n",
    "    print(\"Please check your input number for q. It is <= 1 and thus can not be prime.\")\n",
    "    q = int(input(\"Please enter a desired number for q:\"))\n",
    "    \n",
    "if q>1:\n",
    "    for i in range (2, q):\n",
    "        while flag == False:\n",
    "            if (q%i) == 0:\n",
    "                q = int(input(\"Your input for q is not a prime number. Please enter another number for q:\"))\n",
    "            else:\n",
    "                print(f\"Yes, q {q} is prime.\")\n",
    "                flag = True\n",
    "                break"
   ]
  },
  {
   "cell_type": "code",
   "execution_count": 43,
   "id": "f171c45e-67a3-464b-853b-152f92079625",
   "metadata": {},
   "outputs": [],
   "source": [
    "def calculating_the_mod(p,q):\n",
    "    n = p*q\n",
    "    return n"
   ]
  },
  {
   "cell_type": "code",
   "execution_count": 44,
   "id": "5881b393-2b73-4b51-ad96-fd82eddba50b",
   "metadata": {},
   "outputs": [
    {
     "name": "stdout",
     "output_type": "stream",
     "text": [
      "n is 21\n"
     ]
    }
   ],
   "source": [
    "# 3.Calculating the mod (part 1 of the public key):\n",
    "\n",
    "n = calculating_the_mod(p,q)\n",
    "print(f\"n is {n}\")"
   ]
  },
  {
   "cell_type": "code",
   "execution_count": 45,
   "id": "b0077f90-c9cd-4294-af21-990e2b45ceb0",
   "metadata": {},
   "outputs": [],
   "source": [
    "# 4. Calculating the phi(n):\n",
    "\n",
    "def euler(p,q):\n",
    "    phi_n = (p-1)*(q-1)\n",
    "    return phi_n"
   ]
  },
  {
   "cell_type": "code",
   "execution_count": 46,
   "id": "7435e648-0b16-4b07-9cec-269aad1c184c",
   "metadata": {},
   "outputs": [
    {
     "name": "stdout",
     "output_type": "stream",
     "text": [
      "Phi(n) is 12\n"
     ]
    }
   ],
   "source": [
    "phi_n = euler(p,q)\n",
    "print(f\"Phi(n) is {phi_n}\")"
   ]
  },
  {
   "cell_type": "code",
   "execution_count": 47,
   "id": "d4db5d22-df61-400f-9aa5-807277361ea0",
   "metadata": {},
   "outputs": [
    {
     "name": "stdin",
     "output_type": "stream",
     "text": [
      "Please enter your desired number for e: 5\n"
     ]
    },
    {
     "name": "stdout",
     "output_type": "stream",
     "text": [
      "Perfect choise for e = 5\n"
     ]
    }
   ],
   "source": [
    "# 5. Choosing e (part 2 of the public key):\n",
    "\n",
    "flag = False\n",
    "e = int(input(\"Please enter your desired number for e:\"))\n",
    "while flag == False:\n",
    "    if e > 1 and e < phi_n and math.gcd(e, phi_n) == 1:\n",
    "        flag = True\n",
    "        print(f\"Perfect choise for e = {e}\")\n",
    "        break\n",
    "    else:\n",
    "        e = int(input(\"Your choice for e does not meet the criterias. Please enter another number for e:\"))"
   ]
  },
  {
   "cell_type": "code",
   "execution_count": 48,
   "id": "b7dd6629-f949-4d98-9fc4-2945fe229cab",
   "metadata": {},
   "outputs": [
    {
     "name": "stdout",
     "output_type": "stream",
     "text": [
      "The exponent of the private key d is 5\n"
     ]
    }
   ],
   "source": [
    "# 6. Calculating d (private key):\n",
    "\n",
    "flag = False\n",
    "d = 1\n",
    "\n",
    "while flag == False:\n",
    "    if (e*d-1)%phi_n == 0:\n",
    "        flag = True\n",
    "        print(f\"The exponent of the private key d is {d}\")\n",
    "    else:\n",
    "        d+=1"
   ]
  },
  {
   "cell_type": "code",
   "execution_count": 49,
   "id": "f8776ef8-7dcb-4c24-935b-2c49f6e7883d",
   "metadata": {},
   "outputs": [
    {
     "name": "stdout",
     "output_type": "stream",
     "text": [
      "The value for p is 7.\n",
      "The value for q is 3.\n",
      "The value for n is 21.\n",
      "The value for Phi(n) is 12.\n",
      "The value for e is 5.\n",
      "The value for d is 5.\n"
     ]
    }
   ],
   "source": [
    "# 7. Lets summarize what values do we have so far:\n",
    "\n",
    "print(f\"The value for p is {p}.\")\n",
    "print(f\"The value for q is {q}.\")\n",
    "print(f\"The value for n is {n}.\")\n",
    "print(f\"The value for Phi(n) is {phi_n}.\")\n",
    "print(f\"The value for e is {e}.\")\n",
    "print(f\"The value for d is {d}.\")"
   ]
  },
  {
   "cell_type": "code",
   "execution_count": 50,
   "id": "f3ee61f1-cc1d-49ac-9d8b-a6b47d37585b",
   "metadata": {},
   "outputs": [],
   "source": [
    "# 8. Encrypting the plaintext m into a ciphertext c:\n",
    "\n",
    "def encryption_rsa(m, e, n):\n",
    "    c = m**e%n\n",
    "    return c"
   ]
  },
  {
   "cell_type": "code",
   "execution_count": 51,
   "id": "fcd390b6-9f38-4915-b5c4-c829b6012e25",
   "metadata": {},
   "outputs": [
    {
     "name": "stdout",
     "output_type": "stream",
     "text": [
      "The message that will be encrypted is 16\n",
      "The decrypted text is: 4\n"
     ]
    }
   ],
   "source": [
    "# First I will generate a random number m to encrypt:\n",
    "m = random.randint(0, n)\n",
    "print(f\"The message that will be encrypted is {m}\")\n",
    "c = encryption_rsa(m, e, n)\n",
    "print(f\"The decrypted text is: {c}\")"
   ]
  },
  {
   "cell_type": "code",
   "execution_count": 52,
   "id": "a77b6479-2970-4fa9-94c7-33d61c74f193",
   "metadata": {},
   "outputs": [],
   "source": [
    "# 9. Decrypting the ciphertext:\n",
    "\n",
    "def decryption_rsa(c, d, n):\n",
    "    m = c**d%n\n",
    "    return m"
   ]
  },
  {
   "cell_type": "code",
   "execution_count": 53,
   "id": "b0334880-1236-492a-ade3-a908103226da",
   "metadata": {},
   "outputs": [
    {
     "name": "stdout",
     "output_type": "stream",
     "text": [
      "The original message is: 16.\n"
     ]
    }
   ],
   "source": [
    "decrypted_m = decryption_rsa (c, d, n)\n",
    "print(f\"The original message is: {decrypted_m}.\")"
   ]
  },
  {
   "cell_type": "code",
   "execution_count": 54,
   "id": "dfa9fc63-dd69-41b9-b30b-cc087b6c62ac",
   "metadata": {},
   "outputs": [
    {
     "name": "stdout",
     "output_type": "stream",
     "text": [
      "Your algorithm works correctly\n"
     ]
    }
   ],
   "source": [
    "# 10. Double check:\n",
    "\n",
    "if m == decrypted_m:\n",
    "    print(\"Your algorithm works correctly\")\n",
    "else:\n",
    "    print(\"Check your algorithm. There must be a mistake somewhere\")"
   ]
  },
  {
   "cell_type": "markdown",
   "id": "ef3ecd69-8907-44c5-8294-d1a92966c29c",
   "metadata": {},
   "source": [
    "##### 3.2 Hack the RSA Algorithm"
   ]
  },
  {
   "cell_type": "markdown",
   "id": "b2bfc9f3-cf55-48c8-acca-798f81dd2b50",
   "metadata": {},
   "source": [
    "3.2.1 **Step by step recreation (eavesdropping side):**<br>\n",
    "Ok, it was easy and strightforward to test the RSA algorithm if we have all the elements needed incl. private key, but would it be so easy if it is unknown? I would like to test it with couple of prime numbers and let's see."
   ]
  },
  {
   "cell_type": "code",
   "execution_count": 55,
   "id": "70a0dccd-cdad-4cef-9396-43434cdcf971",
   "metadata": {},
   "outputs": [],
   "source": [
    "p = 3\n",
    "q = 7\n",
    "n = calculating_the_mod(p,q)\n",
    "phi_n = euler(p,q)\n",
    "e = 5\n",
    "m = random.randint(0, n)\n",
    "c = encryption_rsa(m, e, n)"
   ]
  },
  {
   "cell_type": "markdown",
   "id": "7086bafc-8acc-46b4-ad33-cd360a2dfa8e",
   "metadata": {},
   "source": [
    "These will be our values for testing. This first test will be with small prime numbers just to be sure that everything works fine. The message m is unknown for us and we have to find it out. At the end I will print it to double check."
   ]
  },
  {
   "cell_type": "code",
   "execution_count": 56,
   "id": "e30baca6-e13b-4682-a641-2ff62c1d7053",
   "metadata": {},
   "outputs": [
    {
     "name": "stdout",
     "output_type": "stream",
     "text": [
      "The supposed possible values for the original message are: [3, 24, 45, 66, 87]\n"
     ]
    }
   ],
   "source": [
    "# 1. Let's try to guess the original message:\n",
    "\n",
    "list_m = []\n",
    "for supposed_m in range (0, 100): #keeping the range realtively small so that the troubleshooting is easier.\n",
    "    if c == supposed_m**e%n:\n",
    "        list_m.append(supposed_m)\n",
    "        \n",
    "print(f\"The supposed possible values for the original message are: {list_m}\")"
   ]
  },
  {
   "cell_type": "code",
   "execution_count": 57,
   "id": "55ef6643-5987-469e-abc3-415e9fd1c175",
   "metadata": {},
   "outputs": [
    {
     "name": "stdout",
     "output_type": "stream",
     "text": [
      "The supposed possible values for the private key exponent d are: [5, 17, 29, 41, 53, 65, 77, 89]\n"
     ]
    }
   ],
   "source": [
    "# 2. Let's try to check the possible values for the exponent d in the private key:\n",
    "\n",
    "list_d = []\n",
    "for supposed_d in range(0,100): #keeping the range realtively small so that the troubleshooting is easier.\n",
    "    if (e*supposed_d-1)%phi_n == 0:\n",
    "        list_d.append(supposed_d)\n",
    "\n",
    "print(f\"The supposed possible values for the private key exponent d are: {list_d}\")"
   ]
  },
  {
   "cell_type": "code",
   "execution_count": 58,
   "id": "430306ba-4d9c-49f6-858b-f5c3ba3aa053",
   "metadata": {},
   "outputs": [
    {
     "name": "stdout",
     "output_type": "stream",
     "text": [
      "Possible combination #1 is: m = 3 and d = 5.\n",
      "Possible combination #2 is: m = 3 and d = 17.\n",
      "Possible combination #3 is: m = 3 and d = 29.\n",
      "Possible combination #4 is: m = 3 and d = 41.\n",
      "Possible combination #5 is: m = 3 and d = 53.\n",
      "Possible combination #6 is: m = 3 and d = 65.\n",
      "Possible combination #7 is: m = 3 and d = 77.\n",
      "Possible combination #8 is: m = 3 and d = 89.\n"
     ]
    }
   ],
   "source": [
    "# 3. Now we will find out all the possible combinations of m and d that satisfy the conditions.\n",
    "\n",
    "i = 0\n",
    "for supposed_m in list_m:\n",
    "    for supposed_d in list_d:\n",
    "        if supposed_m == c**supposed_d%n:\n",
    "            i+=1\n",
    "            print(f\"Possible combination #{i} is: m = {supposed_m} and d = {supposed_d}.\")"
   ]
  },
  {
   "cell_type": "code",
   "execution_count": 59,
   "id": "0f999f69-511d-4685-9075-2a7231c5158d",
   "metadata": {},
   "outputs": [
    {
     "name": "stdout",
     "output_type": "stream",
     "text": [
      "The original message m, randomly generated, is 3\n"
     ]
    }
   ],
   "source": [
    "# 4. Now let's see what was the original message:\n",
    "print(f\"The original message m, randomly generated, is {m}\")"
   ]
  },
  {
   "cell_type": "markdown",
   "id": "fe1a8061-3c24-48d6-b502-f824a2bc254a",
   "metadata": {},
   "source": [
    "Well, we managed to find out the correct original message, but we still can not be sure which is the exponent d. We have only some guesses, but we can not be sure. This test #1 was made with the smallest prime numbers and thus it was pretty easy. Let's see how it will look like if we take some bigger prime numbers. For the purpose I would like to create a function that combines the steps so that I can test with different numbers easier:"
   ]
  },
  {
   "cell_type": "markdown",
   "id": "ba41c54e-94ef-4989-8154-2e48e6eaa85a",
   "metadata": {},
   "source": [
    "3.2.2. **Function recreation:**<br>"
   ]
  },
  {
   "cell_type": "code",
   "execution_count": 60,
   "id": "6e82a146-0828-4037-a713-9baa29e1ce01",
   "metadata": {},
   "outputs": [],
   "source": [
    "def hacking_the_rsa(p, q, e, m_range, d_range):\n",
    "\n",
    "    n = calculating_the_mod(p,q)\n",
    "    phi_n = euler(p,q)\n",
    "    m = random.randint(0, n)\n",
    "    c = encryption_rsa(m, e, n)\n",
    "# 1. Let's try to guess the original message:\n",
    "\n",
    "    list_m = []\n",
    "    for supposed_m in range (0, m_range): #I will cut the range at 100000, just not to overheat the program.\n",
    "        if c == supposed_m**e%n:\n",
    "            list_m.append(supposed_m)\n",
    "\n",
    "    print(f\"The supposed possible values for the original message are: {list_m}\")\n",
    "\n",
    "# 2. Let's try to check the possible values for the exponent d in the private key:\n",
    "\n",
    "    list_d = []\n",
    "    for supposed_d in range(0,d_range): #I will cut the range at 100000, just not to overheat the program.\n",
    "        if (e*supposed_d-1)%phi_n == 0:\n",
    "            list_d.append(supposed_d)\n",
    "\n",
    "    print(f\"The supposed possible values for the private key exponent d are: {list_d}\")\n",
    "\n",
    "# 3. Now we will find out all the possible combinations of m and d that satisfy the conditions.\n",
    "\n",
    "    i = 0\n",
    "    supposed_m_list = []\n",
    "    for supposed_m in list_m:\n",
    "        for supposed_d in list_d:\n",
    "            if supposed_m == c**supposed_d%n:\n",
    "                if supposed_m not in supposed_m_list:\n",
    "                    supposed_m_list.append(supposed_m)\n",
    "                i+=1\n",
    "                #print(f\"Possible combination #{i} is: m = {supposed_m} and d = {supposed_d}.\")\n",
    "    print(f\"The possible combinations of the supposed message m and supposed exponent d are: {i}\")\n",
    "    print(f\"The supposed message(s) m are: {supposed_m_list}\")\n",
    "            \n",
    "# 4. Now let's see what was the original message:\n",
    "    print(f\"The original message m, randomly generated, is {m}\")\n",
    "    \n",
    "# 5. Double check with the decrypting function + time function to measure the time needed for the calculation:\n",
    "    start = time.time()\n",
    "    for d in list_d:\n",
    "        m = decryption_rsa(c, d, n)\n",
    "    end = time.time()\n",
    "    print(f\"The time needed for the calculation is: {end-start}\")"
   ]
  },
  {
   "cell_type": "markdown",
   "id": "b11f1e5b-7da8-48fa-a96f-132696001b4c",
   "metadata": {},
   "source": [
    "3.2.3 **Testing**:"
   ]
  },
  {
   "cell_type": "code",
   "execution_count": 61,
   "id": "a83c6213-c871-4c24-9851-31f19a9a1332",
   "metadata": {},
   "outputs": [
    {
     "name": "stdout",
     "output_type": "stream",
     "text": [
      "The supposed possible values for the original message are: [13, 34, 55, 76, 97, 118, 139, 160, 181, 202, 223, 244, 265, 286, 307, 328, 349, 370, 391, 412, 433, 454, 475, 496, 517, 538, 559, 580, 601, 622, 643, 664, 685, 706, 727, 748, 769, 790, 811, 832, 853, 874, 895, 916, 937, 958, 979, 1000, 1021, 1042, 1063, 1084, 1105, 1126, 1147, 1168, 1189, 1210, 1231, 1252, 1273, 1294, 1315, 1336, 1357, 1378, 1399, 1420, 1441, 1462, 1483, 1504, 1525, 1546, 1567, 1588, 1609, 1630, 1651, 1672, 1693, 1714, 1735, 1756, 1777, 1798, 1819, 1840, 1861, 1882, 1903, 1924, 1945, 1966, 1987, 2008, 2029, 2050, 2071, 2092, 2113, 2134, 2155, 2176, 2197, 2218, 2239, 2260, 2281, 2302, 2323, 2344, 2365, 2386, 2407, 2428, 2449, 2470, 2491, 2512, 2533, 2554, 2575, 2596, 2617, 2638, 2659, 2680, 2701, 2722, 2743, 2764, 2785, 2806, 2827, 2848, 2869, 2890, 2911, 2932, 2953, 2974, 2995, 3016, 3037, 3058, 3079, 3100, 3121, 3142, 3163, 3184, 3205, 3226, 3247, 3268, 3289, 3310, 3331, 3352, 3373, 3394, 3415, 3436, 3457, 3478, 3499, 3520, 3541, 3562, 3583, 3604, 3625, 3646, 3667, 3688, 3709, 3730, 3751, 3772, 3793, 3814, 3835, 3856, 3877, 3898, 3919, 3940, 3961, 3982, 4003, 4024, 4045, 4066, 4087, 4108, 4129, 4150, 4171, 4192, 4213, 4234, 4255, 4276, 4297, 4318, 4339, 4360, 4381, 4402, 4423, 4444, 4465, 4486, 4507, 4528, 4549, 4570, 4591, 4612, 4633, 4654, 4675, 4696, 4717, 4738, 4759, 4780, 4801, 4822, 4843, 4864, 4885, 4906, 4927, 4948, 4969, 4990, 5011, 5032, 5053, 5074, 5095, 5116, 5137, 5158, 5179, 5200, 5221, 5242, 5263, 5284, 5305, 5326, 5347, 5368, 5389, 5410, 5431, 5452, 5473, 5494, 5515, 5536, 5557, 5578, 5599, 5620, 5641, 5662, 5683, 5704, 5725, 5746, 5767, 5788, 5809, 5830, 5851, 5872, 5893, 5914, 5935, 5956, 5977, 5998, 6019, 6040, 6061, 6082, 6103, 6124, 6145, 6166, 6187, 6208, 6229, 6250, 6271, 6292, 6313, 6334, 6355, 6376, 6397, 6418, 6439, 6460, 6481, 6502, 6523, 6544, 6565, 6586, 6607, 6628, 6649, 6670, 6691, 6712, 6733, 6754, 6775, 6796, 6817, 6838, 6859, 6880, 6901, 6922, 6943, 6964, 6985, 7006, 7027, 7048, 7069, 7090, 7111, 7132, 7153, 7174, 7195, 7216, 7237, 7258, 7279, 7300, 7321, 7342, 7363, 7384, 7405, 7426, 7447, 7468, 7489, 7510, 7531, 7552, 7573, 7594, 7615, 7636, 7657, 7678, 7699, 7720, 7741, 7762, 7783, 7804, 7825, 7846, 7867, 7888, 7909, 7930, 7951, 7972, 7993, 8014, 8035, 8056, 8077, 8098, 8119, 8140, 8161, 8182, 8203, 8224, 8245, 8266, 8287, 8308, 8329, 8350, 8371, 8392, 8413, 8434, 8455, 8476, 8497, 8518, 8539, 8560, 8581, 8602, 8623, 8644, 8665, 8686, 8707, 8728, 8749, 8770, 8791, 8812, 8833, 8854, 8875, 8896, 8917, 8938, 8959, 8980, 9001, 9022, 9043, 9064, 9085, 9106, 9127, 9148, 9169, 9190, 9211, 9232, 9253, 9274, 9295, 9316, 9337, 9358, 9379, 9400, 9421, 9442, 9463, 9484, 9505, 9526, 9547, 9568, 9589, 9610, 9631, 9652, 9673, 9694, 9715, 9736, 9757, 9778, 9799, 9820, 9841, 9862, 9883, 9904, 9925, 9946, 9967, 9988]\n",
      "The supposed possible values for the private key exponent d are: [5, 17, 29, 41, 53, 65, 77, 89, 101, 113, 125, 137, 149, 161, 173, 185, 197, 209, 221, 233, 245, 257, 269, 281, 293, 305, 317, 329, 341, 353, 365, 377, 389, 401, 413, 425, 437, 449, 461, 473, 485, 497, 509, 521, 533, 545, 557, 569, 581, 593, 605, 617, 629, 641, 653, 665, 677, 689, 701, 713, 725, 737, 749, 761, 773, 785, 797, 809, 821, 833, 845, 857, 869, 881, 893, 905, 917, 929, 941, 953, 965, 977, 989, 1001, 1013, 1025, 1037, 1049, 1061, 1073, 1085, 1097, 1109, 1121, 1133, 1145, 1157, 1169, 1181, 1193, 1205, 1217, 1229, 1241, 1253, 1265, 1277, 1289, 1301, 1313, 1325, 1337, 1349, 1361, 1373, 1385, 1397, 1409, 1421, 1433, 1445, 1457, 1469, 1481, 1493, 1505, 1517, 1529, 1541, 1553, 1565, 1577, 1589, 1601, 1613, 1625, 1637, 1649, 1661, 1673, 1685, 1697, 1709, 1721, 1733, 1745, 1757, 1769, 1781, 1793, 1805, 1817, 1829, 1841, 1853, 1865, 1877, 1889, 1901, 1913, 1925, 1937, 1949, 1961, 1973, 1985, 1997, 2009, 2021, 2033, 2045, 2057, 2069, 2081, 2093, 2105, 2117, 2129, 2141, 2153, 2165, 2177, 2189, 2201, 2213, 2225, 2237, 2249, 2261, 2273, 2285, 2297, 2309, 2321, 2333, 2345, 2357, 2369, 2381, 2393, 2405, 2417, 2429, 2441, 2453, 2465, 2477, 2489, 2501, 2513, 2525, 2537, 2549, 2561, 2573, 2585, 2597, 2609, 2621, 2633, 2645, 2657, 2669, 2681, 2693, 2705, 2717, 2729, 2741, 2753, 2765, 2777, 2789, 2801, 2813, 2825, 2837, 2849, 2861, 2873, 2885, 2897, 2909, 2921, 2933, 2945, 2957, 2969, 2981, 2993, 3005, 3017, 3029, 3041, 3053, 3065, 3077, 3089, 3101, 3113, 3125, 3137, 3149, 3161, 3173, 3185, 3197, 3209, 3221, 3233, 3245, 3257, 3269, 3281, 3293, 3305, 3317, 3329, 3341, 3353, 3365, 3377, 3389, 3401, 3413, 3425, 3437, 3449, 3461, 3473, 3485, 3497, 3509, 3521, 3533, 3545, 3557, 3569, 3581, 3593, 3605, 3617, 3629, 3641, 3653, 3665, 3677, 3689, 3701, 3713, 3725, 3737, 3749, 3761, 3773, 3785, 3797, 3809, 3821, 3833, 3845, 3857, 3869, 3881, 3893, 3905, 3917, 3929, 3941, 3953, 3965, 3977, 3989, 4001, 4013, 4025, 4037, 4049, 4061, 4073, 4085, 4097, 4109, 4121, 4133, 4145, 4157, 4169, 4181, 4193, 4205, 4217, 4229, 4241, 4253, 4265, 4277, 4289, 4301, 4313, 4325, 4337, 4349, 4361, 4373, 4385, 4397, 4409, 4421, 4433, 4445, 4457, 4469, 4481, 4493, 4505, 4517, 4529, 4541, 4553, 4565, 4577, 4589, 4601, 4613, 4625, 4637, 4649, 4661, 4673, 4685, 4697, 4709, 4721, 4733, 4745, 4757, 4769, 4781, 4793, 4805, 4817, 4829, 4841, 4853, 4865, 4877, 4889, 4901, 4913, 4925, 4937, 4949, 4961, 4973, 4985, 4997, 5009, 5021, 5033, 5045, 5057, 5069, 5081, 5093, 5105, 5117, 5129, 5141, 5153, 5165, 5177, 5189, 5201, 5213, 5225, 5237, 5249, 5261, 5273, 5285, 5297, 5309, 5321, 5333, 5345, 5357, 5369, 5381, 5393, 5405, 5417, 5429, 5441, 5453, 5465, 5477, 5489, 5501, 5513, 5525, 5537, 5549, 5561, 5573, 5585, 5597, 5609, 5621, 5633, 5645, 5657, 5669, 5681, 5693, 5705, 5717, 5729, 5741, 5753, 5765, 5777, 5789, 5801, 5813, 5825, 5837, 5849, 5861, 5873, 5885, 5897, 5909, 5921, 5933, 5945, 5957, 5969, 5981, 5993, 6005, 6017, 6029, 6041, 6053, 6065, 6077, 6089, 6101, 6113, 6125, 6137, 6149, 6161, 6173, 6185, 6197, 6209, 6221, 6233, 6245, 6257, 6269, 6281, 6293, 6305, 6317, 6329, 6341, 6353, 6365, 6377, 6389, 6401, 6413, 6425, 6437, 6449, 6461, 6473, 6485, 6497, 6509, 6521, 6533, 6545, 6557, 6569, 6581, 6593, 6605, 6617, 6629, 6641, 6653, 6665, 6677, 6689, 6701, 6713, 6725, 6737, 6749, 6761, 6773, 6785, 6797, 6809, 6821, 6833, 6845, 6857, 6869, 6881, 6893, 6905, 6917, 6929, 6941, 6953, 6965, 6977, 6989, 7001, 7013, 7025, 7037, 7049, 7061, 7073, 7085, 7097, 7109, 7121, 7133, 7145, 7157, 7169, 7181, 7193, 7205, 7217, 7229, 7241, 7253, 7265, 7277, 7289, 7301, 7313, 7325, 7337, 7349, 7361, 7373, 7385, 7397, 7409, 7421, 7433, 7445, 7457, 7469, 7481, 7493, 7505, 7517, 7529, 7541, 7553, 7565, 7577, 7589, 7601, 7613, 7625, 7637, 7649, 7661, 7673, 7685, 7697, 7709, 7721, 7733, 7745, 7757, 7769, 7781, 7793, 7805, 7817, 7829, 7841, 7853, 7865, 7877, 7889, 7901, 7913, 7925, 7937, 7949, 7961, 7973, 7985, 7997, 8009, 8021, 8033, 8045, 8057, 8069, 8081, 8093, 8105, 8117, 8129, 8141, 8153, 8165, 8177, 8189, 8201, 8213, 8225, 8237, 8249, 8261, 8273, 8285, 8297, 8309, 8321, 8333, 8345, 8357, 8369, 8381, 8393, 8405, 8417, 8429, 8441, 8453, 8465, 8477, 8489, 8501, 8513, 8525, 8537, 8549, 8561, 8573, 8585, 8597, 8609, 8621, 8633, 8645, 8657, 8669, 8681, 8693, 8705, 8717, 8729, 8741, 8753, 8765, 8777, 8789, 8801, 8813, 8825, 8837, 8849, 8861, 8873, 8885, 8897, 8909, 8921, 8933, 8945, 8957, 8969, 8981, 8993, 9005, 9017, 9029, 9041, 9053, 9065, 9077, 9089, 9101, 9113, 9125, 9137, 9149, 9161, 9173, 9185, 9197, 9209, 9221, 9233, 9245, 9257, 9269, 9281, 9293, 9305, 9317, 9329, 9341, 9353, 9365, 9377, 9389, 9401, 9413, 9425, 9437, 9449, 9461, 9473, 9485, 9497, 9509, 9521, 9533, 9545, 9557, 9569, 9581, 9593, 9605, 9617, 9629, 9641, 9653, 9665, 9677, 9689, 9701, 9713, 9725, 9737, 9749, 9761, 9773, 9785, 9797, 9809, 9821, 9833, 9845, 9857, 9869, 9881, 9893, 9905, 9917, 9929, 9941, 9953, 9965, 9977, 9989]\n"
     ]
    },
    {
     "ename": "KeyboardInterrupt",
     "evalue": "",
     "output_type": "error",
     "traceback": [
      "\u001b[1;31m---------------------------------------------------------------------------\u001b[0m",
      "\u001b[1;31mKeyboardInterrupt\u001b[0m                         Traceback (most recent call last)",
      "\u001b[1;32m~\\AppData\\Local\\Temp\\ipykernel_13652\\2419830097.py\u001b[0m in \u001b[0;36m<module>\u001b[1;34m\u001b[0m\n\u001b[1;32m----> 1\u001b[1;33m \u001b[0mhacking_the_rsa\u001b[0m\u001b[1;33m(\u001b[0m\u001b[1;36m3\u001b[0m\u001b[1;33m,\u001b[0m \u001b[1;36m7\u001b[0m\u001b[1;33m,\u001b[0m \u001b[1;36m5\u001b[0m\u001b[1;33m,\u001b[0m \u001b[1;36m10000\u001b[0m\u001b[1;33m,\u001b[0m \u001b[1;36m10000\u001b[0m\u001b[1;33m)\u001b[0m\u001b[1;33m\u001b[0m\u001b[1;33m\u001b[0m\u001b[0m\n\u001b[0m",
      "\u001b[1;32m~\\AppData\\Local\\Temp\\ipykernel_13652\\748567455.py\u001b[0m in \u001b[0;36mhacking_the_rsa\u001b[1;34m(p, q, e, m_range, d_range)\u001b[0m\n\u001b[0;32m     29\u001b[0m     \u001b[1;32mfor\u001b[0m \u001b[0msupposed_m\u001b[0m \u001b[1;32min\u001b[0m \u001b[0mlist_m\u001b[0m\u001b[1;33m:\u001b[0m\u001b[1;33m\u001b[0m\u001b[1;33m\u001b[0m\u001b[0m\n\u001b[0;32m     30\u001b[0m         \u001b[1;32mfor\u001b[0m \u001b[0msupposed_d\u001b[0m \u001b[1;32min\u001b[0m \u001b[0mlist_d\u001b[0m\u001b[1;33m:\u001b[0m\u001b[1;33m\u001b[0m\u001b[1;33m\u001b[0m\u001b[0m\n\u001b[1;32m---> 31\u001b[1;33m             \u001b[1;32mif\u001b[0m \u001b[0msupposed_m\u001b[0m \u001b[1;33m==\u001b[0m \u001b[0mc\u001b[0m\u001b[1;33m**\u001b[0m\u001b[0msupposed_d\u001b[0m\u001b[1;33m%\u001b[0m\u001b[0mn\u001b[0m\u001b[1;33m:\u001b[0m\u001b[1;33m\u001b[0m\u001b[1;33m\u001b[0m\u001b[0m\n\u001b[0m\u001b[0;32m     32\u001b[0m                 \u001b[1;32mif\u001b[0m \u001b[0msupposed_m\u001b[0m \u001b[1;32mnot\u001b[0m \u001b[1;32min\u001b[0m \u001b[0msupposed_m_list\u001b[0m\u001b[1;33m:\u001b[0m\u001b[1;33m\u001b[0m\u001b[1;33m\u001b[0m\u001b[0m\n\u001b[0;32m     33\u001b[0m                     \u001b[0msupposed_m_list\u001b[0m\u001b[1;33m.\u001b[0m\u001b[0mappend\u001b[0m\u001b[1;33m(\u001b[0m\u001b[0msupposed_m\u001b[0m\u001b[1;33m)\u001b[0m\u001b[1;33m\u001b[0m\u001b[1;33m\u001b[0m\u001b[0m\n",
      "\u001b[1;31mKeyboardInterrupt\u001b[0m: "
     ]
    }
   ],
   "source": [
    "hacking_the_rsa(3, 7, 5, 10000, 10000)"
   ]
  },
  {
   "cell_type": "markdown",
   "id": "6b3a4762-0f7b-4a0e-bdbc-b158d8dcc307",
   "metadata": {},
   "source": [
    "Seems interesting, there are a lot of possible scenarios for d even if we get the m correct. Thus, we can never be sure that we got the correct d so that we can decipher messages in the future. Furthermore, we have a limit of 10000 and in the real life there is no limit which means that the possible combinations would be much much more. "
   ]
  },
  {
   "cell_type": "code",
   "execution_count": 62,
   "id": "be4d9bb5-a61c-4545-b414-b97104414192",
   "metadata": {},
   "outputs": [
    {
     "name": "stdout",
     "output_type": "stream",
     "text": [
      "The supposed possible values for the original message are: [337, 1794, 3251, 4708, 6165, 7622, 9079]\n",
      "The supposed possible values for the private key exponent d are: [373, 1753, 3133, 4513, 5893, 7273, 8653]\n",
      "The possible combinations of the supposed message m and supposed exponent d are: 7\n",
      "The supposed message(s) m are: [337]\n",
      "The original message m, randomly generated, is 337\n",
      "The time needed for the calculation is: 0.007082939147949219\n"
     ]
    }
   ],
   "source": [
    "hacking_the_rsa(31, 47, 37, 10000, 10000)"
   ]
  },
  {
   "cell_type": "code",
   "execution_count": 63,
   "id": "93bafc54-c619-406d-a0c9-16406a65a4dd",
   "metadata": {},
   "outputs": [
    {
     "name": "stdout",
     "output_type": "stream",
     "text": [
      "The supposed possible values for the original message are: []\n",
      "The supposed possible values for the private key exponent d are: []\n",
      "The possible combinations of the supposed message m and supposed exponent d are: 0\n",
      "The supposed message(s) m are: []\n",
      "The original message m, randomly generated, is 96203\n",
      "The time needed for the calculation is: 0.0\n"
     ]
    }
   ],
   "source": [
    "hacking_the_rsa(409, 661, 547, 10000, 10000)"
   ]
  },
  {
   "cell_type": "markdown",
   "id": "e0a69f03-e75d-4f9a-ac87-7390aa9e7eb1",
   "metadata": {},
   "source": [
    "Interesting, the calculation with the smallest prime numbers took most time, because there are a lot of possible combinations and although the calculation are much simplier, it could not compensate the time. Now I will modify mu initial function so that we get back just the time measured. I am sure that it works correctly and I want just to check the time for multiple limit values."
   ]
  },
  {
   "cell_type": "markdown",
   "id": "88653ecd-d1a1-43be-b3a2-3a206e3088b4",
   "metadata": {},
   "source": [
    "3.2.4 **Function optimization**"
   ]
  },
  {
   "cell_type": "code",
   "execution_count": 64,
   "id": "676ed248-c9a2-42c4-9b6e-5540b8aa943e",
   "metadata": {},
   "outputs": [],
   "source": [
    "def hacking_the_rsa(p, q, e, m_range, d_range):\n",
    "    start = time.time()\n",
    "    n = calculating_the_mod(p,q)\n",
    "    phi_n = euler(p,q)\n",
    "    m = random.randint(0, n)\n",
    "    c = encryption_rsa(m, e, n)\n",
    "# 1. Let's try to guess the original message:\n",
    "\n",
    "    list_m = []\n",
    "    for supposed_m in range (0, m_range): #I will cut the range at 100000, just not to overheat the program.\n",
    "        if c == supposed_m**e%n:\n",
    "            list_m.append(supposed_m)\n",
    "\n",
    "    #print(f\"The supposed possible values for the original message are: {list_m}\")\n",
    "\n",
    "# 2. Let's try to check the possible values for the exponent d in the private key:\n",
    "\n",
    "    list_d = []\n",
    "    for supposed_d in range(0,d_range): #I will cut the range at 100000, just not to overheat the program.\n",
    "        if (e*supposed_d-1)%phi_n == 0:\n",
    "            list_d.append(supposed_d)\n",
    "\n",
    "    #print(f\"The supposed possible values for the private key exponent d are: {list_d}\")\n",
    "\n",
    "# 3. Now we will find out all the possible combinations of m and d that satisfy the conditions.\n",
    "\n",
    "    i = 0\n",
    "    supposed_m_list = []\n",
    "    for supposed_m in list_m:\n",
    "        for supposed_d in list_d:\n",
    "            if supposed_m == c**supposed_d%n:\n",
    "                if supposed_m not in supposed_m_list:\n",
    "                    supposed_m_list.append(supposed_m)\n",
    "                i+=1\n",
    "                #print(f\"Possible combination #{i} is: m = {supposed_m} and d = {supposed_d}.\")\n",
    "    #print(f\"The possible combinations of the supposed message m and supposed exponent d are: {i}\")\n",
    "    #print(f\"The supposed message(s) m are: {supposed_m_list}\")\n",
    "            \n",
    "# 4. Now let's see what was the original message:\n",
    "    #print(f\"The original message m, randomly generated, is {m}\")\n",
    "    \n",
    "# 5. Double check with the decrypting function + time function to measure the time needed for the calculation:\n",
    "    for d in list_d:\n",
    "        m = decryption_rsa(c, d, n)\n",
    "    end = time.time()\n",
    "    time_measured = end-start\n",
    "    return time_measured"
   ]
  },
  {
   "cell_type": "markdown",
   "id": "6c2d301d-4186-4978-b225-95ab2a0017ca",
   "metadata": {},
   "source": [
    "3.2.5 **Testing 2.0 and Result Visualization**"
   ]
  },
  {
   "cell_type": "code",
   "execution_count": 65,
   "id": "2c0b8300-51de-4f16-9b45-3eb7808902c7",
   "metadata": {},
   "outputs": [],
   "source": [
    "m_range_list = [1000, 5000, 10000, 50000]\n",
    "d_range_list = [1000, 5000, 10000, 50000]"
   ]
  },
  {
   "cell_type": "code",
   "execution_count": 66,
   "id": "7c53afb7-5e19-4d3b-b2f6-8be7e7b224a5",
   "metadata": {},
   "outputs": [
    {
     "name": "stdout",
     "output_type": "stream",
     "text": [
      "The time needed for the calculation is at m and d = 1000: 0.01596856117248535 seconds\n",
      "The time needed for the calculation is at m and d = 5000: 2.884822368621826 seconds\n",
      "The time needed for the calculation is at m and d = 10000: 33.314093828201294 seconds\n",
      "The time needed for the calculation is at m and d = 50000: 7758.822840690613 seconds\n"
     ]
    }
   ],
   "source": [
    "time_1_digit_numbers = []\n",
    "for m in m_range_list:\n",
    "    time_measured = hacking_the_rsa(3, 7, 5, m, d_range=m)\n",
    "    time_1_digit_numbers.append(time_measured)\n",
    "    print(f\"The time needed for the calculation is at m and d = {m}: {time_measured} seconds\")"
   ]
  },
  {
   "cell_type": "code",
   "execution_count": 67,
   "id": "d3a8bec7-1941-448d-8236-f88d85adab75",
   "metadata": {},
   "outputs": [
    {
     "name": "stdout",
     "output_type": "stream",
     "text": [
      "The time needed for the calculation is at m and d = 1000: 0.001707315444946289 seconds\n",
      "The time needed for the calculation is at m and d = 5000: 0.00873565673828125 seconds\n",
      "The time needed for the calculation is at m and d = 10000: 0.028849363327026367 seconds\n",
      "The time needed for the calculation is at m and d = 50000: 10.608489274978638 seconds\n"
     ]
    }
   ],
   "source": [
    "time_2_digit_numbers = []\n",
    "\n",
    "for m in m_range_list:\n",
    "    time_measured = hacking_the_rsa(31, 47, 37, m, d_range=m)\n",
    "    time_2_digit_numbers.append(time_measured)\n",
    "    print(f\"The time needed for the calculation is at m and d = {m}: {time_measured} seconds\")"
   ]
  },
  {
   "cell_type": "code",
   "execution_count": 68,
   "id": "a58ada02-89af-437f-bb12-0c92838b4365",
   "metadata": {},
   "outputs": [
    {
     "name": "stdout",
     "output_type": "stream",
     "text": [
      "The time needed for the calculation is at m and d = 1000: 0.0020058155059814453 seconds\n",
      "The time needed for the calculation is at m and d = 5000: 0.012778997421264648 seconds\n",
      "The time needed for the calculation is at m and d = 10000: 0.028587818145751953 seconds\n",
      "The time needed for the calculation is at m and d = 50000: 0.399369478225708 seconds\n"
     ]
    }
   ],
   "source": [
    "time_3_digit_numbers = []\n",
    "for m in m_range_list:\n",
    "    time_measured = hacking_the_rsa(149, 157, 173, m, d_range=m)\n",
    "    time_3_digit_numbers.append(time_measured)\n",
    "    print(f\"The time needed for the calculation is at m and d = {m}: {time_measured} seconds\")"
   ]
  },
  {
   "cell_type": "code",
   "execution_count": 69,
   "id": "3145168a-1fd2-4dc9-8e05-797c2a4be2ae",
   "metadata": {},
   "outputs": [
    {
     "data": {
      "image/png": "[encoded data removed]",
      "text/plain": [
       "<Figure size 640x480 with 1 Axes>"
      ]
     },
     "metadata": {},
     "output_type": "display_data"
    }
   ],
   "source": [
    "plt.plot(d_range_list, time_1_digit_numbers, label = \"1_digit_numbers\")\n",
    "plt.plot(d_range_list, time_2_digit_numbers, label = \"2_digit_numbers\")\n",
    "plt.plot(d_range_list, time_3_digit_numbers, label = \"3_digit_numbers\")\n",
    "plt.xlabel(\"Range for the exponent in the private key (d)\")\n",
    "plt.ylabel(\"Time cost for the calculation\")\n",
    "plt.title(\"Time cost for hacking the RSA algorithm\")\n",
    "plt.legend()\n",
    "plt.show()"
   ]
  },
  {
   "cell_type": "markdown",
   "id": "14c8fe49-f6a6-469e-ac3d-f2ba3f49f04c",
   "metadata": {},
   "source": [
    "Well, pretty interesting result. We can see that the calculation take much more time with 1-digit prime numbers in comparison with 2- and 3-digit-numbers. How can this be possible? Well using the brute force attack we need to calculate each possible number for d and as the 1-digit prime number for p, q and e generate much more possible combinations, it is then much harder to calculate each possible outcome. But the calculation itself is much easier. If we use much bigger numbers for d the calculation will be very complicated, because d is an exponent. Thus, it will make more sense. Furthermore we can see that the 3-digit prime numbers can not find any appropriate d in the first three scenarios (1000, 5000, 10000) and they can make any calculation as soon as I set the range for d = 50000. They will get much stronger if I use d range e.g billions or even bigger numbers. However, my computer does not have enough capacity to make such calculation so that I can show it, but thats namely why the RSA algorithm is so secure.<br>\n",
    "I would like to set m (our original message) to be 100000 (bigger than in the first test) and for d I will leave the same values as in the first test. Let's see what will happen."
   ]
  },
  {
   "cell_type": "code",
   "execution_count": 70,
   "id": "6a5fe823-901e-426e-9c2e-76d9ed198dbf",
   "metadata": {},
   "outputs": [
    {
     "name": "stdout",
     "output_type": "stream",
     "text": [
      "The time needed for the calculation is at m = 100000 and d = 1000: 1.1137821674346924 seconds\n",
      "The time needed for the calculation is at m = 100000 and d = 5000: 51.154290199279785 seconds\n",
      "The time needed for the calculation is at m = 100000 and d = 10000: 451.34048652648926 seconds\n",
      "The time needed for the calculation is at m = 100000 and d = 50000: 28182.902260303497 seconds\n"
     ]
    }
   ],
   "source": [
    "time_1_digit_numbers_2 = []\n",
    "\n",
    "for d in d_range_list:\n",
    "    time_measured = hacking_the_rsa(3, 7, 5, m_range=100000, d_range = d)\n",
    "    time_1_digit_numbers_2.append(time_measured)\n",
    "    print(f\"The time needed for the calculation is at m = 100000 and d = {d}: {time_measured} seconds\")"
   ]
  },
  {
   "cell_type": "code",
   "execution_count": 71,
   "id": "d36730be-4757-4b56-96df-ed35ac78ab40",
   "metadata": {},
   "outputs": [
    {
     "name": "stdout",
     "output_type": "stream",
     "text": [
      "The time needed for the calculation is at m = 100000 and d = 1000: 0.10937690734863281 seconds\n",
      "The time needed for the calculation is at m = 100000 and d = 5000: 0.18924260139465332 seconds\n",
      "The time needed for the calculation is at m = 100000 and d = 10000: 0.34053802490234375 seconds\n",
      "The time needed for the calculation is at m = 100000 and d = 50000: 10.4884774684906 seconds\n"
     ]
    }
   ],
   "source": [
    "time_2_digit_numbers_2 = []\n",
    "\n",
    "for d in d_range_list:\n",
    "    time_measured = hacking_the_rsa(31, 47, 37, m_range=100000, d_range = d)\n",
    "    time_2_digit_numbers_2.append(time_measured)\n",
    "    print(f\"The time needed for the calculation is at m = 100000 and d = {d}: {time_measured} seconds\")"
   ]
  },
  {
   "cell_type": "code",
   "execution_count": 72,
   "id": "9bee3bf5-7e94-4357-aa18-8ef3c84cedba",
   "metadata": {},
   "outputs": [
    {
     "name": "stdout",
     "output_type": "stream",
     "text": [
      "The time needed for the calculation is at m = 100000 and d = 1000: 0.5446512699127197 seconds\n",
      "The time needed for the calculation is at m = 100000 and d = 5000: 0.5362720489501953 seconds\n",
      "The time needed for the calculation is at m = 100000 and d = 10000: 0.5557258129119873 seconds\n",
      "The time needed for the calculation is at m = 100000 and d = 50000: 0.7116708755493164 seconds\n"
     ]
    }
   ],
   "source": [
    "time_3_digit_numbers_2 = []\n",
    "\n",
    "for d in d_range_list:\n",
    "    time_measured = hacking_the_rsa(149, 157, 173, m_range=100000, d_range = d)\n",
    "    time_3_digit_numbers_2.append(time_measured)\n",
    "    print(f\"The time needed for the calculation is at m = 100000 and d = {d}: {time_measured} seconds\")"
   ]
  },
  {
   "cell_type": "code",
   "execution_count": 73,
   "id": "932e30d7-7f72-408a-b9a1-5f945d6ae870",
   "metadata": {},
   "outputs": [
    {
     "data": {
      "image/png": "[encoded data removed]",
      "text/plain": [
       "<Figure size 640x480 with 1 Axes>"
      ]
     },
     "metadata": {},
     "output_type": "display_data"
    }
   ],
   "source": [
    "plt.plot(d_range_list, time_1_digit_numbers_2, label = \"1_digit_numbers\")\n",
    "plt.plot(d_range_list, time_2_digit_numbers_2, label = \"2_digit_numbers\")\n",
    "plt.plot(d_range_list, time_3_digit_numbers_2, label = \"3_digit_numbers\")\n",
    "plt.xlabel(\"Range for the exponent in the private key (d)\")\n",
    "plt.ylabel(\"Time cost for the calculation\")\n",
    "plt.title(\"Time cost for hacking the RSA algorithm\")\n",
    "plt.legend()\n",
    "plt.show()"
   ]
  },
  {
   "cell_type": "markdown",
   "id": "08f60caa-0fb1-4ac7-aba1-593c9572b166",
   "metadata": {},
   "source": [
    "Well, this did not change that much, but we can make another interesting observation. The first time when a calculation is made successfully with the higher prime numbers, the calculation takes much more time than the first time when the time gets calculated with the smallest prime numbers."
   ]
  },
  {
   "cell_type": "markdown",
   "id": "d2102e38-1645-497e-9d51-0b0f18bcc15c",
   "metadata": {},
   "source": [
    "#### 4. Diffie Hellman Method"
   ]
  },
  {
   "cell_type": "markdown",
   "id": "9b77baf3-1110-4c1b-9003-acc3b4387d7b",
   "metadata": {},
   "source": [
    "##### 4.1. **Diffie Hellman Method - Step by Step Recreation**"
   ]
  },
  {
   "cell_type": "markdown",
   "id": "ec1ecbbe-526c-4406-aa6f-d512b42dc416",
   "metadata": {},
   "source": [
    "We already know how Diffie Hellman Method works. First I would like to make a step-by-step recreation of the model. The same thing I did for the RSA algorithm. Thus I will check  that my recreation works correctly and then I will make functions so that I can test then with multiple input values."
   ]
  },
  {
   "cell_type": "code",
   "execution_count": 75,
   "id": "22ecac05-f9a2-4d9c-9daa-68dae2a37386",
   "metadata": {},
   "outputs": [
    {
     "name": "stdin",
     "output_type": "stream",
     "text": [
      "Please enter a desired number for p: 4\n",
      "Your input for p is not a prime number. Please enter another number for p: 8\n",
      "Your input for p is not a prime number. Please enter another number for p: 7\n"
     ]
    },
    {
     "name": "stdout",
     "output_type": "stream",
     "text": [
      "Yes, p 7 is prime.\n"
     ]
    }
   ],
   "source": [
    "# 1. Generating the public base:\n",
    "\n",
    "flag = False\n",
    "p = int(input(\"Please enter a desired number for p:\"))\n",
    "\n",
    "while p<=1:\n",
    "    print(\"Please check your input number for p. It is <= 1 and thus can not be prime.\")\n",
    "    p = int(input(\"Please enter a desired number for p:\"))\n",
    "    \n",
    "if p>1:\n",
    "    for i in range (2, p):\n",
    "        while flag == False:\n",
    "            if (p%i) == 0:\n",
    "                p = int(input(\"Your input for p is not a prime number. Please enter another number for p:\"))\n",
    "            else:\n",
    "                print(f\"Yes, p {p} is prime.\")\n",
    "                flag = True\n",
    "                break"
   ]
  },
  {
   "cell_type": "code",
   "execution_count": 76,
   "id": "80251204-aed1-4a13-9acd-399354354cd3",
   "metadata": {},
   "outputs": [
    {
     "name": "stdin",
     "output_type": "stream",
     "text": [
      "Please enter a desired number for g: 4\n",
      "Your input for g is not a prime number. Please enter another number for g: 8\n",
      "Your input for g is not a prime number. Please enter another number for g: 3\n"
     ]
    },
    {
     "name": "stdout",
     "output_type": "stream",
     "text": [
      "Yes, g 3 is prime and <p.\n"
     ]
    }
   ],
   "source": [
    "# 2. Generating the public modulus:\n",
    "\n",
    "flag = False\n",
    "g = int(input(\"Please enter a desired number for g:\"))\n",
    "\n",
    "while g<=1 or g>=p:\n",
    "    print(\"Please check your input number for g. It is <= 1 or >p and thus does not meet the criteria.\")\n",
    "    g = int(input(\"Please enter a desired number for g:\"))\n",
    "    \n",
    "if g>1:\n",
    "    for i in range (2, g):\n",
    "        while flag == False:\n",
    "            if (g%i) == 0:\n",
    "                g = int(input(\"Your input for g is not a prime number. Please enter another number for g:\"))\n",
    "            else:\n",
    "                print(f\"Yes, g {g} is prime and <p.\")\n",
    "                flag = True\n",
    "                break\n"
   ]
  },
  {
   "cell_type": "code",
   "execution_count": 77,
   "id": "7eb6c6a9-5ff6-4ef9-976a-17b23b1382b3",
   "metadata": {},
   "outputs": [
    {
     "name": "stdin",
     "output_type": "stream",
     "text": [
      "Enter the private key of user A:  6\n",
      "Enter the private key of user B:  8\n"
     ]
    },
    {
     "name": "stdout",
     "output_type": "stream",
     "text": [
      "Private key of both the users should be less than 7 and more than 0!\n"
     ]
    },
    {
     "name": "stdin",
     "output_type": "stream",
     "text": [
      "Enter the private key of user A:  5\n",
      "Enter the private key of user B:  4\n"
     ]
    },
    {
     "name": "stdout",
     "output_type": "stream",
     "text": [
      "The chosen private keys for user A 5 and user B 4 meet the criterias.\n"
     ]
    }
   ],
   "source": [
    "# 3. Generating the private keys:\n",
    "flag = False\n",
    "a_private = int(input(\"Enter the private key of user A: \"))\n",
    "b_private = int(input(\"Enter the private key of user B: \"))\n",
    "while flag == False:\n",
    "    if a_private >= p or b_private >= p or a_private <= 0 or b_private <= 0:\n",
    "        print(f\"Private key of both the users should be less than {p} and more than 0!\")\n",
    "        a_private = int(input(\"Enter the private key of user A: \"))\n",
    "        b_private = int(input(\"Enter the private key of user B: \"))\n",
    "    else:\n",
    "        flag =  True\n",
    "        print(f\"The chosen private keys for user A {a_private} and user B {b_private} meet the criterias.\")\n",
    "        break"
   ]
  },
  {
   "cell_type": "code",
   "execution_count": 78,
   "id": "c55aef24-c0b6-4608-b77b-940637867b0c",
   "metadata": {},
   "outputs": [
    {
     "name": "stdout",
     "output_type": "stream",
     "text": [
      "The public key of user A which he gives to B is: 5\n",
      "The public key of user B which he gives to A is: 4\n"
     ]
    }
   ],
   "source": [
    "# 4. Calculating the public keys:\n",
    "\n",
    "a_public, b_public = g**a_private%p, g**b_private%p\n",
    "print(f\"The public key of user A which he gives to B is: {a_public}\")\n",
    "print(f\"The public key of user B which he gives to A is: {b_public}\")"
   ]
  },
  {
   "cell_type": "code",
   "execution_count": 79,
   "id": "f0f46503-1dc6-41b7-aad8-a5f1ffb268f2",
   "metadata": {},
   "outputs": [
    {
     "name": "stdout",
     "output_type": "stream",
     "text": [
      "The secret key for user 1 is: 2\n",
      "The secret key for user 2 is: 2\n"
     ]
    }
   ],
   "source": [
    "# 5. Generating the secrete keys:\n",
    "\n",
    "a_secret, b_secret = b_public**a_private%p, a_public**b_private%p\n",
    "\n",
    "print(f\"The secret key for user 1 is: {a_secret}\")\n",
    "print(f\"The secret key for user 2 is: {b_secret}\")"
   ]
  },
  {
   "cell_type": "code",
   "execution_count": 80,
   "id": "22276cd8-f931-473d-b19e-4a8133cb77f8",
   "metadata": {},
   "outputs": [
    {
     "name": "stdout",
     "output_type": "stream",
     "text": [
      "Keys have been exchanged successfully\n"
     ]
    }
   ],
   "source": [
    "# 6. Double check:\n",
    "\n",
    "if a_secret == b_secret:\n",
    "    print(\"Keys have been exchanged successfully\")\n",
    "else:\n",
    "    print(\"Keys have not been exchanged successfully\")"
   ]
  },
  {
   "cell_type": "markdown",
   "id": "8d171a13-b5cf-4f27-8a7e-19b3aa9696f9",
   "metadata": {},
   "source": [
    "Well, our model seems to work. "
   ]
  },
  {
   "cell_type": "markdown",
   "id": "3d9ac0aa-6a78-4466-b9df-01ae178b70c0",
   "metadata": {},
   "source": [
    "##### 4.2 Hack the Diffie Hellman Method"
   ]
  },
  {
   "cell_type": "markdown",
   "id": "57c790c1-9966-416b-9b78-3f24a59368c8",
   "metadata": {},
   "source": [
    "4.2.1 **Step by step recreation - eavesdropping side:**<br>\n",
    "\n",
    "I will first prepare the model (eavesdropping side) with step-by-step recreation. "
   ]
  },
  {
   "cell_type": "code",
   "execution_count": 81,
   "id": "3f149661-bb25-4bd6-9446-4b4e2d1568ae",
   "metadata": {},
   "outputs": [],
   "source": [
    "# 1. Choosing p and g, which are public:\n",
    "\n",
    "p = 57\n",
    "g = 13"
   ]
  },
  {
   "cell_type": "code",
   "execution_count": 82,
   "id": "055ac312-d1e6-4e39-be12-043d2b13a0cd",
   "metadata": {},
   "outputs": [],
   "source": [
    "# 2. Choosing the private keys of both user A and user B, which will be unknown for the eavesdropping side.\n",
    "\n",
    "a_private = 29\n",
    "b_private = 27"
   ]
  },
  {
   "cell_type": "code",
   "execution_count": 83,
   "id": "7858a2d5-e245-4ff4-a558-290a63300e9e",
   "metadata": {},
   "outputs": [
    {
     "name": "stdout",
     "output_type": "stream",
     "text": [
      "The public key of user A which he gives to B is: 40\n",
      "The public key of user B which he gives to A is: 37\n"
     ]
    }
   ],
   "source": [
    "# 3. Calculating the public keys:\n",
    "\n",
    "a_public, b_public = g**a_private%p, g**b_private%p\n",
    "print(f\"The public key of user A which he gives to B is: {a_public}\")\n",
    "print(f\"The public key of user B which he gives to A is: {b_public}\")"
   ]
  },
  {
   "cell_type": "code",
   "execution_count": 84,
   "id": "7447968c-b1e3-4939-8f0c-6ee04554b8cd",
   "metadata": {},
   "outputs": [
    {
     "name": "stdout",
     "output_type": "stream",
     "text": [
      "The private key combination might be: user A = 9, user B = 1\n",
      "The private key combination might be: user A = 9, user B = 3\n",
      "The private key combination might be: user A = 9, user B = 5\n",
      "The private key combination might be: user A = 9, user B = 7\n",
      "The private key combination might be: user A = 9, user B = 9\n",
      "The private key combination might be: user A = 9, user B = 11\n",
      "The private key combination might be: user A = 9, user B = 13\n",
      "The private key combination might be: user A = 9, user B = 15\n",
      "The private key combination might be: user A = 9, user B = 17\n",
      "The private key combination might be: user A = 9, user B = 19\n",
      "The private key combination might be: user A = 9, user B = 21\n",
      "The private key combination might be: user A = 9, user B = 23\n",
      "The private key combination might be: user A = 9, user B = 25\n",
      "The private key combination might be: user A = 9, user B = 27\n",
      "The private key combination might be: user A = 9, user B = 29\n",
      "The private key combination might be: user A = 9, user B = 31\n",
      "The private key combination might be: user A = 9, user B = 33\n",
      "The private key combination might be: user A = 9, user B = 35\n",
      "The private key combination might be: user A = 9, user B = 37\n",
      "The private key combination might be: user A = 9, user B = 39\n",
      "The private key combination might be: user A = 9, user B = 41\n",
      "The private key combination might be: user A = 9, user B = 43\n",
      "The private key combination might be: user A = 9, user B = 45\n",
      "The private key combination might be: user A = 9, user B = 47\n",
      "The private key combination might be: user A = 9, user B = 49\n",
      "The private key combination might be: user A = 9, user B = 51\n",
      "The private key combination might be: user A = 9, user B = 53\n",
      "The private key combination might be: user A = 9, user B = 55\n",
      "The private key combination might be: user A = 18, user B = 2\n",
      "The private key combination might be: user A = 18, user B = 4\n",
      "The private key combination might be: user A = 18, user B = 6\n",
      "The private key combination might be: user A = 18, user B = 8\n",
      "The private key combination might be: user A = 18, user B = 10\n",
      "The private key combination might be: user A = 18, user B = 12\n",
      "The private key combination might be: user A = 18, user B = 14\n",
      "The private key combination might be: user A = 18, user B = 16\n",
      "The private key combination might be: user A = 18, user B = 18\n",
      "The private key combination might be: user A = 18, user B = 20\n",
      "The private key combination might be: user A = 18, user B = 22\n",
      "The private key combination might be: user A = 18, user B = 24\n",
      "The private key combination might be: user A = 18, user B = 26\n",
      "The private key combination might be: user A = 18, user B = 28\n",
      "The private key combination might be: user A = 18, user B = 30\n",
      "The private key combination might be: user A = 18, user B = 32\n",
      "The private key combination might be: user A = 18, user B = 34\n",
      "The private key combination might be: user A = 18, user B = 36\n",
      "The private key combination might be: user A = 18, user B = 38\n",
      "The private key combination might be: user A = 18, user B = 40\n",
      "The private key combination might be: user A = 18, user B = 42\n",
      "The private key combination might be: user A = 18, user B = 44\n",
      "The private key combination might be: user A = 18, user B = 46\n",
      "The private key combination might be: user A = 18, user B = 48\n",
      "The private key combination might be: user A = 18, user B = 50\n",
      "The private key combination might be: user A = 18, user B = 52\n",
      "The private key combination might be: user A = 18, user B = 54\n",
      "The private key combination might be: user A = 18, user B = 56\n",
      "The private key combination might be: user A = 27, user B = 1\n",
      "The private key combination might be: user A = 27, user B = 3\n",
      "The private key combination might be: user A = 27, user B = 5\n",
      "The private key combination might be: user A = 27, user B = 7\n",
      "The private key combination might be: user A = 27, user B = 9\n",
      "The private key combination might be: user A = 27, user B = 11\n",
      "The private key combination might be: user A = 27, user B = 13\n",
      "The private key combination might be: user A = 27, user B = 15\n",
      "The private key combination might be: user A = 27, user B = 17\n",
      "The private key combination might be: user A = 27, user B = 19\n",
      "The private key combination might be: user A = 27, user B = 21\n",
      "The private key combination might be: user A = 27, user B = 23\n",
      "The private key combination might be: user A = 27, user B = 25\n",
      "The private key combination might be: user A = 27, user B = 27\n",
      "The private key combination might be: user A = 27, user B = 29\n",
      "The private key combination might be: user A = 27, user B = 31\n",
      "The private key combination might be: user A = 27, user B = 33\n",
      "The private key combination might be: user A = 27, user B = 35\n",
      "The private key combination might be: user A = 27, user B = 37\n",
      "The private key combination might be: user A = 27, user B = 39\n",
      "The private key combination might be: user A = 27, user B = 41\n",
      "The private key combination might be: user A = 27, user B = 43\n",
      "The private key combination might be: user A = 27, user B = 45\n",
      "The private key combination might be: user A = 27, user B = 47\n",
      "The private key combination might be: user A = 27, user B = 49\n",
      "The private key combination might be: user A = 27, user B = 51\n",
      "The private key combination might be: user A = 27, user B = 53\n",
      "The private key combination might be: user A = 27, user B = 55\n",
      "The private key combination might be: user A = 36, user B = 2\n",
      "The private key combination might be: user A = 36, user B = 4\n",
      "The private key combination might be: user A = 36, user B = 6\n",
      "The private key combination might be: user A = 36, user B = 8\n",
      "The private key combination might be: user A = 36, user B = 10\n",
      "The private key combination might be: user A = 36, user B = 12\n",
      "The private key combination might be: user A = 36, user B = 14\n",
      "The private key combination might be: user A = 36, user B = 16\n",
      "The private key combination might be: user A = 36, user B = 18\n",
      "The private key combination might be: user A = 36, user B = 20\n",
      "The private key combination might be: user A = 36, user B = 22\n",
      "The private key combination might be: user A = 36, user B = 24\n",
      "The private key combination might be: user A = 36, user B = 26\n",
      "The private key combination might be: user A = 36, user B = 28\n",
      "The private key combination might be: user A = 36, user B = 30\n",
      "The private key combination might be: user A = 36, user B = 32\n",
      "The private key combination might be: user A = 36, user B = 34\n",
      "The private key combination might be: user A = 36, user B = 36\n",
      "The private key combination might be: user A = 36, user B = 38\n",
      "The private key combination might be: user A = 36, user B = 40\n",
      "The private key combination might be: user A = 36, user B = 42\n",
      "The private key combination might be: user A = 36, user B = 44\n",
      "The private key combination might be: user A = 36, user B = 46\n",
      "The private key combination might be: user A = 36, user B = 48\n",
      "The private key combination might be: user A = 36, user B = 50\n",
      "The private key combination might be: user A = 36, user B = 52\n",
      "The private key combination might be: user A = 36, user B = 54\n",
      "The private key combination might be: user A = 36, user B = 56\n",
      "The private key combination might be: user A = 45, user B = 1\n",
      "The private key combination might be: user A = 45, user B = 3\n",
      "The private key combination might be: user A = 45, user B = 5\n",
      "The private key combination might be: user A = 45, user B = 7\n",
      "The private key combination might be: user A = 45, user B = 9\n",
      "The private key combination might be: user A = 45, user B = 11\n",
      "The private key combination might be: user A = 45, user B = 13\n",
      "The private key combination might be: user A = 45, user B = 15\n",
      "The private key combination might be: user A = 45, user B = 17\n",
      "The private key combination might be: user A = 45, user B = 19\n",
      "The private key combination might be: user A = 45, user B = 21\n",
      "The private key combination might be: user A = 45, user B = 23\n",
      "The private key combination might be: user A = 45, user B = 25\n",
      "The private key combination might be: user A = 45, user B = 27\n",
      "The private key combination might be: user A = 45, user B = 29\n",
      "The private key combination might be: user A = 45, user B = 31\n",
      "The private key combination might be: user A = 45, user B = 33\n",
      "The private key combination might be: user A = 45, user B = 35\n",
      "The private key combination might be: user A = 45, user B = 37\n",
      "The private key combination might be: user A = 45, user B = 39\n",
      "The private key combination might be: user A = 45, user B = 41\n",
      "The private key combination might be: user A = 45, user B = 43\n",
      "The private key combination might be: user A = 45, user B = 45\n",
      "The private key combination might be: user A = 45, user B = 47\n",
      "The private key combination might be: user A = 45, user B = 49\n",
      "The private key combination might be: user A = 45, user B = 51\n",
      "The private key combination might be: user A = 45, user B = 53\n",
      "The private key combination might be: user A = 45, user B = 55\n",
      "The private key combination might be: user A = 54, user B = 2\n",
      "The private key combination might be: user A = 54, user B = 4\n",
      "The private key combination might be: user A = 54, user B = 6\n",
      "The private key combination might be: user A = 54, user B = 8\n",
      "The private key combination might be: user A = 54, user B = 10\n",
      "The private key combination might be: user A = 54, user B = 12\n",
      "The private key combination might be: user A = 54, user B = 14\n",
      "The private key combination might be: user A = 54, user B = 16\n",
      "The private key combination might be: user A = 54, user B = 18\n",
      "The private key combination might be: user A = 54, user B = 20\n",
      "The private key combination might be: user A = 54, user B = 22\n",
      "The private key combination might be: user A = 54, user B = 24\n",
      "The private key combination might be: user A = 54, user B = 26\n",
      "The private key combination might be: user A = 54, user B = 28\n",
      "The private key combination might be: user A = 54, user B = 30\n",
      "The private key combination might be: user A = 54, user B = 32\n",
      "The private key combination might be: user A = 54, user B = 34\n",
      "The private key combination might be: user A = 54, user B = 36\n",
      "The private key combination might be: user A = 54, user B = 38\n",
      "The private key combination might be: user A = 54, user B = 40\n",
      "The private key combination might be: user A = 54, user B = 42\n",
      "The private key combination might be: user A = 54, user B = 44\n",
      "The private key combination might be: user A = 54, user B = 46\n",
      "The private key combination might be: user A = 54, user B = 48\n",
      "The private key combination might be: user A = 54, user B = 50\n",
      "The private key combination might be: user A = 54, user B = 52\n",
      "The private key combination might be: user A = 54, user B = 54\n",
      "The private key combination might be: user A = 54, user B = 56\n"
     ]
    }
   ],
   "source": [
    "# 4. The Brute Force attack:\n",
    "\n",
    "private_keys_A = []\n",
    "private_keys_B = []\n",
    "for a_private in range (1,p):\n",
    "    for b_private in range (1,p):\n",
    "        if a_public**a_private%p == b_public**b_private%p:\n",
    "            print(f\"The private key combination might be: user A = {a_private}, user B = {b_private}\")\n",
    "            private_keys_A.append(a_private)\n",
    "            private_keys_B.append(b_private)"
   ]
  },
  {
   "cell_type": "markdown",
   "id": "75bee1d7-0430-4008-a8e8-2d82a32b1475",
   "metadata": {},
   "source": [
    "Ook, so we now have many possible scenarios for private keys of user A and user B that meet our criteria. However, the eavesdropping side knows also the public keys, so lets see whether he will be able to calculate."
   ]
  },
  {
   "cell_type": "code",
   "execution_count": 85,
   "id": "77934e25-5e05-4f01-b45c-11ebc84be6e0",
   "metadata": {},
   "outputs": [
    {
     "name": "stdout",
     "output_type": "stream",
     "text": [
      "The private key of user A is one of: [11, 29, 47]\n"
     ]
    }
   ],
   "source": [
    "# 5. Reducing the list with possible values for the private key of user A:\n",
    "\n",
    "private_key_A_reduced = []\n",
    "for a_private in private_keys_B:\n",
    "    if a_public == g**a_private%p:\n",
    "        if a_private not in private_key_A_reduced:\n",
    "            private_key_A_reduced.append(a_private)\n",
    "\n",
    "print(f\"The private key of user A is one of: {private_key_A_reduced}\")"
   ]
  },
  {
   "cell_type": "code",
   "execution_count": 86,
   "id": "1a68b90d-87ae-4fdf-be3a-f42e549fa357",
   "metadata": {},
   "outputs": [
    {
     "name": "stdout",
     "output_type": "stream",
     "text": [
      "The private key of user A is one of: [9, 27, 45]\n"
     ]
    }
   ],
   "source": [
    "# 6. Reducing the list with possible values for the private key of user B:\n",
    "\n",
    "private_key_B_reduced = []\n",
    "for b_private in private_keys_A:\n",
    "    if b_public == g**b_private%p:\n",
    "         if b_private not in private_key_B_reduced:\n",
    "            private_key_B_reduced.append(b_private)\n",
    "\n",
    "        \n",
    "print(f\"The private key of user A is one of: {private_key_B_reduced}\")"
   ]
  },
  {
   "cell_type": "markdown",
   "id": "2b39040c-4a9d-413a-afb7-fd68a31e6c2e",
   "metadata": {},
   "source": [
    "Well, we have three possible vaues for each private key and thus we can not be sure which one is the correct private key of user A and user B. In this situation we can try to guess the secret key calculating the possible outcome with all the values:"
   ]
  },
  {
   "cell_type": "code",
   "execution_count": 87,
   "id": "07130f5c-aa79-4b4f-96cd-96bccc14520f",
   "metadata": {},
   "outputs": [
    {
     "name": "stdout",
     "output_type": "stream",
     "text": [
      "The secret key for user 1 is: 37\n",
      "The secret key for user 1 is: 37\n",
      "The secret key for user 1 is: 37\n",
      "The secret key for user 2 is: 37\n",
      "The secret key for user 2 is: 37\n",
      "The secret key for user 2 is: 37\n"
     ]
    }
   ],
   "source": [
    "# 7. Double check for the secret key of both user (must be the same):\n",
    "\n",
    "for a_private in private_key_A_reduced:\n",
    "    a_secret = b_public**a_private%p\n",
    "    print(f\"The secret key for user 1 is: {a_secret}\")\n",
    "    \n",
    "for b_private in private_key_B_reduced:\n",
    "    b_secret = a_public**b_private%p\n",
    "    print(f\"The secret key for user 2 is: {b_secret}\")"
   ]
  },
  {
   "cell_type": "markdown",
   "id": "e5cf073c-3ce7-407e-94f3-dcbefc15b9fd",
   "metadata": {},
   "source": [
    "Nice, we managed to guess the secret value even if we were not sure about the private keys. However, this should not be so easy if we use more complex prime numbers. That is exactly what I want to test, but first I will create a function of the whole process."
   ]
  },
  {
   "cell_type": "markdown",
   "id": "b1cc812a-fbef-46ca-85cb-cd10c15fbcd8",
   "metadata": {},
   "source": [
    "4.2.2. **Function recreation:**"
   ]
  },
  {
   "cell_type": "code",
   "execution_count": 88,
   "id": "03b31018-83c3-42a6-95f1-14f34e6298d7",
   "metadata": {},
   "outputs": [],
   "source": [
    "# 1. Generating the public base:\n",
    "def generating_p(p):\n",
    "    flag = False\n",
    "    while p<=1:\n",
    "        print(\"Please check your input number for p. It is <= 1 and thus can not be prime.\")\n",
    "        p = int(input(\"Please enter a desired number for p:\"))\n",
    "\n",
    "    if p>1:\n",
    "        for i in range (2, p):\n",
    "            while flag == False:\n",
    "                if (p%i) == 0:\n",
    "                    p = int(input(\"Your input for p is not a prime number. Please enter another number for p:\"))\n",
    "                else:\n",
    "                    print(f\"Yes, p {p} is prime.\")\n",
    "                    flag = True\n",
    "                    break\n",
    "    \n",
    "# 2. Generating the public modulus:\n",
    "def generating_g(g):\n",
    "    flag = False\n",
    "\n",
    "    while g<=1 or g>=p:\n",
    "        print(\"Please check your input number for g. It is <= 1 or >p and thus does not meet the criteria.\")\n",
    "        g = int(input(\"Please enter a desired number for g:\"))\n",
    "\n",
    "    if g>1:\n",
    "        for i in range (2, g):\n",
    "            while flag == False:\n",
    "                if (g%i) == 0:\n",
    "                    g = int(input(\"Your input for g is not a prime number. Please enter another number for g:\"))\n",
    "                else:\n",
    "                    print(f\"Yes, g {g} is prime and <p.\")\n",
    "                    flag = True\n",
    "                    break\n",
    "\n",
    "# 3. Generating the private keys:\n",
    "def generating_private_keys(a_private, b_private):\n",
    "    flag = False\n",
    "    while flag == False:\n",
    "        if a_private >= p or b_private >= p or a_private <= 0 or b_private <= 0:\n",
    "            print(f\"Private key of both the users should be less than {p} and more than 0!\")\n",
    "            a_private = int(input(\"Enter the private key of user A: \"))\n",
    "            b_private = int(input(\"Enter the private key of user B: \"))\n",
    "        else:\n",
    "            flag =  True\n",
    "            print(f\"The chosen private keys for user A {a_private} and user B {b_private} meet the criterias.\")\n",
    "            break\n",
    "\n",
    "# 4. Calculating the public keys:\n",
    "def calculating_public_keys(p, g, a_private, b_private):\n",
    "    a_public, b_public = g**a_private%p, g**b_private%p\n",
    "    print(f\"The public key of user A which he gives to B is: {a_public}\")\n",
    "    print(f\"The public key of user B which he gives to A is: {b_public}\")\n",
    "\n",
    "\n",
    "# 5. The Brute Force attack:\n",
    "def brute_force_attack(p, a_public, b_public):\n",
    "    private_keys_A = []\n",
    "    private_keys_B = []\n",
    "    for a_private in range (1,p):\n",
    "        for b_private in range (1,p):\n",
    "            if a_public**a_private%p == b_public**b_private%p:\n",
    "                print(f\"The private key combination might be: user A = {a_private}, user B = {b_private}\")\n",
    "                private_keys_A.append(a_private)\n",
    "                private_keys_B.append(b_private)\n",
    "\n",
    "# 6. Reducing the list with possible values for the private key of user A:\n",
    "def calculating_possible_private_keys_A(p, g, a_public, private_keys_B):\n",
    "    private_key_A_reduced = []\n",
    "    for a_private in private_keys_B:\n",
    "        if a_public == g**a_private%p:\n",
    "            if a_private not in private_key_A_reduced:\n",
    "                private_key_A_reduced.append(a_private)\n",
    "\n",
    "    print(f\"The private key of user A is one of: {private_key_A_reduced}\")\n",
    "\n",
    "# 7. Reducing the list with possible values for the private key of user B:\n",
    "def calculating_possible_private_keys_B(p, g, b_public, private_keys_A):\n",
    "    private_key_B_reduced = []\n",
    "    for b_private in private_keys_A:\n",
    "        if b_public == g**b_private%p:\n",
    "             if b_private not in private_key_B_reduced:\n",
    "                private_key_B_reduced.append(b_private)\n",
    "\n",
    "\n",
    "    print(f\"The private key of user A is one of: {private_key_B_reduced}\")"
   ]
  },
  {
   "cell_type": "markdown",
   "id": "84af3d23-8499-4410-831c-f8564f4c9fc1",
   "metadata": {},
   "source": [
    "And now I will combine the functions in one function:"
   ]
  },
  {
   "cell_type": "code",
   "execution_count": 89,
   "id": "e94a87a2-c4b8-4b2f-a019-c7770375f41d",
   "metadata": {},
   "outputs": [],
   "source": [
    "# 1. Generating the public base:\n",
    "def hacking_the_df(p, g, a_private, b_private):\n",
    "    flag = False\n",
    "    while p<=1:\n",
    "        print(\"Please check your input number for p. It is <= 1 and thus can not be prime.\")\n",
    "        p = int(input(\"Please enter a desired number for p:\"))\n",
    "\n",
    "    if p>1:\n",
    "        for i in range (2, p):\n",
    "            while flag == False:\n",
    "                if (p%i) == 0:\n",
    "                    p = int(input(\"Your input for p is not a prime number. Please enter another number for p:\"))\n",
    "                else:\n",
    "                    print(f\"Yes, p {p} is prime.\")\n",
    "                    flag = True\n",
    "                    break\n",
    "    \n",
    "# 2. Generating the public modulus:\n",
    "    \n",
    "    flag = False\n",
    "    while g<=1 or g>=p:\n",
    "        print(\"Please check your input number for g. It is <= 1 and thus can not be prime.\")\n",
    "        g = int(input(\"Please enter a desired number for g:\"))\n",
    "\n",
    "    if g>1:\n",
    "        for i in range (2, g):\n",
    "            while flag == False:\n",
    "                if (g%i) == 0:\n",
    "                    g = int(input(\"Your input for g is not a prime number. Please enter another number for g:\"))\n",
    "                else:\n",
    "                    print(f\"Yes, g {g} is prime and <p.\")\n",
    "                    flag = True\n",
    "                    break\n",
    "\n",
    "# 3. Generating the private keys:\n",
    "    flag = False\n",
    "    while flag == False:\n",
    "        if a_private >= p or b_private >= p or a_private <= 0 or b_private <= 0:\n",
    "            print(f\"Private key of both the users should be less than {p} and more than 0!\")\n",
    "            a_private = int(input(\"Enter the private key of user A: \"))\n",
    "            b_private = int(input(\"Enter the private key of user B: \"))\n",
    "        else:\n",
    "            flag =  True\n",
    "            print(f\"The chosen private keys for user A {a_private} and user B {b_private} meet the criterias.\")\n",
    "            break\n",
    "\n",
    "# 4. Calculating the public keys:\n",
    "    a_public, b_public = g**a_private%p, g**b_private%p\n",
    "    print(f\"The public key of user A which he gives to B is: {a_public}\")\n",
    "    print(f\"The public key of user B which he gives to A is: {b_public}\")\n",
    "\n",
    "\n",
    "# 5. The Brute Force attack:\n",
    "    private_keys_A = []\n",
    "    private_keys_B = []\n",
    "    for a_private in range (1,p):\n",
    "        for b_private in range (1,p):\n",
    "            if a_public**a_private%p == b_public**b_private%p:\n",
    "                print(f\"The private key combination might be: user A = {a_private}, user B = {b_private}\")\n",
    "                private_keys_A.append(a_private)\n",
    "                private_keys_B.append(b_private)\n",
    "\n",
    "# 6. Reducing the list with possible values for the private key of user A:\n",
    "    private_key_A_reduced = []\n",
    "    for a_private in private_keys_B:\n",
    "        if a_public == g**a_private%p:\n",
    "            if a_private not in private_key_A_reduced:\n",
    "                private_key_A_reduced.append(a_private)\n",
    "\n",
    "    print(f\"The private key of user A is one of: {private_key_A_reduced}\")\n",
    "\n",
    "# 7. Reducing the list with possible values for the private key of user B:\n",
    "    private_key_B_reduced = []\n",
    "    for b_private in private_keys_A:\n",
    "        if b_public == g**b_private%p:\n",
    "             if b_private not in private_key_B_reduced:\n",
    "                private_key_B_reduced.append(b_private)\n",
    "\n",
    "\n",
    "    print(f\"The private key of user A is one of: {private_key_B_reduced}\")"
   ]
  },
  {
   "cell_type": "code",
   "execution_count": 90,
   "id": "2b8e89bb-727f-41d2-9fd5-f32d47a16bf5",
   "metadata": {},
   "outputs": [
    {
     "name": "stdout",
     "output_type": "stream",
     "text": [
      "Yes, p 23 is prime.\n",
      "Yes, g 5 is prime and <p.\n",
      "The chosen private keys for user A 6 and user B 15 meet the criterias.\n",
      "The public key of user A which he gives to B is: 8\n",
      "The public key of user B which he gives to A is: 19\n",
      "The private key combination might be: user A = 1, user B = 18\n",
      "The private key combination might be: user A = 2, user B = 14\n",
      "The private key combination might be: user A = 3, user B = 10\n",
      "The private key combination might be: user A = 4, user B = 6\n",
      "The private key combination might be: user A = 5, user B = 2\n",
      "The private key combination might be: user A = 6, user B = 20\n",
      "The private key combination might be: user A = 7, user B = 16\n",
      "The private key combination might be: user A = 8, user B = 12\n",
      "The private key combination might be: user A = 9, user B = 8\n",
      "The private key combination might be: user A = 10, user B = 4\n",
      "The private key combination might be: user A = 11, user B = 22\n",
      "The private key combination might be: user A = 12, user B = 18\n",
      "The private key combination might be: user A = 13, user B = 14\n",
      "The private key combination might be: user A = 14, user B = 10\n",
      "The private key combination might be: user A = 15, user B = 6\n",
      "The private key combination might be: user A = 16, user B = 2\n",
      "The private key combination might be: user A = 17, user B = 20\n",
      "The private key combination might be: user A = 18, user B = 16\n",
      "The private key combination might be: user A = 19, user B = 12\n",
      "The private key combination might be: user A = 20, user B = 8\n",
      "The private key combination might be: user A = 21, user B = 4\n",
      "The private key combination might be: user A = 22, user B = 22\n",
      "The private key of user A is one of: [6]\n",
      "The private key of user A is one of: [15]\n"
     ]
    }
   ],
   "source": [
    "hacking_the_df(23, 5, 6, 15)"
   ]
  },
  {
   "cell_type": "markdown",
   "id": "c7d3bae5-e6db-4011-b8fd-433e6bdf2c23",
   "metadata": {},
   "source": [
    "Well, veeery nica, our hacking algorithm works perfectly. I tested it with input values from the Wikipedia example.<br>\n",
    "Source: https://en.wikipedia.org/wiki/Diffie%E2%80%93Hellman_key_exchange<br>\n",
    "\n",
    "However, we can see that we managed to hack it and guess exactly the private keys. This can happen, if we use too small numbers for base and modulus. Thats why I would like to test with some more complex numbers."
   ]
  },
  {
   "cell_type": "markdown",
   "id": "639139ba-9d03-4b25-942b-f3c88ace1800",
   "metadata": {},
   "source": [
    "4.2.3 **Testing**"
   ]
  },
  {
   "cell_type": "code",
   "execution_count": 91,
   "id": "31ccba46-40cc-435a-a7b9-3b261bcbbf7e",
   "metadata": {},
   "outputs": [
    {
     "name": "stdout",
     "output_type": "stream",
     "text": [
      "Yes, p 107 is prime.\n",
      "Yes, g 89 is prime and <p.\n",
      "The chosen private keys for user A 54 and user B 29 meet the criterias.\n",
      "The public key of user A which he gives to B is: 89\n",
      "The public key of user B which he gives to A is: 42\n",
      "The private key combination might be: user A = 1, user B = 11\n",
      "The private key combination might be: user A = 1, user B = 64\n",
      "The private key combination might be: user A = 2, user B = 22\n",
      "The private key combination might be: user A = 2, user B = 75\n",
      "The private key combination might be: user A = 3, user B = 33\n",
      "The private key combination might be: user A = 3, user B = 86\n",
      "The private key combination might be: user A = 4, user B = 44\n",
      "The private key combination might be: user A = 4, user B = 97\n",
      "The private key combination might be: user A = 5, user B = 2\n",
      "The private key combination might be: user A = 5, user B = 55\n",
      "The private key combination might be: user A = 6, user B = 13\n",
      "The private key combination might be: user A = 6, user B = 66\n",
      "The private key combination might be: user A = 7, user B = 24\n",
      "The private key combination might be: user A = 7, user B = 77\n",
      "The private key combination might be: user A = 8, user B = 35\n",
      "The private key combination might be: user A = 8, user B = 88\n",
      "The private key combination might be: user A = 9, user B = 46\n",
      "The private key combination might be: user A = 9, user B = 99\n",
      "The private key combination might be: user A = 10, user B = 4\n",
      "The private key combination might be: user A = 10, user B = 57\n",
      "The private key combination might be: user A = 11, user B = 15\n",
      "The private key combination might be: user A = 11, user B = 68\n",
      "The private key combination might be: user A = 12, user B = 26\n",
      "The private key combination might be: user A = 12, user B = 79\n",
      "The private key combination might be: user A = 13, user B = 37\n",
      "The private key combination might be: user A = 13, user B = 90\n",
      "The private key combination might be: user A = 14, user B = 48\n",
      "The private key combination might be: user A = 14, user B = 101\n",
      "The private key combination might be: user A = 15, user B = 6\n",
      "The private key combination might be: user A = 15, user B = 59\n",
      "The private key combination might be: user A = 16, user B = 17\n",
      "The private key combination might be: user A = 16, user B = 70\n",
      "The private key combination might be: user A = 17, user B = 28\n",
      "The private key combination might be: user A = 17, user B = 81\n",
      "The private key combination might be: user A = 18, user B = 39\n",
      "The private key combination might be: user A = 18, user B = 92\n",
      "The private key combination might be: user A = 19, user B = 50\n",
      "The private key combination might be: user A = 19, user B = 103\n",
      "The private key combination might be: user A = 20, user B = 8\n",
      "The private key combination might be: user A = 20, user B = 61\n",
      "The private key combination might be: user A = 21, user B = 19\n",
      "The private key combination might be: user A = 21, user B = 72\n",
      "The private key combination might be: user A = 22, user B = 30\n",
      "The private key combination might be: user A = 22, user B = 83\n",
      "The private key combination might be: user A = 23, user B = 41\n",
      "The private key combination might be: user A = 23, user B = 94\n",
      "The private key combination might be: user A = 24, user B = 52\n",
      "The private key combination might be: user A = 24, user B = 105\n",
      "The private key combination might be: user A = 25, user B = 10\n",
      "The private key combination might be: user A = 25, user B = 63\n",
      "The private key combination might be: user A = 26, user B = 21\n",
      "The private key combination might be: user A = 26, user B = 74\n",
      "The private key combination might be: user A = 27, user B = 32\n",
      "The private key combination might be: user A = 27, user B = 85\n",
      "The private key combination might be: user A = 28, user B = 43\n",
      "The private key combination might be: user A = 28, user B = 96\n",
      "The private key combination might be: user A = 29, user B = 1\n",
      "The private key combination might be: user A = 29, user B = 54\n",
      "The private key combination might be: user A = 30, user B = 12\n",
      "The private key combination might be: user A = 30, user B = 65\n",
      "The private key combination might be: user A = 31, user B = 23\n",
      "The private key combination might be: user A = 31, user B = 76\n",
      "The private key combination might be: user A = 32, user B = 34\n",
      "The private key combination might be: user A = 32, user B = 87\n",
      "The private key combination might be: user A = 33, user B = 45\n",
      "The private key combination might be: user A = 33, user B = 98\n",
      "The private key combination might be: user A = 34, user B = 3\n",
      "The private key combination might be: user A = 34, user B = 56\n",
      "The private key combination might be: user A = 35, user B = 14\n",
      "The private key combination might be: user A = 35, user B = 67\n",
      "The private key combination might be: user A = 36, user B = 25\n",
      "The private key combination might be: user A = 36, user B = 78\n",
      "The private key combination might be: user A = 37, user B = 36\n",
      "The private key combination might be: user A = 37, user B = 89\n",
      "The private key combination might be: user A = 38, user B = 47\n",
      "The private key combination might be: user A = 38, user B = 100\n",
      "The private key combination might be: user A = 39, user B = 5\n",
      "The private key combination might be: user A = 39, user B = 58\n",
      "The private key combination might be: user A = 40, user B = 16\n",
      "The private key combination might be: user A = 40, user B = 69\n",
      "The private key combination might be: user A = 41, user B = 27\n",
      "The private key combination might be: user A = 41, user B = 80\n",
      "The private key combination might be: user A = 42, user B = 38\n",
      "The private key combination might be: user A = 42, user B = 91\n",
      "The private key combination might be: user A = 43, user B = 49\n",
      "The private key combination might be: user A = 43, user B = 102\n",
      "The private key combination might be: user A = 44, user B = 7\n",
      "The private key combination might be: user A = 44, user B = 60\n",
      "The private key combination might be: user A = 45, user B = 18\n",
      "The private key combination might be: user A = 45, user B = 71\n",
      "The private key combination might be: user A = 46, user B = 29\n",
      "The private key combination might be: user A = 46, user B = 82\n",
      "The private key combination might be: user A = 47, user B = 40\n",
      "The private key combination might be: user A = 47, user B = 93\n",
      "The private key combination might be: user A = 48, user B = 51\n",
      "The private key combination might be: user A = 48, user B = 104\n",
      "The private key combination might be: user A = 49, user B = 9\n",
      "The private key combination might be: user A = 49, user B = 62\n",
      "The private key combination might be: user A = 50, user B = 20\n",
      "The private key combination might be: user A = 50, user B = 73\n",
      "The private key combination might be: user A = 51, user B = 31\n",
      "The private key combination might be: user A = 51, user B = 84\n",
      "The private key combination might be: user A = 52, user B = 42\n",
      "The private key combination might be: user A = 52, user B = 95\n",
      "The private key combination might be: user A = 53, user B = 53\n",
      "The private key combination might be: user A = 53, user B = 106\n",
      "The private key combination might be: user A = 54, user B = 11\n",
      "The private key combination might be: user A = 54, user B = 64\n",
      "The private key combination might be: user A = 55, user B = 22\n",
      "The private key combination might be: user A = 55, user B = 75\n",
      "The private key combination might be: user A = 56, user B = 33\n",
      "The private key combination might be: user A = 56, user B = 86\n",
      "The private key combination might be: user A = 57, user B = 44\n",
      "The private key combination might be: user A = 57, user B = 97\n",
      "The private key combination might be: user A = 58, user B = 2\n",
      "The private key combination might be: user A = 58, user B = 55\n",
      "The private key combination might be: user A = 59, user B = 13\n",
      "The private key combination might be: user A = 59, user B = 66\n",
      "The private key combination might be: user A = 60, user B = 24\n",
      "The private key combination might be: user A = 60, user B = 77\n",
      "The private key combination might be: user A = 61, user B = 35\n",
      "The private key combination might be: user A = 61, user B = 88\n",
      "The private key combination might be: user A = 62, user B = 46\n",
      "The private key combination might be: user A = 62, user B = 99\n",
      "The private key combination might be: user A = 63, user B = 4\n",
      "The private key combination might be: user A = 63, user B = 57\n",
      "The private key combination might be: user A = 64, user B = 15\n",
      "The private key combination might be: user A = 64, user B = 68\n",
      "The private key combination might be: user A = 65, user B = 26\n",
      "The private key combination might be: user A = 65, user B = 79\n",
      "The private key combination might be: user A = 66, user B = 37\n",
      "The private key combination might be: user A = 66, user B = 90\n",
      "The private key combination might be: user A = 67, user B = 48\n",
      "The private key combination might be: user A = 67, user B = 101\n",
      "The private key combination might be: user A = 68, user B = 6\n",
      "The private key combination might be: user A = 68, user B = 59\n",
      "The private key combination might be: user A = 69, user B = 17\n",
      "The private key combination might be: user A = 69, user B = 70\n",
      "The private key combination might be: user A = 70, user B = 28\n",
      "The private key combination might be: user A = 70, user B = 81\n",
      "The private key combination might be: user A = 71, user B = 39\n",
      "The private key combination might be: user A = 71, user B = 92\n",
      "The private key combination might be: user A = 72, user B = 50\n",
      "The private key combination might be: user A = 72, user B = 103\n",
      "The private key combination might be: user A = 73, user B = 8\n",
      "The private key combination might be: user A = 73, user B = 61\n",
      "The private key combination might be: user A = 74, user B = 19\n",
      "The private key combination might be: user A = 74, user B = 72\n",
      "The private key combination might be: user A = 75, user B = 30\n",
      "The private key combination might be: user A = 75, user B = 83\n",
      "The private key combination might be: user A = 76, user B = 41\n",
      "The private key combination might be: user A = 76, user B = 94\n",
      "The private key combination might be: user A = 77, user B = 52\n",
      "The private key combination might be: user A = 77, user B = 105\n",
      "The private key combination might be: user A = 78, user B = 10\n",
      "The private key combination might be: user A = 78, user B = 63\n",
      "The private key combination might be: user A = 79, user B = 21\n",
      "The private key combination might be: user A = 79, user B = 74\n",
      "The private key combination might be: user A = 80, user B = 32\n",
      "The private key combination might be: user A = 80, user B = 85\n",
      "The private key combination might be: user A = 81, user B = 43\n",
      "The private key combination might be: user A = 81, user B = 96\n",
      "The private key combination might be: user A = 82, user B = 1\n",
      "The private key combination might be: user A = 82, user B = 54\n",
      "The private key combination might be: user A = 83, user B = 12\n",
      "The private key combination might be: user A = 83, user B = 65\n",
      "The private key combination might be: user A = 84, user B = 23\n",
      "The private key combination might be: user A = 84, user B = 76\n",
      "The private key combination might be: user A = 85, user B = 34\n",
      "The private key combination might be: user A = 85, user B = 87\n",
      "The private key combination might be: user A = 86, user B = 45\n",
      "The private key combination might be: user A = 86, user B = 98\n",
      "The private key combination might be: user A = 87, user B = 3\n",
      "The private key combination might be: user A = 87, user B = 56\n",
      "The private key combination might be: user A = 88, user B = 14\n",
      "The private key combination might be: user A = 88, user B = 67\n",
      "The private key combination might be: user A = 89, user B = 25\n",
      "The private key combination might be: user A = 89, user B = 78\n",
      "The private key combination might be: user A = 90, user B = 36\n",
      "The private key combination might be: user A = 90, user B = 89\n",
      "The private key combination might be: user A = 91, user B = 47\n",
      "The private key combination might be: user A = 91, user B = 100\n",
      "The private key combination might be: user A = 92, user B = 5\n",
      "The private key combination might be: user A = 92, user B = 58\n",
      "The private key combination might be: user A = 93, user B = 16\n",
      "The private key combination might be: user A = 93, user B = 69\n",
      "The private key combination might be: user A = 94, user B = 27\n",
      "The private key combination might be: user A = 94, user B = 80\n",
      "The private key combination might be: user A = 95, user B = 38\n",
      "The private key combination might be: user A = 95, user B = 91\n",
      "The private key combination might be: user A = 96, user B = 49\n",
      "The private key combination might be: user A = 96, user B = 102\n",
      "The private key combination might be: user A = 97, user B = 7\n",
      "The private key combination might be: user A = 97, user B = 60\n",
      "The private key combination might be: user A = 98, user B = 18\n",
      "The private key combination might be: user A = 98, user B = 71\n",
      "The private key combination might be: user A = 99, user B = 29\n",
      "The private key combination might be: user A = 99, user B = 82\n",
      "The private key combination might be: user A = 100, user B = 40\n",
      "The private key combination might be: user A = 100, user B = 93\n",
      "The private key combination might be: user A = 101, user B = 51\n",
      "The private key combination might be: user A = 101, user B = 104\n",
      "The private key combination might be: user A = 102, user B = 9\n",
      "The private key combination might be: user A = 102, user B = 62\n",
      "The private key combination might be: user A = 103, user B = 20\n",
      "The private key combination might be: user A = 103, user B = 73\n",
      "The private key combination might be: user A = 104, user B = 31\n",
      "The private key combination might be: user A = 104, user B = 84\n",
      "The private key combination might be: user A = 105, user B = 42\n",
      "The private key combination might be: user A = 105, user B = 95\n",
      "The private key combination might be: user A = 106, user B = 53\n",
      "The private key combination might be: user A = 106, user B = 106\n",
      "The private key of user A is one of: [1, 54]\n",
      "The private key of user A is one of: [29, 82]\n"
     ]
    }
   ],
   "source": [
    "hacking_the_df(107, 89, 54, 29)"
   ]
  },
  {
   "cell_type": "code",
   "execution_count": 92,
   "id": "9f91e910-5dbe-44c4-9f85-859504993f9a",
   "metadata": {},
   "outputs": [
    {
     "name": "stdout",
     "output_type": "stream",
     "text": [
      "Yes, p 293 is prime.\n",
      "Yes, g 47 is prime and <p.\n",
      "The chosen private keys for user A 60 and user B 48 meet the criterias.\n",
      "The public key of user A which he gives to B is: 124\n",
      "The public key of user B which he gives to A is: 33\n",
      "The private key combination might be: user A = 1, user B = 56\n",
      "The private key combination might be: user A = 1, user B = 129\n",
      "The private key combination might be: user A = 1, user B = 202\n",
      "The private key combination might be: user A = 1, user B = 275\n",
      "The private key combination might be: user A = 2, user B = 39\n",
      "The private key combination might be: user A = 2, user B = 112\n",
      "The private key combination might be: user A = 2, user B = 185\n",
      "The private key combination might be: user A = 2, user B = 258\n",
      "The private key combination might be: user A = 3, user B = 22\n",
      "The private key combination might be: user A = 3, user B = 95\n",
      "The private key combination might be: user A = 3, user B = 168\n",
      "The private key combination might be: user A = 3, user B = 241\n",
      "The private key combination might be: user A = 4, user B = 5\n",
      "The private key combination might be: user A = 4, user B = 78\n",
      "The private key combination might be: user A = 4, user B = 151\n",
      "The private key combination might be: user A = 4, user B = 224\n",
      "The private key combination might be: user A = 5, user B = 61\n",
      "The private key combination might be: user A = 5, user B = 134\n",
      "The private key combination might be: user A = 5, user B = 207\n",
      "The private key combination might be: user A = 5, user B = 280\n",
      "The private key combination might be: user A = 6, user B = 44\n",
      "The private key combination might be: user A = 6, user B = 117\n",
      "The private key combination might be: user A = 6, user B = 190\n",
      "The private key combination might be: user A = 6, user B = 263\n",
      "The private key combination might be: user A = 7, user B = 27\n",
      "The private key combination might be: user A = 7, user B = 100\n",
      "The private key combination might be: user A = 7, user B = 173\n",
      "The private key combination might be: user A = 7, user B = 246\n",
      "The private key combination might be: user A = 8, user B = 10\n",
      "The private key combination might be: user A = 8, user B = 83\n",
      "The private key combination might be: user A = 8, user B = 156\n",
      "The private key combination might be: user A = 8, user B = 229\n",
      "The private key combination might be: user A = 9, user B = 66\n",
      "The private key combination might be: user A = 9, user B = 139\n",
      "The private key combination might be: user A = 9, user B = 212\n",
      "The private key combination might be: user A = 9, user B = 285\n",
      "The private key combination might be: user A = 10, user B = 49\n",
      "The private key combination might be: user A = 10, user B = 122\n",
      "The private key combination might be: user A = 10, user B = 195\n",
      "The private key combination might be: user A = 10, user B = 268\n",
      "The private key combination might be: user A = 11, user B = 32\n",
      "The private key combination might be: user A = 11, user B = 105\n",
      "The private key combination might be: user A = 11, user B = 178\n",
      "The private key combination might be: user A = 11, user B = 251\n",
      "The private key combination might be: user A = 12, user B = 15\n",
      "The private key combination might be: user A = 12, user B = 88\n",
      "The private key combination might be: user A = 12, user B = 161\n",
      "The private key combination might be: user A = 12, user B = 234\n",
      "The private key combination might be: user A = 13, user B = 71\n",
      "The private key combination might be: user A = 13, user B = 144\n",
      "The private key combination might be: user A = 13, user B = 217\n",
      "The private key combination might be: user A = 13, user B = 290\n",
      "The private key combination might be: user A = 14, user B = 54\n",
      "The private key combination might be: user A = 14, user B = 127\n",
      "The private key combination might be: user A = 14, user B = 200\n",
      "The private key combination might be: user A = 14, user B = 273\n",
      "The private key combination might be: user A = 15, user B = 37\n",
      "The private key combination might be: user A = 15, user B = 110\n",
      "The private key combination might be: user A = 15, user B = 183\n",
      "The private key combination might be: user A = 15, user B = 256\n",
      "The private key combination might be: user A = 16, user B = 20\n",
      "The private key combination might be: user A = 16, user B = 93\n",
      "The private key combination might be: user A = 16, user B = 166\n",
      "The private key combination might be: user A = 16, user B = 239\n",
      "The private key combination might be: user A = 17, user B = 3\n",
      "The private key combination might be: user A = 17, user B = 76\n",
      "The private key combination might be: user A = 17, user B = 149\n",
      "The private key combination might be: user A = 17, user B = 222\n",
      "The private key combination might be: user A = 18, user B = 59\n",
      "The private key combination might be: user A = 18, user B = 132\n",
      "The private key combination might be: user A = 18, user B = 205\n",
      "The private key combination might be: user A = 18, user B = 278\n",
      "The private key combination might be: user A = 19, user B = 42\n",
      "The private key combination might be: user A = 19, user B = 115\n",
      "The private key combination might be: user A = 19, user B = 188\n",
      "The private key combination might be: user A = 19, user B = 261\n",
      "The private key combination might be: user A = 20, user B = 25\n",
      "The private key combination might be: user A = 20, user B = 98\n",
      "The private key combination might be: user A = 20, user B = 171\n",
      "The private key combination might be: user A = 20, user B = 244\n",
      "The private key combination might be: user A = 21, user B = 8\n",
      "The private key combination might be: user A = 21, user B = 81\n",
      "The private key combination might be: user A = 21, user B = 154\n",
      "The private key combination might be: user A = 21, user B = 227\n",
      "The private key combination might be: user A = 22, user B = 64\n",
      "The private key combination might be: user A = 22, user B = 137\n",
      "The private key combination might be: user A = 22, user B = 210\n",
      "The private key combination might be: user A = 22, user B = 283\n",
      "The private key combination might be: user A = 23, user B = 47\n",
      "The private key combination might be: user A = 23, user B = 120\n",
      "The private key combination might be: user A = 23, user B = 193\n",
      "The private key combination might be: user A = 23, user B = 266\n",
      "The private key combination might be: user A = 24, user B = 30\n",
      "The private key combination might be: user A = 24, user B = 103\n",
      "The private key combination might be: user A = 24, user B = 176\n",
      "The private key combination might be: user A = 24, user B = 249\n",
      "The private key combination might be: user A = 25, user B = 13\n",
      "The private key combination might be: user A = 25, user B = 86\n",
      "The private key combination might be: user A = 25, user B = 159\n",
      "The private key combination might be: user A = 25, user B = 232\n",
      "The private key combination might be: user A = 26, user B = 69\n",
      "The private key combination might be: user A = 26, user B = 142\n",
      "The private key combination might be: user A = 26, user B = 215\n",
      "The private key combination might be: user A = 26, user B = 288\n",
      "The private key combination might be: user A = 27, user B = 52\n",
      "The private key combination might be: user A = 27, user B = 125\n",
      "The private key combination might be: user A = 27, user B = 198\n",
      "The private key combination might be: user A = 27, user B = 271\n",
      "The private key combination might be: user A = 28, user B = 35\n",
      "The private key combination might be: user A = 28, user B = 108\n",
      "The private key combination might be: user A = 28, user B = 181\n",
      "The private key combination might be: user A = 28, user B = 254\n",
      "The private key combination might be: user A = 29, user B = 18\n",
      "The private key combination might be: user A = 29, user B = 91\n",
      "The private key combination might be: user A = 29, user B = 164\n",
      "The private key combination might be: user A = 29, user B = 237\n",
      "The private key combination might be: user A = 30, user B = 1\n",
      "The private key combination might be: user A = 30, user B = 74\n",
      "The private key combination might be: user A = 30, user B = 147\n",
      "The private key combination might be: user A = 30, user B = 220\n",
      "The private key combination might be: user A = 31, user B = 57\n",
      "The private key combination might be: user A = 31, user B = 130\n",
      "The private key combination might be: user A = 31, user B = 203\n",
      "The private key combination might be: user A = 31, user B = 276\n",
      "The private key combination might be: user A = 32, user B = 40\n",
      "The private key combination might be: user A = 32, user B = 113\n",
      "The private key combination might be: user A = 32, user B = 186\n",
      "The private key combination might be: user A = 32, user B = 259\n",
      "The private key combination might be: user A = 33, user B = 23\n",
      "The private key combination might be: user A = 33, user B = 96\n",
      "The private key combination might be: user A = 33, user B = 169\n",
      "The private key combination might be: user A = 33, user B = 242\n",
      "The private key combination might be: user A = 34, user B = 6\n",
      "The private key combination might be: user A = 34, user B = 79\n",
      "The private key combination might be: user A = 34, user B = 152\n",
      "The private key combination might be: user A = 34, user B = 225\n",
      "The private key combination might be: user A = 35, user B = 62\n",
      "The private key combination might be: user A = 35, user B = 135\n",
      "The private key combination might be: user A = 35, user B = 208\n",
      "The private key combination might be: user A = 35, user B = 281\n",
      "The private key combination might be: user A = 36, user B = 45\n",
      "The private key combination might be: user A = 36, user B = 118\n",
      "The private key combination might be: user A = 36, user B = 191\n",
      "The private key combination might be: user A = 36, user B = 264\n",
      "The private key combination might be: user A = 37, user B = 28\n",
      "The private key combination might be: user A = 37, user B = 101\n",
      "The private key combination might be: user A = 37, user B = 174\n",
      "The private key combination might be: user A = 37, user B = 247\n",
      "The private key combination might be: user A = 38, user B = 11\n",
      "The private key combination might be: user A = 38, user B = 84\n",
      "The private key combination might be: user A = 38, user B = 157\n",
      "The private key combination might be: user A = 38, user B = 230\n",
      "The private key combination might be: user A = 39, user B = 67\n",
      "The private key combination might be: user A = 39, user B = 140\n",
      "The private key combination might be: user A = 39, user B = 213\n",
      "The private key combination might be: user A = 39, user B = 286\n",
      "The private key combination might be: user A = 40, user B = 50\n",
      "The private key combination might be: user A = 40, user B = 123\n",
      "The private key combination might be: user A = 40, user B = 196\n",
      "The private key combination might be: user A = 40, user B = 269\n",
      "The private key combination might be: user A = 41, user B = 33\n",
      "The private key combination might be: user A = 41, user B = 106\n",
      "The private key combination might be: user A = 41, user B = 179\n",
      "The private key combination might be: user A = 41, user B = 252\n",
      "The private key combination might be: user A = 42, user B = 16\n",
      "The private key combination might be: user A = 42, user B = 89\n",
      "The private key combination might be: user A = 42, user B = 162\n",
      "The private key combination might be: user A = 42, user B = 235\n",
      "The private key combination might be: user A = 43, user B = 72\n",
      "The private key combination might be: user A = 43, user B = 145\n",
      "The private key combination might be: user A = 43, user B = 218\n",
      "The private key combination might be: user A = 43, user B = 291\n",
      "The private key combination might be: user A = 44, user B = 55\n",
      "The private key combination might be: user A = 44, user B = 128\n",
      "The private key combination might be: user A = 44, user B = 201\n",
      "The private key combination might be: user A = 44, user B = 274\n",
      "The private key combination might be: user A = 45, user B = 38\n",
      "The private key combination might be: user A = 45, user B = 111\n",
      "The private key combination might be: user A = 45, user B = 184\n",
      "The private key combination might be: user A = 45, user B = 257\n",
      "The private key combination might be: user A = 46, user B = 21\n",
      "The private key combination might be: user A = 46, user B = 94\n",
      "The private key combination might be: user A = 46, user B = 167\n",
      "The private key combination might be: user A = 46, user B = 240\n",
      "The private key combination might be: user A = 47, user B = 4\n",
      "The private key combination might be: user A = 47, user B = 77\n",
      "The private key combination might be: user A = 47, user B = 150\n",
      "The private key combination might be: user A = 47, user B = 223\n",
      "The private key combination might be: user A = 48, user B = 60\n",
      "The private key combination might be: user A = 48, user B = 133\n",
      "The private key combination might be: user A = 48, user B = 206\n",
      "The private key combination might be: user A = 48, user B = 279\n",
      "The private key combination might be: user A = 49, user B = 43\n",
      "The private key combination might be: user A = 49, user B = 116\n",
      "The private key combination might be: user A = 49, user B = 189\n",
      "The private key combination might be: user A = 49, user B = 262\n",
      "The private key combination might be: user A = 50, user B = 26\n",
      "The private key combination might be: user A = 50, user B = 99\n",
      "The private key combination might be: user A = 50, user B = 172\n",
      "The private key combination might be: user A = 50, user B = 245\n",
      "The private key combination might be: user A = 51, user B = 9\n",
      "The private key combination might be: user A = 51, user B = 82\n",
      "The private key combination might be: user A = 51, user B = 155\n",
      "The private key combination might be: user A = 51, user B = 228\n",
      "The private key combination might be: user A = 52, user B = 65\n",
      "The private key combination might be: user A = 52, user B = 138\n",
      "The private key combination might be: user A = 52, user B = 211\n",
      "The private key combination might be: user A = 52, user B = 284\n",
      "The private key combination might be: user A = 53, user B = 48\n",
      "The private key combination might be: user A = 53, user B = 121\n",
      "The private key combination might be: user A = 53, user B = 194\n",
      "The private key combination might be: user A = 53, user B = 267\n",
      "The private key combination might be: user A = 54, user B = 31\n",
      "The private key combination might be: user A = 54, user B = 104\n",
      "The private key combination might be: user A = 54, user B = 177\n",
      "The private key combination might be: user A = 54, user B = 250\n",
      "The private key combination might be: user A = 55, user B = 14\n",
      "The private key combination might be: user A = 55, user B = 87\n",
      "The private key combination might be: user A = 55, user B = 160\n",
      "The private key combination might be: user A = 55, user B = 233\n",
      "The private key combination might be: user A = 56, user B = 70\n",
      "The private key combination might be: user A = 56, user B = 143\n",
      "The private key combination might be: user A = 56, user B = 216\n",
      "The private key combination might be: user A = 56, user B = 289\n",
      "The private key combination might be: user A = 57, user B = 53\n",
      "The private key combination might be: user A = 57, user B = 126\n",
      "The private key combination might be: user A = 57, user B = 199\n",
      "The private key combination might be: user A = 57, user B = 272\n",
      "The private key combination might be: user A = 58, user B = 36\n",
      "The private key combination might be: user A = 58, user B = 109\n",
      "The private key combination might be: user A = 58, user B = 182\n",
      "The private key combination might be: user A = 58, user B = 255\n",
      "The private key combination might be: user A = 59, user B = 19\n",
      "The private key combination might be: user A = 59, user B = 92\n",
      "The private key combination might be: user A = 59, user B = 165\n",
      "The private key combination might be: user A = 59, user B = 238\n",
      "The private key combination might be: user A = 60, user B = 2\n",
      "The private key combination might be: user A = 60, user B = 75\n",
      "The private key combination might be: user A = 60, user B = 148\n",
      "The private key combination might be: user A = 60, user B = 221\n",
      "The private key combination might be: user A = 61, user B = 58\n",
      "The private key combination might be: user A = 61, user B = 131\n",
      "The private key combination might be: user A = 61, user B = 204\n",
      "The private key combination might be: user A = 61, user B = 277\n",
      "The private key combination might be: user A = 62, user B = 41\n",
      "The private key combination might be: user A = 62, user B = 114\n",
      "The private key combination might be: user A = 62, user B = 187\n",
      "The private key combination might be: user A = 62, user B = 260\n",
      "The private key combination might be: user A = 63, user B = 24\n",
      "The private key combination might be: user A = 63, user B = 97\n",
      "The private key combination might be: user A = 63, user B = 170\n",
      "The private key combination might be: user A = 63, user B = 243\n",
      "The private key combination might be: user A = 64, user B = 7\n",
      "The private key combination might be: user A = 64, user B = 80\n",
      "The private key combination might be: user A = 64, user B = 153\n",
      "The private key combination might be: user A = 64, user B = 226\n",
      "The private key combination might be: user A = 65, user B = 63\n",
      "The private key combination might be: user A = 65, user B = 136\n",
      "The private key combination might be: user A = 65, user B = 209\n",
      "The private key combination might be: user A = 65, user B = 282\n",
      "The private key combination might be: user A = 66, user B = 46\n",
      "The private key combination might be: user A = 66, user B = 119\n",
      "The private key combination might be: user A = 66, user B = 192\n",
      "The private key combination might be: user A = 66, user B = 265\n",
      "The private key combination might be: user A = 67, user B = 29\n",
      "The private key combination might be: user A = 67, user B = 102\n",
      "The private key combination might be: user A = 67, user B = 175\n",
      "The private key combination might be: user A = 67, user B = 248\n",
      "The private key combination might be: user A = 68, user B = 12\n",
      "The private key combination might be: user A = 68, user B = 85\n",
      "The private key combination might be: user A = 68, user B = 158\n",
      "The private key combination might be: user A = 68, user B = 231\n",
      "The private key combination might be: user A = 69, user B = 68\n",
      "The private key combination might be: user A = 69, user B = 141\n",
      "The private key combination might be: user A = 69, user B = 214\n",
      "The private key combination might be: user A = 69, user B = 287\n",
      "The private key combination might be: user A = 70, user B = 51\n",
      "The private key combination might be: user A = 70, user B = 124\n",
      "The private key combination might be: user A = 70, user B = 197\n",
      "The private key combination might be: user A = 70, user B = 270\n",
      "The private key combination might be: user A = 71, user B = 34\n",
      "The private key combination might be: user A = 71, user B = 107\n",
      "The private key combination might be: user A = 71, user B = 180\n",
      "The private key combination might be: user A = 71, user B = 253\n",
      "The private key combination might be: user A = 72, user B = 17\n",
      "The private key combination might be: user A = 72, user B = 90\n",
      "The private key combination might be: user A = 72, user B = 163\n",
      "The private key combination might be: user A = 72, user B = 236\n",
      "The private key combination might be: user A = 73, user B = 73\n",
      "The private key combination might be: user A = 73, user B = 146\n",
      "The private key combination might be: user A = 73, user B = 219\n",
      "The private key combination might be: user A = 73, user B = 292\n",
      "The private key combination might be: user A = 74, user B = 56\n",
      "The private key combination might be: user A = 74, user B = 129\n",
      "The private key combination might be: user A = 74, user B = 202\n",
      "The private key combination might be: user A = 74, user B = 275\n",
      "The private key combination might be: user A = 75, user B = 39\n",
      "The private key combination might be: user A = 75, user B = 112\n",
      "The private key combination might be: user A = 75, user B = 185\n",
      "The private key combination might be: user A = 75, user B = 258\n",
      "The private key combination might be: user A = 76, user B = 22\n",
      "The private key combination might be: user A = 76, user B = 95\n",
      "The private key combination might be: user A = 76, user B = 168\n",
      "The private key combination might be: user A = 76, user B = 241\n",
      "The private key combination might be: user A = 77, user B = 5\n",
      "The private key combination might be: user A = 77, user B = 78\n",
      "The private key combination might be: user A = 77, user B = 151\n",
      "The private key combination might be: user A = 77, user B = 224\n",
      "The private key combination might be: user A = 78, user B = 61\n",
      "The private key combination might be: user A = 78, user B = 134\n",
      "The private key combination might be: user A = 78, user B = 207\n",
      "The private key combination might be: user A = 78, user B = 280\n",
      "The private key combination might be: user A = 79, user B = 44\n",
      "The private key combination might be: user A = 79, user B = 117\n",
      "The private key combination might be: user A = 79, user B = 190\n",
      "The private key combination might be: user A = 79, user B = 263\n",
      "The private key combination might be: user A = 80, user B = 27\n",
      "The private key combination might be: user A = 80, user B = 100\n",
      "The private key combination might be: user A = 80, user B = 173\n",
      "The private key combination might be: user A = 80, user B = 246\n",
      "The private key combination might be: user A = 81, user B = 10\n",
      "The private key combination might be: user A = 81, user B = 83\n",
      "The private key combination might be: user A = 81, user B = 156\n",
      "The private key combination might be: user A = 81, user B = 229\n",
      "The private key combination might be: user A = 82, user B = 66\n",
      "The private key combination might be: user A = 82, user B = 139\n",
      "The private key combination might be: user A = 82, user B = 212\n",
      "The private key combination might be: user A = 82, user B = 285\n",
      "The private key combination might be: user A = 83, user B = 49\n",
      "The private key combination might be: user A = 83, user B = 122\n",
      "The private key combination might be: user A = 83, user B = 195\n",
      "The private key combination might be: user A = 83, user B = 268\n",
      "The private key combination might be: user A = 84, user B = 32\n",
      "The private key combination might be: user A = 84, user B = 105\n",
      "The private key combination might be: user A = 84, user B = 178\n",
      "The private key combination might be: user A = 84, user B = 251\n",
      "The private key combination might be: user A = 85, user B = 15\n",
      "The private key combination might be: user A = 85, user B = 88\n",
      "The private key combination might be: user A = 85, user B = 161\n",
      "The private key combination might be: user A = 85, user B = 234\n",
      "The private key combination might be: user A = 86, user B = 71\n",
      "The private key combination might be: user A = 86, user B = 144\n",
      "The private key combination might be: user A = 86, user B = 217\n",
      "The private key combination might be: user A = 86, user B = 290\n",
      "The private key combination might be: user A = 87, user B = 54\n",
      "The private key combination might be: user A = 87, user B = 127\n",
      "The private key combination might be: user A = 87, user B = 200\n",
      "The private key combination might be: user A = 87, user B = 273\n",
      "The private key combination might be: user A = 88, user B = 37\n",
      "The private key combination might be: user A = 88, user B = 110\n",
      "The private key combination might be: user A = 88, user B = 183\n",
      "The private key combination might be: user A = 88, user B = 256\n",
      "The private key combination might be: user A = 89, user B = 20\n",
      "The private key combination might be: user A = 89, user B = 93\n",
      "The private key combination might be: user A = 89, user B = 166\n",
      "The private key combination might be: user A = 89, user B = 239\n",
      "The private key combination might be: user A = 90, user B = 3\n",
      "The private key combination might be: user A = 90, user B = 76\n",
      "The private key combination might be: user A = 90, user B = 149\n",
      "The private key combination might be: user A = 90, user B = 222\n",
      "The private key combination might be: user A = 91, user B = 59\n",
      "The private key combination might be: user A = 91, user B = 132\n",
      "The private key combination might be: user A = 91, user B = 205\n",
      "The private key combination might be: user A = 91, user B = 278\n",
      "The private key combination might be: user A = 92, user B = 42\n",
      "The private key combination might be: user A = 92, user B = 115\n",
      "The private key combination might be: user A = 92, user B = 188\n",
      "The private key combination might be: user A = 92, user B = 261\n",
      "The private key combination might be: user A = 93, user B = 25\n",
      "The private key combination might be: user A = 93, user B = 98\n",
      "The private key combination might be: user A = 93, user B = 171\n",
      "The private key combination might be: user A = 93, user B = 244\n",
      "The private key combination might be: user A = 94, user B = 8\n",
      "The private key combination might be: user A = 94, user B = 81\n",
      "The private key combination might be: user A = 94, user B = 154\n",
      "The private key combination might be: user A = 94, user B = 227\n",
      "The private key combination might be: user A = 95, user B = 64\n",
      "The private key combination might be: user A = 95, user B = 137\n",
      "The private key combination might be: user A = 95, user B = 210\n",
      "The private key combination might be: user A = 95, user B = 283\n",
      "The private key combination might be: user A = 96, user B = 47\n",
      "The private key combination might be: user A = 96, user B = 120\n",
      "The private key combination might be: user A = 96, user B = 193\n",
      "The private key combination might be: user A = 96, user B = 266\n",
      "The private key combination might be: user A = 97, user B = 30\n",
      "The private key combination might be: user A = 97, user B = 103\n",
      "The private key combination might be: user A = 97, user B = 176\n",
      "The private key combination might be: user A = 97, user B = 249\n",
      "The private key combination might be: user A = 98, user B = 13\n",
      "The private key combination might be: user A = 98, user B = 86\n",
      "The private key combination might be: user A = 98, user B = 159\n",
      "The private key combination might be: user A = 98, user B = 232\n",
      "The private key combination might be: user A = 99, user B = 69\n",
      "The private key combination might be: user A = 99, user B = 142\n",
      "The private key combination might be: user A = 99, user B = 215\n",
      "The private key combination might be: user A = 99, user B = 288\n",
      "The private key combination might be: user A = 100, user B = 52\n",
      "The private key combination might be: user A = 100, user B = 125\n",
      "The private key combination might be: user A = 100, user B = 198\n",
      "The private key combination might be: user A = 100, user B = 271\n",
      "The private key combination might be: user A = 101, user B = 35\n",
      "The private key combination might be: user A = 101, user B = 108\n",
      "The private key combination might be: user A = 101, user B = 181\n",
      "The private key combination might be: user A = 101, user B = 254\n",
      "The private key combination might be: user A = 102, user B = 18\n",
      "The private key combination might be: user A = 102, user B = 91\n",
      "The private key combination might be: user A = 102, user B = 164\n",
      "The private key combination might be: user A = 102, user B = 237\n",
      "The private key combination might be: user A = 103, user B = 1\n",
      "The private key combination might be: user A = 103, user B = 74\n",
      "The private key combination might be: user A = 103, user B = 147\n",
      "The private key combination might be: user A = 103, user B = 220\n",
      "The private key combination might be: user A = 104, user B = 57\n",
      "The private key combination might be: user A = 104, user B = 130\n",
      "The private key combination might be: user A = 104, user B = 203\n",
      "The private key combination might be: user A = 104, user B = 276\n",
      "The private key combination might be: user A = 105, user B = 40\n",
      "The private key combination might be: user A = 105, user B = 113\n",
      "The private key combination might be: user A = 105, user B = 186\n",
      "The private key combination might be: user A = 105, user B = 259\n",
      "The private key combination might be: user A = 106, user B = 23\n",
      "The private key combination might be: user A = 106, user B = 96\n",
      "The private key combination might be: user A = 106, user B = 169\n",
      "The private key combination might be: user A = 106, user B = 242\n",
      "The private key combination might be: user A = 107, user B = 6\n",
      "The private key combination might be: user A = 107, user B = 79\n",
      "The private key combination might be: user A = 107, user B = 152\n",
      "The private key combination might be: user A = 107, user B = 225\n",
      "The private key combination might be: user A = 108, user B = 62\n",
      "The private key combination might be: user A = 108, user B = 135\n",
      "The private key combination might be: user A = 108, user B = 208\n",
      "The private key combination might be: user A = 108, user B = 281\n",
      "The private key combination might be: user A = 109, user B = 45\n",
      "The private key combination might be: user A = 109, user B = 118\n",
      "The private key combination might be: user A = 109, user B = 191\n",
      "The private key combination might be: user A = 109, user B = 264\n",
      "The private key combination might be: user A = 110, user B = 28\n",
      "The private key combination might be: user A = 110, user B = 101\n",
      "The private key combination might be: user A = 110, user B = 174\n",
      "The private key combination might be: user A = 110, user B = 247\n",
      "The private key combination might be: user A = 111, user B = 11\n",
      "The private key combination might be: user A = 111, user B = 84\n",
      "The private key combination might be: user A = 111, user B = 157\n",
      "The private key combination might be: user A = 111, user B = 230\n",
      "The private key combination might be: user A = 112, user B = 67\n",
      "The private key combination might be: user A = 112, user B = 140\n",
      "The private key combination might be: user A = 112, user B = 213\n",
      "The private key combination might be: user A = 112, user B = 286\n",
      "The private key combination might be: user A = 113, user B = 50\n",
      "The private key combination might be: user A = 113, user B = 123\n",
      "The private key combination might be: user A = 113, user B = 196\n",
      "The private key combination might be: user A = 113, user B = 269\n",
      "The private key combination might be: user A = 114, user B = 33\n",
      "The private key combination might be: user A = 114, user B = 106\n",
      "The private key combination might be: user A = 114, user B = 179\n",
      "The private key combination might be: user A = 114, user B = 252\n",
      "The private key combination might be: user A = 115, user B = 16\n",
      "The private key combination might be: user A = 115, user B = 89\n",
      "The private key combination might be: user A = 115, user B = 162\n",
      "The private key combination might be: user A = 115, user B = 235\n",
      "The private key combination might be: user A = 116, user B = 72\n",
      "The private key combination might be: user A = 116, user B = 145\n",
      "The private key combination might be: user A = 116, user B = 218\n",
      "The private key combination might be: user A = 116, user B = 291\n",
      "The private key combination might be: user A = 117, user B = 55\n",
      "The private key combination might be: user A = 117, user B = 128\n",
      "The private key combination might be: user A = 117, user B = 201\n",
      "The private key combination might be: user A = 117, user B = 274\n",
      "The private key combination might be: user A = 118, user B = 38\n",
      "The private key combination might be: user A = 118, user B = 111\n",
      "The private key combination might be: user A = 118, user B = 184\n",
      "The private key combination might be: user A = 118, user B = 257\n",
      "The private key combination might be: user A = 119, user B = 21\n",
      "The private key combination might be: user A = 119, user B = 94\n",
      "The private key combination might be: user A = 119, user B = 167\n",
      "The private key combination might be: user A = 119, user B = 240\n",
      "The private key combination might be: user A = 120, user B = 4\n",
      "The private key combination might be: user A = 120, user B = 77\n",
      "The private key combination might be: user A = 120, user B = 150\n",
      "The private key combination might be: user A = 120, user B = 223\n",
      "The private key combination might be: user A = 121, user B = 60\n",
      "The private key combination might be: user A = 121, user B = 133\n",
      "The private key combination might be: user A = 121, user B = 206\n",
      "The private key combination might be: user A = 121, user B = 279\n",
      "The private key combination might be: user A = 122, user B = 43\n",
      "The private key combination might be: user A = 122, user B = 116\n",
      "The private key combination might be: user A = 122, user B = 189\n",
      "The private key combination might be: user A = 122, user B = 262\n",
      "The private key combination might be: user A = 123, user B = 26\n",
      "The private key combination might be: user A = 123, user B = 99\n",
      "The private key combination might be: user A = 123, user B = 172\n",
      "The private key combination might be: user A = 123, user B = 245\n",
      "The private key combination might be: user A = 124, user B = 9\n",
      "The private key combination might be: user A = 124, user B = 82\n",
      "The private key combination might be: user A = 124, user B = 155\n",
      "The private key combination might be: user A = 124, user B = 228\n",
      "The private key combination might be: user A = 125, user B = 65\n",
      "The private key combination might be: user A = 125, user B = 138\n",
      "The private key combination might be: user A = 125, user B = 211\n",
      "The private key combination might be: user A = 125, user B = 284\n",
      "The private key combination might be: user A = 126, user B = 48\n",
      "The private key combination might be: user A = 126, user B = 121\n",
      "The private key combination might be: user A = 126, user B = 194\n",
      "The private key combination might be: user A = 126, user B = 267\n",
      "The private key combination might be: user A = 127, user B = 31\n",
      "The private key combination might be: user A = 127, user B = 104\n",
      "The private key combination might be: user A = 127, user B = 177\n",
      "The private key combination might be: user A = 127, user B = 250\n",
      "The private key combination might be: user A = 128, user B = 14\n",
      "The private key combination might be: user A = 128, user B = 87\n",
      "The private key combination might be: user A = 128, user B = 160\n",
      "The private key combination might be: user A = 128, user B = 233\n",
      "The private key combination might be: user A = 129, user B = 70\n",
      "The private key combination might be: user A = 129, user B = 143\n",
      "The private key combination might be: user A = 129, user B = 216\n",
      "The private key combination might be: user A = 129, user B = 289\n",
      "The private key combination might be: user A = 130, user B = 53\n",
      "The private key combination might be: user A = 130, user B = 126\n",
      "The private key combination might be: user A = 130, user B = 199\n",
      "The private key combination might be: user A = 130, user B = 272\n",
      "The private key combination might be: user A = 131, user B = 36\n",
      "The private key combination might be: user A = 131, user B = 109\n",
      "The private key combination might be: user A = 131, user B = 182\n",
      "The private key combination might be: user A = 131, user B = 255\n",
      "The private key combination might be: user A = 132, user B = 19\n",
      "The private key combination might be: user A = 132, user B = 92\n",
      "The private key combination might be: user A = 132, user B = 165\n",
      "The private key combination might be: user A = 132, user B = 238\n",
      "The private key combination might be: user A = 133, user B = 2\n",
      "The private key combination might be: user A = 133, user B = 75\n",
      "The private key combination might be: user A = 133, user B = 148\n",
      "The private key combination might be: user A = 133, user B = 221\n",
      "The private key combination might be: user A = 134, user B = 58\n",
      "The private key combination might be: user A = 134, user B = 131\n",
      "The private key combination might be: user A = 134, user B = 204\n",
      "The private key combination might be: user A = 134, user B = 277\n",
      "The private key combination might be: user A = 135, user B = 41\n",
      "The private key combination might be: user A = 135, user B = 114\n",
      "The private key combination might be: user A = 135, user B = 187\n",
      "The private key combination might be: user A = 135, user B = 260\n",
      "The private key combination might be: user A = 136, user B = 24\n",
      "The private key combination might be: user A = 136, user B = 97\n",
      "The private key combination might be: user A = 136, user B = 170\n",
      "The private key combination might be: user A = 136, user B = 243\n",
      "The private key combination might be: user A = 137, user B = 7\n",
      "The private key combination might be: user A = 137, user B = 80\n",
      "The private key combination might be: user A = 137, user B = 153\n",
      "The private key combination might be: user A = 137, user B = 226\n",
      "The private key combination might be: user A = 138, user B = 63\n",
      "The private key combination might be: user A = 138, user B = 136\n",
      "The private key combination might be: user A = 138, user B = 209\n",
      "The private key combination might be: user A = 138, user B = 282\n",
      "The private key combination might be: user A = 139, user B = 46\n",
      "The private key combination might be: user A = 139, user B = 119\n",
      "The private key combination might be: user A = 139, user B = 192\n",
      "The private key combination might be: user A = 139, user B = 265\n",
      "The private key combination might be: user A = 140, user B = 29\n",
      "The private key combination might be: user A = 140, user B = 102\n",
      "The private key combination might be: user A = 140, user B = 175\n",
      "The private key combination might be: user A = 140, user B = 248\n",
      "The private key combination might be: user A = 141, user B = 12\n",
      "The private key combination might be: user A = 141, user B = 85\n",
      "The private key combination might be: user A = 141, user B = 158\n",
      "The private key combination might be: user A = 141, user B = 231\n",
      "The private key combination might be: user A = 142, user B = 68\n",
      "The private key combination might be: user A = 142, user B = 141\n",
      "The private key combination might be: user A = 142, user B = 214\n",
      "The private key combination might be: user A = 142, user B = 287\n",
      "The private key combination might be: user A = 143, user B = 51\n",
      "The private key combination might be: user A = 143, user B = 124\n",
      "The private key combination might be: user A = 143, user B = 197\n",
      "The private key combination might be: user A = 143, user B = 270\n",
      "The private key combination might be: user A = 144, user B = 34\n",
      "The private key combination might be: user A = 144, user B = 107\n",
      "The private key combination might be: user A = 144, user B = 180\n",
      "The private key combination might be: user A = 144, user B = 253\n",
      "The private key combination might be: user A = 145, user B = 17\n",
      "The private key combination might be: user A = 145, user B = 90\n",
      "The private key combination might be: user A = 145, user B = 163\n",
      "The private key combination might be: user A = 145, user B = 236\n",
      "The private key combination might be: user A = 146, user B = 73\n",
      "The private key combination might be: user A = 146, user B = 146\n",
      "The private key combination might be: user A = 146, user B = 219\n",
      "The private key combination might be: user A = 146, user B = 292\n",
      "The private key combination might be: user A = 147, user B = 56\n",
      "The private key combination might be: user A = 147, user B = 129\n",
      "The private key combination might be: user A = 147, user B = 202\n",
      "The private key combination might be: user A = 147, user B = 275\n",
      "The private key combination might be: user A = 148, user B = 39\n",
      "The private key combination might be: user A = 148, user B = 112\n",
      "The private key combination might be: user A = 148, user B = 185\n",
      "The private key combination might be: user A = 148, user B = 258\n",
      "The private key combination might be: user A = 149, user B = 22\n",
      "The private key combination might be: user A = 149, user B = 95\n",
      "The private key combination might be: user A = 149, user B = 168\n",
      "The private key combination might be: user A = 149, user B = 241\n",
      "The private key combination might be: user A = 150, user B = 5\n",
      "The private key combination might be: user A = 150, user B = 78\n",
      "The private key combination might be: user A = 150, user B = 151\n",
      "The private key combination might be: user A = 150, user B = 224\n",
      "The private key combination might be: user A = 151, user B = 61\n",
      "The private key combination might be: user A = 151, user B = 134\n",
      "The private key combination might be: user A = 151, user B = 207\n",
      "The private key combination might be: user A = 151, user B = 280\n",
      "The private key combination might be: user A = 152, user B = 44\n",
      "The private key combination might be: user A = 152, user B = 117\n",
      "The private key combination might be: user A = 152, user B = 190\n",
      "The private key combination might be: user A = 152, user B = 263\n",
      "The private key combination might be: user A = 153, user B = 27\n",
      "The private key combination might be: user A = 153, user B = 100\n",
      "The private key combination might be: user A = 153, user B = 173\n",
      "The private key combination might be: user A = 153, user B = 246\n",
      "The private key combination might be: user A = 154, user B = 10\n",
      "The private key combination might be: user A = 154, user B = 83\n",
      "The private key combination might be: user A = 154, user B = 156\n",
      "The private key combination might be: user A = 154, user B = 229\n",
      "The private key combination might be: user A = 155, user B = 66\n",
      "The private key combination might be: user A = 155, user B = 139\n",
      "The private key combination might be: user A = 155, user B = 212\n",
      "The private key combination might be: user A = 155, user B = 285\n",
      "The private key combination might be: user A = 156, user B = 49\n",
      "The private key combination might be: user A = 156, user B = 122\n",
      "The private key combination might be: user A = 156, user B = 195\n",
      "The private key combination might be: user A = 156, user B = 268\n",
      "The private key combination might be: user A = 157, user B = 32\n",
      "The private key combination might be: user A = 157, user B = 105\n",
      "The private key combination might be: user A = 157, user B = 178\n",
      "The private key combination might be: user A = 157, user B = 251\n",
      "The private key combination might be: user A = 158, user B = 15\n",
      "The private key combination might be: user A = 158, user B = 88\n",
      "The private key combination might be: user A = 158, user B = 161\n",
      "The private key combination might be: user A = 158, user B = 234\n",
      "The private key combination might be: user A = 159, user B = 71\n",
      "The private key combination might be: user A = 159, user B = 144\n",
      "The private key combination might be: user A = 159, user B = 217\n",
      "The private key combination might be: user A = 159, user B = 290\n",
      "The private key combination might be: user A = 160, user B = 54\n",
      "The private key combination might be: user A = 160, user B = 127\n",
      "The private key combination might be: user A = 160, user B = 200\n",
      "The private key combination might be: user A = 160, user B = 273\n",
      "The private key combination might be: user A = 161, user B = 37\n",
      "The private key combination might be: user A = 161, user B = 110\n",
      "The private key combination might be: user A = 161, user B = 183\n",
      "The private key combination might be: user A = 161, user B = 256\n",
      "The private key combination might be: user A = 162, user B = 20\n",
      "The private key combination might be: user A = 162, user B = 93\n",
      "The private key combination might be: user A = 162, user B = 166\n",
      "The private key combination might be: user A = 162, user B = 239\n",
      "The private key combination might be: user A = 163, user B = 3\n",
      "The private key combination might be: user A = 163, user B = 76\n",
      "The private key combination might be: user A = 163, user B = 149\n",
      "The private key combination might be: user A = 163, user B = 222\n",
      "The private key combination might be: user A = 164, user B = 59\n",
      "The private key combination might be: user A = 164, user B = 132\n",
      "The private key combination might be: user A = 164, user B = 205\n",
      "The private key combination might be: user A = 164, user B = 278\n",
      "The private key combination might be: user A = 165, user B = 42\n",
      "The private key combination might be: user A = 165, user B = 115\n",
      "The private key combination might be: user A = 165, user B = 188\n",
      "The private key combination might be: user A = 165, user B = 261\n",
      "The private key combination might be: user A = 166, user B = 25\n",
      "The private key combination might be: user A = 166, user B = 98\n",
      "The private key combination might be: user A = 166, user B = 171\n",
      "The private key combination might be: user A = 166, user B = 244\n",
      "The private key combination might be: user A = 167, user B = 8\n",
      "The private key combination might be: user A = 167, user B = 81\n",
      "The private key combination might be: user A = 167, user B = 154\n",
      "The private key combination might be: user A = 167, user B = 227\n",
      "The private key combination might be: user A = 168, user B = 64\n",
      "The private key combination might be: user A = 168, user B = 137\n",
      "The private key combination might be: user A = 168, user B = 210\n",
      "The private key combination might be: user A = 168, user B = 283\n",
      "The private key combination might be: user A = 169, user B = 47\n",
      "The private key combination might be: user A = 169, user B = 120\n",
      "The private key combination might be: user A = 169, user B = 193\n",
      "The private key combination might be: user A = 169, user B = 266\n",
      "The private key combination might be: user A = 170, user B = 30\n",
      "The private key combination might be: user A = 170, user B = 103\n",
      "The private key combination might be: user A = 170, user B = 176\n",
      "The private key combination might be: user A = 170, user B = 249\n",
      "The private key combination might be: user A = 171, user B = 13\n",
      "The private key combination might be: user A = 171, user B = 86\n",
      "The private key combination might be: user A = 171, user B = 159\n",
      "The private key combination might be: user A = 171, user B = 232\n",
      "The private key combination might be: user A = 172, user B = 69\n",
      "The private key combination might be: user A = 172, user B = 142\n",
      "The private key combination might be: user A = 172, user B = 215\n",
      "The private key combination might be: user A = 172, user B = 288\n",
      "The private key combination might be: user A = 173, user B = 52\n",
      "The private key combination might be: user A = 173, user B = 125\n",
      "The private key combination might be: user A = 173, user B = 198\n",
      "The private key combination might be: user A = 173, user B = 271\n",
      "The private key combination might be: user A = 174, user B = 35\n",
      "The private key combination might be: user A = 174, user B = 108\n",
      "The private key combination might be: user A = 174, user B = 181\n",
      "The private key combination might be: user A = 174, user B = 254\n",
      "The private key combination might be: user A = 175, user B = 18\n",
      "The private key combination might be: user A = 175, user B = 91\n",
      "The private key combination might be: user A = 175, user B = 164\n",
      "The private key combination might be: user A = 175, user B = 237\n",
      "The private key combination might be: user A = 176, user B = 1\n",
      "The private key combination might be: user A = 176, user B = 74\n",
      "The private key combination might be: user A = 176, user B = 147\n",
      "The private key combination might be: user A = 176, user B = 220\n",
      "The private key combination might be: user A = 177, user B = 57\n",
      "The private key combination might be: user A = 177, user B = 130\n",
      "The private key combination might be: user A = 177, user B = 203\n",
      "The private key combination might be: user A = 177, user B = 276\n",
      "The private key combination might be: user A = 178, user B = 40\n",
      "The private key combination might be: user A = 178, user B = 113\n",
      "The private key combination might be: user A = 178, user B = 186\n",
      "The private key combination might be: user A = 178, user B = 259\n",
      "The private key combination might be: user A = 179, user B = 23\n",
      "The private key combination might be: user A = 179, user B = 96\n",
      "The private key combination might be: user A = 179, user B = 169\n",
      "The private key combination might be: user A = 179, user B = 242\n",
      "The private key combination might be: user A = 180, user B = 6\n",
      "The private key combination might be: user A = 180, user B = 79\n",
      "The private key combination might be: user A = 180, user B = 152\n",
      "The private key combination might be: user A = 180, user B = 225\n",
      "The private key combination might be: user A = 181, user B = 62\n",
      "The private key combination might be: user A = 181, user B = 135\n",
      "The private key combination might be: user A = 181, user B = 208\n",
      "The private key combination might be: user A = 181, user B = 281\n",
      "The private key combination might be: user A = 182, user B = 45\n",
      "The private key combination might be: user A = 182, user B = 118\n",
      "The private key combination might be: user A = 182, user B = 191\n",
      "The private key combination might be: user A = 182, user B = 264\n",
      "The private key combination might be: user A = 183, user B = 28\n",
      "The private key combination might be: user A = 183, user B = 101\n",
      "The private key combination might be: user A = 183, user B = 174\n",
      "The private key combination might be: user A = 183, user B = 247\n",
      "The private key combination might be: user A = 184, user B = 11\n",
      "The private key combination might be: user A = 184, user B = 84\n",
      "The private key combination might be: user A = 184, user B = 157\n",
      "The private key combination might be: user A = 184, user B = 230\n",
      "The private key combination might be: user A = 185, user B = 67\n",
      "The private key combination might be: user A = 185, user B = 140\n",
      "The private key combination might be: user A = 185, user B = 213\n",
      "The private key combination might be: user A = 185, user B = 286\n",
      "The private key combination might be: user A = 186, user B = 50\n",
      "The private key combination might be: user A = 186, user B = 123\n",
      "The private key combination might be: user A = 186, user B = 196\n",
      "The private key combination might be: user A = 186, user B = 269\n",
      "The private key combination might be: user A = 187, user B = 33\n",
      "The private key combination might be: user A = 187, user B = 106\n",
      "The private key combination might be: user A = 187, user B = 179\n",
      "The private key combination might be: user A = 187, user B = 252\n",
      "The private key combination might be: user A = 188, user B = 16\n",
      "The private key combination might be: user A = 188, user B = 89\n",
      "The private key combination might be: user A = 188, user B = 162\n",
      "The private key combination might be: user A = 188, user B = 235\n",
      "The private key combination might be: user A = 189, user B = 72\n",
      "The private key combination might be: user A = 189, user B = 145\n",
      "The private key combination might be: user A = 189, user B = 218\n",
      "The private key combination might be: user A = 189, user B = 291\n",
      "The private key combination might be: user A = 190, user B = 55\n",
      "The private key combination might be: user A = 190, user B = 128\n",
      "The private key combination might be: user A = 190, user B = 201\n",
      "The private key combination might be: user A = 190, user B = 274\n",
      "The private key combination might be: user A = 191, user B = 38\n",
      "The private key combination might be: user A = 191, user B = 111\n",
      "The private key combination might be: user A = 191, user B = 184\n",
      "The private key combination might be: user A = 191, user B = 257\n",
      "The private key combination might be: user A = 192, user B = 21\n",
      "The private key combination might be: user A = 192, user B = 94\n",
      "The private key combination might be: user A = 192, user B = 167\n",
      "The private key combination might be: user A = 192, user B = 240\n",
      "The private key combination might be: user A = 193, user B = 4\n",
      "The private key combination might be: user A = 193, user B = 77\n",
      "The private key combination might be: user A = 193, user B = 150\n",
      "The private key combination might be: user A = 193, user B = 223\n",
      "The private key combination might be: user A = 194, user B = 60\n",
      "The private key combination might be: user A = 194, user B = 133\n",
      "The private key combination might be: user A = 194, user B = 206\n",
      "The private key combination might be: user A = 194, user B = 279\n",
      "The private key combination might be: user A = 195, user B = 43\n",
      "The private key combination might be: user A = 195, user B = 116\n",
      "The private key combination might be: user A = 195, user B = 189\n",
      "The private key combination might be: user A = 195, user B = 262\n",
      "The private key combination might be: user A = 196, user B = 26\n",
      "The private key combination might be: user A = 196, user B = 99\n",
      "The private key combination might be: user A = 196, user B = 172\n",
      "The private key combination might be: user A = 196, user B = 245\n",
      "The private key combination might be: user A = 197, user B = 9\n",
      "The private key combination might be: user A = 197, user B = 82\n",
      "The private key combination might be: user A = 197, user B = 155\n",
      "The private key combination might be: user A = 197, user B = 228\n",
      "The private key combination might be: user A = 198, user B = 65\n",
      "The private key combination might be: user A = 198, user B = 138\n",
      "The private key combination might be: user A = 198, user B = 211\n",
      "The private key combination might be: user A = 198, user B = 284\n",
      "The private key combination might be: user A = 199, user B = 48\n",
      "The private key combination might be: user A = 199, user B = 121\n",
      "The private key combination might be: user A = 199, user B = 194\n",
      "The private key combination might be: user A = 199, user B = 267\n",
      "The private key combination might be: user A = 200, user B = 31\n",
      "The private key combination might be: user A = 200, user B = 104\n",
      "The private key combination might be: user A = 200, user B = 177\n",
      "The private key combination might be: user A = 200, user B = 250\n",
      "The private key combination might be: user A = 201, user B = 14\n",
      "The private key combination might be: user A = 201, user B = 87\n",
      "The private key combination might be: user A = 201, user B = 160\n",
      "The private key combination might be: user A = 201, user B = 233\n",
      "The private key combination might be: user A = 202, user B = 70\n",
      "The private key combination might be: user A = 202, user B = 143\n",
      "The private key combination might be: user A = 202, user B = 216\n",
      "The private key combination might be: user A = 202, user B = 289\n",
      "The private key combination might be: user A = 203, user B = 53\n",
      "The private key combination might be: user A = 203, user B = 126\n",
      "The private key combination might be: user A = 203, user B = 199\n",
      "The private key combination might be: user A = 203, user B = 272\n",
      "The private key combination might be: user A = 204, user B = 36\n",
      "The private key combination might be: user A = 204, user B = 109\n",
      "The private key combination might be: user A = 204, user B = 182\n",
      "The private key combination might be: user A = 204, user B = 255\n",
      "The private key combination might be: user A = 205, user B = 19\n",
      "The private key combination might be: user A = 205, user B = 92\n",
      "The private key combination might be: user A = 205, user B = 165\n",
      "The private key combination might be: user A = 205, user B = 238\n",
      "The private key combination might be: user A = 206, user B = 2\n",
      "The private key combination might be: user A = 206, user B = 75\n",
      "The private key combination might be: user A = 206, user B = 148\n",
      "The private key combination might be: user A = 206, user B = 221\n",
      "The private key combination might be: user A = 207, user B = 58\n",
      "The private key combination might be: user A = 207, user B = 131\n",
      "The private key combination might be: user A = 207, user B = 204\n",
      "The private key combination might be: user A = 207, user B = 277\n",
      "The private key combination might be: user A = 208, user B = 41\n",
      "The private key combination might be: user A = 208, user B = 114\n",
      "The private key combination might be: user A = 208, user B = 187\n",
      "The private key combination might be: user A = 208, user B = 260\n",
      "The private key combination might be: user A = 209, user B = 24\n",
      "The private key combination might be: user A = 209, user B = 97\n",
      "The private key combination might be: user A = 209, user B = 170\n",
      "The private key combination might be: user A = 209, user B = 243\n",
      "The private key combination might be: user A = 210, user B = 7\n",
      "The private key combination might be: user A = 210, user B = 80\n",
      "The private key combination might be: user A = 210, user B = 153\n",
      "The private key combination might be: user A = 210, user B = 226\n",
      "The private key combination might be: user A = 211, user B = 63\n",
      "The private key combination might be: user A = 211, user B = 136\n",
      "The private key combination might be: user A = 211, user B = 209\n",
      "The private key combination might be: user A = 211, user B = 282\n",
      "The private key combination might be: user A = 212, user B = 46\n",
      "The private key combination might be: user A = 212, user B = 119\n",
      "The private key combination might be: user A = 212, user B = 192\n",
      "The private key combination might be: user A = 212, user B = 265\n",
      "The private key combination might be: user A = 213, user B = 29\n",
      "The private key combination might be: user A = 213, user B = 102\n",
      "The private key combination might be: user A = 213, user B = 175\n",
      "The private key combination might be: user A = 213, user B = 248\n",
      "The private key combination might be: user A = 214, user B = 12\n",
      "The private key combination might be: user A = 214, user B = 85\n",
      "The private key combination might be: user A = 214, user B = 158\n",
      "The private key combination might be: user A = 214, user B = 231\n",
      "The private key combination might be: user A = 215, user B = 68\n",
      "The private key combination might be: user A = 215, user B = 141\n",
      "The private key combination might be: user A = 215, user B = 214\n",
      "The private key combination might be: user A = 215, user B = 287\n",
      "The private key combination might be: user A = 216, user B = 51\n",
      "The private key combination might be: user A = 216, user B = 124\n",
      "The private key combination might be: user A = 216, user B = 197\n",
      "The private key combination might be: user A = 216, user B = 270\n",
      "The private key combination might be: user A = 217, user B = 34\n",
      "The private key combination might be: user A = 217, user B = 107\n",
      "The private key combination might be: user A = 217, user B = 180\n",
      "The private key combination might be: user A = 217, user B = 253\n",
      "The private key combination might be: user A = 218, user B = 17\n",
      "The private key combination might be: user A = 218, user B = 90\n",
      "The private key combination might be: user A = 218, user B = 163\n",
      "The private key combination might be: user A = 218, user B = 236\n",
      "The private key combination might be: user A = 219, user B = 73\n",
      "The private key combination might be: user A = 219, user B = 146\n",
      "The private key combination might be: user A = 219, user B = 219\n",
      "The private key combination might be: user A = 219, user B = 292\n",
      "The private key combination might be: user A = 220, user B = 56\n",
      "The private key combination might be: user A = 220, user B = 129\n",
      "The private key combination might be: user A = 220, user B = 202\n",
      "The private key combination might be: user A = 220, user B = 275\n",
      "The private key combination might be: user A = 221, user B = 39\n",
      "The private key combination might be: user A = 221, user B = 112\n",
      "The private key combination might be: user A = 221, user B = 185\n",
      "The private key combination might be: user A = 221, user B = 258\n",
      "The private key combination might be: user A = 222, user B = 22\n",
      "The private key combination might be: user A = 222, user B = 95\n",
      "The private key combination might be: user A = 222, user B = 168\n",
      "The private key combination might be: user A = 222, user B = 241\n",
      "The private key combination might be: user A = 223, user B = 5\n",
      "The private key combination might be: user A = 223, user B = 78\n",
      "The private key combination might be: user A = 223, user B = 151\n",
      "The private key combination might be: user A = 223, user B = 224\n",
      "The private key combination might be: user A = 224, user B = 61\n",
      "The private key combination might be: user A = 224, user B = 134\n",
      "The private key combination might be: user A = 224, user B = 207\n",
      "The private key combination might be: user A = 224, user B = 280\n",
      "The private key combination might be: user A = 225, user B = 44\n",
      "The private key combination might be: user A = 225, user B = 117\n",
      "The private key combination might be: user A = 225, user B = 190\n",
      "The private key combination might be: user A = 225, user B = 263\n",
      "The private key combination might be: user A = 226, user B = 27\n",
      "The private key combination might be: user A = 226, user B = 100\n",
      "The private key combination might be: user A = 226, user B = 173\n",
      "The private key combination might be: user A = 226, user B = 246\n",
      "The private key combination might be: user A = 227, user B = 10\n",
      "The private key combination might be: user A = 227, user B = 83\n",
      "The private key combination might be: user A = 227, user B = 156\n",
      "The private key combination might be: user A = 227, user B = 229\n",
      "The private key combination might be: user A = 228, user B = 66\n",
      "The private key combination might be: user A = 228, user B = 139\n",
      "The private key combination might be: user A = 228, user B = 212\n",
      "The private key combination might be: user A = 228, user B = 285\n",
      "The private key combination might be: user A = 229, user B = 49\n",
      "The private key combination might be: user A = 229, user B = 122\n",
      "The private key combination might be: user A = 229, user B = 195\n",
      "The private key combination might be: user A = 229, user B = 268\n",
      "The private key combination might be: user A = 230, user B = 32\n",
      "The private key combination might be: user A = 230, user B = 105\n",
      "The private key combination might be: user A = 230, user B = 178\n",
      "The private key combination might be: user A = 230, user B = 251\n",
      "The private key combination might be: user A = 231, user B = 15\n",
      "The private key combination might be: user A = 231, user B = 88\n",
      "The private key combination might be: user A = 231, user B = 161\n",
      "The private key combination might be: user A = 231, user B = 234\n",
      "The private key combination might be: user A = 232, user B = 71\n",
      "The private key combination might be: user A = 232, user B = 144\n",
      "The private key combination might be: user A = 232, user B = 217\n",
      "The private key combination might be: user A = 232, user B = 290\n",
      "The private key combination might be: user A = 233, user B = 54\n",
      "The private key combination might be: user A = 233, user B = 127\n",
      "The private key combination might be: user A = 233, user B = 200\n",
      "The private key combination might be: user A = 233, user B = 273\n",
      "The private key combination might be: user A = 234, user B = 37\n",
      "The private key combination might be: user A = 234, user B = 110\n",
      "The private key combination might be: user A = 234, user B = 183\n",
      "The private key combination might be: user A = 234, user B = 256\n",
      "The private key combination might be: user A = 235, user B = 20\n",
      "The private key combination might be: user A = 235, user B = 93\n",
      "The private key combination might be: user A = 235, user B = 166\n",
      "The private key combination might be: user A = 235, user B = 239\n",
      "The private key combination might be: user A = 236, user B = 3\n",
      "The private key combination might be: user A = 236, user B = 76\n",
      "The private key combination might be: user A = 236, user B = 149\n",
      "The private key combination might be: user A = 236, user B = 222\n",
      "The private key combination might be: user A = 237, user B = 59\n",
      "The private key combination might be: user A = 237, user B = 132\n",
      "The private key combination might be: user A = 237, user B = 205\n",
      "The private key combination might be: user A = 237, user B = 278\n",
      "The private key combination might be: user A = 238, user B = 42\n",
      "The private key combination might be: user A = 238, user B = 115\n",
      "The private key combination might be: user A = 238, user B = 188\n",
      "The private key combination might be: user A = 238, user B = 261\n",
      "The private key combination might be: user A = 239, user B = 25\n",
      "The private key combination might be: user A = 239, user B = 98\n",
      "The private key combination might be: user A = 239, user B = 171\n",
      "The private key combination might be: user A = 239, user B = 244\n",
      "The private key combination might be: user A = 240, user B = 8\n",
      "The private key combination might be: user A = 240, user B = 81\n",
      "The private key combination might be: user A = 240, user B = 154\n",
      "The private key combination might be: user A = 240, user B = 227\n",
      "The private key combination might be: user A = 241, user B = 64\n",
      "The private key combination might be: user A = 241, user B = 137\n",
      "The private key combination might be: user A = 241, user B = 210\n",
      "The private key combination might be: user A = 241, user B = 283\n",
      "The private key combination might be: user A = 242, user B = 47\n",
      "The private key combination might be: user A = 242, user B = 120\n",
      "The private key combination might be: user A = 242, user B = 193\n",
      "The private key combination might be: user A = 242, user B = 266\n",
      "The private key combination might be: user A = 243, user B = 30\n",
      "The private key combination might be: user A = 243, user B = 103\n",
      "The private key combination might be: user A = 243, user B = 176\n",
      "The private key combination might be: user A = 243, user B = 249\n",
      "The private key combination might be: user A = 244, user B = 13\n",
      "The private key combination might be: user A = 244, user B = 86\n",
      "The private key combination might be: user A = 244, user B = 159\n",
      "The private key combination might be: user A = 244, user B = 232\n",
      "The private key combination might be: user A = 245, user B = 69\n",
      "The private key combination might be: user A = 245, user B = 142\n",
      "The private key combination might be: user A = 245, user B = 215\n",
      "The private key combination might be: user A = 245, user B = 288\n",
      "The private key combination might be: user A = 246, user B = 52\n",
      "The private key combination might be: user A = 246, user B = 125\n",
      "The private key combination might be: user A = 246, user B = 198\n",
      "The private key combination might be: user A = 246, user B = 271\n",
      "The private key combination might be: user A = 247, user B = 35\n",
      "The private key combination might be: user A = 247, user B = 108\n",
      "The private key combination might be: user A = 247, user B = 181\n",
      "The private key combination might be: user A = 247, user B = 254\n",
      "The private key combination might be: user A = 248, user B = 18\n",
      "The private key combination might be: user A = 248, user B = 91\n",
      "The private key combination might be: user A = 248, user B = 164\n",
      "The private key combination might be: user A = 248, user B = 237\n",
      "The private key combination might be: user A = 249, user B = 1\n",
      "The private key combination might be: user A = 249, user B = 74\n",
      "The private key combination might be: user A = 249, user B = 147\n",
      "The private key combination might be: user A = 249, user B = 220\n",
      "The private key combination might be: user A = 250, user B = 57\n",
      "The private key combination might be: user A = 250, user B = 130\n",
      "The private key combination might be: user A = 250, user B = 203\n",
      "The private key combination might be: user A = 250, user B = 276\n",
      "The private key combination might be: user A = 251, user B = 40\n",
      "The private key combination might be: user A = 251, user B = 113\n",
      "The private key combination might be: user A = 251, user B = 186\n",
      "The private key combination might be: user A = 251, user B = 259\n",
      "The private key combination might be: user A = 252, user B = 23\n",
      "The private key combination might be: user A = 252, user B = 96\n",
      "The private key combination might be: user A = 252, user B = 169\n",
      "The private key combination might be: user A = 252, user B = 242\n",
      "The private key combination might be: user A = 253, user B = 6\n",
      "The private key combination might be: user A = 253, user B = 79\n",
      "The private key combination might be: user A = 253, user B = 152\n",
      "The private key combination might be: user A = 253, user B = 225\n",
      "The private key combination might be: user A = 254, user B = 62\n",
      "The private key combination might be: user A = 254, user B = 135\n",
      "The private key combination might be: user A = 254, user B = 208\n",
      "The private key combination might be: user A = 254, user B = 281\n",
      "The private key combination might be: user A = 255, user B = 45\n",
      "The private key combination might be: user A = 255, user B = 118\n",
      "The private key combination might be: user A = 255, user B = 191\n",
      "The private key combination might be: user A = 255, user B = 264\n",
      "The private key combination might be: user A = 256, user B = 28\n",
      "The private key combination might be: user A = 256, user B = 101\n",
      "The private key combination might be: user A = 256, user B = 174\n",
      "The private key combination might be: user A = 256, user B = 247\n",
      "The private key combination might be: user A = 257, user B = 11\n",
      "The private key combination might be: user A = 257, user B = 84\n",
      "The private key combination might be: user A = 257, user B = 157\n",
      "The private key combination might be: user A = 257, user B = 230\n",
      "The private key combination might be: user A = 258, user B = 67\n",
      "The private key combination might be: user A = 258, user B = 140\n",
      "The private key combination might be: user A = 258, user B = 213\n",
      "The private key combination might be: user A = 258, user B = 286\n",
      "The private key combination might be: user A = 259, user B = 50\n",
      "The private key combination might be: user A = 259, user B = 123\n",
      "The private key combination might be: user A = 259, user B = 196\n",
      "The private key combination might be: user A = 259, user B = 269\n",
      "The private key combination might be: user A = 260, user B = 33\n",
      "The private key combination might be: user A = 260, user B = 106\n",
      "The private key combination might be: user A = 260, user B = 179\n",
      "The private key combination might be: user A = 260, user B = 252\n",
      "The private key combination might be: user A = 261, user B = 16\n",
      "The private key combination might be: user A = 261, user B = 89\n",
      "The private key combination might be: user A = 261, user B = 162\n",
      "The private key combination might be: user A = 261, user B = 235\n",
      "The private key combination might be: user A = 262, user B = 72\n",
      "The private key combination might be: user A = 262, user B = 145\n",
      "The private key combination might be: user A = 262, user B = 218\n",
      "The private key combination might be: user A = 262, user B = 291\n",
      "The private key combination might be: user A = 263, user B = 55\n",
      "The private key combination might be: user A = 263, user B = 128\n",
      "The private key combination might be: user A = 263, user B = 201\n",
      "The private key combination might be: user A = 263, user B = 274\n",
      "The private key combination might be: user A = 264, user B = 38\n",
      "The private key combination might be: user A = 264, user B = 111\n",
      "The private key combination might be: user A = 264, user B = 184\n",
      "The private key combination might be: user A = 264, user B = 257\n",
      "The private key combination might be: user A = 265, user B = 21\n",
      "The private key combination might be: user A = 265, user B = 94\n",
      "The private key combination might be: user A = 265, user B = 167\n",
      "The private key combination might be: user A = 265, user B = 240\n",
      "The private key combination might be: user A = 266, user B = 4\n",
      "The private key combination might be: user A = 266, user B = 77\n",
      "The private key combination might be: user A = 266, user B = 150\n",
      "The private key combination might be: user A = 266, user B = 223\n",
      "The private key combination might be: user A = 267, user B = 60\n",
      "The private key combination might be: user A = 267, user B = 133\n",
      "The private key combination might be: user A = 267, user B = 206\n",
      "The private key combination might be: user A = 267, user B = 279\n",
      "The private key combination might be: user A = 268, user B = 43\n",
      "The private key combination might be: user A = 268, user B = 116\n",
      "The private key combination might be: user A = 268, user B = 189\n",
      "The private key combination might be: user A = 268, user B = 262\n",
      "The private key combination might be: user A = 269, user B = 26\n",
      "The private key combination might be: user A = 269, user B = 99\n",
      "The private key combination might be: user A = 269, user B = 172\n",
      "The private key combination might be: user A = 269, user B = 245\n",
      "The private key combination might be: user A = 270, user B = 9\n",
      "The private key combination might be: user A = 270, user B = 82\n",
      "The private key combination might be: user A = 270, user B = 155\n",
      "The private key combination might be: user A = 270, user B = 228\n",
      "The private key combination might be: user A = 271, user B = 65\n",
      "The private key combination might be: user A = 271, user B = 138\n",
      "The private key combination might be: user A = 271, user B = 211\n",
      "The private key combination might be: user A = 271, user B = 284\n",
      "The private key combination might be: user A = 272, user B = 48\n",
      "The private key combination might be: user A = 272, user B = 121\n",
      "The private key combination might be: user A = 272, user B = 194\n",
      "The private key combination might be: user A = 272, user B = 267\n",
      "The private key combination might be: user A = 273, user B = 31\n",
      "The private key combination might be: user A = 273, user B = 104\n",
      "The private key combination might be: user A = 273, user B = 177\n",
      "The private key combination might be: user A = 273, user B = 250\n",
      "The private key combination might be: user A = 274, user B = 14\n",
      "The private key combination might be: user A = 274, user B = 87\n",
      "The private key combination might be: user A = 274, user B = 160\n",
      "The private key combination might be: user A = 274, user B = 233\n",
      "The private key combination might be: user A = 275, user B = 70\n",
      "The private key combination might be: user A = 275, user B = 143\n",
      "The private key combination might be: user A = 275, user B = 216\n",
      "The private key combination might be: user A = 275, user B = 289\n",
      "The private key combination might be: user A = 276, user B = 53\n",
      "The private key combination might be: user A = 276, user B = 126\n",
      "The private key combination might be: user A = 276, user B = 199\n",
      "The private key combination might be: user A = 276, user B = 272\n",
      "The private key combination might be: user A = 277, user B = 36\n",
      "The private key combination might be: user A = 277, user B = 109\n",
      "The private key combination might be: user A = 277, user B = 182\n",
      "The private key combination might be: user A = 277, user B = 255\n",
      "The private key combination might be: user A = 278, user B = 19\n",
      "The private key combination might be: user A = 278, user B = 92\n",
      "The private key combination might be: user A = 278, user B = 165\n",
      "The private key combination might be: user A = 278, user B = 238\n",
      "The private key combination might be: user A = 279, user B = 2\n",
      "The private key combination might be: user A = 279, user B = 75\n",
      "The private key combination might be: user A = 279, user B = 148\n",
      "The private key combination might be: user A = 279, user B = 221\n",
      "The private key combination might be: user A = 280, user B = 58\n",
      "The private key combination might be: user A = 280, user B = 131\n",
      "The private key combination might be: user A = 280, user B = 204\n",
      "The private key combination might be: user A = 280, user B = 277\n",
      "The private key combination might be: user A = 281, user B = 41\n",
      "The private key combination might be: user A = 281, user B = 114\n",
      "The private key combination might be: user A = 281, user B = 187\n",
      "The private key combination might be: user A = 281, user B = 260\n",
      "The private key combination might be: user A = 282, user B = 24\n",
      "The private key combination might be: user A = 282, user B = 97\n",
      "The private key combination might be: user A = 282, user B = 170\n",
      "The private key combination might be: user A = 282, user B = 243\n",
      "The private key combination might be: user A = 283, user B = 7\n",
      "The private key combination might be: user A = 283, user B = 80\n",
      "The private key combination might be: user A = 283, user B = 153\n",
      "The private key combination might be: user A = 283, user B = 226\n",
      "The private key combination might be: user A = 284, user B = 63\n",
      "The private key combination might be: user A = 284, user B = 136\n",
      "The private key combination might be: user A = 284, user B = 209\n",
      "The private key combination might be: user A = 284, user B = 282\n",
      "The private key combination might be: user A = 285, user B = 46\n",
      "The private key combination might be: user A = 285, user B = 119\n",
      "The private key combination might be: user A = 285, user B = 192\n",
      "The private key combination might be: user A = 285, user B = 265\n",
      "The private key combination might be: user A = 286, user B = 29\n",
      "The private key combination might be: user A = 286, user B = 102\n",
      "The private key combination might be: user A = 286, user B = 175\n",
      "The private key combination might be: user A = 286, user B = 248\n",
      "The private key combination might be: user A = 287, user B = 12\n",
      "The private key combination might be: user A = 287, user B = 85\n",
      "The private key combination might be: user A = 287, user B = 158\n",
      "The private key combination might be: user A = 287, user B = 231\n",
      "The private key combination might be: user A = 288, user B = 68\n",
      "The private key combination might be: user A = 288, user B = 141\n",
      "The private key combination might be: user A = 288, user B = 214\n",
      "The private key combination might be: user A = 288, user B = 287\n",
      "The private key combination might be: user A = 289, user B = 51\n",
      "The private key combination might be: user A = 289, user B = 124\n",
      "The private key combination might be: user A = 289, user B = 197\n",
      "The private key combination might be: user A = 289, user B = 270\n",
      "The private key combination might be: user A = 290, user B = 34\n",
      "The private key combination might be: user A = 290, user B = 107\n",
      "The private key combination might be: user A = 290, user B = 180\n",
      "The private key combination might be: user A = 290, user B = 253\n",
      "The private key combination might be: user A = 291, user B = 17\n",
      "The private key combination might be: user A = 291, user B = 90\n",
      "The private key combination might be: user A = 291, user B = 163\n",
      "The private key combination might be: user A = 291, user B = 236\n",
      "The private key combination might be: user A = 292, user B = 73\n",
      "The private key combination might be: user A = 292, user B = 146\n",
      "The private key combination might be: user A = 292, user B = 219\n",
      "The private key combination might be: user A = 292, user B = 292\n",
      "The private key of user A is one of: [60]\n",
      "The private key of user A is one of: [48]\n"
     ]
    }
   ],
   "source": [
    "hacking_the_df(293, 47, 60, 48)"
   ]
  },
  {
   "cell_type": "code",
   "execution_count": 93,
   "id": "404acc5a-9abc-4206-8224-df04264b6bc9",
   "metadata": {},
   "outputs": [
    {
     "name": "stdout",
     "output_type": "stream",
     "text": [
      "Yes, p 881 is prime.\n",
      "Yes, g 131 is prime and <p.\n",
      "The chosen private keys for user A 48 and user B 2 meet the criterias.\n",
      "The public key of user A which he gives to B is: 16\n",
      "The public key of user B which he gives to A is: 422\n",
      "The private key combination might be: user A = 1, user B = 24\n",
      "The private key combination might be: user A = 1, user B = 464\n",
      "The private key combination might be: user A = 2, user B = 48\n",
      "The private key combination might be: user A = 2, user B = 488\n",
      "The private key combination might be: user A = 3, user B = 72\n",
      "The private key combination might be: user A = 3, user B = 512\n",
      "The private key combination might be: user A = 4, user B = 96\n",
      "The private key combination might be: user A = 4, user B = 536\n",
      "The private key combination might be: user A = 5, user B = 120\n",
      "The private key combination might be: user A = 5, user B = 560\n",
      "The private key combination might be: user A = 6, user B = 144\n",
      "The private key combination might be: user A = 6, user B = 584\n",
      "The private key combination might be: user A = 7, user B = 168\n",
      "The private key combination might be: user A = 7, user B = 608\n",
      "The private key combination might be: user A = 8, user B = 192\n",
      "The private key combination might be: user A = 8, user B = 632\n",
      "The private key combination might be: user A = 9, user B = 216\n",
      "The private key combination might be: user A = 9, user B = 656\n",
      "The private key combination might be: user A = 10, user B = 240\n",
      "The private key combination might be: user A = 10, user B = 680\n",
      "The private key combination might be: user A = 11, user B = 264\n",
      "The private key combination might be: user A = 11, user B = 704\n",
      "The private key combination might be: user A = 12, user B = 288\n",
      "The private key combination might be: user A = 12, user B = 728\n",
      "The private key combination might be: user A = 13, user B = 312\n",
      "The private key combination might be: user A = 13, user B = 752\n",
      "The private key combination might be: user A = 14, user B = 336\n",
      "The private key combination might be: user A = 14, user B = 776\n",
      "The private key combination might be: user A = 15, user B = 360\n",
      "The private key combination might be: user A = 15, user B = 800\n",
      "The private key combination might be: user A = 16, user B = 384\n",
      "The private key combination might be: user A = 16, user B = 824\n",
      "The private key combination might be: user A = 17, user B = 408\n",
      "The private key combination might be: user A = 17, user B = 848\n",
      "The private key combination might be: user A = 18, user B = 432\n",
      "The private key combination might be: user A = 18, user B = 872\n",
      "The private key combination might be: user A = 19, user B = 16\n",
      "The private key combination might be: user A = 19, user B = 456\n",
      "The private key combination might be: user A = 20, user B = 40\n",
      "The private key combination might be: user A = 20, user B = 480\n",
      "The private key combination might be: user A = 21, user B = 64\n",
      "The private key combination might be: user A = 21, user B = 504\n",
      "The private key combination might be: user A = 22, user B = 88\n",
      "The private key combination might be: user A = 22, user B = 528\n",
      "The private key combination might be: user A = 23, user B = 112\n",
      "The private key combination might be: user A = 23, user B = 552\n",
      "The private key combination might be: user A = 24, user B = 136\n",
      "The private key combination might be: user A = 24, user B = 576\n",
      "The private key combination might be: user A = 25, user B = 160\n",
      "The private key combination might be: user A = 25, user B = 600\n",
      "The private key combination might be: user A = 26, user B = 184\n",
      "The private key combination might be: user A = 26, user B = 624\n",
      "The private key combination might be: user A = 27, user B = 208\n",
      "The private key combination might be: user A = 27, user B = 648\n",
      "The private key combination might be: user A = 28, user B = 232\n",
      "The private key combination might be: user A = 28, user B = 672\n",
      "The private key combination might be: user A = 29, user B = 256\n",
      "The private key combination might be: user A = 29, user B = 696\n",
      "The private key combination might be: user A = 30, user B = 280\n",
      "The private key combination might be: user A = 30, user B = 720\n",
      "The private key combination might be: user A = 31, user B = 304\n",
      "The private key combination might be: user A = 31, user B = 744\n",
      "The private key combination might be: user A = 32, user B = 328\n",
      "The private key combination might be: user A = 32, user B = 768\n",
      "The private key combination might be: user A = 33, user B = 352\n",
      "The private key combination might be: user A = 33, user B = 792\n",
      "The private key combination might be: user A = 34, user B = 376\n",
      "The private key combination might be: user A = 34, user B = 816\n",
      "The private key combination might be: user A = 35, user B = 400\n",
      "The private key combination might be: user A = 35, user B = 840\n",
      "The private key combination might be: user A = 36, user B = 424\n",
      "The private key combination might be: user A = 36, user B = 864\n",
      "The private key combination might be: user A = 37, user B = 8\n",
      "The private key combination might be: user A = 37, user B = 448\n",
      "The private key combination might be: user A = 38, user B = 32\n",
      "The private key combination might be: user A = 38, user B = 472\n",
      "The private key combination might be: user A = 39, user B = 56\n",
      "The private key combination might be: user A = 39, user B = 496\n",
      "The private key combination might be: user A = 40, user B = 80\n",
      "The private key combination might be: user A = 40, user B = 520\n",
      "The private key combination might be: user A = 41, user B = 104\n",
      "The private key combination might be: user A = 41, user B = 544\n",
      "The private key combination might be: user A = 42, user B = 128\n",
      "The private key combination might be: user A = 42, user B = 568\n",
      "The private key combination might be: user A = 43, user B = 152\n",
      "The private key combination might be: user A = 43, user B = 592\n",
      "The private key combination might be: user A = 44, user B = 176\n",
      "The private key combination might be: user A = 44, user B = 616\n",
      "The private key combination might be: user A = 45, user B = 200\n",
      "The private key combination might be: user A = 45, user B = 640\n",
      "The private key combination might be: user A = 46, user B = 224\n",
      "The private key combination might be: user A = 46, user B = 664\n",
      "The private key combination might be: user A = 47, user B = 248\n",
      "The private key combination might be: user A = 47, user B = 688\n",
      "The private key combination might be: user A = 48, user B = 272\n",
      "The private key combination might be: user A = 48, user B = 712\n",
      "The private key combination might be: user A = 49, user B = 296\n",
      "The private key combination might be: user A = 49, user B = 736\n",
      "The private key combination might be: user A = 50, user B = 320\n",
      "The private key combination might be: user A = 50, user B = 760\n",
      "The private key combination might be: user A = 51, user B = 344\n",
      "The private key combination might be: user A = 51, user B = 784\n",
      "The private key combination might be: user A = 52, user B = 368\n",
      "The private key combination might be: user A = 52, user B = 808\n",
      "The private key combination might be: user A = 53, user B = 392\n",
      "The private key combination might be: user A = 53, user B = 832\n",
      "The private key combination might be: user A = 54, user B = 416\n",
      "The private key combination might be: user A = 54, user B = 856\n",
      "The private key combination might be: user A = 55, user B = 440\n",
      "The private key combination might be: user A = 55, user B = 880\n",
      "The private key combination might be: user A = 56, user B = 24\n",
      "The private key combination might be: user A = 56, user B = 464\n",
      "The private key combination might be: user A = 57, user B = 48\n",
      "The private key combination might be: user A = 57, user B = 488\n",
      "The private key combination might be: user A = 58, user B = 72\n",
      "The private key combination might be: user A = 58, user B = 512\n",
      "The private key combination might be: user A = 59, user B = 96\n",
      "The private key combination might be: user A = 59, user B = 536\n",
      "The private key combination might be: user A = 60, user B = 120\n",
      "The private key combination might be: user A = 60, user B = 560\n",
      "The private key combination might be: user A = 61, user B = 144\n",
      "The private key combination might be: user A = 61, user B = 584\n",
      "The private key combination might be: user A = 62, user B = 168\n",
      "The private key combination might be: user A = 62, user B = 608\n",
      "The private key combination might be: user A = 63, user B = 192\n",
      "The private key combination might be: user A = 63, user B = 632\n",
      "The private key combination might be: user A = 64, user B = 216\n",
      "The private key combination might be: user A = 64, user B = 656\n",
      "The private key combination might be: user A = 65, user B = 240\n",
      "The private key combination might be: user A = 65, user B = 680\n",
      "The private key combination might be: user A = 66, user B = 264\n",
      "The private key combination might be: user A = 66, user B = 704\n",
      "The private key combination might be: user A = 67, user B = 288\n",
      "The private key combination might be: user A = 67, user B = 728\n",
      "The private key combination might be: user A = 68, user B = 312\n",
      "The private key combination might be: user A = 68, user B = 752\n",
      "The private key combination might be: user A = 69, user B = 336\n",
      "The private key combination might be: user A = 69, user B = 776\n",
      "The private key combination might be: user A = 70, user B = 360\n",
      "The private key combination might be: user A = 70, user B = 800\n",
      "The private key combination might be: user A = 71, user B = 384\n",
      "The private key combination might be: user A = 71, user B = 824\n",
      "The private key combination might be: user A = 72, user B = 408\n",
      "The private key combination might be: user A = 72, user B = 848\n",
      "The private key combination might be: user A = 73, user B = 432\n",
      "The private key combination might be: user A = 73, user B = 872\n",
      "The private key combination might be: user A = 74, user B = 16\n",
      "The private key combination might be: user A = 74, user B = 456\n",
      "The private key combination might be: user A = 75, user B = 40\n",
      "The private key combination might be: user A = 75, user B = 480\n",
      "The private key combination might be: user A = 76, user B = 64\n",
      "The private key combination might be: user A = 76, user B = 504\n",
      "The private key combination might be: user A = 77, user B = 88\n",
      "The private key combination might be: user A = 77, user B = 528\n",
      "The private key combination might be: user A = 78, user B = 112\n",
      "The private key combination might be: user A = 78, user B = 552\n",
      "The private key combination might be: user A = 79, user B = 136\n",
      "The private key combination might be: user A = 79, user B = 576\n",
      "The private key combination might be: user A = 80, user B = 160\n",
      "The private key combination might be: user A = 80, user B = 600\n",
      "The private key combination might be: user A = 81, user B = 184\n",
      "The private key combination might be: user A = 81, user B = 624\n",
      "The private key combination might be: user A = 82, user B = 208\n",
      "The private key combination might be: user A = 82, user B = 648\n",
      "The private key combination might be: user A = 83, user B = 232\n",
      "The private key combination might be: user A = 83, user B = 672\n",
      "The private key combination might be: user A = 84, user B = 256\n",
      "The private key combination might be: user A = 84, user B = 696\n",
      "The private key combination might be: user A = 85, user B = 280\n",
      "The private key combination might be: user A = 85, user B = 720\n",
      "The private key combination might be: user A = 86, user B = 304\n",
      "The private key combination might be: user A = 86, user B = 744\n",
      "The private key combination might be: user A = 87, user B = 328\n",
      "The private key combination might be: user A = 87, user B = 768\n",
      "The private key combination might be: user A = 88, user B = 352\n",
      "The private key combination might be: user A = 88, user B = 792\n",
      "The private key combination might be: user A = 89, user B = 376\n",
      "The private key combination might be: user A = 89, user B = 816\n",
      "The private key combination might be: user A = 90, user B = 400\n",
      "The private key combination might be: user A = 90, user B = 840\n",
      "The private key combination might be: user A = 91, user B = 424\n",
      "The private key combination might be: user A = 91, user B = 864\n",
      "The private key combination might be: user A = 92, user B = 8\n",
      "The private key combination might be: user A = 92, user B = 448\n",
      "The private key combination might be: user A = 93, user B = 32\n",
      "The private key combination might be: user A = 93, user B = 472\n",
      "The private key combination might be: user A = 94, user B = 56\n",
      "The private key combination might be: user A = 94, user B = 496\n",
      "The private key combination might be: user A = 95, user B = 80\n",
      "The private key combination might be: user A = 95, user B = 520\n",
      "The private key combination might be: user A = 96, user B = 104\n",
      "The private key combination might be: user A = 96, user B = 544\n",
      "The private key combination might be: user A = 97, user B = 128\n",
      "The private key combination might be: user A = 97, user B = 568\n",
      "The private key combination might be: user A = 98, user B = 152\n",
      "The private key combination might be: user A = 98, user B = 592\n",
      "The private key combination might be: user A = 99, user B = 176\n",
      "The private key combination might be: user A = 99, user B = 616\n",
      "The private key combination might be: user A = 100, user B = 200\n",
      "The private key combination might be: user A = 100, user B = 640\n",
      "The private key combination might be: user A = 101, user B = 224\n",
      "The private key combination might be: user A = 101, user B = 664\n",
      "The private key combination might be: user A = 102, user B = 248\n",
      "The private key combination might be: user A = 102, user B = 688\n",
      "The private key combination might be: user A = 103, user B = 272\n",
      "The private key combination might be: user A = 103, user B = 712\n",
      "The private key combination might be: user A = 104, user B = 296\n",
      "The private key combination might be: user A = 104, user B = 736\n",
      "The private key combination might be: user A = 105, user B = 320\n",
      "The private key combination might be: user A = 105, user B = 760\n",
      "The private key combination might be: user A = 106, user B = 344\n",
      "The private key combination might be: user A = 106, user B = 784\n",
      "The private key combination might be: user A = 107, user B = 368\n",
      "The private key combination might be: user A = 107, user B = 808\n",
      "The private key combination might be: user A = 108, user B = 392\n",
      "The private key combination might be: user A = 108, user B = 832\n",
      "The private key combination might be: user A = 109, user B = 416\n",
      "The private key combination might be: user A = 109, user B = 856\n",
      "The private key combination might be: user A = 110, user B = 440\n",
      "The private key combination might be: user A = 110, user B = 880\n",
      "The private key combination might be: user A = 111, user B = 24\n",
      "The private key combination might be: user A = 111, user B = 464\n",
      "The private key combination might be: user A = 112, user B = 48\n",
      "The private key combination might be: user A = 112, user B = 488\n",
      "The private key combination might be: user A = 113, user B = 72\n",
      "The private key combination might be: user A = 113, user B = 512\n",
      "The private key combination might be: user A = 114, user B = 96\n",
      "The private key combination might be: user A = 114, user B = 536\n",
      "The private key combination might be: user A = 115, user B = 120\n",
      "The private key combination might be: user A = 115, user B = 560\n",
      "The private key combination might be: user A = 116, user B = 144\n",
      "The private key combination might be: user A = 116, user B = 584\n",
      "The private key combination might be: user A = 117, user B = 168\n",
      "The private key combination might be: user A = 117, user B = 608\n",
      "The private key combination might be: user A = 118, user B = 192\n",
      "The private key combination might be: user A = 118, user B = 632\n",
      "The private key combination might be: user A = 119, user B = 216\n",
      "The private key combination might be: user A = 119, user B = 656\n",
      "The private key combination might be: user A = 120, user B = 240\n",
      "The private key combination might be: user A = 120, user B = 680\n",
      "The private key combination might be: user A = 121, user B = 264\n",
      "The private key combination might be: user A = 121, user B = 704\n",
      "The private key combination might be: user A = 122, user B = 288\n",
      "The private key combination might be: user A = 122, user B = 728\n",
      "The private key combination might be: user A = 123, user B = 312\n",
      "The private key combination might be: user A = 123, user B = 752\n",
      "The private key combination might be: user A = 124, user B = 336\n",
      "The private key combination might be: user A = 124, user B = 776\n",
      "The private key combination might be: user A = 125, user B = 360\n",
      "The private key combination might be: user A = 125, user B = 800\n",
      "The private key combination might be: user A = 126, user B = 384\n",
      "The private key combination might be: user A = 126, user B = 824\n",
      "The private key combination might be: user A = 127, user B = 408\n",
      "The private key combination might be: user A = 127, user B = 848\n",
      "The private key combination might be: user A = 128, user B = 432\n",
      "The private key combination might be: user A = 128, user B = 872\n",
      "The private key combination might be: user A = 129, user B = 16\n",
      "The private key combination might be: user A = 129, user B = 456\n",
      "The private key combination might be: user A = 130, user B = 40\n",
      "The private key combination might be: user A = 130, user B = 480\n",
      "The private key combination might be: user A = 131, user B = 64\n",
      "The private key combination might be: user A = 131, user B = 504\n",
      "The private key combination might be: user A = 132, user B = 88\n",
      "The private key combination might be: user A = 132, user B = 528\n",
      "The private key combination might be: user A = 133, user B = 112\n",
      "The private key combination might be: user A = 133, user B = 552\n",
      "The private key combination might be: user A = 134, user B = 136\n",
      "The private key combination might be: user A = 134, user B = 576\n",
      "The private key combination might be: user A = 135, user B = 160\n",
      "The private key combination might be: user A = 135, user B = 600\n",
      "The private key combination might be: user A = 136, user B = 184\n",
      "The private key combination might be: user A = 136, user B = 624\n",
      "The private key combination might be: user A = 137, user B = 208\n",
      "The private key combination might be: user A = 137, user B = 648\n",
      "The private key combination might be: user A = 138, user B = 232\n",
      "The private key combination might be: user A = 138, user B = 672\n",
      "The private key combination might be: user A = 139, user B = 256\n",
      "The private key combination might be: user A = 139, user B = 696\n",
      "The private key combination might be: user A = 140, user B = 280\n",
      "The private key combination might be: user A = 140, user B = 720\n",
      "The private key combination might be: user A = 141, user B = 304\n",
      "The private key combination might be: user A = 141, user B = 744\n",
      "The private key combination might be: user A = 142, user B = 328\n",
      "The private key combination might be: user A = 142, user B = 768\n",
      "The private key combination might be: user A = 143, user B = 352\n",
      "The private key combination might be: user A = 143, user B = 792\n",
      "The private key combination might be: user A = 144, user B = 376\n",
      "The private key combination might be: user A = 144, user B = 816\n",
      "The private key combination might be: user A = 145, user B = 400\n",
      "The private key combination might be: user A = 145, user B = 840\n",
      "The private key combination might be: user A = 146, user B = 424\n",
      "The private key combination might be: user A = 146, user B = 864\n",
      "The private key combination might be: user A = 147, user B = 8\n",
      "The private key combination might be: user A = 147, user B = 448\n",
      "The private key combination might be: user A = 148, user B = 32\n",
      "The private key combination might be: user A = 148, user B = 472\n",
      "The private key combination might be: user A = 149, user B = 56\n",
      "The private key combination might be: user A = 149, user B = 496\n",
      "The private key combination might be: user A = 150, user B = 80\n",
      "The private key combination might be: user A = 150, user B = 520\n",
      "The private key combination might be: user A = 151, user B = 104\n",
      "The private key combination might be: user A = 151, user B = 544\n",
      "The private key combination might be: user A = 152, user B = 128\n",
      "The private key combination might be: user A = 152, user B = 568\n",
      "The private key combination might be: user A = 153, user B = 152\n",
      "The private key combination might be: user A = 153, user B = 592\n",
      "The private key combination might be: user A = 154, user B = 176\n",
      "The private key combination might be: user A = 154, user B = 616\n",
      "The private key combination might be: user A = 155, user B = 200\n",
      "The private key combination might be: user A = 155, user B = 640\n",
      "The private key combination might be: user A = 156, user B = 224\n",
      "The private key combination might be: user A = 156, user B = 664\n",
      "The private key combination might be: user A = 157, user B = 248\n",
      "The private key combination might be: user A = 157, user B = 688\n",
      "The private key combination might be: user A = 158, user B = 272\n",
      "The private key combination might be: user A = 158, user B = 712\n",
      "The private key combination might be: user A = 159, user B = 296\n",
      "The private key combination might be: user A = 159, user B = 736\n",
      "The private key combination might be: user A = 160, user B = 320\n",
      "The private key combination might be: user A = 160, user B = 760\n",
      "The private key combination might be: user A = 161, user B = 344\n",
      "The private key combination might be: user A = 161, user B = 784\n",
      "The private key combination might be: user A = 162, user B = 368\n",
      "The private key combination might be: user A = 162, user B = 808\n",
      "The private key combination might be: user A = 163, user B = 392\n",
      "The private key combination might be: user A = 163, user B = 832\n",
      "The private key combination might be: user A = 164, user B = 416\n",
      "The private key combination might be: user A = 164, user B = 856\n",
      "The private key combination might be: user A = 165, user B = 440\n",
      "The private key combination might be: user A = 165, user B = 880\n",
      "The private key combination might be: user A = 166, user B = 24\n",
      "The private key combination might be: user A = 166, user B = 464\n",
      "The private key combination might be: user A = 167, user B = 48\n",
      "The private key combination might be: user A = 167, user B = 488\n",
      "The private key combination might be: user A = 168, user B = 72\n",
      "The private key combination might be: user A = 168, user B = 512\n",
      "The private key combination might be: user A = 169, user B = 96\n",
      "The private key combination might be: user A = 169, user B = 536\n",
      "The private key combination might be: user A = 170, user B = 120\n",
      "The private key combination might be: user A = 170, user B = 560\n",
      "The private key combination might be: user A = 171, user B = 144\n",
      "The private key combination might be: user A = 171, user B = 584\n",
      "The private key combination might be: user A = 172, user B = 168\n",
      "The private key combination might be: user A = 172, user B = 608\n",
      "The private key combination might be: user A = 173, user B = 192\n",
      "The private key combination might be: user A = 173, user B = 632\n",
      "The private key combination might be: user A = 174, user B = 216\n",
      "The private key combination might be: user A = 174, user B = 656\n",
      "The private key combination might be: user A = 175, user B = 240\n",
      "The private key combination might be: user A = 175, user B = 680\n",
      "The private key combination might be: user A = 176, user B = 264\n",
      "The private key combination might be: user A = 176, user B = 704\n",
      "The private key combination might be: user A = 177, user B = 288\n",
      "The private key combination might be: user A = 177, user B = 728\n",
      "The private key combination might be: user A = 178, user B = 312\n",
      "The private key combination might be: user A = 178, user B = 752\n",
      "The private key combination might be: user A = 179, user B = 336\n",
      "The private key combination might be: user A = 179, user B = 776\n",
      "The private key combination might be: user A = 180, user B = 360\n",
      "The private key combination might be: user A = 180, user B = 800\n",
      "The private key combination might be: user A = 181, user B = 384\n",
      "The private key combination might be: user A = 181, user B = 824\n",
      "The private key combination might be: user A = 182, user B = 408\n",
      "The private key combination might be: user A = 182, user B = 848\n",
      "The private key combination might be: user A = 183, user B = 432\n",
      "The private key combination might be: user A = 183, user B = 872\n",
      "The private key combination might be: user A = 184, user B = 16\n",
      "The private key combination might be: user A = 184, user B = 456\n",
      "The private key combination might be: user A = 185, user B = 40\n",
      "The private key combination might be: user A = 185, user B = 480\n",
      "The private key combination might be: user A = 186, user B = 64\n",
      "The private key combination might be: user A = 186, user B = 504\n",
      "The private key combination might be: user A = 187, user B = 88\n",
      "The private key combination might be: user A = 187, user B = 528\n",
      "The private key combination might be: user A = 188, user B = 112\n",
      "The private key combination might be: user A = 188, user B = 552\n",
      "The private key combination might be: user A = 189, user B = 136\n",
      "The private key combination might be: user A = 189, user B = 576\n",
      "The private key combination might be: user A = 190, user B = 160\n",
      "The private key combination might be: user A = 190, user B = 600\n",
      "The private key combination might be: user A = 191, user B = 184\n",
      "The private key combination might be: user A = 191, user B = 624\n",
      "The private key combination might be: user A = 192, user B = 208\n",
      "The private key combination might be: user A = 192, user B = 648\n",
      "The private key combination might be: user A = 193, user B = 232\n",
      "The private key combination might be: user A = 193, user B = 672\n",
      "The private key combination might be: user A = 194, user B = 256\n",
      "The private key combination might be: user A = 194, user B = 696\n",
      "The private key combination might be: user A = 195, user B = 280\n",
      "The private key combination might be: user A = 195, user B = 720\n",
      "The private key combination might be: user A = 196, user B = 304\n",
      "The private key combination might be: user A = 196, user B = 744\n",
      "The private key combination might be: user A = 197, user B = 328\n",
      "The private key combination might be: user A = 197, user B = 768\n",
      "The private key combination might be: user A = 198, user B = 352\n",
      "The private key combination might be: user A = 198, user B = 792\n",
      "The private key combination might be: user A = 199, user B = 376\n",
      "The private key combination might be: user A = 199, user B = 816\n",
      "The private key combination might be: user A = 200, user B = 400\n",
      "The private key combination might be: user A = 200, user B = 840\n",
      "The private key combination might be: user A = 201, user B = 424\n",
      "The private key combination might be: user A = 201, user B = 864\n",
      "The private key combination might be: user A = 202, user B = 8\n",
      "The private key combination might be: user A = 202, user B = 448\n",
      "The private key combination might be: user A = 203, user B = 32\n",
      "The private key combination might be: user A = 203, user B = 472\n",
      "The private key combination might be: user A = 204, user B = 56\n",
      "The private key combination might be: user A = 204, user B = 496\n",
      "The private key combination might be: user A = 205, user B = 80\n",
      "The private key combination might be: user A = 205, user B = 520\n",
      "The private key combination might be: user A = 206, user B = 104\n",
      "The private key combination might be: user A = 206, user B = 544\n",
      "The private key combination might be: user A = 207, user B = 128\n",
      "The private key combination might be: user A = 207, user B = 568\n",
      "The private key combination might be: user A = 208, user B = 152\n",
      "The private key combination might be: user A = 208, user B = 592\n",
      "The private key combination might be: user A = 209, user B = 176\n",
      "The private key combination might be: user A = 209, user B = 616\n",
      "The private key combination might be: user A = 210, user B = 200\n",
      "The private key combination might be: user A = 210, user B = 640\n",
      "The private key combination might be: user A = 211, user B = 224\n",
      "The private key combination might be: user A = 211, user B = 664\n",
      "The private key combination might be: user A = 212, user B = 248\n",
      "The private key combination might be: user A = 212, user B = 688\n",
      "The private key combination might be: user A = 213, user B = 272\n",
      "The private key combination might be: user A = 213, user B = 712\n",
      "The private key combination might be: user A = 214, user B = 296\n",
      "The private key combination might be: user A = 214, user B = 736\n",
      "The private key combination might be: user A = 215, user B = 320\n",
      "The private key combination might be: user A = 215, user B = 760\n",
      "The private key combination might be: user A = 216, user B = 344\n",
      "The private key combination might be: user A = 216, user B = 784\n",
      "The private key combination might be: user A = 217, user B = 368\n",
      "The private key combination might be: user A = 217, user B = 808\n",
      "The private key combination might be: user A = 218, user B = 392\n",
      "The private key combination might be: user A = 218, user B = 832\n",
      "The private key combination might be: user A = 219, user B = 416\n",
      "The private key combination might be: user A = 219, user B = 856\n",
      "The private key combination might be: user A = 220, user B = 440\n",
      "The private key combination might be: user A = 220, user B = 880\n",
      "The private key combination might be: user A = 221, user B = 24\n",
      "The private key combination might be: user A = 221, user B = 464\n",
      "The private key combination might be: user A = 222, user B = 48\n",
      "The private key combination might be: user A = 222, user B = 488\n",
      "The private key combination might be: user A = 223, user B = 72\n",
      "The private key combination might be: user A = 223, user B = 512\n",
      "The private key combination might be: user A = 224, user B = 96\n",
      "The private key combination might be: user A = 224, user B = 536\n",
      "The private key combination might be: user A = 225, user B = 120\n",
      "The private key combination might be: user A = 225, user B = 560\n",
      "The private key combination might be: user A = 226, user B = 144\n",
      "The private key combination might be: user A = 226, user B = 584\n",
      "The private key combination might be: user A = 227, user B = 168\n",
      "The private key combination might be: user A = 227, user B = 608\n",
      "The private key combination might be: user A = 228, user B = 192\n",
      "The private key combination might be: user A = 228, user B = 632\n",
      "The private key combination might be: user A = 229, user B = 216\n",
      "The private key combination might be: user A = 229, user B = 656\n",
      "The private key combination might be: user A = 230, user B = 240\n",
      "The private key combination might be: user A = 230, user B = 680\n",
      "The private key combination might be: user A = 231, user B = 264\n",
      "The private key combination might be: user A = 231, user B = 704\n",
      "The private key combination might be: user A = 232, user B = 288\n",
      "The private key combination might be: user A = 232, user B = 728\n",
      "The private key combination might be: user A = 233, user B = 312\n",
      "The private key combination might be: user A = 233, user B = 752\n",
      "The private key combination might be: user A = 234, user B = 336\n",
      "The private key combination might be: user A = 234, user B = 776\n",
      "The private key combination might be: user A = 235, user B = 360\n",
      "The private key combination might be: user A = 235, user B = 800\n",
      "The private key combination might be: user A = 236, user B = 384\n",
      "The private key combination might be: user A = 236, user B = 824\n",
      "The private key combination might be: user A = 237, user B = 408\n",
      "The private key combination might be: user A = 237, user B = 848\n",
      "The private key combination might be: user A = 238, user B = 432\n",
      "The private key combination might be: user A = 238, user B = 872\n",
      "The private key combination might be: user A = 239, user B = 16\n",
      "The private key combination might be: user A = 239, user B = 456\n",
      "The private key combination might be: user A = 240, user B = 40\n",
      "The private key combination might be: user A = 240, user B = 480\n",
      "The private key combination might be: user A = 241, user B = 64\n",
      "The private key combination might be: user A = 241, user B = 504\n",
      "The private key combination might be: user A = 242, user B = 88\n",
      "The private key combination might be: user A = 242, user B = 528\n",
      "The private key combination might be: user A = 243, user B = 112\n",
      "The private key combination might be: user A = 243, user B = 552\n",
      "The private key combination might be: user A = 244, user B = 136\n",
      "The private key combination might be: user A = 244, user B = 576\n",
      "The private key combination might be: user A = 245, user B = 160\n",
      "The private key combination might be: user A = 245, user B = 600\n",
      "The private key combination might be: user A = 246, user B = 184\n",
      "The private key combination might be: user A = 246, user B = 624\n",
      "The private key combination might be: user A = 247, user B = 208\n",
      "The private key combination might be: user A = 247, user B = 648\n",
      "The private key combination might be: user A = 248, user B = 232\n",
      "The private key combination might be: user A = 248, user B = 672\n",
      "The private key combination might be: user A = 249, user B = 256\n",
      "The private key combination might be: user A = 249, user B = 696\n",
      "The private key combination might be: user A = 250, user B = 280\n",
      "The private key combination might be: user A = 250, user B = 720\n",
      "The private key combination might be: user A = 251, user B = 304\n",
      "The private key combination might be: user A = 251, user B = 744\n",
      "The private key combination might be: user A = 252, user B = 328\n",
      "The private key combination might be: user A = 252, user B = 768\n",
      "The private key combination might be: user A = 253, user B = 352\n",
      "The private key combination might be: user A = 253, user B = 792\n",
      "The private key combination might be: user A = 254, user B = 376\n",
      "The private key combination might be: user A = 254, user B = 816\n",
      "The private key combination might be: user A = 255, user B = 400\n",
      "The private key combination might be: user A = 255, user B = 840\n",
      "The private key combination might be: user A = 256, user B = 424\n",
      "The private key combination might be: user A = 256, user B = 864\n",
      "The private key combination might be: user A = 257, user B = 8\n",
      "The private key combination might be: user A = 257, user B = 448\n",
      "The private key combination might be: user A = 258, user B = 32\n",
      "The private key combination might be: user A = 258, user B = 472\n",
      "The private key combination might be: user A = 259, user B = 56\n",
      "The private key combination might be: user A = 259, user B = 496\n",
      "The private key combination might be: user A = 260, user B = 80\n",
      "The private key combination might be: user A = 260, user B = 520\n",
      "The private key combination might be: user A = 261, user B = 104\n",
      "The private key combination might be: user A = 261, user B = 544\n",
      "The private key combination might be: user A = 262, user B = 128\n",
      "The private key combination might be: user A = 262, user B = 568\n",
      "The private key combination might be: user A = 263, user B = 152\n",
      "The private key combination might be: user A = 263, user B = 592\n",
      "The private key combination might be: user A = 264, user B = 176\n",
      "The private key combination might be: user A = 264, user B = 616\n",
      "The private key combination might be: user A = 265, user B = 200\n",
      "The private key combination might be: user A = 265, user B = 640\n",
      "The private key combination might be: user A = 266, user B = 224\n",
      "The private key combination might be: user A = 266, user B = 664\n",
      "The private key combination might be: user A = 267, user B = 248\n",
      "The private key combination might be: user A = 267, user B = 688\n",
      "The private key combination might be: user A = 268, user B = 272\n",
      "The private key combination might be: user A = 268, user B = 712\n",
      "The private key combination might be: user A = 269, user B = 296\n",
      "The private key combination might be: user A = 269, user B = 736\n",
      "The private key combination might be: user A = 270, user B = 320\n",
      "The private key combination might be: user A = 270, user B = 760\n",
      "The private key combination might be: user A = 271, user B = 344\n",
      "The private key combination might be: user A = 271, user B = 784\n",
      "The private key combination might be: user A = 272, user B = 368\n",
      "The private key combination might be: user A = 272, user B = 808\n",
      "The private key combination might be: user A = 273, user B = 392\n",
      "The private key combination might be: user A = 273, user B = 832\n",
      "The private key combination might be: user A = 274, user B = 416\n",
      "The private key combination might be: user A = 274, user B = 856\n",
      "The private key combination might be: user A = 275, user B = 440\n",
      "The private key combination might be: user A = 275, user B = 880\n",
      "The private key combination might be: user A = 276, user B = 24\n",
      "The private key combination might be: user A = 276, user B = 464\n",
      "The private key combination might be: user A = 277, user B = 48\n",
      "The private key combination might be: user A = 277, user B = 488\n",
      "The private key combination might be: user A = 278, user B = 72\n",
      "The private key combination might be: user A = 278, user B = 512\n",
      "The private key combination might be: user A = 279, user B = 96\n",
      "The private key combination might be: user A = 279, user B = 536\n",
      "The private key combination might be: user A = 280, user B = 120\n",
      "The private key combination might be: user A = 280, user B = 560\n",
      "The private key combination might be: user A = 281, user B = 144\n",
      "The private key combination might be: user A = 281, user B = 584\n",
      "The private key combination might be: user A = 282, user B = 168\n",
      "The private key combination might be: user A = 282, user B = 608\n",
      "The private key combination might be: user A = 283, user B = 192\n",
      "The private key combination might be: user A = 283, user B = 632\n",
      "The private key combination might be: user A = 284, user B = 216\n",
      "The private key combination might be: user A = 284, user B = 656\n",
      "The private key combination might be: user A = 285, user B = 240\n",
      "The private key combination might be: user A = 285, user B = 680\n",
      "The private key combination might be: user A = 286, user B = 264\n",
      "The private key combination might be: user A = 286, user B = 704\n",
      "The private key combination might be: user A = 287, user B = 288\n",
      "The private key combination might be: user A = 287, user B = 728\n",
      "The private key combination might be: user A = 288, user B = 312\n",
      "The private key combination might be: user A = 288, user B = 752\n",
      "The private key combination might be: user A = 289, user B = 336\n",
      "The private key combination might be: user A = 289, user B = 776\n",
      "The private key combination might be: user A = 290, user B = 360\n",
      "The private key combination might be: user A = 290, user B = 800\n",
      "The private key combination might be: user A = 291, user B = 384\n",
      "The private key combination might be: user A = 291, user B = 824\n",
      "The private key combination might be: user A = 292, user B = 408\n",
      "The private key combination might be: user A = 292, user B = 848\n",
      "The private key combination might be: user A = 293, user B = 432\n",
      "The private key combination might be: user A = 293, user B = 872\n",
      "The private key combination might be: user A = 294, user B = 16\n",
      "The private key combination might be: user A = 294, user B = 456\n",
      "The private key combination might be: user A = 295, user B = 40\n",
      "The private key combination might be: user A = 295, user B = 480\n",
      "The private key combination might be: user A = 296, user B = 64\n",
      "The private key combination might be: user A = 296, user B = 504\n",
      "The private key combination might be: user A = 297, user B = 88\n",
      "The private key combination might be: user A = 297, user B = 528\n",
      "The private key combination might be: user A = 298, user B = 112\n",
      "The private key combination might be: user A = 298, user B = 552\n",
      "The private key combination might be: user A = 299, user B = 136\n",
      "The private key combination might be: user A = 299, user B = 576\n",
      "The private key combination might be: user A = 300, user B = 160\n",
      "The private key combination might be: user A = 300, user B = 600\n",
      "The private key combination might be: user A = 301, user B = 184\n",
      "The private key combination might be: user A = 301, user B = 624\n",
      "The private key combination might be: user A = 302, user B = 208\n",
      "The private key combination might be: user A = 302, user B = 648\n",
      "The private key combination might be: user A = 303, user B = 232\n",
      "The private key combination might be: user A = 303, user B = 672\n",
      "The private key combination might be: user A = 304, user B = 256\n",
      "The private key combination might be: user A = 304, user B = 696\n",
      "The private key combination might be: user A = 305, user B = 280\n",
      "The private key combination might be: user A = 305, user B = 720\n",
      "The private key combination might be: user A = 306, user B = 304\n",
      "The private key combination might be: user A = 306, user B = 744\n",
      "The private key combination might be: user A = 307, user B = 328\n",
      "The private key combination might be: user A = 307, user B = 768\n",
      "The private key combination might be: user A = 308, user B = 352\n",
      "The private key combination might be: user A = 308, user B = 792\n",
      "The private key combination might be: user A = 309, user B = 376\n",
      "The private key combination might be: user A = 309, user B = 816\n",
      "The private key combination might be: user A = 310, user B = 400\n",
      "The private key combination might be: user A = 310, user B = 840\n",
      "The private key combination might be: user A = 311, user B = 424\n",
      "The private key combination might be: user A = 311, user B = 864\n",
      "The private key combination might be: user A = 312, user B = 8\n",
      "The private key combination might be: user A = 312, user B = 448\n",
      "The private key combination might be: user A = 313, user B = 32\n",
      "The private key combination might be: user A = 313, user B = 472\n",
      "The private key combination might be: user A = 314, user B = 56\n",
      "The private key combination might be: user A = 314, user B = 496\n",
      "The private key combination might be: user A = 315, user B = 80\n",
      "The private key combination might be: user A = 315, user B = 520\n",
      "The private key combination might be: user A = 316, user B = 104\n",
      "The private key combination might be: user A = 316, user B = 544\n",
      "The private key combination might be: user A = 317, user B = 128\n",
      "The private key combination might be: user A = 317, user B = 568\n",
      "The private key combination might be: user A = 318, user B = 152\n",
      "The private key combination might be: user A = 318, user B = 592\n",
      "The private key combination might be: user A = 319, user B = 176\n",
      "The private key combination might be: user A = 319, user B = 616\n",
      "The private key combination might be: user A = 320, user B = 200\n",
      "The private key combination might be: user A = 320, user B = 640\n",
      "The private key combination might be: user A = 321, user B = 224\n",
      "The private key combination might be: user A = 321, user B = 664\n",
      "The private key combination might be: user A = 322, user B = 248\n",
      "The private key combination might be: user A = 322, user B = 688\n",
      "The private key combination might be: user A = 323, user B = 272\n",
      "The private key combination might be: user A = 323, user B = 712\n",
      "The private key combination might be: user A = 324, user B = 296\n",
      "The private key combination might be: user A = 324, user B = 736\n",
      "The private key combination might be: user A = 325, user B = 320\n",
      "The private key combination might be: user A = 325, user B = 760\n",
      "The private key combination might be: user A = 326, user B = 344\n",
      "The private key combination might be: user A = 326, user B = 784\n",
      "The private key combination might be: user A = 327, user B = 368\n",
      "The private key combination might be: user A = 327, user B = 808\n",
      "The private key combination might be: user A = 328, user B = 392\n",
      "The private key combination might be: user A = 328, user B = 832\n",
      "The private key combination might be: user A = 329, user B = 416\n",
      "The private key combination might be: user A = 329, user B = 856\n",
      "The private key combination might be: user A = 330, user B = 440\n",
      "The private key combination might be: user A = 330, user B = 880\n",
      "The private key combination might be: user A = 331, user B = 24\n",
      "The private key combination might be: user A = 331, user B = 464\n",
      "The private key combination might be: user A = 332, user B = 48\n",
      "The private key combination might be: user A = 332, user B = 488\n",
      "The private key combination might be: user A = 333, user B = 72\n",
      "The private key combination might be: user A = 333, user B = 512\n",
      "The private key combination might be: user A = 334, user B = 96\n",
      "The private key combination might be: user A = 334, user B = 536\n",
      "The private key combination might be: user A = 335, user B = 120\n",
      "The private key combination might be: user A = 335, user B = 560\n",
      "The private key combination might be: user A = 336, user B = 144\n",
      "The private key combination might be: user A = 336, user B = 584\n",
      "The private key combination might be: user A = 337, user B = 168\n",
      "The private key combination might be: user A = 337, user B = 608\n",
      "The private key combination might be: user A = 338, user B = 192\n",
      "The private key combination might be: user A = 338, user B = 632\n",
      "The private key combination might be: user A = 339, user B = 216\n",
      "The private key combination might be: user A = 339, user B = 656\n",
      "The private key combination might be: user A = 340, user B = 240\n",
      "The private key combination might be: user A = 340, user B = 680\n",
      "The private key combination might be: user A = 341, user B = 264\n",
      "The private key combination might be: user A = 341, user B = 704\n",
      "The private key combination might be: user A = 342, user B = 288\n",
      "The private key combination might be: user A = 342, user B = 728\n",
      "The private key combination might be: user A = 343, user B = 312\n",
      "The private key combination might be: user A = 343, user B = 752\n",
      "The private key combination might be: user A = 344, user B = 336\n",
      "The private key combination might be: user A = 344, user B = 776\n",
      "The private key combination might be: user A = 345, user B = 360\n",
      "The private key combination might be: user A = 345, user B = 800\n",
      "The private key combination might be: user A = 346, user B = 384\n",
      "The private key combination might be: user A = 346, user B = 824\n",
      "The private key combination might be: user A = 347, user B = 408\n",
      "The private key combination might be: user A = 347, user B = 848\n",
      "The private key combination might be: user A = 348, user B = 432\n",
      "The private key combination might be: user A = 348, user B = 872\n",
      "The private key combination might be: user A = 349, user B = 16\n",
      "The private key combination might be: user A = 349, user B = 456\n",
      "The private key combination might be: user A = 350, user B = 40\n",
      "The private key combination might be: user A = 350, user B = 480\n",
      "The private key combination might be: user A = 351, user B = 64\n",
      "The private key combination might be: user A = 351, user B = 504\n",
      "The private key combination might be: user A = 352, user B = 88\n",
      "The private key combination might be: user A = 352, user B = 528\n",
      "The private key combination might be: user A = 353, user B = 112\n",
      "The private key combination might be: user A = 353, user B = 552\n",
      "The private key combination might be: user A = 354, user B = 136\n",
      "The private key combination might be: user A = 354, user B = 576\n",
      "The private key combination might be: user A = 355, user B = 160\n",
      "The private key combination might be: user A = 355, user B = 600\n",
      "The private key combination might be: user A = 356, user B = 184\n",
      "The private key combination might be: user A = 356, user B = 624\n",
      "The private key combination might be: user A = 357, user B = 208\n",
      "The private key combination might be: user A = 357, user B = 648\n",
      "The private key combination might be: user A = 358, user B = 232\n",
      "The private key combination might be: user A = 358, user B = 672\n",
      "The private key combination might be: user A = 359, user B = 256\n",
      "The private key combination might be: user A = 359, user B = 696\n",
      "The private key combination might be: user A = 360, user B = 280\n",
      "The private key combination might be: user A = 360, user B = 720\n",
      "The private key combination might be: user A = 361, user B = 304\n",
      "The private key combination might be: user A = 361, user B = 744\n",
      "The private key combination might be: user A = 362, user B = 328\n",
      "The private key combination might be: user A = 362, user B = 768\n",
      "The private key combination might be: user A = 363, user B = 352\n",
      "The private key combination might be: user A = 363, user B = 792\n",
      "The private key combination might be: user A = 364, user B = 376\n",
      "The private key combination might be: user A = 364, user B = 816\n",
      "The private key combination might be: user A = 365, user B = 400\n",
      "The private key combination might be: user A = 365, user B = 840\n",
      "The private key combination might be: user A = 366, user B = 424\n",
      "The private key combination might be: user A = 366, user B = 864\n",
      "The private key combination might be: user A = 367, user B = 8\n",
      "The private key combination might be: user A = 367, user B = 448\n",
      "The private key combination might be: user A = 368, user B = 32\n",
      "The private key combination might be: user A = 368, user B = 472\n",
      "The private key combination might be: user A = 369, user B = 56\n",
      "The private key combination might be: user A = 369, user B = 496\n",
      "The private key combination might be: user A = 370, user B = 80\n",
      "The private key combination might be: user A = 370, user B = 520\n",
      "The private key combination might be: user A = 371, user B = 104\n",
      "The private key combination might be: user A = 371, user B = 544\n",
      "The private key combination might be: user A = 372, user B = 128\n",
      "The private key combination might be: user A = 372, user B = 568\n",
      "The private key combination might be: user A = 373, user B = 152\n",
      "The private key combination might be: user A = 373, user B = 592\n",
      "The private key combination might be: user A = 374, user B = 176\n",
      "The private key combination might be: user A = 374, user B = 616\n",
      "The private key combination might be: user A = 375, user B = 200\n",
      "The private key combination might be: user A = 375, user B = 640\n",
      "The private key combination might be: user A = 376, user B = 224\n",
      "The private key combination might be: user A = 376, user B = 664\n",
      "The private key combination might be: user A = 377, user B = 248\n",
      "The private key combination might be: user A = 377, user B = 688\n",
      "The private key combination might be: user A = 378, user B = 272\n",
      "The private key combination might be: user A = 378, user B = 712\n",
      "The private key combination might be: user A = 379, user B = 296\n",
      "The private key combination might be: user A = 379, user B = 736\n",
      "The private key combination might be: user A = 380, user B = 320\n",
      "The private key combination might be: user A = 380, user B = 760\n",
      "The private key combination might be: user A = 381, user B = 344\n",
      "The private key combination might be: user A = 381, user B = 784\n",
      "The private key combination might be: user A = 382, user B = 368\n",
      "The private key combination might be: user A = 382, user B = 808\n",
      "The private key combination might be: user A = 383, user B = 392\n",
      "The private key combination might be: user A = 383, user B = 832\n",
      "The private key combination might be: user A = 384, user B = 416\n",
      "The private key combination might be: user A = 384, user B = 856\n",
      "The private key combination might be: user A = 385, user B = 440\n",
      "The private key combination might be: user A = 385, user B = 880\n",
      "The private key combination might be: user A = 386, user B = 24\n",
      "The private key combination might be: user A = 386, user B = 464\n",
      "The private key combination might be: user A = 387, user B = 48\n",
      "The private key combination might be: user A = 387, user B = 488\n",
      "The private key combination might be: user A = 388, user B = 72\n",
      "The private key combination might be: user A = 388, user B = 512\n",
      "The private key combination might be: user A = 389, user B = 96\n",
      "The private key combination might be: user A = 389, user B = 536\n",
      "The private key combination might be: user A = 390, user B = 120\n",
      "The private key combination might be: user A = 390, user B = 560\n",
      "The private key combination might be: user A = 391, user B = 144\n",
      "The private key combination might be: user A = 391, user B = 584\n",
      "The private key combination might be: user A = 392, user B = 168\n",
      "The private key combination might be: user A = 392, user B = 608\n",
      "The private key combination might be: user A = 393, user B = 192\n",
      "The private key combination might be: user A = 393, user B = 632\n",
      "The private key combination might be: user A = 394, user B = 216\n",
      "The private key combination might be: user A = 394, user B = 656\n",
      "The private key combination might be: user A = 395, user B = 240\n",
      "The private key combination might be: user A = 395, user B = 680\n",
      "The private key combination might be: user A = 396, user B = 264\n",
      "The private key combination might be: user A = 396, user B = 704\n",
      "The private key combination might be: user A = 397, user B = 288\n",
      "The private key combination might be: user A = 397, user B = 728\n",
      "The private key combination might be: user A = 398, user B = 312\n",
      "The private key combination might be: user A = 398, user B = 752\n",
      "The private key combination might be: user A = 399, user B = 336\n",
      "The private key combination might be: user A = 399, user B = 776\n",
      "The private key combination might be: user A = 400, user B = 360\n",
      "The private key combination might be: user A = 400, user B = 800\n",
      "The private key combination might be: user A = 401, user B = 384\n",
      "The private key combination might be: user A = 401, user B = 824\n",
      "The private key combination might be: user A = 402, user B = 408\n",
      "The private key combination might be: user A = 402, user B = 848\n",
      "The private key combination might be: user A = 403, user B = 432\n",
      "The private key combination might be: user A = 403, user B = 872\n",
      "The private key combination might be: user A = 404, user B = 16\n",
      "The private key combination might be: user A = 404, user B = 456\n",
      "The private key combination might be: user A = 405, user B = 40\n",
      "The private key combination might be: user A = 405, user B = 480\n",
      "The private key combination might be: user A = 406, user B = 64\n",
      "The private key combination might be: user A = 406, user B = 504\n",
      "The private key combination might be: user A = 407, user B = 88\n",
      "The private key combination might be: user A = 407, user B = 528\n",
      "The private key combination might be: user A = 408, user B = 112\n",
      "The private key combination might be: user A = 408, user B = 552\n",
      "The private key combination might be: user A = 409, user B = 136\n",
      "The private key combination might be: user A = 409, user B = 576\n",
      "The private key combination might be: user A = 410, user B = 160\n",
      "The private key combination might be: user A = 410, user B = 600\n",
      "The private key combination might be: user A = 411, user B = 184\n",
      "The private key combination might be: user A = 411, user B = 624\n",
      "The private key combination might be: user A = 412, user B = 208\n",
      "The private key combination might be: user A = 412, user B = 648\n",
      "The private key combination might be: user A = 413, user B = 232\n",
      "The private key combination might be: user A = 413, user B = 672\n",
      "The private key combination might be: user A = 414, user B = 256\n",
      "The private key combination might be: user A = 414, user B = 696\n",
      "The private key combination might be: user A = 415, user B = 280\n",
      "The private key combination might be: user A = 415, user B = 720\n",
      "The private key combination might be: user A = 416, user B = 304\n",
      "The private key combination might be: user A = 416, user B = 744\n",
      "The private key combination might be: user A = 417, user B = 328\n",
      "The private key combination might be: user A = 417, user B = 768\n",
      "The private key combination might be: user A = 418, user B = 352\n",
      "The private key combination might be: user A = 418, user B = 792\n",
      "The private key combination might be: user A = 419, user B = 376\n",
      "The private key combination might be: user A = 419, user B = 816\n",
      "The private key combination might be: user A = 420, user B = 400\n",
      "The private key combination might be: user A = 420, user B = 840\n",
      "The private key combination might be: user A = 421, user B = 424\n",
      "The private key combination might be: user A = 421, user B = 864\n",
      "The private key combination might be: user A = 422, user B = 8\n",
      "The private key combination might be: user A = 422, user B = 448\n",
      "The private key combination might be: user A = 423, user B = 32\n",
      "The private key combination might be: user A = 423, user B = 472\n",
      "The private key combination might be: user A = 424, user B = 56\n",
      "The private key combination might be: user A = 424, user B = 496\n",
      "The private key combination might be: user A = 425, user B = 80\n",
      "The private key combination might be: user A = 425, user B = 520\n",
      "The private key combination might be: user A = 426, user B = 104\n",
      "The private key combination might be: user A = 426, user B = 544\n",
      "The private key combination might be: user A = 427, user B = 128\n",
      "The private key combination might be: user A = 427, user B = 568\n",
      "The private key combination might be: user A = 428, user B = 152\n",
      "The private key combination might be: user A = 428, user B = 592\n",
      "The private key combination might be: user A = 429, user B = 176\n",
      "The private key combination might be: user A = 429, user B = 616\n",
      "The private key combination might be: user A = 430, user B = 200\n",
      "The private key combination might be: user A = 430, user B = 640\n",
      "The private key combination might be: user A = 431, user B = 224\n",
      "The private key combination might be: user A = 431, user B = 664\n",
      "The private key combination might be: user A = 432, user B = 248\n",
      "The private key combination might be: user A = 432, user B = 688\n",
      "The private key combination might be: user A = 433, user B = 272\n",
      "The private key combination might be: user A = 433, user B = 712\n",
      "The private key combination might be: user A = 434, user B = 296\n",
      "The private key combination might be: user A = 434, user B = 736\n",
      "The private key combination might be: user A = 435, user B = 320\n",
      "The private key combination might be: user A = 435, user B = 760\n",
      "The private key combination might be: user A = 436, user B = 344\n",
      "The private key combination might be: user A = 436, user B = 784\n",
      "The private key combination might be: user A = 437, user B = 368\n",
      "The private key combination might be: user A = 437, user B = 808\n",
      "The private key combination might be: user A = 438, user B = 392\n",
      "The private key combination might be: user A = 438, user B = 832\n",
      "The private key combination might be: user A = 439, user B = 416\n",
      "The private key combination might be: user A = 439, user B = 856\n",
      "The private key combination might be: user A = 440, user B = 440\n",
      "The private key combination might be: user A = 440, user B = 880\n",
      "The private key combination might be: user A = 441, user B = 24\n",
      "The private key combination might be: user A = 441, user B = 464\n",
      "The private key combination might be: user A = 442, user B = 48\n",
      "The private key combination might be: user A = 442, user B = 488\n",
      "The private key combination might be: user A = 443, user B = 72\n",
      "The private key combination might be: user A = 443, user B = 512\n",
      "The private key combination might be: user A = 444, user B = 96\n",
      "The private key combination might be: user A = 444, user B = 536\n",
      "The private key combination might be: user A = 445, user B = 120\n",
      "The private key combination might be: user A = 445, user B = 560\n",
      "The private key combination might be: user A = 446, user B = 144\n",
      "The private key combination might be: user A = 446, user B = 584\n",
      "The private key combination might be: user A = 447, user B = 168\n",
      "The private key combination might be: user A = 447, user B = 608\n",
      "The private key combination might be: user A = 448, user B = 192\n",
      "The private key combination might be: user A = 448, user B = 632\n",
      "The private key combination might be: user A = 449, user B = 216\n",
      "The private key combination might be: user A = 449, user B = 656\n",
      "The private key combination might be: user A = 450, user B = 240\n",
      "The private key combination might be: user A = 450, user B = 680\n",
      "The private key combination might be: user A = 451, user B = 264\n",
      "The private key combination might be: user A = 451, user B = 704\n",
      "The private key combination might be: user A = 452, user B = 288\n",
      "The private key combination might be: user A = 452, user B = 728\n",
      "The private key combination might be: user A = 453, user B = 312\n",
      "The private key combination might be: user A = 453, user B = 752\n",
      "The private key combination might be: user A = 454, user B = 336\n",
      "The private key combination might be: user A = 454, user B = 776\n",
      "The private key combination might be: user A = 455, user B = 360\n",
      "The private key combination might be: user A = 455, user B = 800\n",
      "The private key combination might be: user A = 456, user B = 384\n",
      "The private key combination might be: user A = 456, user B = 824\n",
      "The private key combination might be: user A = 457, user B = 408\n",
      "The private key combination might be: user A = 457, user B = 848\n",
      "The private key combination might be: user A = 458, user B = 432\n",
      "The private key combination might be: user A = 458, user B = 872\n",
      "The private key combination might be: user A = 459, user B = 16\n",
      "The private key combination might be: user A = 459, user B = 456\n",
      "The private key combination might be: user A = 460, user B = 40\n",
      "The private key combination might be: user A = 460, user B = 480\n",
      "The private key combination might be: user A = 461, user B = 64\n",
      "The private key combination might be: user A = 461, user B = 504\n",
      "The private key combination might be: user A = 462, user B = 88\n",
      "The private key combination might be: user A = 462, user B = 528\n",
      "The private key combination might be: user A = 463, user B = 112\n",
      "The private key combination might be: user A = 463, user B = 552\n",
      "The private key combination might be: user A = 464, user B = 136\n",
      "The private key combination might be: user A = 464, user B = 576\n",
      "The private key combination might be: user A = 465, user B = 160\n",
      "The private key combination might be: user A = 465, user B = 600\n",
      "The private key combination might be: user A = 466, user B = 184\n",
      "The private key combination might be: user A = 466, user B = 624\n",
      "The private key combination might be: user A = 467, user B = 208\n",
      "The private key combination might be: user A = 467, user B = 648\n",
      "The private key combination might be: user A = 468, user B = 232\n",
      "The private key combination might be: user A = 468, user B = 672\n",
      "The private key combination might be: user A = 469, user B = 256\n",
      "The private key combination might be: user A = 469, user B = 696\n",
      "The private key combination might be: user A = 470, user B = 280\n",
      "The private key combination might be: user A = 470, user B = 720\n",
      "The private key combination might be: user A = 471, user B = 304\n",
      "The private key combination might be: user A = 471, user B = 744\n",
      "The private key combination might be: user A = 472, user B = 328\n",
      "The private key combination might be: user A = 472, user B = 768\n",
      "The private key combination might be: user A = 473, user B = 352\n",
      "The private key combination might be: user A = 473, user B = 792\n",
      "The private key combination might be: user A = 474, user B = 376\n",
      "The private key combination might be: user A = 474, user B = 816\n",
      "The private key combination might be: user A = 475, user B = 400\n",
      "The private key combination might be: user A = 475, user B = 840\n",
      "The private key combination might be: user A = 476, user B = 424\n",
      "The private key combination might be: user A = 476, user B = 864\n",
      "The private key combination might be: user A = 477, user B = 8\n",
      "The private key combination might be: user A = 477, user B = 448\n",
      "The private key combination might be: user A = 478, user B = 32\n",
      "The private key combination might be: user A = 478, user B = 472\n",
      "The private key combination might be: user A = 479, user B = 56\n",
      "The private key combination might be: user A = 479, user B = 496\n",
      "The private key combination might be: user A = 480, user B = 80\n",
      "The private key combination might be: user A = 480, user B = 520\n",
      "The private key combination might be: user A = 481, user B = 104\n",
      "The private key combination might be: user A = 481, user B = 544\n",
      "The private key combination might be: user A = 482, user B = 128\n",
      "The private key combination might be: user A = 482, user B = 568\n",
      "The private key combination might be: user A = 483, user B = 152\n",
      "The private key combination might be: user A = 483, user B = 592\n",
      "The private key combination might be: user A = 484, user B = 176\n",
      "The private key combination might be: user A = 484, user B = 616\n",
      "The private key combination might be: user A = 485, user B = 200\n",
      "The private key combination might be: user A = 485, user B = 640\n",
      "The private key combination might be: user A = 486, user B = 224\n",
      "The private key combination might be: user A = 486, user B = 664\n",
      "The private key combination might be: user A = 487, user B = 248\n",
      "The private key combination might be: user A = 487, user B = 688\n",
      "The private key combination might be: user A = 488, user B = 272\n",
      "The private key combination might be: user A = 488, user B = 712\n",
      "The private key combination might be: user A = 489, user B = 296\n",
      "The private key combination might be: user A = 489, user B = 736\n",
      "The private key combination might be: user A = 490, user B = 320\n",
      "The private key combination might be: user A = 490, user B = 760\n",
      "The private key combination might be: user A = 491, user B = 344\n",
      "The private key combination might be: user A = 491, user B = 784\n",
      "The private key combination might be: user A = 492, user B = 368\n",
      "The private key combination might be: user A = 492, user B = 808\n",
      "The private key combination might be: user A = 493, user B = 392\n",
      "The private key combination might be: user A = 493, user B = 832\n",
      "The private key combination might be: user A = 494, user B = 416\n",
      "The private key combination might be: user A = 494, user B = 856\n",
      "The private key combination might be: user A = 495, user B = 440\n",
      "The private key combination might be: user A = 495, user B = 880\n",
      "The private key combination might be: user A = 496, user B = 24\n",
      "The private key combination might be: user A = 496, user B = 464\n",
      "The private key combination might be: user A = 497, user B = 48\n",
      "The private key combination might be: user A = 497, user B = 488\n",
      "The private key combination might be: user A = 498, user B = 72\n",
      "The private key combination might be: user A = 498, user B = 512\n",
      "The private key combination might be: user A = 499, user B = 96\n",
      "The private key combination might be: user A = 499, user B = 536\n",
      "The private key combination might be: user A = 500, user B = 120\n",
      "The private key combination might be: user A = 500, user B = 560\n",
      "The private key combination might be: user A = 501, user B = 144\n",
      "The private key combination might be: user A = 501, user B = 584\n",
      "The private key combination might be: user A = 502, user B = 168\n",
      "The private key combination might be: user A = 502, user B = 608\n",
      "The private key combination might be: user A = 503, user B = 192\n",
      "The private key combination might be: user A = 503, user B = 632\n",
      "The private key combination might be: user A = 504, user B = 216\n",
      "The private key combination might be: user A = 504, user B = 656\n",
      "The private key combination might be: user A = 505, user B = 240\n",
      "The private key combination might be: user A = 505, user B = 680\n",
      "The private key combination might be: user A = 506, user B = 264\n",
      "The private key combination might be: user A = 506, user B = 704\n",
      "The private key combination might be: user A = 507, user B = 288\n",
      "The private key combination might be: user A = 507, user B = 728\n",
      "The private key combination might be: user A = 508, user B = 312\n",
      "The private key combination might be: user A = 508, user B = 752\n",
      "The private key combination might be: user A = 509, user B = 336\n",
      "The private key combination might be: user A = 509, user B = 776\n",
      "The private key combination might be: user A = 510, user B = 360\n",
      "The private key combination might be: user A = 510, user B = 800\n",
      "The private key combination might be: user A = 511, user B = 384\n",
      "The private key combination might be: user A = 511, user B = 824\n",
      "The private key combination might be: user A = 512, user B = 408\n",
      "The private key combination might be: user A = 512, user B = 848\n",
      "The private key combination might be: user A = 513, user B = 432\n",
      "The private key combination might be: user A = 513, user B = 872\n",
      "The private key combination might be: user A = 514, user B = 16\n",
      "The private key combination might be: user A = 514, user B = 456\n",
      "The private key combination might be: user A = 515, user B = 40\n",
      "The private key combination might be: user A = 515, user B = 480\n",
      "The private key combination might be: user A = 516, user B = 64\n",
      "The private key combination might be: user A = 516, user B = 504\n",
      "The private key combination might be: user A = 517, user B = 88\n",
      "The private key combination might be: user A = 517, user B = 528\n",
      "The private key combination might be: user A = 518, user B = 112\n",
      "The private key combination might be: user A = 518, user B = 552\n",
      "The private key combination might be: user A = 519, user B = 136\n",
      "The private key combination might be: user A = 519, user B = 576\n",
      "The private key combination might be: user A = 520, user B = 160\n",
      "The private key combination might be: user A = 520, user B = 600\n",
      "The private key combination might be: user A = 521, user B = 184\n",
      "The private key combination might be: user A = 521, user B = 624\n",
      "The private key combination might be: user A = 522, user B = 208\n",
      "The private key combination might be: user A = 522, user B = 648\n",
      "The private key combination might be: user A = 523, user B = 232\n",
      "The private key combination might be: user A = 523, user B = 672\n",
      "The private key combination might be: user A = 524, user B = 256\n",
      "The private key combination might be: user A = 524, user B = 696\n",
      "The private key combination might be: user A = 525, user B = 280\n",
      "The private key combination might be: user A = 525, user B = 720\n",
      "The private key combination might be: user A = 526, user B = 304\n",
      "The private key combination might be: user A = 526, user B = 744\n",
      "The private key combination might be: user A = 527, user B = 328\n",
      "The private key combination might be: user A = 527, user B = 768\n",
      "The private key combination might be: user A = 528, user B = 352\n",
      "The private key combination might be: user A = 528, user B = 792\n",
      "The private key combination might be: user A = 529, user B = 376\n",
      "The private key combination might be: user A = 529, user B = 816\n",
      "The private key combination might be: user A = 530, user B = 400\n",
      "The private key combination might be: user A = 530, user B = 840\n",
      "The private key combination might be: user A = 531, user B = 424\n",
      "The private key combination might be: user A = 531, user B = 864\n",
      "The private key combination might be: user A = 532, user B = 8\n",
      "The private key combination might be: user A = 532, user B = 448\n",
      "The private key combination might be: user A = 533, user B = 32\n",
      "The private key combination might be: user A = 533, user B = 472\n",
      "The private key combination might be: user A = 534, user B = 56\n",
      "The private key combination might be: user A = 534, user B = 496\n",
      "The private key combination might be: user A = 535, user B = 80\n",
      "The private key combination might be: user A = 535, user B = 520\n",
      "The private key combination might be: user A = 536, user B = 104\n",
      "The private key combination might be: user A = 536, user B = 544\n",
      "The private key combination might be: user A = 537, user B = 128\n",
      "The private key combination might be: user A = 537, user B = 568\n",
      "The private key combination might be: user A = 538, user B = 152\n",
      "The private key combination might be: user A = 538, user B = 592\n",
      "The private key combination might be: user A = 539, user B = 176\n",
      "The private key combination might be: user A = 539, user B = 616\n",
      "The private key combination might be: user A = 540, user B = 200\n",
      "The private key combination might be: user A = 540, user B = 640\n",
      "The private key combination might be: user A = 541, user B = 224\n",
      "The private key combination might be: user A = 541, user B = 664\n",
      "The private key combination might be: user A = 542, user B = 248\n",
      "The private key combination might be: user A = 542, user B = 688\n",
      "The private key combination might be: user A = 543, user B = 272\n",
      "The private key combination might be: user A = 543, user B = 712\n",
      "The private key combination might be: user A = 544, user B = 296\n",
      "The private key combination might be: user A = 544, user B = 736\n",
      "The private key combination might be: user A = 545, user B = 320\n",
      "The private key combination might be: user A = 545, user B = 760\n",
      "The private key combination might be: user A = 546, user B = 344\n",
      "The private key combination might be: user A = 546, user B = 784\n",
      "The private key combination might be: user A = 547, user B = 368\n",
      "The private key combination might be: user A = 547, user B = 808\n",
      "The private key combination might be: user A = 548, user B = 392\n",
      "The private key combination might be: user A = 548, user B = 832\n",
      "The private key combination might be: user A = 549, user B = 416\n",
      "The private key combination might be: user A = 549, user B = 856\n",
      "The private key combination might be: user A = 550, user B = 440\n",
      "The private key combination might be: user A = 550, user B = 880\n",
      "The private key combination might be: user A = 551, user B = 24\n",
      "The private key combination might be: user A = 551, user B = 464\n",
      "The private key combination might be: user A = 552, user B = 48\n",
      "The private key combination might be: user A = 552, user B = 488\n",
      "The private key combination might be: user A = 553, user B = 72\n",
      "The private key combination might be: user A = 553, user B = 512\n",
      "The private key combination might be: user A = 554, user B = 96\n",
      "The private key combination might be: user A = 554, user B = 536\n",
      "The private key combination might be: user A = 555, user B = 120\n",
      "The private key combination might be: user A = 555, user B = 560\n",
      "The private key combination might be: user A = 556, user B = 144\n",
      "The private key combination might be: user A = 556, user B = 584\n",
      "The private key combination might be: user A = 557, user B = 168\n",
      "The private key combination might be: user A = 557, user B = 608\n",
      "The private key combination might be: user A = 558, user B = 192\n",
      "The private key combination might be: user A = 558, user B = 632\n",
      "The private key combination might be: user A = 559, user B = 216\n",
      "The private key combination might be: user A = 559, user B = 656\n",
      "The private key combination might be: user A = 560, user B = 240\n",
      "The private key combination might be: user A = 560, user B = 680\n",
      "The private key combination might be: user A = 561, user B = 264\n",
      "The private key combination might be: user A = 561, user B = 704\n",
      "The private key combination might be: user A = 562, user B = 288\n",
      "The private key combination might be: user A = 562, user B = 728\n",
      "The private key combination might be: user A = 563, user B = 312\n",
      "The private key combination might be: user A = 563, user B = 752\n",
      "The private key combination might be: user A = 564, user B = 336\n",
      "The private key combination might be: user A = 564, user B = 776\n",
      "The private key combination might be: user A = 565, user B = 360\n",
      "The private key combination might be: user A = 565, user B = 800\n",
      "The private key combination might be: user A = 566, user B = 384\n",
      "The private key combination might be: user A = 566, user B = 824\n",
      "The private key combination might be: user A = 567, user B = 408\n",
      "The private key combination might be: user A = 567, user B = 848\n",
      "The private key combination might be: user A = 568, user B = 432\n",
      "The private key combination might be: user A = 568, user B = 872\n",
      "The private key combination might be: user A = 569, user B = 16\n",
      "The private key combination might be: user A = 569, user B = 456\n",
      "The private key combination might be: user A = 570, user B = 40\n",
      "The private key combination might be: user A = 570, user B = 480\n",
      "The private key combination might be: user A = 571, user B = 64\n",
      "The private key combination might be: user A = 571, user B = 504\n",
      "The private key combination might be: user A = 572, user B = 88\n",
      "The private key combination might be: user A = 572, user B = 528\n",
      "The private key combination might be: user A = 573, user B = 112\n",
      "The private key combination might be: user A = 573, user B = 552\n",
      "The private key combination might be: user A = 574, user B = 136\n",
      "The private key combination might be: user A = 574, user B = 576\n",
      "The private key combination might be: user A = 575, user B = 160\n",
      "The private key combination might be: user A = 575, user B = 600\n",
      "The private key combination might be: user A = 576, user B = 184\n",
      "The private key combination might be: user A = 576, user B = 624\n",
      "The private key combination might be: user A = 577, user B = 208\n",
      "The private key combination might be: user A = 577, user B = 648\n",
      "The private key combination might be: user A = 578, user B = 232\n",
      "The private key combination might be: user A = 578, user B = 672\n",
      "The private key combination might be: user A = 579, user B = 256\n",
      "The private key combination might be: user A = 579, user B = 696\n",
      "The private key combination might be: user A = 580, user B = 280\n",
      "The private key combination might be: user A = 580, user B = 720\n",
      "The private key combination might be: user A = 581, user B = 304\n",
      "The private key combination might be: user A = 581, user B = 744\n",
      "The private key combination might be: user A = 582, user B = 328\n",
      "The private key combination might be: user A = 582, user B = 768\n",
      "The private key combination might be: user A = 583, user B = 352\n",
      "The private key combination might be: user A = 583, user B = 792\n",
      "The private key combination might be: user A = 584, user B = 376\n",
      "The private key combination might be: user A = 584, user B = 816\n",
      "The private key combination might be: user A = 585, user B = 400\n",
      "The private key combination might be: user A = 585, user B = 840\n",
      "The private key combination might be: user A = 586, user B = 424\n",
      "The private key combination might be: user A = 586, user B = 864\n",
      "The private key combination might be: user A = 587, user B = 8\n",
      "The private key combination might be: user A = 587, user B = 448\n",
      "The private key combination might be: user A = 588, user B = 32\n",
      "The private key combination might be: user A = 588, user B = 472\n",
      "The private key combination might be: user A = 589, user B = 56\n",
      "The private key combination might be: user A = 589, user B = 496\n",
      "The private key combination might be: user A = 590, user B = 80\n",
      "The private key combination might be: user A = 590, user B = 520\n",
      "The private key combination might be: user A = 591, user B = 104\n",
      "The private key combination might be: user A = 591, user B = 544\n",
      "The private key combination might be: user A = 592, user B = 128\n",
      "The private key combination might be: user A = 592, user B = 568\n",
      "The private key combination might be: user A = 593, user B = 152\n",
      "The private key combination might be: user A = 593, user B = 592\n",
      "The private key combination might be: user A = 594, user B = 176\n",
      "The private key combination might be: user A = 594, user B = 616\n",
      "The private key combination might be: user A = 595, user B = 200\n",
      "The private key combination might be: user A = 595, user B = 640\n",
      "The private key combination might be: user A = 596, user B = 224\n",
      "The private key combination might be: user A = 596, user B = 664\n",
      "The private key combination might be: user A = 597, user B = 248\n",
      "The private key combination might be: user A = 597, user B = 688\n",
      "The private key combination might be: user A = 598, user B = 272\n",
      "The private key combination might be: user A = 598, user B = 712\n",
      "The private key combination might be: user A = 599, user B = 296\n",
      "The private key combination might be: user A = 599, user B = 736\n",
      "The private key combination might be: user A = 600, user B = 320\n",
      "The private key combination might be: user A = 600, user B = 760\n",
      "The private key combination might be: user A = 601, user B = 344\n",
      "The private key combination might be: user A = 601, user B = 784\n",
      "The private key combination might be: user A = 602, user B = 368\n",
      "The private key combination might be: user A = 602, user B = 808\n",
      "The private key combination might be: user A = 603, user B = 392\n",
      "The private key combination might be: user A = 603, user B = 832\n",
      "The private key combination might be: user A = 604, user B = 416\n",
      "The private key combination might be: user A = 604, user B = 856\n",
      "The private key combination might be: user A = 605, user B = 440\n",
      "The private key combination might be: user A = 605, user B = 880\n",
      "The private key combination might be: user A = 606, user B = 24\n",
      "The private key combination might be: user A = 606, user B = 464\n",
      "The private key combination might be: user A = 607, user B = 48\n",
      "The private key combination might be: user A = 607, user B = 488\n",
      "The private key combination might be: user A = 608, user B = 72\n",
      "The private key combination might be: user A = 608, user B = 512\n",
      "The private key combination might be: user A = 609, user B = 96\n",
      "The private key combination might be: user A = 609, user B = 536\n",
      "The private key combination might be: user A = 610, user B = 120\n",
      "The private key combination might be: user A = 610, user B = 560\n",
      "The private key combination might be: user A = 611, user B = 144\n",
      "The private key combination might be: user A = 611, user B = 584\n",
      "The private key combination might be: user A = 612, user B = 168\n",
      "The private key combination might be: user A = 612, user B = 608\n",
      "The private key combination might be: user A = 613, user B = 192\n",
      "The private key combination might be: user A = 613, user B = 632\n",
      "The private key combination might be: user A = 614, user B = 216\n",
      "The private key combination might be: user A = 614, user B = 656\n",
      "The private key combination might be: user A = 615, user B = 240\n",
      "The private key combination might be: user A = 615, user B = 680\n",
      "The private key combination might be: user A = 616, user B = 264\n",
      "The private key combination might be: user A = 616, user B = 704\n",
      "The private key combination might be: user A = 617, user B = 288\n",
      "The private key combination might be: user A = 617, user B = 728\n",
      "The private key combination might be: user A = 618, user B = 312\n",
      "The private key combination might be: user A = 618, user B = 752\n",
      "The private key combination might be: user A = 619, user B = 336\n",
      "The private key combination might be: user A = 619, user B = 776\n",
      "The private key combination might be: user A = 620, user B = 360\n",
      "The private key combination might be: user A = 620, user B = 800\n",
      "The private key combination might be: user A = 621, user B = 384\n",
      "The private key combination might be: user A = 621, user B = 824\n",
      "The private key combination might be: user A = 622, user B = 408\n",
      "The private key combination might be: user A = 622, user B = 848\n",
      "The private key combination might be: user A = 623, user B = 432\n",
      "The private key combination might be: user A = 623, user B = 872\n",
      "The private key combination might be: user A = 624, user B = 16\n",
      "The private key combination might be: user A = 624, user B = 456\n",
      "The private key combination might be: user A = 625, user B = 40\n",
      "The private key combination might be: user A = 625, user B = 480\n",
      "The private key combination might be: user A = 626, user B = 64\n",
      "The private key combination might be: user A = 626, user B = 504\n",
      "The private key combination might be: user A = 627, user B = 88\n",
      "The private key combination might be: user A = 627, user B = 528\n",
      "The private key combination might be: user A = 628, user B = 112\n",
      "The private key combination might be: user A = 628, user B = 552\n",
      "The private key combination might be: user A = 629, user B = 136\n",
      "The private key combination might be: user A = 629, user B = 576\n",
      "The private key combination might be: user A = 630, user B = 160\n",
      "The private key combination might be: user A = 630, user B = 600\n",
      "The private key combination might be: user A = 631, user B = 184\n",
      "The private key combination might be: user A = 631, user B = 624\n",
      "The private key combination might be: user A = 632, user B = 208\n",
      "The private key combination might be: user A = 632, user B = 648\n",
      "The private key combination might be: user A = 633, user B = 232\n",
      "The private key combination might be: user A = 633, user B = 672\n",
      "The private key combination might be: user A = 634, user B = 256\n",
      "The private key combination might be: user A = 634, user B = 696\n",
      "The private key combination might be: user A = 635, user B = 280\n",
      "The private key combination might be: user A = 635, user B = 720\n",
      "The private key combination might be: user A = 636, user B = 304\n",
      "The private key combination might be: user A = 636, user B = 744\n",
      "The private key combination might be: user A = 637, user B = 328\n",
      "The private key combination might be: user A = 637, user B = 768\n",
      "The private key combination might be: user A = 638, user B = 352\n",
      "The private key combination might be: user A = 638, user B = 792\n",
      "The private key combination might be: user A = 639, user B = 376\n",
      "The private key combination might be: user A = 639, user B = 816\n",
      "The private key combination might be: user A = 640, user B = 400\n",
      "The private key combination might be: user A = 640, user B = 840\n",
      "The private key combination might be: user A = 641, user B = 424\n",
      "The private key combination might be: user A = 641, user B = 864\n",
      "The private key combination might be: user A = 642, user B = 8\n",
      "The private key combination might be: user A = 642, user B = 448\n",
      "The private key combination might be: user A = 643, user B = 32\n",
      "The private key combination might be: user A = 643, user B = 472\n",
      "The private key combination might be: user A = 644, user B = 56\n",
      "The private key combination might be: user A = 644, user B = 496\n",
      "The private key combination might be: user A = 645, user B = 80\n",
      "The private key combination might be: user A = 645, user B = 520\n",
      "The private key combination might be: user A = 646, user B = 104\n",
      "The private key combination might be: user A = 646, user B = 544\n",
      "The private key combination might be: user A = 647, user B = 128\n",
      "The private key combination might be: user A = 647, user B = 568\n",
      "The private key combination might be: user A = 648, user B = 152\n",
      "The private key combination might be: user A = 648, user B = 592\n",
      "The private key combination might be: user A = 649, user B = 176\n",
      "The private key combination might be: user A = 649, user B = 616\n",
      "The private key combination might be: user A = 650, user B = 200\n",
      "The private key combination might be: user A = 650, user B = 640\n",
      "The private key combination might be: user A = 651, user B = 224\n",
      "The private key combination might be: user A = 651, user B = 664\n",
      "The private key combination might be: user A = 652, user B = 248\n",
      "The private key combination might be: user A = 652, user B = 688\n",
      "The private key combination might be: user A = 653, user B = 272\n",
      "The private key combination might be: user A = 653, user B = 712\n",
      "The private key combination might be: user A = 654, user B = 296\n",
      "The private key combination might be: user A = 654, user B = 736\n",
      "The private key combination might be: user A = 655, user B = 320\n",
      "The private key combination might be: user A = 655, user B = 760\n",
      "The private key combination might be: user A = 656, user B = 344\n",
      "The private key combination might be: user A = 656, user B = 784\n",
      "The private key combination might be: user A = 657, user B = 368\n",
      "The private key combination might be: user A = 657, user B = 808\n",
      "The private key combination might be: user A = 658, user B = 392\n",
      "The private key combination might be: user A = 658, user B = 832\n",
      "The private key combination might be: user A = 659, user B = 416\n",
      "The private key combination might be: user A = 659, user B = 856\n",
      "The private key combination might be: user A = 660, user B = 440\n",
      "The private key combination might be: user A = 660, user B = 880\n",
      "The private key combination might be: user A = 661, user B = 24\n",
      "The private key combination might be: user A = 661, user B = 464\n",
      "The private key combination might be: user A = 662, user B = 48\n",
      "The private key combination might be: user A = 662, user B = 488\n",
      "The private key combination might be: user A = 663, user B = 72\n",
      "The private key combination might be: user A = 663, user B = 512\n",
      "The private key combination might be: user A = 664, user B = 96\n",
      "The private key combination might be: user A = 664, user B = 536\n",
      "The private key combination might be: user A = 665, user B = 120\n",
      "The private key combination might be: user A = 665, user B = 560\n",
      "The private key combination might be: user A = 666, user B = 144\n",
      "The private key combination might be: user A = 666, user B = 584\n",
      "The private key combination might be: user A = 667, user B = 168\n",
      "The private key combination might be: user A = 667, user B = 608\n",
      "The private key combination might be: user A = 668, user B = 192\n",
      "The private key combination might be: user A = 668, user B = 632\n",
      "The private key combination might be: user A = 669, user B = 216\n",
      "The private key combination might be: user A = 669, user B = 656\n",
      "The private key combination might be: user A = 670, user B = 240\n",
      "The private key combination might be: user A = 670, user B = 680\n",
      "The private key combination might be: user A = 671, user B = 264\n",
      "The private key combination might be: user A = 671, user B = 704\n",
      "The private key combination might be: user A = 672, user B = 288\n",
      "The private key combination might be: user A = 672, user B = 728\n",
      "The private key combination might be: user A = 673, user B = 312\n",
      "The private key combination might be: user A = 673, user B = 752\n",
      "The private key combination might be: user A = 674, user B = 336\n",
      "The private key combination might be: user A = 674, user B = 776\n",
      "The private key combination might be: user A = 675, user B = 360\n",
      "The private key combination might be: user A = 675, user B = 800\n",
      "The private key combination might be: user A = 676, user B = 384\n",
      "The private key combination might be: user A = 676, user B = 824\n",
      "The private key combination might be: user A = 677, user B = 408\n",
      "The private key combination might be: user A = 677, user B = 848\n",
      "The private key combination might be: user A = 678, user B = 432\n",
      "The private key combination might be: user A = 678, user B = 872\n",
      "The private key combination might be: user A = 679, user B = 16\n",
      "The private key combination might be: user A = 679, user B = 456\n",
      "The private key combination might be: user A = 680, user B = 40\n",
      "The private key combination might be: user A = 680, user B = 480\n",
      "The private key combination might be: user A = 681, user B = 64\n",
      "The private key combination might be: user A = 681, user B = 504\n",
      "The private key combination might be: user A = 682, user B = 88\n",
      "The private key combination might be: user A = 682, user B = 528\n",
      "The private key combination might be: user A = 683, user B = 112\n",
      "The private key combination might be: user A = 683, user B = 552\n",
      "The private key combination might be: user A = 684, user B = 136\n",
      "The private key combination might be: user A = 684, user B = 576\n",
      "The private key combination might be: user A = 685, user B = 160\n",
      "The private key combination might be: user A = 685, user B = 600\n",
      "The private key combination might be: user A = 686, user B = 184\n",
      "The private key combination might be: user A = 686, user B = 624\n",
      "The private key combination might be: user A = 687, user B = 208\n",
      "The private key combination might be: user A = 687, user B = 648\n",
      "The private key combination might be: user A = 688, user B = 232\n",
      "The private key combination might be: user A = 688, user B = 672\n",
      "The private key combination might be: user A = 689, user B = 256\n",
      "The private key combination might be: user A = 689, user B = 696\n",
      "The private key combination might be: user A = 690, user B = 280\n",
      "The private key combination might be: user A = 690, user B = 720\n",
      "The private key combination might be: user A = 691, user B = 304\n",
      "The private key combination might be: user A = 691, user B = 744\n",
      "The private key combination might be: user A = 692, user B = 328\n",
      "The private key combination might be: user A = 692, user B = 768\n",
      "The private key combination might be: user A = 693, user B = 352\n",
      "The private key combination might be: user A = 693, user B = 792\n",
      "The private key combination might be: user A = 694, user B = 376\n",
      "The private key combination might be: user A = 694, user B = 816\n",
      "The private key combination might be: user A = 695, user B = 400\n",
      "The private key combination might be: user A = 695, user B = 840\n",
      "The private key combination might be: user A = 696, user B = 424\n",
      "The private key combination might be: user A = 696, user B = 864\n",
      "The private key combination might be: user A = 697, user B = 8\n",
      "The private key combination might be: user A = 697, user B = 448\n",
      "The private key combination might be: user A = 698, user B = 32\n",
      "The private key combination might be: user A = 698, user B = 472\n",
      "The private key combination might be: user A = 699, user B = 56\n",
      "The private key combination might be: user A = 699, user B = 496\n",
      "The private key combination might be: user A = 700, user B = 80\n",
      "The private key combination might be: user A = 700, user B = 520\n",
      "The private key combination might be: user A = 701, user B = 104\n",
      "The private key combination might be: user A = 701, user B = 544\n",
      "The private key combination might be: user A = 702, user B = 128\n",
      "The private key combination might be: user A = 702, user B = 568\n",
      "The private key combination might be: user A = 703, user B = 152\n",
      "The private key combination might be: user A = 703, user B = 592\n",
      "The private key combination might be: user A = 704, user B = 176\n",
      "The private key combination might be: user A = 704, user B = 616\n",
      "The private key combination might be: user A = 705, user B = 200\n",
      "The private key combination might be: user A = 705, user B = 640\n",
      "The private key combination might be: user A = 706, user B = 224\n",
      "The private key combination might be: user A = 706, user B = 664\n",
      "The private key combination might be: user A = 707, user B = 248\n",
      "The private key combination might be: user A = 707, user B = 688\n",
      "The private key combination might be: user A = 708, user B = 272\n",
      "The private key combination might be: user A = 708, user B = 712\n",
      "The private key combination might be: user A = 709, user B = 296\n",
      "The private key combination might be: user A = 709, user B = 736\n",
      "The private key combination might be: user A = 710, user B = 320\n",
      "The private key combination might be: user A = 710, user B = 760\n",
      "The private key combination might be: user A = 711, user B = 344\n",
      "The private key combination might be: user A = 711, user B = 784\n",
      "The private key combination might be: user A = 712, user B = 368\n",
      "The private key combination might be: user A = 712, user B = 808\n",
      "The private key combination might be: user A = 713, user B = 392\n",
      "The private key combination might be: user A = 713, user B = 832\n",
      "The private key combination might be: user A = 714, user B = 416\n",
      "The private key combination might be: user A = 714, user B = 856\n",
      "The private key combination might be: user A = 715, user B = 440\n",
      "The private key combination might be: user A = 715, user B = 880\n",
      "The private key combination might be: user A = 716, user B = 24\n",
      "The private key combination might be: user A = 716, user B = 464\n",
      "The private key combination might be: user A = 717, user B = 48\n",
      "The private key combination might be: user A = 717, user B = 488\n",
      "The private key combination might be: user A = 718, user B = 72\n",
      "The private key combination might be: user A = 718, user B = 512\n",
      "The private key combination might be: user A = 719, user B = 96\n",
      "The private key combination might be: user A = 719, user B = 536\n",
      "The private key combination might be: user A = 720, user B = 120\n",
      "The private key combination might be: user A = 720, user B = 560\n",
      "The private key combination might be: user A = 721, user B = 144\n",
      "The private key combination might be: user A = 721, user B = 584\n",
      "The private key combination might be: user A = 722, user B = 168\n",
      "The private key combination might be: user A = 722, user B = 608\n",
      "The private key combination might be: user A = 723, user B = 192\n",
      "The private key combination might be: user A = 723, user B = 632\n",
      "The private key combination might be: user A = 724, user B = 216\n",
      "The private key combination might be: user A = 724, user B = 656\n",
      "The private key combination might be: user A = 725, user B = 240\n",
      "The private key combination might be: user A = 725, user B = 680\n",
      "The private key combination might be: user A = 726, user B = 264\n",
      "The private key combination might be: user A = 726, user B = 704\n",
      "The private key combination might be: user A = 727, user B = 288\n",
      "The private key combination might be: user A = 727, user B = 728\n",
      "The private key combination might be: user A = 728, user B = 312\n",
      "The private key combination might be: user A = 728, user B = 752\n",
      "The private key combination might be: user A = 729, user B = 336\n",
      "The private key combination might be: user A = 729, user B = 776\n",
      "The private key combination might be: user A = 730, user B = 360\n",
      "The private key combination might be: user A = 730, user B = 800\n",
      "The private key combination might be: user A = 731, user B = 384\n",
      "The private key combination might be: user A = 731, user B = 824\n",
      "The private key combination might be: user A = 732, user B = 408\n",
      "The private key combination might be: user A = 732, user B = 848\n",
      "The private key combination might be: user A = 733, user B = 432\n",
      "The private key combination might be: user A = 733, user B = 872\n",
      "The private key combination might be: user A = 734, user B = 16\n",
      "The private key combination might be: user A = 734, user B = 456\n",
      "The private key combination might be: user A = 735, user B = 40\n",
      "The private key combination might be: user A = 735, user B = 480\n",
      "The private key combination might be: user A = 736, user B = 64\n",
      "The private key combination might be: user A = 736, user B = 504\n",
      "The private key combination might be: user A = 737, user B = 88\n",
      "The private key combination might be: user A = 737, user B = 528\n",
      "The private key combination might be: user A = 738, user B = 112\n",
      "The private key combination might be: user A = 738, user B = 552\n",
      "The private key combination might be: user A = 739, user B = 136\n",
      "The private key combination might be: user A = 739, user B = 576\n",
      "The private key combination might be: user A = 740, user B = 160\n",
      "The private key combination might be: user A = 740, user B = 600\n",
      "The private key combination might be: user A = 741, user B = 184\n",
      "The private key combination might be: user A = 741, user B = 624\n",
      "The private key combination might be: user A = 742, user B = 208\n",
      "The private key combination might be: user A = 742, user B = 648\n",
      "The private key combination might be: user A = 743, user B = 232\n",
      "The private key combination might be: user A = 743, user B = 672\n",
      "The private key combination might be: user A = 744, user B = 256\n",
      "The private key combination might be: user A = 744, user B = 696\n",
      "The private key combination might be: user A = 745, user B = 280\n",
      "The private key combination might be: user A = 745, user B = 720\n",
      "The private key combination might be: user A = 746, user B = 304\n",
      "The private key combination might be: user A = 746, user B = 744\n",
      "The private key combination might be: user A = 747, user B = 328\n",
      "The private key combination might be: user A = 747, user B = 768\n",
      "The private key combination might be: user A = 748, user B = 352\n",
      "The private key combination might be: user A = 748, user B = 792\n",
      "The private key combination might be: user A = 749, user B = 376\n",
      "The private key combination might be: user A = 749, user B = 816\n",
      "The private key combination might be: user A = 750, user B = 400\n",
      "The private key combination might be: user A = 750, user B = 840\n",
      "The private key combination might be: user A = 751, user B = 424\n",
      "The private key combination might be: user A = 751, user B = 864\n",
      "The private key combination might be: user A = 752, user B = 8\n",
      "The private key combination might be: user A = 752, user B = 448\n",
      "The private key combination might be: user A = 753, user B = 32\n",
      "The private key combination might be: user A = 753, user B = 472\n",
      "The private key combination might be: user A = 754, user B = 56\n",
      "The private key combination might be: user A = 754, user B = 496\n",
      "The private key combination might be: user A = 755, user B = 80\n",
      "The private key combination might be: user A = 755, user B = 520\n",
      "The private key combination might be: user A = 756, user B = 104\n",
      "The private key combination might be: user A = 756, user B = 544\n",
      "The private key combination might be: user A = 757, user B = 128\n",
      "The private key combination might be: user A = 757, user B = 568\n",
      "The private key combination might be: user A = 758, user B = 152\n",
      "The private key combination might be: user A = 758, user B = 592\n",
      "The private key combination might be: user A = 759, user B = 176\n",
      "The private key combination might be: user A = 759, user B = 616\n",
      "The private key combination might be: user A = 760, user B = 200\n",
      "The private key combination might be: user A = 760, user B = 640\n",
      "The private key combination might be: user A = 761, user B = 224\n",
      "The private key combination might be: user A = 761, user B = 664\n",
      "The private key combination might be: user A = 762, user B = 248\n",
      "The private key combination might be: user A = 762, user B = 688\n",
      "The private key combination might be: user A = 763, user B = 272\n",
      "The private key combination might be: user A = 763, user B = 712\n",
      "The private key combination might be: user A = 764, user B = 296\n",
      "The private key combination might be: user A = 764, user B = 736\n",
      "The private key combination might be: user A = 765, user B = 320\n",
      "The private key combination might be: user A = 765, user B = 760\n",
      "The private key combination might be: user A = 766, user B = 344\n",
      "The private key combination might be: user A = 766, user B = 784\n",
      "The private key combination might be: user A = 767, user B = 368\n",
      "The private key combination might be: user A = 767, user B = 808\n",
      "The private key combination might be: user A = 768, user B = 392\n",
      "The private key combination might be: user A = 768, user B = 832\n",
      "The private key combination might be: user A = 769, user B = 416\n",
      "The private key combination might be: user A = 769, user B = 856\n",
      "The private key combination might be: user A = 770, user B = 440\n",
      "The private key combination might be: user A = 770, user B = 880\n",
      "The private key combination might be: user A = 771, user B = 24\n",
      "The private key combination might be: user A = 771, user B = 464\n",
      "The private key combination might be: user A = 772, user B = 48\n",
      "The private key combination might be: user A = 772, user B = 488\n",
      "The private key combination might be: user A = 773, user B = 72\n",
      "The private key combination might be: user A = 773, user B = 512\n",
      "The private key combination might be: user A = 774, user B = 96\n",
      "The private key combination might be: user A = 774, user B = 536\n",
      "The private key combination might be: user A = 775, user B = 120\n",
      "The private key combination might be: user A = 775, user B = 560\n",
      "The private key combination might be: user A = 776, user B = 144\n",
      "The private key combination might be: user A = 776, user B = 584\n",
      "The private key combination might be: user A = 777, user B = 168\n",
      "The private key combination might be: user A = 777, user B = 608\n",
      "The private key combination might be: user A = 778, user B = 192\n",
      "The private key combination might be: user A = 778, user B = 632\n",
      "The private key combination might be: user A = 779, user B = 216\n",
      "The private key combination might be: user A = 779, user B = 656\n",
      "The private key combination might be: user A = 780, user B = 240\n",
      "The private key combination might be: user A = 780, user B = 680\n",
      "The private key combination might be: user A = 781, user B = 264\n",
      "The private key combination might be: user A = 781, user B = 704\n",
      "The private key combination might be: user A = 782, user B = 288\n",
      "The private key combination might be: user A = 782, user B = 728\n",
      "The private key combination might be: user A = 783, user B = 312\n",
      "The private key combination might be: user A = 783, user B = 752\n",
      "The private key combination might be: user A = 784, user B = 336\n",
      "The private key combination might be: user A = 784, user B = 776\n",
      "The private key combination might be: user A = 785, user B = 360\n",
      "The private key combination might be: user A = 785, user B = 800\n",
      "The private key combination might be: user A = 786, user B = 384\n",
      "The private key combination might be: user A = 786, user B = 824\n",
      "The private key combination might be: user A = 787, user B = 408\n",
      "The private key combination might be: user A = 787, user B = 848\n",
      "The private key combination might be: user A = 788, user B = 432\n",
      "The private key combination might be: user A = 788, user B = 872\n",
      "The private key combination might be: user A = 789, user B = 16\n",
      "The private key combination might be: user A = 789, user B = 456\n",
      "The private key combination might be: user A = 790, user B = 40\n",
      "The private key combination might be: user A = 790, user B = 480\n",
      "The private key combination might be: user A = 791, user B = 64\n",
      "The private key combination might be: user A = 791, user B = 504\n",
      "The private key combination might be: user A = 792, user B = 88\n",
      "The private key combination might be: user A = 792, user B = 528\n",
      "The private key combination might be: user A = 793, user B = 112\n",
      "The private key combination might be: user A = 793, user B = 552\n",
      "The private key combination might be: user A = 794, user B = 136\n",
      "The private key combination might be: user A = 794, user B = 576\n",
      "The private key combination might be: user A = 795, user B = 160\n",
      "The private key combination might be: user A = 795, user B = 600\n",
      "The private key combination might be: user A = 796, user B = 184\n",
      "The private key combination might be: user A = 796, user B = 624\n",
      "The private key combination might be: user A = 797, user B = 208\n",
      "The private key combination might be: user A = 797, user B = 648\n",
      "The private key combination might be: user A = 798, user B = 232\n",
      "The private key combination might be: user A = 798, user B = 672\n",
      "The private key combination might be: user A = 799, user B = 256\n",
      "The private key combination might be: user A = 799, user B = 696\n",
      "The private key combination might be: user A = 800, user B = 280\n",
      "The private key combination might be: user A = 800, user B = 720\n",
      "The private key combination might be: user A = 801, user B = 304\n",
      "The private key combination might be: user A = 801, user B = 744\n",
      "The private key combination might be: user A = 802, user B = 328\n",
      "The private key combination might be: user A = 802, user B = 768\n",
      "The private key combination might be: user A = 803, user B = 352\n",
      "The private key combination might be: user A = 803, user B = 792\n",
      "The private key combination might be: user A = 804, user B = 376\n",
      "The private key combination might be: user A = 804, user B = 816\n",
      "The private key combination might be: user A = 805, user B = 400\n",
      "The private key combination might be: user A = 805, user B = 840\n",
      "The private key combination might be: user A = 806, user B = 424\n",
      "The private key combination might be: user A = 806, user B = 864\n",
      "The private key combination might be: user A = 807, user B = 8\n",
      "The private key combination might be: user A = 807, user B = 448\n",
      "The private key combination might be: user A = 808, user B = 32\n",
      "The private key combination might be: user A = 808, user B = 472\n",
      "The private key combination might be: user A = 809, user B = 56\n",
      "The private key combination might be: user A = 809, user B = 496\n",
      "The private key combination might be: user A = 810, user B = 80\n",
      "The private key combination might be: user A = 810, user B = 520\n",
      "The private key combination might be: user A = 811, user B = 104\n",
      "The private key combination might be: user A = 811, user B = 544\n",
      "The private key combination might be: user A = 812, user B = 128\n",
      "The private key combination might be: user A = 812, user B = 568\n",
      "The private key combination might be: user A = 813, user B = 152\n",
      "The private key combination might be: user A = 813, user B = 592\n",
      "The private key combination might be: user A = 814, user B = 176\n",
      "The private key combination might be: user A = 814, user B = 616\n",
      "The private key combination might be: user A = 815, user B = 200\n",
      "The private key combination might be: user A = 815, user B = 640\n",
      "The private key combination might be: user A = 816, user B = 224\n",
      "The private key combination might be: user A = 816, user B = 664\n",
      "The private key combination might be: user A = 817, user B = 248\n",
      "The private key combination might be: user A = 817, user B = 688\n",
      "The private key combination might be: user A = 818, user B = 272\n",
      "The private key combination might be: user A = 818, user B = 712\n",
      "The private key combination might be: user A = 819, user B = 296\n",
      "The private key combination might be: user A = 819, user B = 736\n",
      "The private key combination might be: user A = 820, user B = 320\n",
      "The private key combination might be: user A = 820, user B = 760\n",
      "The private key combination might be: user A = 821, user B = 344\n",
      "The private key combination might be: user A = 821, user B = 784\n",
      "The private key combination might be: user A = 822, user B = 368\n",
      "The private key combination might be: user A = 822, user B = 808\n",
      "The private key combination might be: user A = 823, user B = 392\n",
      "The private key combination might be: user A = 823, user B = 832\n",
      "The private key combination might be: user A = 824, user B = 416\n",
      "The private key combination might be: user A = 824, user B = 856\n",
      "The private key combination might be: user A = 825, user B = 440\n",
      "The private key combination might be: user A = 825, user B = 880\n",
      "The private key combination might be: user A = 826, user B = 24\n",
      "The private key combination might be: user A = 826, user B = 464\n",
      "The private key combination might be: user A = 827, user B = 48\n",
      "The private key combination might be: user A = 827, user B = 488\n",
      "The private key combination might be: user A = 828, user B = 72\n",
      "The private key combination might be: user A = 828, user B = 512\n",
      "The private key combination might be: user A = 829, user B = 96\n",
      "The private key combination might be: user A = 829, user B = 536\n",
      "The private key combination might be: user A = 830, user B = 120\n",
      "The private key combination might be: user A = 830, user B = 560\n",
      "The private key combination might be: user A = 831, user B = 144\n",
      "The private key combination might be: user A = 831, user B = 584\n",
      "The private key combination might be: user A = 832, user B = 168\n",
      "The private key combination might be: user A = 832, user B = 608\n",
      "The private key combination might be: user A = 833, user B = 192\n",
      "The private key combination might be: user A = 833, user B = 632\n",
      "The private key combination might be: user A = 834, user B = 216\n",
      "The private key combination might be: user A = 834, user B = 656\n",
      "The private key combination might be: user A = 835, user B = 240\n",
      "The private key combination might be: user A = 835, user B = 680\n",
      "The private key combination might be: user A = 836, user B = 264\n",
      "The private key combination might be: user A = 836, user B = 704\n",
      "The private key combination might be: user A = 837, user B = 288\n",
      "The private key combination might be: user A = 837, user B = 728\n",
      "The private key combination might be: user A = 838, user B = 312\n",
      "The private key combination might be: user A = 838, user B = 752\n",
      "The private key combination might be: user A = 839, user B = 336\n",
      "The private key combination might be: user A = 839, user B = 776\n",
      "The private key combination might be: user A = 840, user B = 360\n",
      "The private key combination might be: user A = 840, user B = 800\n",
      "The private key combination might be: user A = 841, user B = 384\n",
      "The private key combination might be: user A = 841, user B = 824\n",
      "The private key combination might be: user A = 842, user B = 408\n",
      "The private key combination might be: user A = 842, user B = 848\n",
      "The private key combination might be: user A = 843, user B = 432\n",
      "The private key combination might be: user A = 843, user B = 872\n",
      "The private key combination might be: user A = 844, user B = 16\n",
      "The private key combination might be: user A = 844, user B = 456\n",
      "The private key combination might be: user A = 845, user B = 40\n",
      "The private key combination might be: user A = 845, user B = 480\n",
      "The private key combination might be: user A = 846, user B = 64\n",
      "The private key combination might be: user A = 846, user B = 504\n",
      "The private key combination might be: user A = 847, user B = 88\n",
      "The private key combination might be: user A = 847, user B = 528\n",
      "The private key combination might be: user A = 848, user B = 112\n",
      "The private key combination might be: user A = 848, user B = 552\n",
      "The private key combination might be: user A = 849, user B = 136\n",
      "The private key combination might be: user A = 849, user B = 576\n",
      "The private key combination might be: user A = 850, user B = 160\n",
      "The private key combination might be: user A = 850, user B = 600\n",
      "The private key combination might be: user A = 851, user B = 184\n",
      "The private key combination might be: user A = 851, user B = 624\n",
      "The private key combination might be: user A = 852, user B = 208\n",
      "The private key combination might be: user A = 852, user B = 648\n",
      "The private key combination might be: user A = 853, user B = 232\n",
      "The private key combination might be: user A = 853, user B = 672\n",
      "The private key combination might be: user A = 854, user B = 256\n",
      "The private key combination might be: user A = 854, user B = 696\n",
      "The private key combination might be: user A = 855, user B = 280\n",
      "The private key combination might be: user A = 855, user B = 720\n",
      "The private key combination might be: user A = 856, user B = 304\n",
      "The private key combination might be: user A = 856, user B = 744\n",
      "The private key combination might be: user A = 857, user B = 328\n",
      "The private key combination might be: user A = 857, user B = 768\n",
      "The private key combination might be: user A = 858, user B = 352\n",
      "The private key combination might be: user A = 858, user B = 792\n",
      "The private key combination might be: user A = 859, user B = 376\n",
      "The private key combination might be: user A = 859, user B = 816\n",
      "The private key combination might be: user A = 860, user B = 400\n",
      "The private key combination might be: user A = 860, user B = 840\n",
      "The private key combination might be: user A = 861, user B = 424\n",
      "The private key combination might be: user A = 861, user B = 864\n",
      "The private key combination might be: user A = 862, user B = 8\n",
      "The private key combination might be: user A = 862, user B = 448\n",
      "The private key combination might be: user A = 863, user B = 32\n",
      "The private key combination might be: user A = 863, user B = 472\n",
      "The private key combination might be: user A = 864, user B = 56\n",
      "The private key combination might be: user A = 864, user B = 496\n",
      "The private key combination might be: user A = 865, user B = 80\n",
      "The private key combination might be: user A = 865, user B = 520\n",
      "The private key combination might be: user A = 866, user B = 104\n",
      "The private key combination might be: user A = 866, user B = 544\n",
      "The private key combination might be: user A = 867, user B = 128\n",
      "The private key combination might be: user A = 867, user B = 568\n",
      "The private key combination might be: user A = 868, user B = 152\n",
      "The private key combination might be: user A = 868, user B = 592\n",
      "The private key combination might be: user A = 869, user B = 176\n",
      "The private key combination might be: user A = 869, user B = 616\n",
      "The private key combination might be: user A = 870, user B = 200\n",
      "The private key combination might be: user A = 870, user B = 640\n",
      "The private key combination might be: user A = 871, user B = 224\n",
      "The private key combination might be: user A = 871, user B = 664\n",
      "The private key combination might be: user A = 872, user B = 248\n",
      "The private key combination might be: user A = 872, user B = 688\n",
      "The private key combination might be: user A = 873, user B = 272\n",
      "The private key combination might be: user A = 873, user B = 712\n",
      "The private key combination might be: user A = 874, user B = 296\n",
      "The private key combination might be: user A = 874, user B = 736\n",
      "The private key combination might be: user A = 875, user B = 320\n",
      "The private key combination might be: user A = 875, user B = 760\n",
      "The private key combination might be: user A = 876, user B = 344\n",
      "The private key combination might be: user A = 876, user B = 784\n",
      "The private key combination might be: user A = 877, user B = 368\n",
      "The private key combination might be: user A = 877, user B = 808\n",
      "The private key combination might be: user A = 878, user B = 392\n",
      "The private key combination might be: user A = 878, user B = 832\n",
      "The private key combination might be: user A = 879, user B = 416\n",
      "The private key combination might be: user A = 879, user B = 856\n",
      "The private key combination might be: user A = 880, user B = 440\n",
      "The private key combination might be: user A = 880, user B = 880\n",
      "The private key of user A is one of: [48]\n",
      "The private key of user A is one of: [2]\n"
     ]
    }
   ],
   "source": [
    "hacking_the_df(881, 131, 48, 2)"
   ]
  },
  {
   "cell_type": "markdown",
   "id": "15cbbde4-9a24-4eaf-ab2f-cd82bfcd86b5",
   "metadata": {},
   "source": [
    "Ok, we can see that our model predicts correctly the private keys, but with the increase of the base and the modulo it takes much more time to do the calculation, because there are many more possible combinations. It would be interesting then to measure the time and test with some really big numbers as it would be in the real life."
   ]
  },
  {
   "cell_type": "markdown",
   "id": "2e125a78-e6d0-4841-9ffd-c609039ddca4",
   "metadata": {},
   "source": [
    "4.2.4 **Function optimization**"
   ]
  },
  {
   "cell_type": "code",
   "execution_count": 94,
   "id": "c499fc91-1674-45d2-8723-0b63d070004e",
   "metadata": {},
   "outputs": [],
   "source": [
    "# 1. Generating the public base:\n",
    "def hacking_the_df_optimized(p, g, a_private, b_private):\n",
    "    flag = False\n",
    "    while p<=1:\n",
    "        print(\"Please check your input number for p. It is <= 1 and thus can not be prime.\")\n",
    "        p = int(input(\"Please enter a desired number for p:\"))\n",
    "\n",
    "    if p>1:\n",
    "        for i in range (2, p):\n",
    "            while flag == False:\n",
    "                if (p%i) == 0:\n",
    "                    p = int(input(\"Your input for p is not a prime number. Please enter another number for p:\"))\n",
    "                else:\n",
    "                    #print(f\"Yes, p {p} is prime.\")\n",
    "                    flag = True\n",
    "                    break\n",
    "    \n",
    "# 2. Generating the public modulus:\n",
    "    \n",
    "    flag = False\n",
    "    while g<=1 or g>=p:\n",
    "        print(\"Please check your input number for g. It is <= 1 or >p and thus does not meet the criteria.\")\n",
    "        g = int(input(\"Please enter a desired number for g:\"))\n",
    "\n",
    "    if g>1:\n",
    "        for i in range (2, g):\n",
    "            while flag == False:\n",
    "                if (g%i) == 0:\n",
    "                    g = int(input(\"Your input for g is not a prime number. Please enter another number for g:\"))\n",
    "                else:\n",
    "                    #print(f\"Yes, g {g} is prime and <p.\")\n",
    "                    flag = True\n",
    "                    break\n",
    "\n",
    "# 3. Generating the private keys:\n",
    "    flag = False\n",
    "    while flag == False:\n",
    "        if a_private >= p or b_private >= p or a_private <= 0 or b_private <= 0:\n",
    "            print(f\"Private key of both the users should be less than {p} and more than 0!\")\n",
    "            a_private = int(input(\"Enter the private key of user A: \"))\n",
    "            b_private = int(input(\"Enter the private key of user B: \"))\n",
    "        else:\n",
    "            flag =  True\n",
    "            #print(f\"The chosen private keys for user A {a_private} and user B {b_private} meet the criterias.\")\n",
    "            break\n",
    "\n",
    "# 4. Calculating the public keys:\n",
    "    a_public, b_public = g**a_private%p, g**b_private%p\n",
    "    #print(f\"The public key of user A which he gives to B is: {a_public}\")\n",
    "    #print(f\"The public key of user B which he gives to A is: {b_public}\")\n",
    "\n",
    "\n",
    "# 5. The Brute Force attack:\n",
    "    time_list = []\n",
    "    start = time.time()\n",
    "    private_keys_A = []\n",
    "    private_keys_B = []\n",
    "    for a_private in range (1,p):\n",
    "        for b_private in range (1,p):\n",
    "            if a_public**a_private%p == b_public**b_private%p:\n",
    "                #print(f\"The private key combination might be: user A = {a_private}, user B = {b_private}\")\n",
    "                private_keys_A.append(a_private)\n",
    "                private_keys_B.append(b_private)\n",
    "\n",
    "# 6. Reducing the list with possible values for the private key of user A:\n",
    "    private_key_A_reduced = []\n",
    "    for a_private in private_keys_B:\n",
    "        if a_public == g**a_private%p:\n",
    "            if a_private not in private_key_A_reduced:\n",
    "                private_key_A_reduced.append(a_private)\n",
    "\n",
    "    #print(f\"The private key of user A is one of: {private_key_A_reduced}\")\n",
    "\n",
    "# 7. Reducing the list with possible values for the private key of user B:\n",
    "    private_key_B_reduced = []\n",
    "    for b_private in private_keys_A:\n",
    "        if b_public == g**b_private%p:\n",
    "             if b_private not in private_key_B_reduced:\n",
    "                private_key_B_reduced.append(b_private)\n",
    "\n",
    "\n",
    "    #print(f\"The private key of user A is one of: {private_key_B_reduced}\")\n",
    "    end = time.time()\n",
    "    time_measured = end-start\n",
    "    time_list.append(time_measured)\n",
    "    print(time_list)"
   ]
  },
  {
   "cell_type": "code",
   "execution_count": 95,
   "id": "be56b0ad-424b-45ef-af66-8c95f0318744",
   "metadata": {},
   "outputs": [
    {
     "name": "stdout",
     "output_type": "stream",
     "text": [
      "[0.0]\n"
     ]
    }
   ],
   "source": [
    "hacking_the_df_optimized(23, 5, 6, 15)"
   ]
  },
  {
   "cell_type": "markdown",
   "id": "d00e0f67-b0c1-489c-be1b-639aec5d5573",
   "metadata": {},
   "source": [
    "Perfect, it looks now better. I cut some unnecessary information that have been printed. I introduced the time function so that we can measure the time needed for the calculation and now it's Testing 2.0 time."
   ]
  },
  {
   "cell_type": "markdown",
   "id": "da9fd91a-f80e-4454-9ed5-288030440d3e",
   "metadata": {},
   "source": [
    "4.2.5 **Testing 2.0**"
   ]
  },
  {
   "cell_type": "code",
   "execution_count": 96,
   "id": "199940b7-44bf-4154-b43e-5c48960c17fa",
   "metadata": {},
   "outputs": [],
   "source": [
    "# 1. I will create a list with 5 values for p and g:\n",
    "\n",
    "p_list = [179, 643, 1229, 5281]\n",
    "g_list = [71, 463, 563, 3943]"
   ]
  },
  {
   "cell_type": "code",
   "execution_count": 97,
   "id": "9541ce30-d511-4d15-88b6-3d8e5d20f03b",
   "metadata": {},
   "outputs": [
    {
     "name": "stdout",
     "output_type": "stream",
     "text": [
      "[0.08503341674804688]\n",
      "[4.786287546157837]\n",
      "[48.351940870285034]\n",
      "[11493.441160917282]\n",
      "[0.08503341674804688, 4.786287546157837, 48.351940870285034, 11493.4495947361]\n"
     ]
    }
   ],
   "source": [
    "# 2. Then I will test with the above specified values and lets see.\n",
    "\n",
    "time_list = []\n",
    "for i in range(len(p_list)):\n",
    "    start = time.time()\n",
    "    hacking_the_df_optimized(p_list[i], g_list[i], random.randint(1,p_list[i]), random.randint(1,p_list[i]))\n",
    "    end = time.time()\n",
    "    time_measured = end-start\n",
    "    time_list.append(time_measured)\n",
    "    \n",
    "print(time_list)"
   ]
  },
  {
   "cell_type": "markdown",
   "id": "72176dc2-1c4b-4656-80f7-0eeff756de9e",
   "metadata": {},
   "source": [
    "4.2.6 **Result Visualization**"
   ]
  },
  {
   "cell_type": "code",
   "execution_count": 98,
   "id": "3f61e1cc-40eb-4aed-8579-346c9ab9abd2",
   "metadata": {},
   "outputs": [
    {
     "data": {
      "image/png": "[encoded data removed]",
      "text/plain": [
       "<Figure size 640x480 with 1 Axes>"
      ]
     },
     "metadata": {},
     "output_type": "display_data"
    }
   ],
   "source": [
    "# Lets then plot out results and see how the plot will look like:\n",
    "\n",
    "plt.plot(p_list, time_list, label = \"p-value\")\n",
    "plt.plot(g_list, time_list, label = \"g-value\")\n",
    "plt.xlabel(\"Range for the p and g values\")\n",
    "plt.ylabel(\"Time cost for the calculation\")\n",
    "plt.title(\"Time cost for hacking the Diffie Hellmann algorithm (lin.)\")\n",
    "plt.legend()\n",
    "plt.scatter(p_list, time_list)\n",
    "plt.scatter(g_list, time_list)\n",
    "plt.grid()\n",
    "plt.show()"
   ]
  },
  {
   "cell_type": "markdown",
   "id": "764f1578-5d06-4496-bba0-fdb6e70043f7",
   "metadata": {},
   "source": [
    "Wow, we can see that a relativ small increase in our p and g values led to a skyrocketing of the calculation time. We can only imagine, if we use really big numbers for p and g value.\n",
    "I will plot the same chart again but this time will use logarithmic scale."
   ]
  },
  {
   "cell_type": "code",
   "execution_count": 99,
   "id": "25d8370a-bcea-4b2d-93d3-8218ab4ac534",
   "metadata": {},
   "outputs": [
    {
     "data": {
      "image/png": "[encoded data removed]",
      "text/plain": [
       "<Figure size 640x480 with 1 Axes>"
      ]
     },
     "metadata": {},
     "output_type": "display_data"
    }
   ],
   "source": [
    "plt.plot(p_list, time_list, label = \"p-value\")\n",
    "plt.plot(g_list, time_list, label = \"g-value\")\n",
    "plt.xlabel(\"Range for the p and g values\")\n",
    "plt.ylabel(\"Time cost for the calculation\")\n",
    "plt.title(\"Time cost for hacking the Diffie Hellmann algorithm (log.)\")\n",
    "plt.legend()\n",
    "plt.scatter(p_list, time_list)\n",
    "plt.scatter(g_list, time_list)\n",
    "plt.grid()\n",
    "plt.yscale(\"log\")\n",
    "plt.show()"
   ]
  },
  {
   "cell_type": "markdown",
   "id": "1d8d46da-b372-4fba-9cf6-9e7b02c988f8",
   "metadata": {},
   "source": [
    "#### 5. Comparison and Conclusion"
   ]
  },
  {
   "cell_type": "markdown",
   "id": "b2244983-c635-47e1-a0db-807e2228a3e2",
   "metadata": {},
   "source": [
    "Well, after researched two of the most known and used cryptographic methods - the RSA and the Diffie Hellman, we can make a comparison of both of them.<br>\n",
    "\n",
    "<center><img src = \"RSA vs DH.png\" ></center>\n"
   ]
  },
  {
   "cell_type": "markdown",
   "id": "e25cc95c-e971-4c16-a057-b66bb91bfb8f",
   "metadata": {},
   "source": [
    "Diffie-Hellman and RSA are both popular cryptographic algorithms used for secure key exchange, but they differ in several ways:<br>\n",
    "\n",
    "1. **Key Exchange vs. Encryption**: Diffie-Hellman is a key exchange algorithm, while RSA is an encryption algorithm. Diffie-Hellman is used to securely establish a shared secret key between two parties over an insecure communication channel, whereas RSA is used to encrypt and decrypt messages.\n",
    "2. **Symmetric vs. Asymmetric**: Diffie-Hellman is a symmetric-key algorithm, while RSA is an asymmetric-key algorithm. This means that Diffie-Hellman uses the same key for encryption and decryption, while RSA uses different keys for encryption and decryption.\n",
    "3. **Key Strength**: RSA is generally considered to be stronger than Diffie-Hellman in terms of key strength. RSA can use much larger key sizes than Diffie-Hellman, making it more difficult to crack.\n",
    "4. **Processing Time**: RSA encryption and decryption is typically faster than Diffie-Hellman key exchange. This is because RSA only requires one exponentiation, while Diffie-Hellman requires multiple exponentiations.\n",
    "5. **Perfect Forward Secrecy**: Diffie-Hellman provides perfect forward secrecy, meaning that even if an attacker were to obtain the private keys of one party, they would not be able to decrypt past messages. RSA does not provide perfect forward secrecy.<br>\n",
    "\n",
    "Source:<br>\n",
    "https://www.geeksforgeeks.org/difference-between-diffie-hellman-and-rsa/"
   ]
  },
  {
   "cell_type": "markdown",
   "id": "43a23b5e-6d7d-4cb4-8634-2c8d21818a79",
   "metadata": {},
   "source": [
    "**Conclusion:**<br>\n",
    "\n",
    "We can clearly see how the modular arithmetic is vital for the cryptography and how some of the most used algorithms and methods in the cryptography work based on the modular arithmetic (which is based on equivalence classes). Thanks to these math concepts/theories we live in our moder world where we can securely browse in internet, shop online, sign documents online, save passwords on websites and much more.<br>\n",
    "However the human factor in the world of cyber security plays the most important role. The algorithms used nowadays to ensure our digital security are very reliable, but if and only if the human behind the hardware acts accordingly. This means nto to fall for a scam. The attackers are mostly very good educated in cyber security and know how to mislead the victim and make him do a mistake.<br>\n",
    "This will be definitely a great challenge in the next decade. On the one side, to educate company workers, families, kids etc not to fall for e.g a fishing attack and on the other side to further improve the security so that attackers can not break into that easily. Building more and more CPU cabale computers will also make the algorithms more vulnerable, but as soon this happens the ethical hackers will definitely have a new solution for more secure algorithm."
   ]
  },
  {
   "cell_type": "markdown",
   "id": "1d7a1a13-6c2f-4913-8342-9f3e52b00ba3",
   "metadata": {},
   "source": [
    "#### 6. Bonus: Case study"
   ]
  },
  {
   "cell_type": "markdown",
   "id": "907472a2-88a3-416d-9caa-81a289fcfd77",
   "metadata": {},
   "source": [
    "Task:<br>\n",
    "\n",
    "John wants to share his testament with his family. He owns 100 Bitcoins and wants to make sure that his family has an access to his fortune when he dies. However, he also must be careful, because somebody might get his testament before his family does it and thats why he decides to encrypt his message and only a person with the key could encrypt it. <br>\n",
    "Our task would be to encrypt the message once with Caesar Cipher and once with RSA and then try to break it.<br>\n",
    "\n",
    "The testament (original message):<br>\n",
    "*Dear family,\n",
    "if you read this, then it is high time to share you that I own a fortune and I want to share with it with you. My fortune is one hundred bitcoins in the ledger and here is how you can get it:<br>\n",
    "First, you need to find my Ledger wallet - it is under the sofa.<br>\n",
    "Second, you need to connect it and unlock it with the PIN code - seven, five, three, one, four, two.<br>\n",
    "Third, you can transfer the bitcoins there to an exchange or bitcoinmat so that you can get cash instead.<br>\n",
    "In case you need the recovery phrases, you can find them unter the mattress of the bed in my bedroom.<br>\n",
    "Best regards, John.*"
   ]
  },
  {
   "cell_type": "code",
   "execution_count": 100,
   "id": "a34dfb61-4eca-44a6-8992-2394757759e9",
   "metadata": {},
   "outputs": [],
   "source": [
    "message = \"Dear family, if you read this, then it is high time to share you that I own a fortune and I want to share with it with you. My fortune is one hundred bitcoins in the ledger and here is how you can get it: First, you need to find my Ledger wallet - it is under the sofa. Second, you need to connect it and unlock it with the PIN code - seven, five, three, one, four, two. Third, you can transfer the bitcoins there to an exchange or bitcoinmat so that you can get cash instead. In case you need the recovery phrases, you can find them unter the mattress of the bed in my bedroom. Best regards, John.\""
   ]
  },
  {
   "cell_type": "markdown",
   "id": "53393555-131c-4a47-88be-fffa1e2755d2",
   "metadata": {},
   "source": [
    "##### 6.1 Caesar Cipher"
   ]
  },
  {
   "cell_type": "code",
   "execution_count": 101,
   "id": "05c8196f-b912-45e1-babe-6ac0282718e4",
   "metadata": {},
   "outputs": [],
   "source": [
    "def encrypt_caesar(message,n):\n",
    "    text = \"\"\n",
    "    # iterate over the given text\n",
    "    for i in range(len(message)):\n",
    "        ch = message[i]\n",
    "        \n",
    "        # check if space is there then simply add space\n",
    "        if ch==\" \":\n",
    "            text+=\" \"\n",
    "        elif ch == \",\":\n",
    "            text+=\",\"\n",
    "        elif ch == \".\":\n",
    "            text+=\".\"\n",
    "        # check if a character is uppercase then encrypt it accordingly \n",
    "        elif (ch.isupper()):\n",
    "            text += chr((ord(ch) + n-65) % 26 + 65)\n",
    "        # check if a character is lowercase then encrypt it accordingly\n",
    "        else:\n",
    "            text += chr((ord(ch) + n-97) % 26 + 97)\n",
    "    \n",
    "    return text"
   ]
  },
  {
   "cell_type": "markdown",
   "id": "e2eaeace-63f6-4dea-ae07-d8d56f2e9cb2",
   "metadata": {},
   "source": [
    "Perfect, now we have can encrypt the message, but the question is how to share the key and how many letters to shift. John decides to use his date of birthas it does not change and gives his woman the key in privat. John is born on 06.01.1995 and the key would be:<br> 6 + 0 + 0 + 1 + 1 + 9 + 9 + 5 = 31"
   ]
  },
  {
   "cell_type": "code",
   "execution_count": 102,
   "id": "3bea5a8b-8485-43a0-b589-94c7b7c4d805",
   "metadata": {},
   "outputs": [
    {
     "data": {
      "text/plain": [
       "'Ijfw kfrnqd, nk dtz wjfi ymnx, ymjs ny nx mnlm ynrj yt xmfwj dtz ymfy N tbs f ktwyzsj fsi N bfsy yt xmfwj bnym ny bnym dtz. Rd ktwyzsj nx tsj mzsiwji gnyhtnsx ns ymj qjiljw fsi mjwj nx mtb dtz hfs ljy nys Knwxy, dtz sjji yt knsi rd Qjiljw bfqqjy f ny nx zsijw ymj xtkf. Xjhtsi, dtz sjji yt htssjhy ny fsi zsqthp ny bnym ymj UNS htij f xjajs, knaj, ymwjj, tsj, ktzw, ybt. Ymnwi, dtz hfs ywfsxkjw ymj gnyhtnsx ymjwj yt fs jchmfslj tw gnyhtnsrfy xt ymfy dtz hfs ljy hfxm nsxyjfi. Ns hfxj dtz sjji ymj wjhtajwd umwfxjx, dtz hfs knsi ymjr zsyjw ymj rfyywjxx tk ymj gji ns rd gjiwttr. Gjxy wjlfwix, Otms.'"
      ]
     },
     "execution_count": 102,
     "metadata": {},
     "output_type": "execute_result"
    }
   ],
   "source": [
    "encrypt_caesar(message,31)"
   ]
  },
  {
   "cell_type": "markdown",
   "id": "22f601a2-61bd-4dc1-86a2-83019804ad30",
   "metadata": {},
   "source": [
    "Well, lets now test how easy would be for an eavesdropper to decipher the message if he finds it:"
   ]
  },
  {
   "cell_type": "code",
   "execution_count": 103,
   "id": "18279506-3065-468b-b78d-87cd619a159b",
   "metadata": {},
   "outputs": [],
   "source": [
    "def decrypt_caesar(decrypted_message, k):\n",
    "    small_letters = \"abcdefghijklmnopqrstuvwxyz\"\n",
    "    capital_letters = \"ABCDEFGHIJKLMNOPQRSTUVWXYZ\"\n",
    "    decrypted_message = \"\"\n",
    "\n",
    "    for ch in message:\n",
    "\n",
    "        if ch in small_letters:\n",
    "            position = small_letters.find(ch)\n",
    "            new_pos = (position - k) % 26\n",
    "            new_char = small_letters[new_pos]\n",
    "            decrypted_message += new_char\n",
    "        elif ch in capital_letters:\n",
    "            position = capital_letters.find(ch)\n",
    "            new_pos = (position - k) % 26\n",
    "            new_char = capital_letters[new_pos]\n",
    "            decrypted_message += new_char\n",
    "        else:\n",
    "            decrypted_message += ch\n",
    "            \n",
    "    print(\"Your decrypted message is:\\n\")\n",
    "    print(decrypted_message)"
   ]
  },
  {
   "cell_type": "code",
   "execution_count": 104,
   "id": "7b2d0b66-8ab1-4c2c-9098-49b3c2c714a5",
   "metadata": {},
   "outputs": [],
   "source": [
    "decrypted_message = \"Ijfw kfrnqd, nk dtz wjfi ymnx, ymjs ny nx mnlm ynrj yt xmfwj dtz ymfy N tbs f ktwyzsj fsi N bfsy yt xmfwj bnym ny bnym dtz. Rd ktwyzsj nx tsj mzsiwji gnyhtnsx ns ymj qjiljw fsi mjwj nx mtb dtz hfs ljy nys Knwxy, dtz sjji yt knsi rd Qjiljw bfqqjy f ny nx zsijw ymj xtkf. Xjhtsi, dtz sjji yt htssjhy ny fsi zsqthp ny bnym ymj UNS htij f xjajs, knaj, ymwjj, tsj, ktzw, ybt. Ymnwi, dtz hfs ywfsxkjw ymj gnyhtnsx ymjwj yt fs jchmfslj tw gnyhtnsrfy xt ymfy dtz hfs ljy hfxm nsxyjfi. Ns hfxj dtz sjji ymj wjhtajwd umwfxjx, dtz hfs knsi ymjr zsyjw ymj rfyywjxx tk ymj gji ns rd gjiwttr. Gjxy wjlfwix, Otms.\""
   ]
  },
  {
   "cell_type": "code",
   "execution_count": 105,
   "id": "290f17e8-3331-48e2-b94f-fcc968f0e417",
   "metadata": {},
   "outputs": [
    {
     "name": "stdout",
     "output_type": "stream",
     "text": [
      "Your decrypted message is:\n",
      "\n",
      "Cdzq ezlhkx, he xnt qdzc sghr, sgdm hs hr ghfg shld sn rgzqd xnt sgzs H nvm z enqstmd zmc H vzms sn rgzqd vhsg hs vhsg xnt. Lx enqstmd hr nmd gtmcqdc ahsbnhmr hm sgd kdcfdq zmc gdqd hr gnv xnt bzm fds hs: Ehqrs, xnt mddc sn ehmc lx Kdcfdq vzkkds - hs hr tmcdq sgd rnez. Rdbnmc, xnt mddc sn bnmmdbs hs zmc tmknbj hs vhsg sgd OHM bncd - rdudm, ehud, sgqdd, nmd, entq, svn. Sghqc, xnt bzm sqzmredq sgd ahsbnhmr sgdqd sn zm dwbgzmfd nq ahsbnhmlzs rn sgzs xnt bzm fds bzrg hmrsdzc. Hm bzrd xnt mddc sgd qdbnudqx ogqzrdr, xnt bzm ehmc sgdl tmsdq sgd lzssqdrr ne sgd adc hm lx adcqnnl. Adrs qdfzqcr, Ingm.\n",
      "Your decrypted message is:\n",
      "\n",
      "Bcyp dykgjw, gd wms pcyb rfgq, rfcl gr gq fgef rgkc rm qfypc wms rfyr G mul y dmprslc ylb G uylr rm qfypc ugrf gr ugrf wms. Kw dmprslc gq mlc fslbpcb zgramglq gl rfc jcbecp ylb fcpc gq fmu wms ayl ecr gr: Dgpqr, wms lccb rm dglb kw Jcbecp uyjjcr - gr gq slbcp rfc qmdy. Qcamlb, wms lccb rm amllcar gr ylb sljmai gr ugrf rfc NGL ambc - qctcl, dgtc, rfpcc, mlc, dmsp, rum. Rfgpb, wms ayl rpylqdcp rfc zgramglq rfcpc rm yl cvafylec mp zgramglkyr qm rfyr wms ayl ecr ayqf glqrcyb. Gl ayqc wms lccb rfc pcamtcpw nfpyqcq, wms ayl dglb rfck slrcp rfc kyrrpcqq md rfc zcb gl kw zcbpmmk. Zcqr pceypbq, Hmfl.\n",
      "Your decrypted message is:\n",
      "\n",
      "Abxo cxjfiv, fc vlr obxa qefp, qebk fq fp efde qfjb ql pexob vlr qexq F ltk x cloqrkb xka F txkq ql pexob tfqe fq tfqe vlr. Jv cloqrkb fp lkb erkaoba yfqzlfkp fk qeb ibadbo xka ebob fp elt vlr zxk dbq fq: Cfopq, vlr kbba ql cfka jv Ibadbo txiibq - fq fp rkabo qeb plcx. Pbzlka, vlr kbba ql zlkkbzq fq xka rkilzh fq tfqe qeb MFK zlab - pbsbk, cfsb, qeobb, lkb, clro, qtl. Qefoa, vlr zxk qoxkpcbo qeb yfqzlfkp qebob ql xk buzexkdb lo yfqzlfkjxq pl qexq vlr zxk dbq zxpe fkpqbxa. Fk zxpb vlr kbba qeb obzlsbov meoxpbp, vlr zxk cfka qebj rkqbo qeb jxqqobpp lc qeb yba fk jv ybaollj. Ybpq obdxoap, Glek.\n",
      "Your decrypted message is:\n",
      "\n",
      "Zawn bwiehu, eb ukq nawz pdeo, pdaj ep eo decd peia pk odwna ukq pdwp E ksj w bknpqja wjz E swjp pk odwna sepd ep sepd ukq. Iu bknpqja eo kja dqjznaz xepykejo ej pda hazcan wjz dana eo dks ukq ywj cap ep: Benop, ukq jaaz pk bejz iu Hazcan swhhap - ep eo qjzan pda okbw. Oaykjz, ukq jaaz pk ykjjayp ep wjz qjhkyg ep sepd pda LEJ ykza - oaraj, bera, pdnaa, kja, bkqn, psk. Pdenz, ukq ywj pnwjoban pda xepykejo pdana pk wj atydwjca kn xepykejiwp ok pdwp ukq ywj cap ywod ejopawz. Ej ywoa ukq jaaz pda naykranu ldnwoao, ukq ywj bejz pdai qjpan pda iwppnaoo kb pda xaz ej iu xaznkki. Xaop nacwnzo, Fkdj.\n",
      "Your decrypted message is:\n",
      "\n",
      "Yzvm avhdgt, da tjp mzvy ocdn, oczi do dn cdbc odhz oj ncvmz tjp ocvo D jri v ajmopiz viy D rvio oj ncvmz rdoc do rdoc tjp. Ht ajmopiz dn jiz cpiymzy wdoxjdin di ocz gzybzm viy czmz dn cjr tjp xvi bzo do: Admno, tjp izzy oj adiy ht Gzybzm rvggzo - do dn piyzm ocz njav. Nzxjiy, tjp izzy oj xjiizxo do viy pigjxf do rdoc ocz KDI xjyz - nzqzi, adqz, ocmzz, jiz, ajpm, orj. Ocdmy, tjp xvi omvinazm ocz wdoxjdin oczmz oj vi zsxcvibz jm wdoxjdihvo nj ocvo tjp xvi bzo xvnc dinozvy. Di xvnz tjp izzy ocz mzxjqzmt kcmvnzn, tjp xvi adiy oczh piozm ocz hvoomznn ja ocz wzy di ht wzymjjh. Wzno mzbvmyn, Ejci.\n",
      "Your decrypted message is:\n",
      "\n",
      "Xyul zugcfs, cz sio lyux nbcm, nbyh cn cm bcab ncgy ni mbuly sio nbun C iqh u zilnohy uhx C quhn ni mbuly qcnb cn qcnb sio. Gs zilnohy cm ihy bohxlyx vcnwichm ch nby fyxayl uhx byly cm biq sio wuh ayn cn: Zclmn, sio hyyx ni zchx gs Fyxayl quffyn - cn cm ohxyl nby mizu. Mywihx, sio hyyx ni wihhywn cn uhx ohfiwe cn qcnb nby JCH wixy - mypyh, zcpy, nblyy, ihy, ziol, nqi. Nbclx, sio wuh nluhmzyl nby vcnwichm nbyly ni uh yrwbuhay il vcnwichgun mi nbun sio wuh ayn wumb chmnyux. Ch wumy sio hyyx nby lywipyls jblumym, sio wuh zchx nbyg ohnyl nby gunnlymm iz nby vyx ch gs vyxliig. Vymn lyaulxm, Dibh.\n",
      "Your decrypted message is:\n",
      "\n",
      "Wxtk ytfber, by rhn kxtw mabl, maxg bm bl abza mbfx mh latkx rhn matm B hpg t yhkmngx tgw B ptgm mh latkx pbma bm pbma rhn. Fr yhkmngx bl hgx angwkxw ubmvhbgl bg max exwzxk tgw axkx bl ahp rhn vtg zxm bm: Ybklm, rhn gxxw mh ybgw fr Exwzxk pteexm - bm bl ngwxk max lhyt. Lxvhgw, rhn gxxw mh vhggxvm bm tgw ngehvd bm pbma max IBG vhwx - lxoxg, ybox, makxx, hgx, yhnk, mph. Mabkw, rhn vtg mktglyxk max ubmvhbgl maxkx mh tg xqvatgzx hk ubmvhbgftm lh matm rhn vtg zxm vtla bglmxtw. Bg vtlx rhn gxxw max kxvhoxkr iaktlxl, rhn vtg ybgw maxf ngmxk max ftmmkxll hy max uxw bg fr uxwkhhf. Uxlm kxztkwl, Chag.\n",
      "Your decrypted message is:\n",
      "\n",
      "Vwsj xseadq, ax qgm jwsv lzak, lzwf al ak zayz laew lg kzsjw qgm lzsl A gof s xgjlmfw sfv A osfl lg kzsjw oalz al oalz qgm. Eq xgjlmfw ak gfw zmfvjwv talugafk af lzw dwvywj sfv zwjw ak zgo qgm usf ywl al: Xajkl, qgm fwwv lg xafv eq Dwvywj osddwl - al ak mfvwj lzw kgxs. Kwugfv, qgm fwwv lg ugffwul al sfv mfdguc al oalz lzw HAF ugvw - kwnwf, xanw, lzjww, gfw, xgmj, log. Lzajv, qgm usf ljsfkxwj lzw talugafk lzwjw lg sf wpuzsfyw gj talugafesl kg lzsl qgm usf ywl uskz afklwsv. Af uskw qgm fwwv lzw jwugnwjq hzjskwk, qgm usf xafv lzwe mflwj lzw eslljwkk gx lzw twv af eq twvjgge. Twkl jwysjvk, Bgzf.\n",
      "Your decrypted message is:\n",
      "\n",
      "Uvri wrdzcp, zw pfl ivru kyzj, kyve zk zj yzxy kzdv kf jyriv pfl kyrk Z fne r wfiklev reu Z nrek kf jyriv nzky zk nzky pfl. Dp wfiklev zj fev yleuivu szktfzej ze kyv cvuxvi reu yviv zj yfn pfl tre xvk zk: Wzijk, pfl evvu kf wzeu dp Cvuxvi nrccvk - zk zj leuvi kyv jfwr. Jvtfeu, pfl evvu kf tfeevtk zk reu lecftb zk nzky kyv GZE tfuv - jvmve, wzmv, kyivv, fev, wfli, knf. Kyziu, pfl tre kirejwvi kyv szktfzej kyviv kf re votyrexv fi szktfzedrk jf kyrk pfl tre xvk trjy zejkvru. Ze trjv pfl evvu kyv ivtfmvip gyirjvj, pfl tre wzeu kyvd lekvi kyv drkkivjj fw kyv svu ze dp svuiffd. Svjk ivxriuj, Afye.\n",
      "Your decrypted message is:\n",
      "\n",
      "Tuqh vqcybo, yv oek huqt jxyi, jxud yj yi xywx jycu je ixqhu oek jxqj Y emd q vehjkdu qdt Y mqdj je ixqhu myjx yj myjx oek. Co vehjkdu yi edu xkdthut ryjseydi yd jxu butwuh qdt xuhu yi xem oek sqd wuj yj: Vyhij, oek duut je vydt co Butwuh mqbbuj - yj yi kdtuh jxu ievq. Iusedt, oek duut je seddusj yj qdt kdbesa yj myjx jxu FYD setu - iulud, vylu, jxhuu, edu, vekh, jme. Jxyht, oek sqd jhqdivuh jxu ryjseydi jxuhu je qd unsxqdwu eh ryjseydcqj ie jxqj oek sqd wuj sqix ydijuqt. Yd sqiu oek duut jxu huseluho fxhqiui, oek sqd vydt jxuc kdjuh jxu cqjjhuii ev jxu rut yd co rutheec. Ruij huwqhti, Zexd.\n",
      "Your decrypted message is:\n",
      "\n",
      "Stpg upbxan, xu ndj gtps iwxh, iwtc xi xh wxvw ixbt id hwpgt ndj iwpi X dlc p udgijct pcs X lpci id hwpgt lxiw xi lxiw ndj. Bn udgijct xh dct wjcsgts qxirdxch xc iwt atsvtg pcs wtgt xh wdl ndj rpc vti xi: Uxghi, ndj ctts id uxcs bn Atsvtg lpaati - xi xh jcstg iwt hdup. Htrdcs, ndj ctts id rdcctri xi pcs jcadrz xi lxiw iwt EXC rdst - htktc, uxkt, iwgtt, dct, udjg, ild. Iwxgs, ndj rpc igpchutg iwt qxirdxch iwtgt id pc tmrwpcvt dg qxirdxcbpi hd iwpi ndj rpc vti rphw xchitps. Xc rpht ndj ctts iwt gtrdktgn ewgphth, ndj rpc uxcs iwtb jcitg iwt bpiigthh du iwt qts xc bn qtsgddb. Qthi gtvpgsh, Ydwc.\n",
      "Your decrypted message is:\n",
      "\n",
      "Rsof toawzm, wt mci fsor hvwg, hvsb wh wg vwuv hwas hc gvofs mci hvoh W ckb o tcfhibs obr W kobh hc gvofs kwhv wh kwhv mci. Am tcfhibs wg cbs vibrfsr pwhqcwbg wb hvs zsrusf obr vsfs wg vck mci qob ush wh: Twfgh, mci bssr hc twbr am Zsrusf kozzsh - wh wg ibrsf hvs gcto. Gsqcbr, mci bssr hc qcbbsqh wh obr ibzcqy wh kwhv hvs DWB qcrs - gsjsb, twjs, hvfss, cbs, tcif, hkc. Hvwfr, mci qob hfobgtsf hvs pwhqcwbg hvsfs hc ob slqvobus cf pwhqcwbaoh gc hvoh mci qob ush qogv wbghsor. Wb qogs mci bssr hvs fsqcjsfm dvfogsg, mci qob twbr hvsa ibhsf hvs aohhfsgg ct hvs psr wb am psrfcca. Psgh fsuofrg, Xcvb.\n",
      "Your decrypted message is:\n",
      "\n",
      "Qrne snzvyl, vs lbh ernq guvf, gura vg vf uvtu gvzr gb funer lbh gung V bja n sbeghar naq V jnag gb funer jvgu vg jvgu lbh. Zl sbeghar vf bar uhaqerq ovgpbvaf va gur yrqtre naq urer vf ubj lbh pna trg vg: Svefg, lbh arrq gb svaq zl Yrqtre jnyyrg - vg vf haqre gur fbsn. Frpbaq, lbh arrq gb pbaarpg vg naq haybpx vg jvgu gur CVA pbqr - frira, svir, guerr, bar, sbhe, gjb. Guveq, lbh pna genafsre gur ovgpbvaf gurer gb na rkpunatr be ovgpbvazng fb gung lbh pna trg pnfu vafgrnq. Va pnfr lbh arrq gur erpbirel cuenfrf, lbh pna svaq gurz hagre gur znggerff bs gur orq va zl orqebbz. Orfg ertneqf, Wbua.\n",
      "Your decrypted message is:\n",
      "\n",
      "Pqmd rmyuxk, ur kag dqmp ftue, ftqz uf ue tust fuyq fa etmdq kag ftmf U aiz m radfgzq mzp U imzf fa etmdq iuft uf iuft kag. Yk radfgzq ue azq tgzpdqp nufoauze uz ftq xqpsqd mzp tqdq ue tai kag omz sqf uf: Rudef, kag zqqp fa ruzp yk Xqpsqd imxxqf - uf ue gzpqd ftq earm. Eqoazp, kag zqqp fa oazzqof uf mzp gzxaow uf iuft ftq BUZ oapq - eqhqz, ruhq, ftdqq, azq, ragd, fia. Ftudp, kag omz fdmzerqd ftq nufoauze ftqdq fa mz qjotmzsq ad nufoauzymf ea ftmf kag omz sqf omet uzefqmp. Uz omeq kag zqqp ftq dqoahqdk btdmeqe, kag omz ruzp ftqy gzfqd ftq ymffdqee ar ftq nqp uz yk nqpdaay. Nqef dqsmdpe, Vatz.\n",
      "Your decrypted message is:\n",
      "\n",
      "Oplc qlxtwj, tq jzf cplo estd, espy te td strs etxp ez dslcp jzf esle T zhy l qzcefyp lyo T hlye ez dslcp htes te htes jzf. Xj qzcefyp td zyp sfyocpo mtenztyd ty esp wporpc lyo spcp td szh jzf nly rpe te: Qtcde, jzf yppo ez qtyo xj Wporpc hlwwpe - te td fyopc esp dzql. Dpnzyo, jzf yppo ez nzyypne te lyo fywznv te htes esp ATY nzop - dpgpy, qtgp, escpp, zyp, qzfc, ehz. Estco, jzf nly eclydqpc esp mtenztyd espcp ez ly pinslyrp zc mtenztyxle dz esle jzf nly rpe nlds tydeplo. Ty nldp jzf yppo esp cpnzgpcj ascldpd, jzf nly qtyo espx fyepc esp xleecpdd zq esp mpo ty xj mpoczzx. Mpde cprlcod, Uzsy.\n",
      "Your decrypted message is:\n",
      "\n",
      "Nokb pkwsvi, sp iye bokn drsc, drox sd sc rsqr dswo dy crkbo iye drkd S ygx k pybdexo kxn S gkxd dy crkbo gsdr sd gsdr iye. Wi pybdexo sc yxo rexnbon lsdmysxc sx dro vonqob kxn robo sc ryg iye mkx qod sd: Psbcd, iye xoon dy psxn wi Vonqob gkvvod - sd sc exnob dro cypk. Comyxn, iye xoon dy myxxomd sd kxn exvymu sd gsdr dro ZSX myno - cofox, psfo, drboo, yxo, pyeb, dgy. Drsbn, iye mkx dbkxcpob dro lsdmysxc drobo dy kx ohmrkxqo yb lsdmysxwkd cy drkd iye mkx qod mkcr sxcdokn. Sx mkco iye xoon dro bomyfobi zrbkcoc, iye mkx psxn drow exdob dro wkddbocc yp dro lon sx wi lonbyyw. Locd boqkbnc, Tyrx.\n",
      "Your decrypted message is:\n",
      "\n",
      "Mnja ojvruh, ro hxd anjm cqrb, cqnw rc rb qrpq crvn cx bqjan hxd cqjc R xfw j oxacdwn jwm R fjwc cx bqjan frcq rc frcq hxd. Vh oxacdwn rb xwn qdwmanm krclxrwb rw cqn unmpna jwm qnan rb qxf hxd ljw pnc rc: Orabc, hxd wnnm cx orwm vh Unmpna fjuunc - rc rb dwmna cqn bxoj. Bnlxwm, hxd wnnm cx lxwwnlc rc jwm dwuxlt rc frcq cqn YRW lxmn - bnenw, oren, cqann, xwn, oxda, cfx. Cqram, hxd ljw cajwbona cqn krclxrwb cqnan cx jw nglqjwpn xa krclxrwvjc bx cqjc hxd ljw pnc ljbq rwbcnjm. Rw ljbn hxd wnnm cqn anlxenah yqajbnb, hxd ljw orwm cqnv dwcna cqn vjccanbb xo cqn knm rw vh knmaxxv. Knbc anpjamb, Sxqw.\n",
      "Your decrypted message is:\n",
      "\n",
      "Lmiz niuqtg, qn gwc zmil bpqa, bpmv qb qa pqop bqum bw apizm gwc bpib Q wev i nwzbcvm ivl Q eivb bw apizm eqbp qb eqbp gwc. Ug nwzbcvm qa wvm pcvlzml jqbkwqva qv bpm tmlomz ivl pmzm qa pwe gwc kiv omb qb: Nqzab, gwc vmml bw nqvl ug Tmlomz eittmb - qb qa cvlmz bpm awni. Amkwvl, gwc vmml bw kwvvmkb qb ivl cvtwks qb eqbp bpm XQV kwlm - amdmv, nqdm, bpzmm, wvm, nwcz, bew. Bpqzl, gwc kiv bzivanmz bpm jqbkwqva bpmzm bw iv mfkpivom wz jqbkwqvuib aw bpib gwc kiv omb kiap qvabmil. Qv kiam gwc vmml bpm zmkwdmzg xpziama, gwc kiv nqvl bpmu cvbmz bpm uibbzmaa wn bpm jml qv ug jmlzwwu. Jmab zmoizla, Rwpv.\n",
      "Your decrypted message is:\n",
      "\n",
      "Klhy mhtpsf, pm fvb ylhk aopz, aolu pa pz opno aptl av zohyl fvb aoha P vdu h mvyabul huk P dhua av zohyl dpao pa dpao fvb. Tf mvyabul pz vul obukylk ipajvpuz pu aol slknly huk olyl pz ovd fvb jhu nla pa: Mpyza, fvb ullk av mpuk tf Slknly dhssla - pa pz bukly aol zvmh. Zljvuk, fvb ullk av jvuulja pa huk busvjr pa dpao aol WPU jvkl - zlclu, mpcl, aoyll, vul, mvby, adv. Aopyk, fvb jhu ayhuzmly aol ipajvpuz aolyl av hu lejohunl vy ipajvputha zv aoha fvb jhu nla jhzo puzalhk. Pu jhzl fvb ullk aol yljvclyf woyhzlz, fvb jhu mpuk aolt bualy aol thaaylzz vm aol ilk pu tf ilkyvvt. Ilza ylnhykz, Qvou.\n",
      "Your decrypted message is:\n",
      "\n",
      "Jkgx lgsore, ol eua xkgj znoy, znkt oz oy nomn zosk zu yngxk eua zngz O uct g luxzatk gtj O cgtz zu yngxk cozn oz cozn eua. Se luxzatk oy utk natjxkj hoziuoty ot znk rkjmkx gtj nkxk oy nuc eua igt mkz oz: Loxyz, eua tkkj zu lotj se Rkjmkx cgrrkz - oz oy atjkx znk yulg. Ykiutj, eua tkkj zu iuttkiz oz gtj atruiq oz cozn znk VOT iujk - ykbkt, lobk, znxkk, utk, luax, zcu. Znoxj, eua igt zxgtylkx znk hoziuoty znkxk zu gt kdingtmk ux hoziuotsgz yu zngz eua igt mkz igyn otyzkgj. Ot igyk eua tkkj znk xkiubkxe vnxgyky, eua igt lotj znks atzkx znk sgzzxkyy ul znk hkj ot se hkjxuus. Hkyz xkmgxjy, Punt.\n",
      "Your decrypted message is:\n",
      "\n",
      "Ijfw kfrnqd, nk dtz wjfi ymnx, ymjs ny nx mnlm ynrj yt xmfwj dtz ymfy N tbs f ktwyzsj fsi N bfsy yt xmfwj bnym ny bnym dtz. Rd ktwyzsj nx tsj mzsiwji gnyhtnsx ns ymj qjiljw fsi mjwj nx mtb dtz hfs ljy ny: Knwxy, dtz sjji yt knsi rd Qjiljw bfqqjy - ny nx zsijw ymj xtkf. Xjhtsi, dtz sjji yt htssjhy ny fsi zsqthp ny bnym ymj UNS htij - xjajs, knaj, ymwjj, tsj, ktzw, ybt. Ymnwi, dtz hfs ywfsxkjw ymj gnyhtnsx ymjwj yt fs jchmfslj tw gnyhtnsrfy xt ymfy dtz hfs ljy hfxm nsxyjfi. Ns hfxj dtz sjji ymj wjhtajwd umwfxjx, dtz hfs knsi ymjr zsyjw ymj rfyywjxx tk ymj gji ns rd gjiwttr. Gjxy wjlfwix, Otms.\n",
      "Your decrypted message is:\n",
      "\n",
      "Hiev jeqmpc, mj csy vieh xlmw, xlir mx mw lmkl xmqi xs wlevi csy xlex M sar e jsvxyri erh M aerx xs wlevi amxl mx amxl csy. Qc jsvxyri mw sri lyrhvih fmxgsmrw mr xli pihkiv erh livi mw lsa csy ger kix mx: Jmvwx, csy riih xs jmrh qc Pihkiv aeppix - mx mw yrhiv xli wsje. Wigsrh, csy riih xs gsrrigx mx erh yrpsgo mx amxl xli TMR gshi - wizir, jmzi, xlvii, sri, jsyv, xas. Xlmvh, csy ger xverwjiv xli fmxgsmrw xlivi xs er ibglerki sv fmxgsmrqex ws xlex csy ger kix gewl mrwxieh. Mr gewi csy riih xli vigszivc tlvewiw, csy ger jmrh xliq yrxiv xli qexxviww sj xli fih mr qc fihvssq. Fiwx vikevhw, Nslr.\n",
      "Your decrypted message is:\n",
      "\n",
      "Ghdu idplob, li brx uhdg wklv, wkhq lw lv kljk wlph wr vkduh brx wkdw L rzq d iruwxqh dqg L zdqw wr vkduh zlwk lw zlwk brx. Pb iruwxqh lv rqh kxqguhg elwfrlqv lq wkh ohgjhu dqg khuh lv krz brx fdq jhw lw: Iluvw, brx qhhg wr ilqg pb Ohgjhu zdoohw - lw lv xqghu wkh vrid. Vhfrqg, brx qhhg wr frqqhfw lw dqg xqorfn lw zlwk wkh SLQ frgh - vhyhq, ilyh, wkuhh, rqh, irxu, wzr. Wklug, brx fdq wudqvihu wkh elwfrlqv wkhuh wr dq hafkdqjh ru elwfrlqpdw vr wkdw brx fdq jhw fdvk lqvwhdg. Lq fdvh brx qhhg wkh uhfryhub skudvhv, brx fdq ilqg wkhp xqwhu wkh pdwwuhvv ri wkh ehg lq pb ehgurrp. Ehvw uhjdugv, Mrkq.\n",
      "Your decrypted message is:\n",
      "\n",
      "Fgct hcokna, kh aqw tgcf vjku, vjgp kv ku jkij vkog vq ujctg aqw vjcv K qyp c hqtvwpg cpf K ycpv vq ujctg ykvj kv ykvj aqw. Oa hqtvwpg ku qpg jwpftgf dkveqkpu kp vjg ngfigt cpf jgtg ku jqy aqw ecp igv kv: Hktuv, aqw pggf vq hkpf oa Ngfigt ycnngv - kv ku wpfgt vjg uqhc. Ugeqpf, aqw pggf vq eqppgev kv cpf wpnqem kv ykvj vjg RKP eqfg - ugxgp, hkxg, vjtgg, qpg, hqwt, vyq. Vjktf, aqw ecp vtcpuhgt vjg dkveqkpu vjgtg vq cp gzejcpig qt dkveqkpocv uq vjcv aqw ecp igv ecuj kpuvgcf. Kp ecug aqw pggf vjg tgeqxgta rjtcugu, aqw ecp hkpf vjgo wpvgt vjg ocvvtguu qh vjg dgf kp oa dgftqqo. Dguv tgictfu, Lqjp.\n",
      "Your decrypted message is:\n",
      "\n",
      "Efbs gbnjmz, jg zpv sfbe uijt, uifo ju jt ijhi ujnf up tibsf zpv uibu J pxo b gpsuvof boe J xbou up tibsf xjui ju xjui zpv. Nz gpsuvof jt pof ivoesfe cjudpjot jo uif mfehfs boe ifsf jt ipx zpv dbo hfu ju: Gjstu, zpv offe up gjoe nz Mfehfs xbmmfu - ju jt voefs uif tpgb. Tfdpoe, zpv offe up dpoofdu ju boe vompdl ju xjui uif QJO dpef - tfwfo, gjwf, uisff, pof, gpvs, uxp. Uijse, zpv dbo usbotgfs uif cjudpjot uifsf up bo fydibohf ps cjudpjonbu tp uibu zpv dbo hfu dbti jotufbe. Jo dbtf zpv offe uif sfdpwfsz qisbtft, zpv dbo gjoe uifn voufs uif nbuusftt pg uif cfe jo nz cfesppn. Cftu sfhbset, Kpio.\n",
      "Your decrypted message is:\n",
      "\n",
      "Dear family, if you read this, then it is high time to share you that I own a fortune and I want to share with it with you. My fortune is one hundred bitcoins in the ledger and here is how you can get it: First, you need to find my Ledger wallet - it is under the sofa. Second, you need to connect it and unlock it with the PIN code - seven, five, three, one, four, two. Third, you can transfer the bitcoins there to an exchange or bitcoinmat so that you can get cash instead. In case you need the recovery phrases, you can find them unter the mattress of the bed in my bedroom. Best regards, John.\n"
     ]
    }
   ],
   "source": [
    "start = time.time()\n",
    "for i in range (1, 27):\n",
    "    decrypt_caesar(decrypted_message, i)\n",
    "end = time.time()"
   ]
  },
  {
   "cell_type": "markdown",
   "id": "2ea68b04-db58-463b-8814-ce1d8a83a412",
   "metadata": {},
   "source": [
    "Well that was fast..lets see how much time did it cost:"
   ]
  },
  {
   "cell_type": "code",
   "execution_count": 106,
   "id": "0dc91bef-1f54-4b6d-a796-79d2ab7bd193",
   "metadata": {},
   "outputs": [
    {
     "data": {
      "text/plain": [
       "0.009101629257202148"
      ]
     },
     "execution_count": 106,
     "metadata": {},
     "output_type": "execute_result"
    }
   ],
   "source": [
    "measured_time = end - start\n",
    "measured_time"
   ]
  },
  {
   "cell_type": "markdown",
   "id": "cacbed83-2a67-4a75-805a-1b44acc6f1fd",
   "metadata": {},
   "source": [
    "Just a couple of seconds to brute force the message. even if we do not know the key..there are only 26 letters in the alphabet and thus we need at most 26 attempts to decipher the message. Of course it can be made more complicated if we use other special characters and do not separate spaces, commas etc, but it still can be broken veery fast if the eavesdropping side knows the message."
   ]
  },
  {
   "cell_type": "markdown",
   "id": "76906c87-5f24-4d48-860e-1ec1328f6140",
   "metadata": {},
   "source": [
    "Sources:\n",
    "https://www.scaler.com/topics/caesar-cipher-python/"
   ]
  },
  {
   "cell_type": "markdown",
   "id": "19976f9f-75c6-40ab-8220-76ef86620e36",
   "metadata": {},
   "source": [
    "##### 6.1 RSA Algorithm"
   ]
  },
  {
   "cell_type": "code",
   "execution_count": 107,
   "id": "4203b3ed-babd-490e-86f7-61b24356fcec",
   "metadata": {},
   "outputs": [
    {
     "name": "stdout",
     "output_type": "stream",
     "text": [
      "The public key is: PublicKey(37121404953183249028130350315672831035669714421301717830645046300279602710692832528157568578261648691908680934265550331500929047053227177572933119694433573173454959703883768720875059293541013062753632541930713578633644499416006061338441063944505972954205393583410830189227318212202657620173365450851868404645320935966863069294514408642384328373057868274106032326928255161320027717246388177002505061826550386781585828846796652034977614062058848386338631139041294042796515172008062659775693133733186719466058238677479395231658452585592270714246304241358410415015818655280582605504752738751855037933208251040715959026797990526781376487369086375412860727901995628741760932346917859855942435419506128293212007292898178433203858722102449701346790199833998428970793878386458627021203991318553470009111363512178295727465345138799334299010264084870823666988961041744216872352697139100417265505115805715947711965085394509241667997035846975312149248939200867164486279314611080997733567296514554713683520067485441638477475308246363459120002099568916291570014837949612016456222444659968835146517217439412503671649154467776030458073627664555505438669728550166675710533842077789938830644332675857182858998165337942663172124947829042373375027006305351967743683014698687597989521046955080703647722483114570740763620944859655639764029803710717472426128624200050321276951910292326269712915206067633337601380429315230398385345105902156749488953167358785707750511918135328970951646157734064180662681538580443825323841050439052796584122562514467690427538100376416433672072595069296600083451929192615527356119340660980802126759883347815520625464966480285641325835008894197467814913233293904233958904911138701737558200316070927853095025922219209765329631388660168215520310317638262116227151300260334960537112976619833257121377056556095866957200098738894322275422614379458561007798604701541897901445476588167840783578484152297801931910104918741568169957045635342881933449247025347239666055533737213609963596025432387686079679482356880995493012033359212488225468087996497149363115165162043707026190581174927505545228281847853883883112179182751253945701354518232612521249897294472762279054235359546252648275891104316086194076162810369332811756474922616055146225649297664565969321509495649771000743648939401930915517632542623671491721247807981125136777726238331063622257609944438579469655970394878318601722217516107124398284481748285753746011101418492975958362955974434013011, 65537)\n",
      "The private key is: PrivateKey(37121404953183249028130350315672831035669714421301717830645046300279602710692832528157568578261648691908680934265550331500929047053227177572933119694433573173454959703883768720875059293541013062753632541930713578633644499416006061338441063944505972954205393583410830189227318212202657620173365450851868404645320935966863069294514408642384328373057868274106032326928255161320027717246388177002505061826550386781585828846796652034977614062058848386338631139041294042796515172008062659775693133733186719466058238677479395231658452585592270714246304241358410415015818655280582605504752738751855037933208251040715959026797990526781376487369086375412860727901995628741760932346917859855942435419506128293212007292898178433203858722102449701346790199833998428970793878386458627021203991318553470009111363512178295727465345138799334299010264084870823666988961041744216872352697139100417265505115805715947711965085394509241667997035846975312149248939200867164486279314611080997733567296514554713683520067485441638477475308246363459120002099568916291570014837949612016456222444659968835146517217439412503671649154467776030458073627664555505438669728550166675710533842077789938830644332675857182858998165337942663172124947829042373375027006305351967743683014698687597989521046955080703647722483114570740763620944859655639764029803710717472426128624200050321276951910292326269712915206067633337601380429315230398385345105902156749488953167358785707750511918135328970951646157734064180662681538580443825323841050439052796584122562514467690427538100376416433672072595069296600083451929192615527356119340660980802126759883347815520625464966480285641325835008894197467814913233293904233958904911138701737558200316070927853095025922219209765329631388660168215520310317638262116227151300260334960537112976619833257121377056556095866957200098738894322275422614379458561007798604701541897901445476588167840783578484152297801931910104918741568169957045635342881933449247025347239666055533737213609963596025432387686079679482356880995493012033359212488225468087996497149363115165162043707026190581174927505545228281847853883883112179182751253945701354518232612521249897294472762279054235359546252648275891104316086194076162810369332811756474922616055146225649297664565969321509495649771000743648939401930915517632542623671491721247807981125136777726238331063622257609944438579469655970394878318601722217516107124398284481748285753746011101418492975958362955974434013011, 65537, 21937976032496763936532288601497236962975475063726396284521923314404524048825001093246117286489340608912753425775348732614591496733426031319365742388041972055191480298016727136246882242063826188771395425202839123152718084545849379155273522554200845911307034177320976914704110070293439313470781654286032549251841328881892267525914179183181827398521511453444630331785987314846361498339409196079833125556618750178335913103518335138421318800640878539623136894368194448503163543144243326300751800702199594605183356611035818800332080002022891451141700254391452061949397627869329461125846137671820459804249336574117976243448936800475601457684851067429322502592004405096314183907235235517043905980330070874840078954807808549314412502338373428488678627794537332384268698655506493784553027873703319451956791128525528660458371340934693634663877477930510573357789494602976390177950057135637290542420926670191965334387024348649450588113514338477727887463023769567537697546946027101076014998570352909282945751770429529881915500613239897083735925025614490879934154578732975408791240125810655874693048944045129922130146355363129769010630225306304547738182347017795634193651014979595147549274517264110541359183368890367593482657360508417741682218232930453982493406025847568985938133891795690487621252634501495285335507834035206719484601927022686283112014938047371311978428055572942906994357099617827036335446950699177593079276773009029475581322088442647111771693853727850786140092519901073694246475426998095499874568515856068218792183346818110403343869399105542263351424535062231659700503495110648906423451628871294025877449491567494659435447749752532625679650104028971092055973449622623212076067064902615476406587861381828810809018531809331771372296775485433794029028282399646553313960459427376324367510754813811051257296207719613291132790117052938056582022030920563683616546971560989193492806651564506057836472344800368244033588206341173537447823871343183232032950665672062411034185906834420550342656274957955791155756944051637760725954186657371272059405671213149839812624314255036973290772791894721942335327996194297312175739812630832468517234259976169274752388011884969328875288268934450480994824307659627788617252376080944967406900222114203934840724394052363001693690558256168237256945710748944474632685056591390187455675946349071475254382574827259605285595351443293872075218112805524021717640055029098473475433139582502909088669364757400214642248180820792873, 6311908727658623954807899327278683394096790713930879379988781555832046680686053637780615628308846053331411459272952213698345422671573299413986596369852815849231422170821762827903660372239891156704144916771767747012562530316240843863481083967041269957219860865508744359418837571837297273133562092965087438703544811259857248283904923621698628299733018437002665782365655533257622494148986848025334642620589101898966528170544695743571679259883975115607723092183308202473213072739012600529442748323937264171075695962616718776742223692450961834514678854881281045220688183127345927488208024028629599924965017933977658037393163015782828978072060198632090687453458113753800772472607248798934091978250335502796539785936123900890652672762591702495450366547153851452797533366100267589274110929977707710842027253580893537234800063452531034308728043480569449882277763741775385831558198602219269364895680656822090443126297743081240162791494095545990011102721526660713648850353112444446979509827495907740581885554372202094057493421303739230005658773803488223945219958616037937114493415145046854550003764593356789748688676477061217800450793107989674365679486913198464275538286271132815976840148153012870626513889544403179973116873849411059699162528548813605686565158709722674951133295730603113778796376129261336928021, 5881169477390918857631896309512350633768997190440035291147774682646808792461960103852098364245010546474761372431539481260940259453723832256525082502545139293146554083039421409849748746234874825924222049031687920282543444436053692407151532378945183489836674128748004880280941774048778369218288619109434671320766966874501799798108525615047801866371506171147117399463048850402692535381934928064410149135719793472294483507214058477616081370709550152016443805097491444957868876837475011848018174202182513798227572496734094699233304673292149068280068460813348758826392678496041366831349136204067274575038621417772605369700363998117178986725075477992541397257364471462982929834507838593023132653288697177119715618485890125082289172760139645995190605500760068327066559816935107161503922748540066559054614302310296809531221524773067739444789623522057051873930908429427224944032049559293006830570028547821794888721485511795686453423909020484753881981694581447797974570797298123080373614896200850034946434763048358090610805554781993829581724945239650218209804315611064919851239713493627536108188018413210571243052209173603576848077569542418576922010753941191)\n"
     ]
    }
   ],
   "source": [
    "public_key, private_key = rsa.newkeys(8129)\n",
    "print(f\"The public key is: {public_key}\")\n",
    "print(f\"The private key is: {private_key}\")"
   ]
  },
  {
   "cell_type": "code",
   "execution_count": 108,
   "id": "239ea97a-aeec-4d91-92da-f9b49a483bb5",
   "metadata": {},
   "outputs": [
    {
     "data": {
      "text/plain": [
       "b'S.\\x03\\x97\\xcd\\'\\xa0\\x07\\xff8\\xd9\\x95=\\x12a\\xd6\\xbb\\x8d>\\x9b\\xf2\\x87\\x81<\\r:/\\x96h\\xe3\\xbc\\x13\\x00#)\\xf3\\xbb\\xa8\\x0f\\x9f\\xa9-\\xbdSB\\xc7\\xc3\\xca#{8X\\xdc<(s\\xf0\\xeb!e\\xdc?\\xddJ\\xe2\\x8ai\\xd0\\x1c\\xcc\\x11\\x96\\xe5a\\x8b$\\x8e\\xf7\\x8f:\\xf8\\x90*kg\\x91L\\xdc\\xea\\x04\\x8d\\xc1\\xa9\\xe2\\x16 \\xb9\\xe4\\x99\\x0e*\\xaa\\xf2\\xa3\\xe8\\xc2\\t\\xd8\\xc0\\xf6\\xd6i\\xdb\\x81\\xa8\\xdf4\\xd6\\xd7|\\xbd\\r\\xa9?\\x9c\\xa7\\xdc\\x8d\\xab\\xf8\\xca\\x97\\xd5\\xfex`~E\\xae\\xfaA\\x95<\\xf2ZT\\xa9\\'1\\x071\\xc0^^DD&\\x01sP\\xad8;\\xa3{\\x1bU\\x92Bw\\x91%\\xd5\\xce\\xa0\\xc0\\xf3\\x95 \\xc89\\x90\\xf9\\xa1O+\\x0c\\xcb\\x96<\\xde\\xae\\xc1\\\\\\xa4g\\xd0\\x90\\xad\\x16\\xdc+7_\\xaf\\xe2\\xc0\\xb5\\xb4\\xf9\\xc1A\\x82 \\x7fq\\xee\\xeaC\\xdf\\xcd\\xab\\x98\\xc0\\x0f\\xba\\x011\\x1c-\\xc7\\r\\xb5%2\\xbb\\x0c:\\x02\\xd1\\xdb\\x8c\\x7f\\xa7\\xb0;c~h\\x83\\xea\\xdf\\xaf<\\x96\\xa51\\xe1;\\x06!\\xc1=9\\xc9\\xf8\\x83\\x8ef\\xd2\\xaerKh\\x9f\\x08\\xf9\\xedxa\\t\\xe8\\xb6\\xaaXc\\xa8Y\\xf5\\x1f}\\x17w\\x05\\x168\\xab\\xff\\xc8\\xcf\\x8a\\x13\\xcf\\xa9\\x04\\x8f\\xb8\\x83\\x03\\x8b\\xffP!\\xbfOdMn&\\xe8\\xe5\\xda\\xe2\\xd2\\'\\xad\\xf6y\\xf8!\\x94\\x7f\\xc5\\x91)\\xb8\\xc4\\xb3\\x93K\\x93J>Z\\xa1\\'\\xc1GA\\xbcyn\\xad\\x11 \\x13G\\xef\\xc5*Q\\xe8\\xcd\\x07\\x91d\\x85S\\x1d\\xca\\xcaP9\\xf5\\xd7\\x1fP\\xb5\\xca_\\xf1\\xffAiD9>\\x02MH\\x1b\\x97\\xdfn\\xac\\x11p\\xf2\\xc1\\xc7\\xa5\\xdcN\\xd3\\xfcZ\\xffR\\x93B\\xb70\\xe4\\xe4\\x83\\xd3\\xb1]`\\xd4\\x8b\\xd7\\xbd\\xac\\xd4\\xfbp\\xd1\\xdc\\xca\\x1e\\x84c\\xa6\\x82\\x8dW\\x0e\\xc0D\\x10E\\x10\\xd3A\\xd7a\\x0b\\xcd\\xd4\\r\\x91\\xe0\\x9b@\\xc2K\\x1f\\x0ceN\\xf2\\\\c\\xb0u%9\\x10\\x9d\\xd5\\x91A\\xec[u\\xae\"\\xa3\\xd3Pal$Qg\\xf2W<6\\xf1\\x90\\xf0\\xe0\\x88\\xf4&\\xf2[\\xa03\\x17\\x1dm\\x00\\xf6\\x0bP\\x90|$u4l\\xea\\xa67\\x9d/\\xf5\\\\\\xadG\\xcb&2f\\xed\\xd5\\x01\\xc5\\x14|\\xb0\\xae\\xb5]\\xd4\\x9d\\xc9?\\x82X\\xe6\\xf9\\xe7\\xe22|\\xd6u:TP\\x8a+\\x9d\\x0e\\n\\x82\\n\\x8a\\xa7\\xd7\\x0f\\xec\\xc5\\x16\\xca\\xfa\\xa6\\xb4cD\\xdaX\\xfc\\xbb\\xba\\xb9\\x1e\\xab\\xb9\\x87}\\xbd\\xa0\\xcdrQF\\xa1|\\xcf\\xcf\\x14\\xc5D\\xb8c/we\\xc4-Y\\xcf>\\xb1\\x1f\\xb7\\xceS\\x04K\\xc3,+\\xc0\\xd0\\xb0qmt\\x9cu\\x08\\xa2_\\x04JJw#\\xf3\\xe6\\xaaS75bO[o\\xcf\\x1d\\xa4n\\x0b\\xc3v{\\xf8k\\x9f9\\xbf\\\\\\x13P\\xf8e8\\x07)\\xd2\\xc5,\\xfa\\xa9s\\x8e\\xb9\\xf4\\xe0\\xeejR$\\xc7\\xe6\\xfb\\x9b=0\\\\\\x81\\x88\\xc8\\xcaMDj\\x9c\\x8c\\xef\\xd9\\xf5d}e\\xbb\\xcd\\x8b\\xf4\\xc6M\\x97\\x17m\\xf2\\xf2\\xcd\\x83\\xc1\\x02\\xac\\xaa*\\x01\\x16\\xd4\\xf0\\xb1\\xc4\\xc5(\\x18M\\xd0\\xc60\\x97\\x85\\xa2\\x8a\\xefy\\x90@\\xaee[\\xff\\xb2\\x15j\\xb5\\xbdr\\xcf\\xdaU\\xd9gp\\x98~\\xa8u\\xc0\\x1c\\xe3%v\\xd6\\xbeF\\x9a\\'&Z\\x93)\\x02N0`\\xdd\\xe9%\\xa3\\xdfy\\xfb\\xe4PW\\x1e\\xebs\\xcec\\xf5\\xe9\\x15zf3\\x11\\x85\\xc1\\xe1\\x89z\\xe7\\xc8\\xb6,\\x12\\xec\\x05\\xae\\x9d\\xdc[BG\\x12/\\x07\\x91(\\xc1H@\\xba\\xad\\x84\\xae\\xd6\\x98\\x9b\\xb83\\xb5\\xe7\\xcd\\xaa\\xc8\\xbf\\xa1\\xa3q4\\xbdf \\xd5\\xd9/\\x1fEz$\\xfc\\x80\\xbbK\\xa9\\x93\\xf3si,\\'\\xa8\\xd39\\xee&U!y\\xb9B\\xe2=Cl\\x16\\x01\\xdd\\x9c\\xa2!s\\xc3\\x88\\x94! \\\\\\x9dt\\x1b+nD~\\x94\\xe4n\\xf5\\x0bf>_\\x91b\\x7f\\t}\\xfa\\xb4\\xbcs\\xc0\\x93\\xfa\\x1b\\xfb\\xb0M\\xaf\\xd3[y4\\'\\xaf!\\xbc`\\x95\\xa6\\x13\\x8c%\\xcaQ\\xf2\\x1f\\x99\\xd2\\xbd\\x07Q\\xdf\\x15\\xa7kH\\xe5n\\xfcO`\\x16\\xcd\\x18bs\\x8f7\\xc0%Q\\xb1\\xb1V|\\x1d.6\\xf6I\\x05\\xb2Z-c\\xaf\\x96\\xcc\\xa4(\\xd6\\xda\\xdb\\x07\\x10\\xd2{\\x8e\\xb5\\xb3\\rZJU\\xca\\x86d\\xc5\\x88\\x1a\\xc6\\xab\\x9dx\\x97$\\xd9H '"
      ]
     },
     "execution_count": 108,
     "metadata": {},
     "output_type": "execute_result"
    }
   ],
   "source": [
    "encrypted_message = rsa.encrypt(message.encode(), public_key)\n",
    "encrypted_message"
   ]
  },
  {
   "cell_type": "markdown",
   "id": "31927c27-7bb8-4cce-aa39-0f10fe67321e",
   "metadata": {},
   "source": [
    "Well, our message can be encrypted with at least 8129-bits keys. I wanted to try to encrypt it with smaller numbers and then try to break it, but with such numbers it would be too much time consuming to even try to do it.<br>\n",
    "\n",
    "In this case it should be clear that John should use the RSA encryption if he wants to be save, but he should find a way to share secretle the private key to his wife. Or he must in advance create for his wife public and private keys so that he can encrypt his message with her public key and she would be able to decrypt it after that with her private key. However, in this case she will be able to decrypt it sooner if she finds the message. Well, there are some decisions that John needs to take, but he definitely should use the RSA encryption."
   ]
  }
 ],
 "metadata": {
  "kernelspec": {
   "display_name": "Python 3 (ipykernel)",
   "language": "python",
   "name": "python3"
  },
  "language_info": {
   "codemirror_mode": {
    "name": "ipython",
    "version": 3
   },
   "file_extension": ".py",
   "mimetype": "text/x-python",
   "name": "python",
   "nbconvert_exporter": "python",
   "pygments_lexer": "ipython3",
   "version": "3.9.13"
  }
 },
 "nbformat": 4,
 "nbformat_minor": 5
}
